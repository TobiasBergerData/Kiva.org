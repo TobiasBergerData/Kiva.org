{
 "cells": [
  {
   "cell_type": "markdown",
   "id": "f3ab163a",
   "metadata": {},
   "source": [
    "# Kiva Microcredit Platform - Analysis and Visualizations\n",
    "\n",
    "Kiva.org is a non-profit organization that operates an online platform to facilitate micro-lending to individuals and small businesses mostly in the global south. The platform connects individual lenders with entrepreneurs and borrowers who need financial assistance to start or expand their businesses, access education, or improve their living conditions.\n",
    "\n",
    "In a recent project I got to work with some data of this organization. It was quite interesting to dive a little deeper into this field of micro credits and look at the underlying dynamics.\n",
    "\n",
    "The data is stored here: https://www.kaggle.com/datasets/tobiasdata123/kiva-org-data"
   ]
  },
  {
   "cell_type": "markdown",
   "id": "58c08025",
   "metadata": {},
   "source": [
    "## Loading libraries"
   ]
  },
  {
   "cell_type": "code",
   "execution_count": 61,
   "id": "da2f84ab",
   "metadata": {},
   "outputs": [
    {
     "data": {
      "text/html": [
       "        <script type=\"text/javascript\">\n",
       "        window.PlotlyConfig = {MathJaxConfig: 'local'};\n",
       "        if (window.MathJax && window.MathJax.Hub && window.MathJax.Hub.Config) {window.MathJax.Hub.Config({SVG: {font: \"STIX-Web\"}});}\n",
       "        if (typeof require !== 'undefined') {\n",
       "        require.undef(\"plotly\");\n",
       "        requirejs.config({\n",
       "            paths: {\n",
       "                'plotly': ['https://cdn.plot.ly/plotly-2.24.1.min']\n",
       "            }\n",
       "        });\n",
       "        require(['plotly'], function(Plotly) {\n",
       "            window._Plotly = Plotly;\n",
       "        });\n",
       "        }\n",
       "        </script>\n",
       "        "
      ]
     },
     "metadata": {},
     "output_type": "display_data"
    }
   ],
   "source": [
    "import numpy as np\n",
    "import pandas as pd \n",
    "import plotly.express as px \n",
    "from plotly.offline import init_notebook_mode, iplot\n",
    "init_notebook_mode(connected=True)"
   ]
  },
  {
   "cell_type": "markdown",
   "id": "f1d81d99",
   "metadata": {},
   "source": [
    "## Data Preparation\n",
    "\n"
   ]
  },
  {
   "cell_type": "markdown",
   "id": "18e9f123",
   "metadata": {},
   "source": [
    "### Loading data"
   ]
  },
  {
   "cell_type": "code",
   "execution_count": 68,
   "id": "ee977e04",
   "metadata": {},
   "outputs": [
    {
     "data": {
      "text/html": [
       "<div>\n",
       "<style scoped>\n",
       "    .dataframe tbody tr th:only-of-type {\n",
       "        vertical-align: middle;\n",
       "    }\n",
       "\n",
       "    .dataframe tbody tr th {\n",
       "        vertical-align: top;\n",
       "    }\n",
       "\n",
       "    .dataframe thead th {\n",
       "        text-align: right;\n",
       "    }\n",
       "</style>\n",
       "<table border=\"1\" class=\"dataframe\">\n",
       "  <thead>\n",
       "    <tr style=\"text-align: right;\">\n",
       "      <th></th>\n",
       "      <th>funded_amount</th>\n",
       "      <th>loan_amount</th>\n",
       "      <th>activity</th>\n",
       "      <th>sector</th>\n",
       "      <th>use</th>\n",
       "      <th>country_code</th>\n",
       "      <th>country</th>\n",
       "      <th>region</th>\n",
       "      <th>currency</th>\n",
       "      <th>term_in_months</th>\n",
       "      <th>lender_count</th>\n",
       "      <th>borrower_genders</th>\n",
       "      <th>repayment_interval</th>\n",
       "    </tr>\n",
       "  </thead>\n",
       "  <tbody>\n",
       "    <tr>\n",
       "      <th>0</th>\n",
       "      <td>300.0</td>\n",
       "      <td>300.0</td>\n",
       "      <td>Fruits &amp; Vegetables</td>\n",
       "      <td>Food</td>\n",
       "      <td>To buy seasonal, fresh fruits to sell.</td>\n",
       "      <td>PK</td>\n",
       "      <td>Pakistan</td>\n",
       "      <td>Lahore</td>\n",
       "      <td>PKR</td>\n",
       "      <td>12.0</td>\n",
       "      <td>12</td>\n",
       "      <td>female</td>\n",
       "      <td>irregular</td>\n",
       "    </tr>\n",
       "    <tr>\n",
       "      <th>1</th>\n",
       "      <td>575.0</td>\n",
       "      <td>575.0</td>\n",
       "      <td>Rickshaw</td>\n",
       "      <td>Transportation</td>\n",
       "      <td>to repair and maintain the auto rickshaw used ...</td>\n",
       "      <td>PK</td>\n",
       "      <td>Pakistan</td>\n",
       "      <td>Lahore</td>\n",
       "      <td>PKR</td>\n",
       "      <td>11.0</td>\n",
       "      <td>14</td>\n",
       "      <td>female, female</td>\n",
       "      <td>irregular</td>\n",
       "    </tr>\n",
       "    <tr>\n",
       "      <th>2</th>\n",
       "      <td>150.0</td>\n",
       "      <td>150.0</td>\n",
       "      <td>Transportation</td>\n",
       "      <td>Transportation</td>\n",
       "      <td>To repair their old cycle-van and buy another ...</td>\n",
       "      <td>IN</td>\n",
       "      <td>India</td>\n",
       "      <td>Maynaguri</td>\n",
       "      <td>INR</td>\n",
       "      <td>43.0</td>\n",
       "      <td>6</td>\n",
       "      <td>female</td>\n",
       "      <td>bullet</td>\n",
       "    </tr>\n",
       "    <tr>\n",
       "      <th>3</th>\n",
       "      <td>200.0</td>\n",
       "      <td>200.0</td>\n",
       "      <td>Embroidery</td>\n",
       "      <td>Arts</td>\n",
       "      <td>to purchase an embroidery machine and a variet...</td>\n",
       "      <td>PK</td>\n",
       "      <td>Pakistan</td>\n",
       "      <td>Lahore</td>\n",
       "      <td>PKR</td>\n",
       "      <td>11.0</td>\n",
       "      <td>8</td>\n",
       "      <td>female</td>\n",
       "      <td>irregular</td>\n",
       "    </tr>\n",
       "    <tr>\n",
       "      <th>4</th>\n",
       "      <td>400.0</td>\n",
       "      <td>400.0</td>\n",
       "      <td>Milk Sales</td>\n",
       "      <td>Food</td>\n",
       "      <td>to purchase one buffalo.</td>\n",
       "      <td>PK</td>\n",
       "      <td>Pakistan</td>\n",
       "      <td>Abdul Hakeem</td>\n",
       "      <td>PKR</td>\n",
       "      <td>14.0</td>\n",
       "      <td>16</td>\n",
       "      <td>female</td>\n",
       "      <td>monthly</td>\n",
       "    </tr>\n",
       "  </tbody>\n",
       "</table>\n",
       "</div>"
      ],
      "text/plain": [
       "   funded_amount  loan_amount             activity          sector   \n",
       "0          300.0        300.0  Fruits & Vegetables            Food  \\\n",
       "1          575.0        575.0             Rickshaw  Transportation   \n",
       "2          150.0        150.0       Transportation  Transportation   \n",
       "3          200.0        200.0           Embroidery            Arts   \n",
       "4          400.0        400.0           Milk Sales            Food   \n",
       "\n",
       "                                                 use country_code   country   \n",
       "0            To buy seasonal, fresh fruits to sell.            PK  Pakistan  \\\n",
       "1  to repair and maintain the auto rickshaw used ...           PK  Pakistan   \n",
       "2  To repair their old cycle-van and buy another ...           IN     India   \n",
       "3  to purchase an embroidery machine and a variet...           PK  Pakistan   \n",
       "4                           to purchase one buffalo.           PK  Pakistan   \n",
       "\n",
       "         region currency  term_in_months  lender_count borrower_genders   \n",
       "0        Lahore      PKR            12.0            12           female  \\\n",
       "1        Lahore      PKR            11.0            14   female, female   \n",
       "2     Maynaguri      INR            43.0             6           female   \n",
       "3        Lahore      PKR            11.0             8           female   \n",
       "4  Abdul Hakeem      PKR            14.0            16           female   \n",
       "\n",
       "  repayment_interval  \n",
       "0          irregular  \n",
       "1          irregular  \n",
       "2             bullet  \n",
       "3          irregular  \n",
       "4            monthly  "
      ]
     },
     "execution_count": 68,
     "metadata": {},
     "output_type": "execute_result"
    }
   ],
   "source": [
    "#Laden der CSV-Datei\n",
    "\n",
    "df_kiva = pd.read_csv('kiva_data.csv',\n",
    "                        sep='#',\n",
    "                        index_col=0,\n",
    "                        skipinitialspace=True)\n",
    "\n",
    "#Testen nach dem Laden\n",
    "df_kiva.head()"
   ]
  },
  {
   "cell_type": "markdown",
   "id": "3655a0cf",
   "metadata": {},
   "source": [
    "## EDA"
   ]
  },
  {
   "cell_type": "code",
   "execution_count": null,
   "id": "8d29d7d8",
   "metadata": {},
   "outputs": [
    {
     "name": "stdout",
     "output_type": "stream",
     "text": [
      "<class 'pandas.core.frame.DataFrame'>\n",
      "Index: 671205 entries, 0 to 671204\n",
      "Data columns (total 13 columns):\n",
      " #   Column              Non-Null Count   Dtype  \n",
      "---  ------              --------------   -----  \n",
      " 0   funded_amount       671205 non-null  float64\n",
      " 1   loan_amount         671205 non-null  float64\n",
      " 2   activity            671205 non-null  object \n",
      " 3   sector              671205 non-null  object \n",
      " 4   use                 666972 non-null  object \n",
      " 5   country_code        671197 non-null  object \n",
      " 6   country             671205 non-null  object \n",
      " 7   region              614405 non-null  object \n",
      " 8   currency            671205 non-null  object \n",
      " 9   term_in_months      671205 non-null  float64\n",
      " 10  lender_count        671205 non-null  int64  \n",
      " 11  borrower_genders    666984 non-null  object \n",
      " 12  repayment_interval  671205 non-null  object \n",
      "dtypes: float64(3), int64(1), object(9)\n",
      "memory usage: 71.7+ MB\n"
     ]
    }
   ],
   "source": [
    "# Looking at column names and data types\n",
    "\n",
    "df_kiva.info()"
   ]
  },
  {
   "cell_type": "markdown",
   "id": "ccb9b7f2",
   "metadata": {},
   "source": [
    "## Finding duplicates"
   ]
  },
  {
   "cell_type": "code",
   "execution_count": null,
   "id": "d4d2f633",
   "metadata": {},
   "outputs": [
    {
     "data": {
      "text/html": [
       "<div>\n",
       "<style scoped>\n",
       "    .dataframe tbody tr th:only-of-type {\n",
       "        vertical-align: middle;\n",
       "    }\n",
       "\n",
       "    .dataframe tbody tr th {\n",
       "        vertical-align: top;\n",
       "    }\n",
       "\n",
       "    .dataframe thead th {\n",
       "        text-align: right;\n",
       "    }\n",
       "</style>\n",
       "<table border=\"1\" class=\"dataframe\">\n",
       "  <thead>\n",
       "    <tr style=\"text-align: right;\">\n",
       "      <th></th>\n",
       "      <th>funded_amount</th>\n",
       "      <th>loan_amount</th>\n",
       "      <th>activity</th>\n",
       "      <th>sector</th>\n",
       "      <th>use</th>\n",
       "      <th>country_code</th>\n",
       "      <th>country</th>\n",
       "      <th>region</th>\n",
       "      <th>currency</th>\n",
       "      <th>term_in_months</th>\n",
       "      <th>lender_count</th>\n",
       "      <th>borrower_genders</th>\n",
       "      <th>repayment_interval</th>\n",
       "    </tr>\n",
       "  </thead>\n",
       "  <tbody>\n",
       "    <tr>\n",
       "      <th>327</th>\n",
       "      <td>275.0</td>\n",
       "      <td>275.0</td>\n",
       "      <td>Farming</td>\n",
       "      <td>Agriculture</td>\n",
       "      <td>to buy fertilizers and other farm supplies.</td>\n",
       "      <td>PH</td>\n",
       "      <td>Philippines</td>\n",
       "      <td>Brookes Point, Palawan</td>\n",
       "      <td>PHP</td>\n",
       "      <td>8.0</td>\n",
       "      <td>8</td>\n",
       "      <td>female</td>\n",
       "      <td>irregular</td>\n",
       "    </tr>\n",
       "    <tr>\n",
       "      <th>392</th>\n",
       "      <td>100.0</td>\n",
       "      <td>100.0</td>\n",
       "      <td>Home Energy</td>\n",
       "      <td>Personal Use</td>\n",
       "      <td>to buy a solar lamp.</td>\n",
       "      <td>SV</td>\n",
       "      <td>El Salvador</td>\n",
       "      <td>NaN</td>\n",
       "      <td>USD</td>\n",
       "      <td>14.0</td>\n",
       "      <td>4</td>\n",
       "      <td>male</td>\n",
       "      <td>monthly</td>\n",
       "    </tr>\n",
       "    <tr>\n",
       "      <th>405</th>\n",
       "      <td>100.0</td>\n",
       "      <td>100.0</td>\n",
       "      <td>Home Energy</td>\n",
       "      <td>Personal Use</td>\n",
       "      <td>to buy a solar-powered lamp.</td>\n",
       "      <td>SV</td>\n",
       "      <td>El Salvador</td>\n",
       "      <td>NaN</td>\n",
       "      <td>USD</td>\n",
       "      <td>14.0</td>\n",
       "      <td>4</td>\n",
       "      <td>male</td>\n",
       "      <td>monthly</td>\n",
       "    </tr>\n",
       "    <tr>\n",
       "      <th>498</th>\n",
       "      <td>100.0</td>\n",
       "      <td>100.0</td>\n",
       "      <td>Home Energy</td>\n",
       "      <td>Personal Use</td>\n",
       "      <td>to buy a solar-powered lamp.</td>\n",
       "      <td>SV</td>\n",
       "      <td>El Salvador</td>\n",
       "      <td>NaN</td>\n",
       "      <td>USD</td>\n",
       "      <td>14.0</td>\n",
       "      <td>4</td>\n",
       "      <td>male</td>\n",
       "      <td>monthly</td>\n",
       "    </tr>\n",
       "    <tr>\n",
       "      <th>606</th>\n",
       "      <td>100.0</td>\n",
       "      <td>100.0</td>\n",
       "      <td>Home Energy</td>\n",
       "      <td>Personal Use</td>\n",
       "      <td>to buy a solar-powered lamp.</td>\n",
       "      <td>SV</td>\n",
       "      <td>El Salvador</td>\n",
       "      <td>NaN</td>\n",
       "      <td>USD</td>\n",
       "      <td>14.0</td>\n",
       "      <td>4</td>\n",
       "      <td>male</td>\n",
       "      <td>monthly</td>\n",
       "    </tr>\n",
       "    <tr>\n",
       "      <th>...</th>\n",
       "      <td>...</td>\n",
       "      <td>...</td>\n",
       "      <td>...</td>\n",
       "      <td>...</td>\n",
       "      <td>...</td>\n",
       "      <td>...</td>\n",
       "      <td>...</td>\n",
       "      <td>...</td>\n",
       "      <td>...</td>\n",
       "      <td>...</td>\n",
       "      <td>...</td>\n",
       "      <td>...</td>\n",
       "      <td>...</td>\n",
       "    </tr>\n",
       "    <tr>\n",
       "      <th>671200</th>\n",
       "      <td>0.0</td>\n",
       "      <td>25.0</td>\n",
       "      <td>Livestock</td>\n",
       "      <td>Agriculture</td>\n",
       "      <td>[True, u'para compara: cemento, arenya y ladri...</td>\n",
       "      <td>PY</td>\n",
       "      <td>Paraguay</td>\n",
       "      <td>Concepción</td>\n",
       "      <td>USD</td>\n",
       "      <td>13.0</td>\n",
       "      <td>0</td>\n",
       "      <td>female</td>\n",
       "      <td>monthly</td>\n",
       "    </tr>\n",
       "    <tr>\n",
       "      <th>671201</th>\n",
       "      <td>25.0</td>\n",
       "      <td>25.0</td>\n",
       "      <td>Livestock</td>\n",
       "      <td>Agriculture</td>\n",
       "      <td>[True, u'to start a turducken farm.'] - this l...</td>\n",
       "      <td>KE</td>\n",
       "      <td>Kenya</td>\n",
       "      <td>NaN</td>\n",
       "      <td>KES</td>\n",
       "      <td>13.0</td>\n",
       "      <td>1</td>\n",
       "      <td>female</td>\n",
       "      <td>monthly</td>\n",
       "    </tr>\n",
       "    <tr>\n",
       "      <th>671202</th>\n",
       "      <td>0.0</td>\n",
       "      <td>25.0</td>\n",
       "      <td>Games</td>\n",
       "      <td>Entertainment</td>\n",
       "      <td>NaN</td>\n",
       "      <td>KE</td>\n",
       "      <td>Kenya</td>\n",
       "      <td>NaN</td>\n",
       "      <td>KES</td>\n",
       "      <td>13.0</td>\n",
       "      <td>0</td>\n",
       "      <td>NaN</td>\n",
       "      <td>monthly</td>\n",
       "    </tr>\n",
       "    <tr>\n",
       "      <th>671203</th>\n",
       "      <td>0.0</td>\n",
       "      <td>25.0</td>\n",
       "      <td>Livestock</td>\n",
       "      <td>Agriculture</td>\n",
       "      <td>[True, u'to start a turducken farm.'] - this l...</td>\n",
       "      <td>KE</td>\n",
       "      <td>Kenya</td>\n",
       "      <td>NaN</td>\n",
       "      <td>KES</td>\n",
       "      <td>13.0</td>\n",
       "      <td>0</td>\n",
       "      <td>female</td>\n",
       "      <td>monthly</td>\n",
       "    </tr>\n",
       "    <tr>\n",
       "      <th>671204</th>\n",
       "      <td>0.0</td>\n",
       "      <td>25.0</td>\n",
       "      <td>Livestock</td>\n",
       "      <td>Agriculture</td>\n",
       "      <td>[True, u'to start a turducken farm.'] - this l...</td>\n",
       "      <td>KE</td>\n",
       "      <td>Kenya</td>\n",
       "      <td>NaN</td>\n",
       "      <td>KES</td>\n",
       "      <td>13.0</td>\n",
       "      <td>0</td>\n",
       "      <td>female</td>\n",
       "      <td>monthly</td>\n",
       "    </tr>\n",
       "  </tbody>\n",
       "</table>\n",
       "<p>34930 rows × 13 columns</p>\n",
       "</div>"
      ],
      "text/plain": [
       "        funded_amount  loan_amount     activity         sector   \n",
       "327             275.0        275.0      Farming    Agriculture  \\\n",
       "392             100.0        100.0  Home Energy   Personal Use   \n",
       "405             100.0        100.0  Home Energy   Personal Use   \n",
       "498             100.0        100.0  Home Energy   Personal Use   \n",
       "606             100.0        100.0  Home Energy   Personal Use   \n",
       "...               ...          ...          ...            ...   \n",
       "671200            0.0         25.0    Livestock    Agriculture   \n",
       "671201           25.0         25.0    Livestock    Agriculture   \n",
       "671202            0.0         25.0        Games  Entertainment   \n",
       "671203            0.0         25.0    Livestock    Agriculture   \n",
       "671204            0.0         25.0    Livestock    Agriculture   \n",
       "\n",
       "                                                      use country_code   \n",
       "327           to buy fertilizers and other farm supplies.           PH  \\\n",
       "392                                  to buy a solar lamp.           SV   \n",
       "405                          to buy a solar-powered lamp.           SV   \n",
       "498                          to buy a solar-powered lamp.           SV   \n",
       "606                          to buy a solar-powered lamp.           SV   \n",
       "...                                                   ...          ...   \n",
       "671200  [True, u'para compara: cemento, arenya y ladri...           PY   \n",
       "671201  [True, u'to start a turducken farm.'] - this l...           KE   \n",
       "671202                                                NaN           KE   \n",
       "671203  [True, u'to start a turducken farm.'] - this l...           KE   \n",
       "671204  [True, u'to start a turducken farm.'] - this l...           KE   \n",
       "\n",
       "            country                  region currency  term_in_months   \n",
       "327     Philippines  Brookes Point, Palawan      PHP             8.0  \\\n",
       "392     El Salvador                     NaN      USD            14.0   \n",
       "405     El Salvador                     NaN      USD            14.0   \n",
       "498     El Salvador                     NaN      USD            14.0   \n",
       "606     El Salvador                     NaN      USD            14.0   \n",
       "...             ...                     ...      ...             ...   \n",
       "671200     Paraguay              Concepción      USD            13.0   \n",
       "671201        Kenya                     NaN      KES            13.0   \n",
       "671202        Kenya                     NaN      KES            13.0   \n",
       "671203        Kenya                     NaN      KES            13.0   \n",
       "671204        Kenya                     NaN      KES            13.0   \n",
       "\n",
       "        lender_count borrower_genders repayment_interval  \n",
       "327                8           female          irregular  \n",
       "392                4             male            monthly  \n",
       "405                4             male            monthly  \n",
       "498                4             male            monthly  \n",
       "606                4             male            monthly  \n",
       "...              ...              ...                ...  \n",
       "671200             0           female            monthly  \n",
       "671201             1           female            monthly  \n",
       "671202             0              NaN            monthly  \n",
       "671203             0           female            monthly  \n",
       "671204             0           female            monthly  \n",
       "\n",
       "[34930 rows x 13 columns]"
      ]
     },
     "execution_count": 5,
     "metadata": {},
     "output_type": "execute_result"
    }
   ],
   "source": [
    "# Looking for duplicates\n",
    "\n",
    "df_kiva.loc[df_kiva.duplicated(subset=['funded_amount', 'loan_amount', 'activity', 'sector', 'use', 'country_code', 'country', 'region', 'currency', 'term_in_months', 'lender_count', 'borrower_genders', 'repayment_interval'],keep=False),:]"
   ]
  },
  {
   "cell_type": "markdown",
   "id": "efe77628",
   "metadata": {},
   "source": [
    "## Missing values"
   ]
  },
  {
   "cell_type": "code",
   "execution_count": null,
   "id": "df33d0c1",
   "metadata": {},
   "outputs": [
    {
     "data": {
      "text/plain": [
       "funded_amount             0\n",
       "loan_amount               0\n",
       "activity                  0\n",
       "sector                    0\n",
       "use                    4233\n",
       "country_code              8\n",
       "country                   0\n",
       "region                56800\n",
       "currency                  0\n",
       "term_in_months            0\n",
       "lender_count              0\n",
       "borrower_genders       4221\n",
       "repayment_interval        0\n",
       "dtype: int64"
      ]
     },
     "execution_count": 6,
     "metadata": {},
     "output_type": "execute_result"
    }
   ],
   "source": [
    "#Show NaNs\n",
    "\n",
    "df_kiva.loc[:,df_kiva.columns].isna().sum()"
   ]
  },
  {
   "cell_type": "code",
   "execution_count": null,
   "id": "02042477",
   "metadata": {},
   "outputs": [
    {
     "data": {
      "text/plain": [
       "region                0.084624\n",
       "use                   0.006307\n",
       "borrower_genders      0.006289\n",
       "country_code          0.000012\n",
       "funded_amount         0.000000\n",
       "loan_amount           0.000000\n",
       "activity              0.000000\n",
       "sector                0.000000\n",
       "country               0.000000\n",
       "currency              0.000000\n",
       "term_in_months        0.000000\n",
       "lender_count          0.000000\n",
       "repayment_interval    0.000000\n",
       "dtype: float64"
      ]
     },
     "execution_count": 7,
     "metadata": {},
     "output_type": "execute_result"
    }
   ],
   "source": [
    "# Percentage of NaNs for column\n",
    "\n",
    "df_kiva.loc[:,df_kiva.columns].isna().mean().sort_values(ascending=False)"
   ]
  },
  {
   "cell_type": "code",
   "execution_count": null,
   "id": "b97b3611",
   "metadata": {},
   "outputs": [],
   "source": [
    "# Removing column region\n",
    "df_kiva.drop(columns = ['region'], inplace= True)"
   ]
  },
  {
   "cell_type": "markdown",
   "id": "c522bf6b",
   "metadata": {},
   "source": [
    "Das Auffüllen des Country-Codes scheint gut möglich zu sein."
   ]
  },
  {
   "cell_type": "code",
   "execution_count": null,
   "id": "bc3ce046",
   "metadata": {},
   "outputs": [
    {
     "data": {
      "text/html": [
       "<div>\n",
       "<style scoped>\n",
       "    .dataframe tbody tr th:only-of-type {\n",
       "        vertical-align: middle;\n",
       "    }\n",
       "\n",
       "    .dataframe tbody tr th {\n",
       "        vertical-align: top;\n",
       "    }\n",
       "\n",
       "    .dataframe thead th {\n",
       "        text-align: right;\n",
       "    }\n",
       "</style>\n",
       "<table border=\"1\" class=\"dataframe\">\n",
       "  <thead>\n",
       "    <tr style=\"text-align: right;\">\n",
       "      <th></th>\n",
       "      <th>funded_amount</th>\n",
       "      <th>loan_amount</th>\n",
       "      <th>activity</th>\n",
       "      <th>sector</th>\n",
       "      <th>use</th>\n",
       "      <th>country_code</th>\n",
       "      <th>country</th>\n",
       "      <th>currency</th>\n",
       "      <th>term_in_months</th>\n",
       "      <th>lender_count</th>\n",
       "      <th>borrower_genders</th>\n",
       "      <th>repayment_interval</th>\n",
       "    </tr>\n",
       "  </thead>\n",
       "  <tbody>\n",
       "    <tr>\n",
       "      <th>202537</th>\n",
       "      <td>4150.0</td>\n",
       "      <td>4150.0</td>\n",
       "      <td>Wholesale</td>\n",
       "      <td>Wholesale</td>\n",
       "      <td>To purchase lighting products for sale to loca...</td>\n",
       "      <td>NaN</td>\n",
       "      <td>Namibia</td>\n",
       "      <td>NAD</td>\n",
       "      <td>6.0</td>\n",
       "      <td>162</td>\n",
       "      <td>female</td>\n",
       "      <td>bullet</td>\n",
       "    </tr>\n",
       "    <tr>\n",
       "      <th>202823</th>\n",
       "      <td>4150.0</td>\n",
       "      <td>4150.0</td>\n",
       "      <td>Wholesale</td>\n",
       "      <td>Wholesale</td>\n",
       "      <td>To purchase lighting products for sale to loca...</td>\n",
       "      <td>NaN</td>\n",
       "      <td>Namibia</td>\n",
       "      <td>NAD</td>\n",
       "      <td>6.0</td>\n",
       "      <td>159</td>\n",
       "      <td>male</td>\n",
       "      <td>bullet</td>\n",
       "    </tr>\n",
       "    <tr>\n",
       "      <th>344929</th>\n",
       "      <td>3325.0</td>\n",
       "      <td>3325.0</td>\n",
       "      <td>Wholesale</td>\n",
       "      <td>Wholesale</td>\n",
       "      <td>To purchase lighting products for sale to loca...</td>\n",
       "      <td>NaN</td>\n",
       "      <td>Namibia</td>\n",
       "      <td>NAD</td>\n",
       "      <td>7.0</td>\n",
       "      <td>120</td>\n",
       "      <td>female</td>\n",
       "      <td>bullet</td>\n",
       "    </tr>\n",
       "    <tr>\n",
       "      <th>351177</th>\n",
       "      <td>3325.0</td>\n",
       "      <td>3325.0</td>\n",
       "      <td>Wholesale</td>\n",
       "      <td>Wholesale</td>\n",
       "      <td>To purchase lighting products for sale to loca...</td>\n",
       "      <td>NaN</td>\n",
       "      <td>Namibia</td>\n",
       "      <td>NAD</td>\n",
       "      <td>7.0</td>\n",
       "      <td>126</td>\n",
       "      <td>male</td>\n",
       "      <td>bullet</td>\n",
       "    </tr>\n",
       "    <tr>\n",
       "      <th>420953</th>\n",
       "      <td>3325.0</td>\n",
       "      <td>3325.0</td>\n",
       "      <td>Wholesale</td>\n",
       "      <td>Wholesale</td>\n",
       "      <td>To purchase lighting products for sale to loca...</td>\n",
       "      <td>NaN</td>\n",
       "      <td>Namibia</td>\n",
       "      <td>NAD</td>\n",
       "      <td>7.0</td>\n",
       "      <td>118</td>\n",
       "      <td>female</td>\n",
       "      <td>bullet</td>\n",
       "    </tr>\n",
       "    <tr>\n",
       "      <th>421218</th>\n",
       "      <td>4000.0</td>\n",
       "      <td>4000.0</td>\n",
       "      <td>Wholesale</td>\n",
       "      <td>Wholesale</td>\n",
       "      <td>purchase solar lighting products for sale to l...</td>\n",
       "      <td>NaN</td>\n",
       "      <td>Namibia</td>\n",
       "      <td>NAD</td>\n",
       "      <td>7.0</td>\n",
       "      <td>150</td>\n",
       "      <td>male</td>\n",
       "      <td>bullet</td>\n",
       "    </tr>\n",
       "    <tr>\n",
       "      <th>487207</th>\n",
       "      <td>5100.0</td>\n",
       "      <td>5100.0</td>\n",
       "      <td>Renewable Energy Products</td>\n",
       "      <td>Retail</td>\n",
       "      <td>to pay for stock of solar lights and cell phon...</td>\n",
       "      <td>NaN</td>\n",
       "      <td>Namibia</td>\n",
       "      <td>NAD</td>\n",
       "      <td>7.0</td>\n",
       "      <td>183</td>\n",
       "      <td>male</td>\n",
       "      <td>bullet</td>\n",
       "    </tr>\n",
       "    <tr>\n",
       "      <th>487653</th>\n",
       "      <td>5000.0</td>\n",
       "      <td>5000.0</td>\n",
       "      <td>Wholesale</td>\n",
       "      <td>Wholesale</td>\n",
       "      <td>to maintain a stock of solar lights and cell p...</td>\n",
       "      <td>NaN</td>\n",
       "      <td>Namibia</td>\n",
       "      <td>NAD</td>\n",
       "      <td>7.0</td>\n",
       "      <td>183</td>\n",
       "      <td>female</td>\n",
       "      <td>bullet</td>\n",
       "    </tr>\n",
       "  </tbody>\n",
       "</table>\n",
       "</div>"
      ],
      "text/plain": [
       "        funded_amount  loan_amount                   activity     sector   \n",
       "202537         4150.0       4150.0                  Wholesale  Wholesale  \\\n",
       "202823         4150.0       4150.0                  Wholesale  Wholesale   \n",
       "344929         3325.0       3325.0                  Wholesale  Wholesale   \n",
       "351177         3325.0       3325.0                  Wholesale  Wholesale   \n",
       "420953         3325.0       3325.0                  Wholesale  Wholesale   \n",
       "421218         4000.0       4000.0                  Wholesale  Wholesale   \n",
       "487207         5100.0       5100.0  Renewable Energy Products     Retail   \n",
       "487653         5000.0       5000.0                  Wholesale  Wholesale   \n",
       "\n",
       "                                                      use country_code   \n",
       "202537  To purchase lighting products for sale to loca...          NaN  \\\n",
       "202823  To purchase lighting products for sale to loca...          NaN   \n",
       "344929  To purchase lighting products for sale to loca...          NaN   \n",
       "351177  To purchase lighting products for sale to loca...          NaN   \n",
       "420953  To purchase lighting products for sale to loca...          NaN   \n",
       "421218  purchase solar lighting products for sale to l...          NaN   \n",
       "487207  to pay for stock of solar lights and cell phon...          NaN   \n",
       "487653  to maintain a stock of solar lights and cell p...          NaN   \n",
       "\n",
       "        country currency  term_in_months  lender_count borrower_genders   \n",
       "202537  Namibia      NAD             6.0           162           female  \\\n",
       "202823  Namibia      NAD             6.0           159             male   \n",
       "344929  Namibia      NAD             7.0           120           female   \n",
       "351177  Namibia      NAD             7.0           126             male   \n",
       "420953  Namibia      NAD             7.0           118           female   \n",
       "421218  Namibia      NAD             7.0           150             male   \n",
       "487207  Namibia      NAD             7.0           183             male   \n",
       "487653  Namibia      NAD             7.0           183           female   \n",
       "\n",
       "       repayment_interval  \n",
       "202537             bullet  \n",
       "202823             bullet  \n",
       "344929             bullet  \n",
       "351177             bullet  \n",
       "420953             bullet  \n",
       "421218             bullet  \n",
       "487207             bullet  \n",
       "487653             bullet  "
      ]
     },
     "execution_count": 9,
     "metadata": {},
     "output_type": "execute_result"
    }
   ],
   "source": [
    "# Identifying NaNs in country_code\n",
    "\n",
    "df_kiva.loc[(df_kiva.loc[:,'country_code'].isnull())]"
   ]
  },
  {
   "cell_type": "code",
   "execution_count": null,
   "id": "f8649488",
   "metadata": {},
   "outputs": [
    {
     "data": {
      "text/html": [
       "<div>\n",
       "<style scoped>\n",
       "    .dataframe tbody tr th:only-of-type {\n",
       "        vertical-align: middle;\n",
       "    }\n",
       "\n",
       "    .dataframe tbody tr th {\n",
       "        vertical-align: top;\n",
       "    }\n",
       "\n",
       "    .dataframe thead th {\n",
       "        text-align: right;\n",
       "    }\n",
       "</style>\n",
       "<table border=\"1\" class=\"dataframe\">\n",
       "  <thead>\n",
       "    <tr style=\"text-align: right;\">\n",
       "      <th></th>\n",
       "      <th>funded_amount</th>\n",
       "      <th>loan_amount</th>\n",
       "      <th>activity</th>\n",
       "      <th>sector</th>\n",
       "      <th>use</th>\n",
       "      <th>country_code</th>\n",
       "      <th>country</th>\n",
       "      <th>currency</th>\n",
       "      <th>term_in_months</th>\n",
       "      <th>lender_count</th>\n",
       "      <th>borrower_genders</th>\n",
       "      <th>repayment_interval</th>\n",
       "    </tr>\n",
       "  </thead>\n",
       "  <tbody>\n",
       "    <tr>\n",
       "      <th>202537</th>\n",
       "      <td>4150.0</td>\n",
       "      <td>4150.0</td>\n",
       "      <td>Wholesale</td>\n",
       "      <td>Wholesale</td>\n",
       "      <td>To purchase lighting products for sale to loca...</td>\n",
       "      <td>NaN</td>\n",
       "      <td>Namibia</td>\n",
       "      <td>NAD</td>\n",
       "      <td>6.0</td>\n",
       "      <td>162</td>\n",
       "      <td>female</td>\n",
       "      <td>bullet</td>\n",
       "    </tr>\n",
       "    <tr>\n",
       "      <th>202823</th>\n",
       "      <td>4150.0</td>\n",
       "      <td>4150.0</td>\n",
       "      <td>Wholesale</td>\n",
       "      <td>Wholesale</td>\n",
       "      <td>To purchase lighting products for sale to loca...</td>\n",
       "      <td>NaN</td>\n",
       "      <td>Namibia</td>\n",
       "      <td>NAD</td>\n",
       "      <td>6.0</td>\n",
       "      <td>159</td>\n",
       "      <td>male</td>\n",
       "      <td>bullet</td>\n",
       "    </tr>\n",
       "    <tr>\n",
       "      <th>344929</th>\n",
       "      <td>3325.0</td>\n",
       "      <td>3325.0</td>\n",
       "      <td>Wholesale</td>\n",
       "      <td>Wholesale</td>\n",
       "      <td>To purchase lighting products for sale to loca...</td>\n",
       "      <td>NaN</td>\n",
       "      <td>Namibia</td>\n",
       "      <td>NAD</td>\n",
       "      <td>7.0</td>\n",
       "      <td>120</td>\n",
       "      <td>female</td>\n",
       "      <td>bullet</td>\n",
       "    </tr>\n",
       "    <tr>\n",
       "      <th>351177</th>\n",
       "      <td>3325.0</td>\n",
       "      <td>3325.0</td>\n",
       "      <td>Wholesale</td>\n",
       "      <td>Wholesale</td>\n",
       "      <td>To purchase lighting products for sale to loca...</td>\n",
       "      <td>NaN</td>\n",
       "      <td>Namibia</td>\n",
       "      <td>NAD</td>\n",
       "      <td>7.0</td>\n",
       "      <td>126</td>\n",
       "      <td>male</td>\n",
       "      <td>bullet</td>\n",
       "    </tr>\n",
       "    <tr>\n",
       "      <th>420953</th>\n",
       "      <td>3325.0</td>\n",
       "      <td>3325.0</td>\n",
       "      <td>Wholesale</td>\n",
       "      <td>Wholesale</td>\n",
       "      <td>To purchase lighting products for sale to loca...</td>\n",
       "      <td>NaN</td>\n",
       "      <td>Namibia</td>\n",
       "      <td>NAD</td>\n",
       "      <td>7.0</td>\n",
       "      <td>118</td>\n",
       "      <td>female</td>\n",
       "      <td>bullet</td>\n",
       "    </tr>\n",
       "    <tr>\n",
       "      <th>421218</th>\n",
       "      <td>4000.0</td>\n",
       "      <td>4000.0</td>\n",
       "      <td>Wholesale</td>\n",
       "      <td>Wholesale</td>\n",
       "      <td>purchase solar lighting products for sale to l...</td>\n",
       "      <td>NaN</td>\n",
       "      <td>Namibia</td>\n",
       "      <td>NAD</td>\n",
       "      <td>7.0</td>\n",
       "      <td>150</td>\n",
       "      <td>male</td>\n",
       "      <td>bullet</td>\n",
       "    </tr>\n",
       "    <tr>\n",
       "      <th>487207</th>\n",
       "      <td>5100.0</td>\n",
       "      <td>5100.0</td>\n",
       "      <td>Renewable Energy Products</td>\n",
       "      <td>Retail</td>\n",
       "      <td>to pay for stock of solar lights and cell phon...</td>\n",
       "      <td>NaN</td>\n",
       "      <td>Namibia</td>\n",
       "      <td>NAD</td>\n",
       "      <td>7.0</td>\n",
       "      <td>183</td>\n",
       "      <td>male</td>\n",
       "      <td>bullet</td>\n",
       "    </tr>\n",
       "    <tr>\n",
       "      <th>487653</th>\n",
       "      <td>5000.0</td>\n",
       "      <td>5000.0</td>\n",
       "      <td>Wholesale</td>\n",
       "      <td>Wholesale</td>\n",
       "      <td>to maintain a stock of solar lights and cell p...</td>\n",
       "      <td>NaN</td>\n",
       "      <td>Namibia</td>\n",
       "      <td>NAD</td>\n",
       "      <td>7.0</td>\n",
       "      <td>183</td>\n",
       "      <td>female</td>\n",
       "      <td>bullet</td>\n",
       "    </tr>\n",
       "  </tbody>\n",
       "</table>\n",
       "</div>"
      ],
      "text/plain": [
       "        funded_amount  loan_amount                   activity     sector   \n",
       "202537         4150.0       4150.0                  Wholesale  Wholesale  \\\n",
       "202823         4150.0       4150.0                  Wholesale  Wholesale   \n",
       "344929         3325.0       3325.0                  Wholesale  Wholesale   \n",
       "351177         3325.0       3325.0                  Wholesale  Wholesale   \n",
       "420953         3325.0       3325.0                  Wholesale  Wholesale   \n",
       "421218         4000.0       4000.0                  Wholesale  Wholesale   \n",
       "487207         5100.0       5100.0  Renewable Energy Products     Retail   \n",
       "487653         5000.0       5000.0                  Wholesale  Wholesale   \n",
       "\n",
       "                                                      use country_code   \n",
       "202537  To purchase lighting products for sale to loca...          NaN  \\\n",
       "202823  To purchase lighting products for sale to loca...          NaN   \n",
       "344929  To purchase lighting products for sale to loca...          NaN   \n",
       "351177  To purchase lighting products for sale to loca...          NaN   \n",
       "420953  To purchase lighting products for sale to loca...          NaN   \n",
       "421218  purchase solar lighting products for sale to l...          NaN   \n",
       "487207  to pay for stock of solar lights and cell phon...          NaN   \n",
       "487653  to maintain a stock of solar lights and cell p...          NaN   \n",
       "\n",
       "        country currency  term_in_months  lender_count borrower_genders   \n",
       "202537  Namibia      NAD             6.0           162           female  \\\n",
       "202823  Namibia      NAD             6.0           159             male   \n",
       "344929  Namibia      NAD             7.0           120           female   \n",
       "351177  Namibia      NAD             7.0           126             male   \n",
       "420953  Namibia      NAD             7.0           118           female   \n",
       "421218  Namibia      NAD             7.0           150             male   \n",
       "487207  Namibia      NAD             7.0           183             male   \n",
       "487653  Namibia      NAD             7.0           183           female   \n",
       "\n",
       "       repayment_interval  \n",
       "202537             bullet  \n",
       "202823             bullet  \n",
       "344929             bullet  \n",
       "351177             bullet  \n",
       "420953             bullet  \n",
       "421218             bullet  \n",
       "487207             bullet  \n",
       "487653             bullet  "
      ]
     },
     "execution_count": 10,
     "metadata": {},
     "output_type": "execute_result"
    }
   ],
   "source": [
    "#Handling some naming confusion\n",
    "\n",
    "df_kiva.loc[(df_kiva.loc[:,'country_code']=='NA')]\n",
    "df_kiva.loc[(df_kiva.loc[:,'country']=='Namibia')]\n",
    "\n",
    "# Replacing NaN with NA for Namibia\n",
    "\n",
    "df_kiva.loc[(df_kiva.loc[:,'country_code'].isnull()), 'country_code'] = 'NA'\n",
    "df_kiva.loc[(df_kiva.loc[:,'country']=='Namibia')]"
   ]
  },
  {
   "cell_type": "code",
   "execution_count": null,
   "id": "8f1ca2c3",
   "metadata": {},
   "outputs": [
    {
     "data": {
      "text/plain": [
       "funded_amount            0\n",
       "loan_amount              0\n",
       "activity                 0\n",
       "sector                   0\n",
       "use                   4233\n",
       "country_code             0\n",
       "country                  0\n",
       "currency                 0\n",
       "term_in_months           0\n",
       "lender_count             0\n",
       "borrower_genders      4221\n",
       "repayment_interval       0\n",
       "dtype: int64"
      ]
     },
     "execution_count": 12,
     "metadata": {},
     "output_type": "execute_result"
    }
   ],
   "source": [
    "#Erneutes Prüfen auf verbleibende NaNs\n",
    "df_kiva.loc[:,df_kiva.columns].isna().sum()"
   ]
  },
  {
   "cell_type": "markdown",
   "id": "cdd51f50",
   "metadata": {},
   "source": [
    "Es verbleiben 4k NaN-Werte in den Spalten Use und Borrower_Genders. Wir prüfen auf Überschneidungen:"
   ]
  },
  {
   "cell_type": "code",
   "execution_count": null,
   "id": "11a553ba",
   "metadata": {},
   "outputs": [
    {
     "data": {
      "text/html": [
       "<div>\n",
       "<style scoped>\n",
       "    .dataframe tbody tr th:only-of-type {\n",
       "        vertical-align: middle;\n",
       "    }\n",
       "\n",
       "    .dataframe tbody tr th {\n",
       "        vertical-align: top;\n",
       "    }\n",
       "\n",
       "    .dataframe thead th {\n",
       "        text-align: right;\n",
       "    }\n",
       "</style>\n",
       "<table border=\"1\" class=\"dataframe\">\n",
       "  <thead>\n",
       "    <tr style=\"text-align: right;\">\n",
       "      <th></th>\n",
       "      <th>funded_amount</th>\n",
       "      <th>loan_amount</th>\n",
       "      <th>term_in_months</th>\n",
       "      <th>lender_count</th>\n",
       "    </tr>\n",
       "  </thead>\n",
       "  <tbody>\n",
       "    <tr>\n",
       "      <th>count</th>\n",
       "      <td>4221.000000</td>\n",
       "      <td>4221.000000</td>\n",
       "      <td>4221.000000</td>\n",
       "      <td>4221.000000</td>\n",
       "    </tr>\n",
       "    <tr>\n",
       "      <th>mean</th>\n",
       "      <td>923.028903</td>\n",
       "      <td>1173.655532</td>\n",
       "      <td>15.127458</td>\n",
       "      <td>26.918977</td>\n",
       "    </tr>\n",
       "    <tr>\n",
       "      <th>std</th>\n",
       "      <td>1454.483435</td>\n",
       "      <td>2319.878002</td>\n",
       "      <td>8.917652</td>\n",
       "      <td>40.103457</td>\n",
       "    </tr>\n",
       "    <tr>\n",
       "      <th>min</th>\n",
       "      <td>0.000000</td>\n",
       "      <td>25.000000</td>\n",
       "      <td>2.000000</td>\n",
       "      <td>0.000000</td>\n",
       "    </tr>\n",
       "    <tr>\n",
       "      <th>25%</th>\n",
       "      <td>250.000000</td>\n",
       "      <td>325.000000</td>\n",
       "      <td>9.000000</td>\n",
       "      <td>7.000000</td>\n",
       "    </tr>\n",
       "    <tr>\n",
       "      <th>50%</th>\n",
       "      <td>500.000000</td>\n",
       "      <td>625.000000</td>\n",
       "      <td>14.000000</td>\n",
       "      <td>16.000000</td>\n",
       "    </tr>\n",
       "    <tr>\n",
       "      <th>75%</th>\n",
       "      <td>1050.000000</td>\n",
       "      <td>1200.000000</td>\n",
       "      <td>18.000000</td>\n",
       "      <td>33.000000</td>\n",
       "    </tr>\n",
       "    <tr>\n",
       "      <th>max</th>\n",
       "      <td>50000.000000</td>\n",
       "      <td>50000.000000</td>\n",
       "      <td>133.000000</td>\n",
       "      <td>1310.000000</td>\n",
       "    </tr>\n",
       "  </tbody>\n",
       "</table>\n",
       "</div>"
      ],
      "text/plain": [
       "       funded_amount   loan_amount  term_in_months  lender_count\n",
       "count    4221.000000   4221.000000     4221.000000   4221.000000\n",
       "mean      923.028903   1173.655532       15.127458     26.918977\n",
       "std      1454.483435   2319.878002        8.917652     40.103457\n",
       "min         0.000000     25.000000        2.000000      0.000000\n",
       "25%       250.000000    325.000000        9.000000      7.000000\n",
       "50%       500.000000    625.000000       14.000000     16.000000\n",
       "75%      1050.000000   1200.000000       18.000000     33.000000\n",
       "max     50000.000000  50000.000000      133.000000   1310.000000"
      ]
     },
     "execution_count": 13,
     "metadata": {},
     "output_type": "execute_result"
    }
   ],
   "source": [
    "# CHecking NaN overlap in gender and use\n",
    "\n",
    "df_kiva.loc[(df_kiva.loc[:,'use'].isnull() & df_kiva.loc[:,'borrower_genders'].isnull())]\n",
    "df_kiva.loc[(df_kiva.loc[:,'use'].isnull() & df_kiva.loc[:,'borrower_genders'].isnull())].describe()\n"
   ]
  },
  {
   "cell_type": "code",
   "execution_count": null,
   "id": "c43913ec",
   "metadata": {},
   "outputs": [],
   "source": [
    "# Deleting remaining columns with NaNs\n",
    "\n",
    "df_kiva.dropna(inplace=True)"
   ]
  },
  {
   "cell_type": "code",
   "execution_count": null,
   "id": "ae1345dd",
   "metadata": {
    "run_control": {
     "marked": false
    }
   },
   "outputs": [],
   "source": [
    "# Dropping of use columns because it has no further use\n",
    "\n",
    "df_kiva.drop(columns =['use'], inplace= True)"
   ]
  },
  {
   "cell_type": "markdown",
   "id": "fe8a11a9",
   "metadata": {},
   "source": [
    "Mit diesem Schritt ist die Betrachtung von fehlenden Werten abgeschlossen. NaNs wurden entweder entfernt oder aufgefüllt. Es verbleibt ein Datensatz ohne Missing Values oder Platzhalter."
   ]
  },
  {
   "cell_type": "markdown",
   "id": "6978cbcc",
   "metadata": {},
   "source": [
    "## Identifying extreme values and outliers"
   ]
  },
  {
   "cell_type": "code",
   "execution_count": null,
   "id": "37001e4e",
   "metadata": {},
   "outputs": [
    {
     "data": {
      "text/html": [
       "<div>\n",
       "<style scoped>\n",
       "    .dataframe tbody tr th:only-of-type {\n",
       "        vertical-align: middle;\n",
       "    }\n",
       "\n",
       "    .dataframe tbody tr th {\n",
       "        vertical-align: top;\n",
       "    }\n",
       "\n",
       "    .dataframe thead th {\n",
       "        text-align: right;\n",
       "    }\n",
       "</style>\n",
       "<table border=\"1\" class=\"dataframe\">\n",
       "  <thead>\n",
       "    <tr style=\"text-align: right;\">\n",
       "      <th></th>\n",
       "      <th>funded_amount</th>\n",
       "      <th>loan_amount</th>\n",
       "      <th>term_in_months</th>\n",
       "      <th>lender_count</th>\n",
       "    </tr>\n",
       "  </thead>\n",
       "  <tbody>\n",
       "    <tr>\n",
       "      <th>count</th>\n",
       "      <td>666972.000000</td>\n",
       "      <td>666972.000000</td>\n",
       "      <td>666972.00000</td>\n",
       "      <td>666972.000000</td>\n",
       "    </tr>\n",
       "    <tr>\n",
       "      <th>mean</th>\n",
       "      <td>785.131835</td>\n",
       "      <td>840.272905</td>\n",
       "      <td>13.73022</td>\n",
       "      <td>20.551025</td>\n",
       "    </tr>\n",
       "    <tr>\n",
       "      <th>std</th>\n",
       "      <td>1128.005848</td>\n",
       "      <td>1187.875622</td>\n",
       "      <td>8.59619</td>\n",
       "      <td>28.366363</td>\n",
       "    </tr>\n",
       "    <tr>\n",
       "      <th>min</th>\n",
       "      <td>0.000000</td>\n",
       "      <td>25.000000</td>\n",
       "      <td>1.00000</td>\n",
       "      <td>0.000000</td>\n",
       "    </tr>\n",
       "    <tr>\n",
       "      <th>25%</th>\n",
       "      <td>250.000000</td>\n",
       "      <td>275.000000</td>\n",
       "      <td>8.00000</td>\n",
       "      <td>7.000000</td>\n",
       "    </tr>\n",
       "    <tr>\n",
       "      <th>50%</th>\n",
       "      <td>450.000000</td>\n",
       "      <td>500.000000</td>\n",
       "      <td>13.00000</td>\n",
       "      <td>13.000000</td>\n",
       "    </tr>\n",
       "    <tr>\n",
       "      <th>75%</th>\n",
       "      <td>900.000000</td>\n",
       "      <td>1000.000000</td>\n",
       "      <td>14.00000</td>\n",
       "      <td>24.000000</td>\n",
       "    </tr>\n",
       "    <tr>\n",
       "      <th>max</th>\n",
       "      <td>100000.000000</td>\n",
       "      <td>100000.000000</td>\n",
       "      <td>158.00000</td>\n",
       "      <td>2986.000000</td>\n",
       "    </tr>\n",
       "  </tbody>\n",
       "</table>\n",
       "</div>"
      ],
      "text/plain": [
       "       funded_amount    loan_amount  term_in_months   lender_count\n",
       "count  666972.000000  666972.000000    666972.00000  666972.000000\n",
       "mean      785.131835     840.272905        13.73022      20.551025\n",
       "std      1128.005848    1187.875622         8.59619      28.366363\n",
       "min         0.000000      25.000000         1.00000       0.000000\n",
       "25%       250.000000     275.000000         8.00000       7.000000\n",
       "50%       450.000000     500.000000        13.00000      13.000000\n",
       "75%       900.000000    1000.000000        14.00000      24.000000\n",
       "max    100000.000000  100000.000000       158.00000    2986.000000"
      ]
     },
     "execution_count": 17,
     "metadata": {},
     "output_type": "execute_result"
    }
   ],
   "source": [
    "# Looking at min and max values\n",
    "\n",
    "df_kiva.describe()"
   ]
  },
  {
   "cell_type": "code",
   "execution_count": null,
   "id": "d3a2591c",
   "metadata": {},
   "outputs": [
    {
     "data": {
      "text/html": [
       "<div>\n",
       "<style scoped>\n",
       "    .dataframe tbody tr th:only-of-type {\n",
       "        vertical-align: middle;\n",
       "    }\n",
       "\n",
       "    .dataframe tbody tr th {\n",
       "        vertical-align: top;\n",
       "    }\n",
       "\n",
       "    .dataframe thead th {\n",
       "        text-align: right;\n",
       "    }\n",
       "</style>\n",
       "<table border=\"1\" class=\"dataframe\">\n",
       "  <thead>\n",
       "    <tr style=\"text-align: right;\">\n",
       "      <th></th>\n",
       "      <th>funded_amount</th>\n",
       "      <th>loan_amount</th>\n",
       "      <th>activity</th>\n",
       "      <th>sector</th>\n",
       "      <th>country_code</th>\n",
       "      <th>country</th>\n",
       "      <th>currency</th>\n",
       "      <th>term_in_months</th>\n",
       "      <th>lender_count</th>\n",
       "      <th>borrower_genders</th>\n",
       "      <th>repayment_interval</th>\n",
       "    </tr>\n",
       "  </thead>\n",
       "  <tbody>\n",
       "    <tr>\n",
       "      <th>70499</th>\n",
       "      <td>100000.0</td>\n",
       "      <td>100000.0</td>\n",
       "      <td>Agriculture</td>\n",
       "      <td>Agriculture</td>\n",
       "      <td>HT</td>\n",
       "      <td>Haiti</td>\n",
       "      <td>USD</td>\n",
       "      <td>75.0</td>\n",
       "      <td>2986</td>\n",
       "      <td>female</td>\n",
       "      <td>irregular</td>\n",
       "    </tr>\n",
       "  </tbody>\n",
       "</table>\n",
       "</div>"
      ],
      "text/plain": [
       "       funded_amount  loan_amount     activity       sector country_code   \n",
       "70499       100000.0     100000.0  Agriculture  Agriculture           HT  \\\n",
       "\n",
       "      country currency  term_in_months  lender_count borrower_genders   \n",
       "70499   Haiti      USD            75.0          2986           female  \\\n",
       "\n",
       "      repayment_interval  \n",
       "70499          irregular  "
      ]
     },
     "execution_count": 18,
     "metadata": {},
     "output_type": "execute_result"
    }
   ],
   "source": [
    "df_kiva.loc[(df_kiva.loc[:,'funded_amount']==100000)]"
   ]
  },
  {
   "cell_type": "code",
   "execution_count": null,
   "id": "f92298ca",
   "metadata": {},
   "outputs": [
    {
     "data": {
      "text/html": [
       "<div>\n",
       "<style scoped>\n",
       "    .dataframe tbody tr th:only-of-type {\n",
       "        vertical-align: middle;\n",
       "    }\n",
       "\n",
       "    .dataframe tbody tr th {\n",
       "        vertical-align: top;\n",
       "    }\n",
       "\n",
       "    .dataframe thead th {\n",
       "        text-align: right;\n",
       "    }\n",
       "</style>\n",
       "<table border=\"1\" class=\"dataframe\">\n",
       "  <thead>\n",
       "    <tr style=\"text-align: right;\">\n",
       "      <th></th>\n",
       "      <th>funded_amount</th>\n",
       "      <th>loan_amount</th>\n",
       "      <th>activity</th>\n",
       "      <th>sector</th>\n",
       "      <th>country_code</th>\n",
       "      <th>country</th>\n",
       "      <th>currency</th>\n",
       "      <th>term_in_months</th>\n",
       "      <th>lender_count</th>\n",
       "      <th>borrower_genders</th>\n",
       "      <th>repayment_interval</th>\n",
       "    </tr>\n",
       "  </thead>\n",
       "  <tbody>\n",
       "    <tr>\n",
       "      <th>215863</th>\n",
       "      <td>6725.0</td>\n",
       "      <td>6725.0</td>\n",
       "      <td>Higher education costs</td>\n",
       "      <td>Education</td>\n",
       "      <td>DO</td>\n",
       "      <td>Dominican Republic</td>\n",
       "      <td>DOP</td>\n",
       "      <td>158.0</td>\n",
       "      <td>244</td>\n",
       "      <td>female</td>\n",
       "      <td>irregular</td>\n",
       "    </tr>\n",
       "  </tbody>\n",
       "</table>\n",
       "</div>"
      ],
      "text/plain": [
       "        funded_amount  loan_amount                activity     sector   \n",
       "215863         6725.0       6725.0  Higher education costs  Education  \\\n",
       "\n",
       "       country_code             country currency  term_in_months   \n",
       "215863           DO  Dominican Republic      DOP           158.0  \\\n",
       "\n",
       "        lender_count borrower_genders repayment_interval  \n",
       "215863           244           female          irregular  "
      ]
     },
     "execution_count": 19,
     "metadata": {},
     "output_type": "execute_result"
    }
   ],
   "source": [
    "df_kiva.loc[(df_kiva.loc[:,'term_in_months']==158)]"
   ]
  },
  {
   "cell_type": "code",
   "execution_count": null,
   "id": "b8e5b16e",
   "metadata": {},
   "outputs": [
    {
     "data": {
      "application/vnd.plotly.v1+json": {
       "config": {
        "plotlyServerURL": "https://plot.ly"
       },
       "data": [
        {
         "alignmentgroup": "True",
         "hovertemplate": "x=%{x}<br>y=%{y}<extra></extra>",
         "legendgroup": "",
         "marker": {
          "color": "#636efa",
          "pattern": {
           "shape": ""
          }
         },
         "name": "",
         "offsetgroup": "",
         "orientation": "h",
         "showlegend": false,
         "textposition": "auto",
         "type": "bar",
         "x": [
          179221,
          11994,
          32478,
          6194,
          30837,
          820,
          135746,
          9172,
          33571,
          6158,
          36246,
          123758,
          44696,
          15455,
          626
         ],
         "xaxis": "x",
         "y": [
          "Agriculture",
          "Arts",
          "Clothing",
          "Construction",
          "Education",
          "Entertainment",
          "Food",
          "Health",
          "Housing",
          "Manufacturing",
          "Personal Use",
          "Retail",
          "Services",
          "Transportation",
          "Wholesale"
         ],
         "yaxis": "y"
        }
       ],
       "layout": {
        "barmode": "relative",
        "legend": {
         "tracegroupgap": 0
        },
        "template": {
         "data": {
          "bar": [
           {
            "error_x": {
             "color": "#2a3f5f"
            },
            "error_y": {
             "color": "#2a3f5f"
            },
            "marker": {
             "line": {
              "color": "#E5ECF6",
              "width": 0.5
             },
             "pattern": {
              "fillmode": "overlay",
              "size": 10,
              "solidity": 0.2
             }
            },
            "type": "bar"
           }
          ],
          "barpolar": [
           {
            "marker": {
             "line": {
              "color": "#E5ECF6",
              "width": 0.5
             },
             "pattern": {
              "fillmode": "overlay",
              "size": 10,
              "solidity": 0.2
             }
            },
            "type": "barpolar"
           }
          ],
          "carpet": [
           {
            "aaxis": {
             "endlinecolor": "#2a3f5f",
             "gridcolor": "white",
             "linecolor": "white",
             "minorgridcolor": "white",
             "startlinecolor": "#2a3f5f"
            },
            "baxis": {
             "endlinecolor": "#2a3f5f",
             "gridcolor": "white",
             "linecolor": "white",
             "minorgridcolor": "white",
             "startlinecolor": "#2a3f5f"
            },
            "type": "carpet"
           }
          ],
          "choropleth": [
           {
            "colorbar": {
             "outlinewidth": 0,
             "ticks": ""
            },
            "type": "choropleth"
           }
          ],
          "contour": [
           {
            "colorbar": {
             "outlinewidth": 0,
             "ticks": ""
            },
            "colorscale": [
             [
              0,
              "#0d0887"
             ],
             [
              0.1111111111111111,
              "#46039f"
             ],
             [
              0.2222222222222222,
              "#7201a8"
             ],
             [
              0.3333333333333333,
              "#9c179e"
             ],
             [
              0.4444444444444444,
              "#bd3786"
             ],
             [
              0.5555555555555556,
              "#d8576b"
             ],
             [
              0.6666666666666666,
              "#ed7953"
             ],
             [
              0.7777777777777778,
              "#fb9f3a"
             ],
             [
              0.8888888888888888,
              "#fdca26"
             ],
             [
              1,
              "#f0f921"
             ]
            ],
            "type": "contour"
           }
          ],
          "contourcarpet": [
           {
            "colorbar": {
             "outlinewidth": 0,
             "ticks": ""
            },
            "type": "contourcarpet"
           }
          ],
          "heatmap": [
           {
            "colorbar": {
             "outlinewidth": 0,
             "ticks": ""
            },
            "colorscale": [
             [
              0,
              "#0d0887"
             ],
             [
              0.1111111111111111,
              "#46039f"
             ],
             [
              0.2222222222222222,
              "#7201a8"
             ],
             [
              0.3333333333333333,
              "#9c179e"
             ],
             [
              0.4444444444444444,
              "#bd3786"
             ],
             [
              0.5555555555555556,
              "#d8576b"
             ],
             [
              0.6666666666666666,
              "#ed7953"
             ],
             [
              0.7777777777777778,
              "#fb9f3a"
             ],
             [
              0.8888888888888888,
              "#fdca26"
             ],
             [
              1,
              "#f0f921"
             ]
            ],
            "type": "heatmap"
           }
          ],
          "heatmapgl": [
           {
            "colorbar": {
             "outlinewidth": 0,
             "ticks": ""
            },
            "colorscale": [
             [
              0,
              "#0d0887"
             ],
             [
              0.1111111111111111,
              "#46039f"
             ],
             [
              0.2222222222222222,
              "#7201a8"
             ],
             [
              0.3333333333333333,
              "#9c179e"
             ],
             [
              0.4444444444444444,
              "#bd3786"
             ],
             [
              0.5555555555555556,
              "#d8576b"
             ],
             [
              0.6666666666666666,
              "#ed7953"
             ],
             [
              0.7777777777777778,
              "#fb9f3a"
             ],
             [
              0.8888888888888888,
              "#fdca26"
             ],
             [
              1,
              "#f0f921"
             ]
            ],
            "type": "heatmapgl"
           }
          ],
          "histogram": [
           {
            "marker": {
             "pattern": {
              "fillmode": "overlay",
              "size": 10,
              "solidity": 0.2
             }
            },
            "type": "histogram"
           }
          ],
          "histogram2d": [
           {
            "colorbar": {
             "outlinewidth": 0,
             "ticks": ""
            },
            "colorscale": [
             [
              0,
              "#0d0887"
             ],
             [
              0.1111111111111111,
              "#46039f"
             ],
             [
              0.2222222222222222,
              "#7201a8"
             ],
             [
              0.3333333333333333,
              "#9c179e"
             ],
             [
              0.4444444444444444,
              "#bd3786"
             ],
             [
              0.5555555555555556,
              "#d8576b"
             ],
             [
              0.6666666666666666,
              "#ed7953"
             ],
             [
              0.7777777777777778,
              "#fb9f3a"
             ],
             [
              0.8888888888888888,
              "#fdca26"
             ],
             [
              1,
              "#f0f921"
             ]
            ],
            "type": "histogram2d"
           }
          ],
          "histogram2dcontour": [
           {
            "colorbar": {
             "outlinewidth": 0,
             "ticks": ""
            },
            "colorscale": [
             [
              0,
              "#0d0887"
             ],
             [
              0.1111111111111111,
              "#46039f"
             ],
             [
              0.2222222222222222,
              "#7201a8"
             ],
             [
              0.3333333333333333,
              "#9c179e"
             ],
             [
              0.4444444444444444,
              "#bd3786"
             ],
             [
              0.5555555555555556,
              "#d8576b"
             ],
             [
              0.6666666666666666,
              "#ed7953"
             ],
             [
              0.7777777777777778,
              "#fb9f3a"
             ],
             [
              0.8888888888888888,
              "#fdca26"
             ],
             [
              1,
              "#f0f921"
             ]
            ],
            "type": "histogram2dcontour"
           }
          ],
          "mesh3d": [
           {
            "colorbar": {
             "outlinewidth": 0,
             "ticks": ""
            },
            "type": "mesh3d"
           }
          ],
          "parcoords": [
           {
            "line": {
             "colorbar": {
              "outlinewidth": 0,
              "ticks": ""
             }
            },
            "type": "parcoords"
           }
          ],
          "pie": [
           {
            "automargin": true,
            "type": "pie"
           }
          ],
          "scatter": [
           {
            "fillpattern": {
             "fillmode": "overlay",
             "size": 10,
             "solidity": 0.2
            },
            "type": "scatter"
           }
          ],
          "scatter3d": [
           {
            "line": {
             "colorbar": {
              "outlinewidth": 0,
              "ticks": ""
             }
            },
            "marker": {
             "colorbar": {
              "outlinewidth": 0,
              "ticks": ""
             }
            },
            "type": "scatter3d"
           }
          ],
          "scattercarpet": [
           {
            "marker": {
             "colorbar": {
              "outlinewidth": 0,
              "ticks": ""
             }
            },
            "type": "scattercarpet"
           }
          ],
          "scattergeo": [
           {
            "marker": {
             "colorbar": {
              "outlinewidth": 0,
              "ticks": ""
             }
            },
            "type": "scattergeo"
           }
          ],
          "scattergl": [
           {
            "marker": {
             "colorbar": {
              "outlinewidth": 0,
              "ticks": ""
             }
            },
            "type": "scattergl"
           }
          ],
          "scattermapbox": [
           {
            "marker": {
             "colorbar": {
              "outlinewidth": 0,
              "ticks": ""
             }
            },
            "type": "scattermapbox"
           }
          ],
          "scatterpolar": [
           {
            "marker": {
             "colorbar": {
              "outlinewidth": 0,
              "ticks": ""
             }
            },
            "type": "scatterpolar"
           }
          ],
          "scatterpolargl": [
           {
            "marker": {
             "colorbar": {
              "outlinewidth": 0,
              "ticks": ""
             }
            },
            "type": "scatterpolargl"
           }
          ],
          "scatterternary": [
           {
            "marker": {
             "colorbar": {
              "outlinewidth": 0,
              "ticks": ""
             }
            },
            "type": "scatterternary"
           }
          ],
          "surface": [
           {
            "colorbar": {
             "outlinewidth": 0,
             "ticks": ""
            },
            "colorscale": [
             [
              0,
              "#0d0887"
             ],
             [
              0.1111111111111111,
              "#46039f"
             ],
             [
              0.2222222222222222,
              "#7201a8"
             ],
             [
              0.3333333333333333,
              "#9c179e"
             ],
             [
              0.4444444444444444,
              "#bd3786"
             ],
             [
              0.5555555555555556,
              "#d8576b"
             ],
             [
              0.6666666666666666,
              "#ed7953"
             ],
             [
              0.7777777777777778,
              "#fb9f3a"
             ],
             [
              0.8888888888888888,
              "#fdca26"
             ],
             [
              1,
              "#f0f921"
             ]
            ],
            "type": "surface"
           }
          ],
          "table": [
           {
            "cells": {
             "fill": {
              "color": "#EBF0F8"
             },
             "line": {
              "color": "white"
             }
            },
            "header": {
             "fill": {
              "color": "#C8D4E3"
             },
             "line": {
              "color": "white"
             }
            },
            "type": "table"
           }
          ]
         },
         "layout": {
          "annotationdefaults": {
           "arrowcolor": "#2a3f5f",
           "arrowhead": 0,
           "arrowwidth": 1
          },
          "autotypenumbers": "strict",
          "coloraxis": {
           "colorbar": {
            "outlinewidth": 0,
            "ticks": ""
           }
          },
          "colorscale": {
           "diverging": [
            [
             0,
             "#8e0152"
            ],
            [
             0.1,
             "#c51b7d"
            ],
            [
             0.2,
             "#de77ae"
            ],
            [
             0.3,
             "#f1b6da"
            ],
            [
             0.4,
             "#fde0ef"
            ],
            [
             0.5,
             "#f7f7f7"
            ],
            [
             0.6,
             "#e6f5d0"
            ],
            [
             0.7,
             "#b8e186"
            ],
            [
             0.8,
             "#7fbc41"
            ],
            [
             0.9,
             "#4d9221"
            ],
            [
             1,
             "#276419"
            ]
           ],
           "sequential": [
            [
             0,
             "#0d0887"
            ],
            [
             0.1111111111111111,
             "#46039f"
            ],
            [
             0.2222222222222222,
             "#7201a8"
            ],
            [
             0.3333333333333333,
             "#9c179e"
            ],
            [
             0.4444444444444444,
             "#bd3786"
            ],
            [
             0.5555555555555556,
             "#d8576b"
            ],
            [
             0.6666666666666666,
             "#ed7953"
            ],
            [
             0.7777777777777778,
             "#fb9f3a"
            ],
            [
             0.8888888888888888,
             "#fdca26"
            ],
            [
             1,
             "#f0f921"
            ]
           ],
           "sequentialminus": [
            [
             0,
             "#0d0887"
            ],
            [
             0.1111111111111111,
             "#46039f"
            ],
            [
             0.2222222222222222,
             "#7201a8"
            ],
            [
             0.3333333333333333,
             "#9c179e"
            ],
            [
             0.4444444444444444,
             "#bd3786"
            ],
            [
             0.5555555555555556,
             "#d8576b"
            ],
            [
             0.6666666666666666,
             "#ed7953"
            ],
            [
             0.7777777777777778,
             "#fb9f3a"
            ],
            [
             0.8888888888888888,
             "#fdca26"
            ],
            [
             1,
             "#f0f921"
            ]
           ]
          },
          "colorway": [
           "#636efa",
           "#EF553B",
           "#00cc96",
           "#ab63fa",
           "#FFA15A",
           "#19d3f3",
           "#FF6692",
           "#B6E880",
           "#FF97FF",
           "#FECB52"
          ],
          "font": {
           "color": "#2a3f5f"
          },
          "geo": {
           "bgcolor": "white",
           "lakecolor": "white",
           "landcolor": "#E5ECF6",
           "showlakes": true,
           "showland": true,
           "subunitcolor": "white"
          },
          "hoverlabel": {
           "align": "left"
          },
          "hovermode": "closest",
          "mapbox": {
           "style": "light"
          },
          "paper_bgcolor": "white",
          "plot_bgcolor": "#E5ECF6",
          "polar": {
           "angularaxis": {
            "gridcolor": "white",
            "linecolor": "white",
            "ticks": ""
           },
           "bgcolor": "#E5ECF6",
           "radialaxis": {
            "gridcolor": "white",
            "linecolor": "white",
            "ticks": ""
           }
          },
          "scene": {
           "xaxis": {
            "backgroundcolor": "#E5ECF6",
            "gridcolor": "white",
            "gridwidth": 2,
            "linecolor": "white",
            "showbackground": true,
            "ticks": "",
            "zerolinecolor": "white"
           },
           "yaxis": {
            "backgroundcolor": "#E5ECF6",
            "gridcolor": "white",
            "gridwidth": 2,
            "linecolor": "white",
            "showbackground": true,
            "ticks": "",
            "zerolinecolor": "white"
           },
           "zaxis": {
            "backgroundcolor": "#E5ECF6",
            "gridcolor": "white",
            "gridwidth": 2,
            "linecolor": "white",
            "showbackground": true,
            "ticks": "",
            "zerolinecolor": "white"
           }
          },
          "shapedefaults": {
           "line": {
            "color": "#2a3f5f"
           }
          },
          "ternary": {
           "aaxis": {
            "gridcolor": "white",
            "linecolor": "white",
            "ticks": ""
           },
           "baxis": {
            "gridcolor": "white",
            "linecolor": "white",
            "ticks": ""
           },
           "bgcolor": "#E5ECF6",
           "caxis": {
            "gridcolor": "white",
            "linecolor": "white",
            "ticks": ""
           }
          },
          "title": {
           "x": 0.05
          },
          "xaxis": {
           "automargin": true,
           "gridcolor": "white",
           "linecolor": "white",
           "ticks": "",
           "title": {
            "standoff": 15
           },
           "zerolinecolor": "white",
           "zerolinewidth": 2
          },
          "yaxis": {
           "automargin": true,
           "gridcolor": "white",
           "linecolor": "white",
           "ticks": "",
           "title": {
            "standoff": 15
           },
           "zerolinecolor": "white",
           "zerolinewidth": 2
          }
         }
        },
        "title": {
         "text": "Overview sectors"
        },
        "xaxis": {
         "anchor": "y",
         "domain": [
          0,
          1
         ],
         "title": {
          "text": "Number of projects"
         }
        },
        "yaxis": {
         "anchor": "x",
         "categoryorder": "total ascending",
         "domain": [
          0,
          1
         ],
         "title": {
          "text": "Sectors"
         }
        }
       }
      },
      "text/html": [
       "<div>                            <div id=\"60dd4537-dcd1-41bc-a90b-ad27653295ae\" class=\"plotly-graph-div\" style=\"height:525px; width:100%;\"></div>            <script type=\"text/javascript\">                require([\"plotly\"], function(Plotly) {                    window.PLOTLYENV=window.PLOTLYENV || {};                                    if (document.getElementById(\"60dd4537-dcd1-41bc-a90b-ad27653295ae\")) {                    Plotly.newPlot(                        \"60dd4537-dcd1-41bc-a90b-ad27653295ae\",                        [{\"alignmentgroup\":\"True\",\"hovertemplate\":\"x=%{x}\\u003cbr\\u003ey=%{y}\\u003cextra\\u003e\\u003c\\u002fextra\\u003e\",\"legendgroup\":\"\",\"marker\":{\"color\":\"#636efa\",\"pattern\":{\"shape\":\"\"}},\"name\":\"\",\"offsetgroup\":\"\",\"orientation\":\"h\",\"showlegend\":false,\"textposition\":\"auto\",\"x\":[179221,11994,32478,6194,30837,820,135746,9172,33571,6158,36246,123758,44696,15455,626],\"xaxis\":\"x\",\"y\":[\"Agriculture\",\"Arts\",\"Clothing\",\"Construction\",\"Education\",\"Entertainment\",\"Food\",\"Health\",\"Housing\",\"Manufacturing\",\"Personal Use\",\"Retail\",\"Services\",\"Transportation\",\"Wholesale\"],\"yaxis\":\"y\",\"type\":\"bar\"}],                        {\"template\":{\"data\":{\"histogram2dcontour\":[{\"type\":\"histogram2dcontour\",\"colorbar\":{\"outlinewidth\":0,\"ticks\":\"\"},\"colorscale\":[[0.0,\"#0d0887\"],[0.1111111111111111,\"#46039f\"],[0.2222222222222222,\"#7201a8\"],[0.3333333333333333,\"#9c179e\"],[0.4444444444444444,\"#bd3786\"],[0.5555555555555556,\"#d8576b\"],[0.6666666666666666,\"#ed7953\"],[0.7777777777777778,\"#fb9f3a\"],[0.8888888888888888,\"#fdca26\"],[1.0,\"#f0f921\"]]}],\"choropleth\":[{\"type\":\"choropleth\",\"colorbar\":{\"outlinewidth\":0,\"ticks\":\"\"}}],\"histogram2d\":[{\"type\":\"histogram2d\",\"colorbar\":{\"outlinewidth\":0,\"ticks\":\"\"},\"colorscale\":[[0.0,\"#0d0887\"],[0.1111111111111111,\"#46039f\"],[0.2222222222222222,\"#7201a8\"],[0.3333333333333333,\"#9c179e\"],[0.4444444444444444,\"#bd3786\"],[0.5555555555555556,\"#d8576b\"],[0.6666666666666666,\"#ed7953\"],[0.7777777777777778,\"#fb9f3a\"],[0.8888888888888888,\"#fdca26\"],[1.0,\"#f0f921\"]]}],\"heatmap\":[{\"type\":\"heatmap\",\"colorbar\":{\"outlinewidth\":0,\"ticks\":\"\"},\"colorscale\":[[0.0,\"#0d0887\"],[0.1111111111111111,\"#46039f\"],[0.2222222222222222,\"#7201a8\"],[0.3333333333333333,\"#9c179e\"],[0.4444444444444444,\"#bd3786\"],[0.5555555555555556,\"#d8576b\"],[0.6666666666666666,\"#ed7953\"],[0.7777777777777778,\"#fb9f3a\"],[0.8888888888888888,\"#fdca26\"],[1.0,\"#f0f921\"]]}],\"heatmapgl\":[{\"type\":\"heatmapgl\",\"colorbar\":{\"outlinewidth\":0,\"ticks\":\"\"},\"colorscale\":[[0.0,\"#0d0887\"],[0.1111111111111111,\"#46039f\"],[0.2222222222222222,\"#7201a8\"],[0.3333333333333333,\"#9c179e\"],[0.4444444444444444,\"#bd3786\"],[0.5555555555555556,\"#d8576b\"],[0.6666666666666666,\"#ed7953\"],[0.7777777777777778,\"#fb9f3a\"],[0.8888888888888888,\"#fdca26\"],[1.0,\"#f0f921\"]]}],\"contourcarpet\":[{\"type\":\"contourcarpet\",\"colorbar\":{\"outlinewidth\":0,\"ticks\":\"\"}}],\"contour\":[{\"type\":\"contour\",\"colorbar\":{\"outlinewidth\":0,\"ticks\":\"\"},\"colorscale\":[[0.0,\"#0d0887\"],[0.1111111111111111,\"#46039f\"],[0.2222222222222222,\"#7201a8\"],[0.3333333333333333,\"#9c179e\"],[0.4444444444444444,\"#bd3786\"],[0.5555555555555556,\"#d8576b\"],[0.6666666666666666,\"#ed7953\"],[0.7777777777777778,\"#fb9f3a\"],[0.8888888888888888,\"#fdca26\"],[1.0,\"#f0f921\"]]}],\"surface\":[{\"type\":\"surface\",\"colorbar\":{\"outlinewidth\":0,\"ticks\":\"\"},\"colorscale\":[[0.0,\"#0d0887\"],[0.1111111111111111,\"#46039f\"],[0.2222222222222222,\"#7201a8\"],[0.3333333333333333,\"#9c179e\"],[0.4444444444444444,\"#bd3786\"],[0.5555555555555556,\"#d8576b\"],[0.6666666666666666,\"#ed7953\"],[0.7777777777777778,\"#fb9f3a\"],[0.8888888888888888,\"#fdca26\"],[1.0,\"#f0f921\"]]}],\"mesh3d\":[{\"type\":\"mesh3d\",\"colorbar\":{\"outlinewidth\":0,\"ticks\":\"\"}}],\"scatter\":[{\"fillpattern\":{\"fillmode\":\"overlay\",\"size\":10,\"solidity\":0.2},\"type\":\"scatter\"}],\"parcoords\":[{\"type\":\"parcoords\",\"line\":{\"colorbar\":{\"outlinewidth\":0,\"ticks\":\"\"}}}],\"scatterpolargl\":[{\"type\":\"scatterpolargl\",\"marker\":{\"colorbar\":{\"outlinewidth\":0,\"ticks\":\"\"}}}],\"bar\":[{\"error_x\":{\"color\":\"#2a3f5f\"},\"error_y\":{\"color\":\"#2a3f5f\"},\"marker\":{\"line\":{\"color\":\"#E5ECF6\",\"width\":0.5},\"pattern\":{\"fillmode\":\"overlay\",\"size\":10,\"solidity\":0.2}},\"type\":\"bar\"}],\"scattergeo\":[{\"type\":\"scattergeo\",\"marker\":{\"colorbar\":{\"outlinewidth\":0,\"ticks\":\"\"}}}],\"scatterpolar\":[{\"type\":\"scatterpolar\",\"marker\":{\"colorbar\":{\"outlinewidth\":0,\"ticks\":\"\"}}}],\"histogram\":[{\"marker\":{\"pattern\":{\"fillmode\":\"overlay\",\"size\":10,\"solidity\":0.2}},\"type\":\"histogram\"}],\"scattergl\":[{\"type\":\"scattergl\",\"marker\":{\"colorbar\":{\"outlinewidth\":0,\"ticks\":\"\"}}}],\"scatter3d\":[{\"type\":\"scatter3d\",\"line\":{\"colorbar\":{\"outlinewidth\":0,\"ticks\":\"\"}},\"marker\":{\"colorbar\":{\"outlinewidth\":0,\"ticks\":\"\"}}}],\"scattermapbox\":[{\"type\":\"scattermapbox\",\"marker\":{\"colorbar\":{\"outlinewidth\":0,\"ticks\":\"\"}}}],\"scatterternary\":[{\"type\":\"scatterternary\",\"marker\":{\"colorbar\":{\"outlinewidth\":0,\"ticks\":\"\"}}}],\"scattercarpet\":[{\"type\":\"scattercarpet\",\"marker\":{\"colorbar\":{\"outlinewidth\":0,\"ticks\":\"\"}}}],\"carpet\":[{\"aaxis\":{\"endlinecolor\":\"#2a3f5f\",\"gridcolor\":\"white\",\"linecolor\":\"white\",\"minorgridcolor\":\"white\",\"startlinecolor\":\"#2a3f5f\"},\"baxis\":{\"endlinecolor\":\"#2a3f5f\",\"gridcolor\":\"white\",\"linecolor\":\"white\",\"minorgridcolor\":\"white\",\"startlinecolor\":\"#2a3f5f\"},\"type\":\"carpet\"}],\"table\":[{\"cells\":{\"fill\":{\"color\":\"#EBF0F8\"},\"line\":{\"color\":\"white\"}},\"header\":{\"fill\":{\"color\":\"#C8D4E3\"},\"line\":{\"color\":\"white\"}},\"type\":\"table\"}],\"barpolar\":[{\"marker\":{\"line\":{\"color\":\"#E5ECF6\",\"width\":0.5},\"pattern\":{\"fillmode\":\"overlay\",\"size\":10,\"solidity\":0.2}},\"type\":\"barpolar\"}],\"pie\":[{\"automargin\":true,\"type\":\"pie\"}]},\"layout\":{\"autotypenumbers\":\"strict\",\"colorway\":[\"#636efa\",\"#EF553B\",\"#00cc96\",\"#ab63fa\",\"#FFA15A\",\"#19d3f3\",\"#FF6692\",\"#B6E880\",\"#FF97FF\",\"#FECB52\"],\"font\":{\"color\":\"#2a3f5f\"},\"hovermode\":\"closest\",\"hoverlabel\":{\"align\":\"left\"},\"paper_bgcolor\":\"white\",\"plot_bgcolor\":\"#E5ECF6\",\"polar\":{\"bgcolor\":\"#E5ECF6\",\"angularaxis\":{\"gridcolor\":\"white\",\"linecolor\":\"white\",\"ticks\":\"\"},\"radialaxis\":{\"gridcolor\":\"white\",\"linecolor\":\"white\",\"ticks\":\"\"}},\"ternary\":{\"bgcolor\":\"#E5ECF6\",\"aaxis\":{\"gridcolor\":\"white\",\"linecolor\":\"white\",\"ticks\":\"\"},\"baxis\":{\"gridcolor\":\"white\",\"linecolor\":\"white\",\"ticks\":\"\"},\"caxis\":{\"gridcolor\":\"white\",\"linecolor\":\"white\",\"ticks\":\"\"}},\"coloraxis\":{\"colorbar\":{\"outlinewidth\":0,\"ticks\":\"\"}},\"colorscale\":{\"sequential\":[[0.0,\"#0d0887\"],[0.1111111111111111,\"#46039f\"],[0.2222222222222222,\"#7201a8\"],[0.3333333333333333,\"#9c179e\"],[0.4444444444444444,\"#bd3786\"],[0.5555555555555556,\"#d8576b\"],[0.6666666666666666,\"#ed7953\"],[0.7777777777777778,\"#fb9f3a\"],[0.8888888888888888,\"#fdca26\"],[1.0,\"#f0f921\"]],\"sequentialminus\":[[0.0,\"#0d0887\"],[0.1111111111111111,\"#46039f\"],[0.2222222222222222,\"#7201a8\"],[0.3333333333333333,\"#9c179e\"],[0.4444444444444444,\"#bd3786\"],[0.5555555555555556,\"#d8576b\"],[0.6666666666666666,\"#ed7953\"],[0.7777777777777778,\"#fb9f3a\"],[0.8888888888888888,\"#fdca26\"],[1.0,\"#f0f921\"]],\"diverging\":[[0,\"#8e0152\"],[0.1,\"#c51b7d\"],[0.2,\"#de77ae\"],[0.3,\"#f1b6da\"],[0.4,\"#fde0ef\"],[0.5,\"#f7f7f7\"],[0.6,\"#e6f5d0\"],[0.7,\"#b8e186\"],[0.8,\"#7fbc41\"],[0.9,\"#4d9221\"],[1,\"#276419\"]]},\"xaxis\":{\"gridcolor\":\"white\",\"linecolor\":\"white\",\"ticks\":\"\",\"title\":{\"standoff\":15},\"zerolinecolor\":\"white\",\"automargin\":true,\"zerolinewidth\":2},\"yaxis\":{\"gridcolor\":\"white\",\"linecolor\":\"white\",\"ticks\":\"\",\"title\":{\"standoff\":15},\"zerolinecolor\":\"white\",\"automargin\":true,\"zerolinewidth\":2},\"scene\":{\"xaxis\":{\"backgroundcolor\":\"#E5ECF6\",\"gridcolor\":\"white\",\"linecolor\":\"white\",\"showbackground\":true,\"ticks\":\"\",\"zerolinecolor\":\"white\",\"gridwidth\":2},\"yaxis\":{\"backgroundcolor\":\"#E5ECF6\",\"gridcolor\":\"white\",\"linecolor\":\"white\",\"showbackground\":true,\"ticks\":\"\",\"zerolinecolor\":\"white\",\"gridwidth\":2},\"zaxis\":{\"backgroundcolor\":\"#E5ECF6\",\"gridcolor\":\"white\",\"linecolor\":\"white\",\"showbackground\":true,\"ticks\":\"\",\"zerolinecolor\":\"white\",\"gridwidth\":2}},\"shapedefaults\":{\"line\":{\"color\":\"#2a3f5f\"}},\"annotationdefaults\":{\"arrowcolor\":\"#2a3f5f\",\"arrowhead\":0,\"arrowwidth\":1},\"geo\":{\"bgcolor\":\"white\",\"landcolor\":\"#E5ECF6\",\"subunitcolor\":\"white\",\"showland\":true,\"showlakes\":true,\"lakecolor\":\"white\"},\"title\":{\"x\":0.05},\"mapbox\":{\"style\":\"light\"}}},\"xaxis\":{\"anchor\":\"y\",\"domain\":[0.0,1.0],\"title\":{\"text\":\"Number of projects\"}},\"yaxis\":{\"anchor\":\"x\",\"domain\":[0.0,1.0],\"title\":{\"text\":\"Sectors\"},\"categoryorder\":\"total ascending\"},\"legend\":{\"tracegroupgap\":0},\"title\":{\"text\":\"Overview sectors\"},\"barmode\":\"relative\"},                        {\"responsive\": true}                    ).then(function(){\n",
       "                            \n",
       "var gd = document.getElementById('60dd4537-dcd1-41bc-a90b-ad27653295ae');\n",
       "var x = new MutationObserver(function (mutations, observer) {{\n",
       "        var display = window.getComputedStyle(gd).display;\n",
       "        if (!display || display === 'none') {{\n",
       "            console.log([gd, 'removed!']);\n",
       "            Plotly.purge(gd);\n",
       "            observer.disconnect();\n",
       "        }}\n",
       "}});\n",
       "\n",
       "// Listen for the removal of the full notebook cells\n",
       "var notebookContainer = gd.closest('#notebook-container');\n",
       "if (notebookContainer) {{\n",
       "    x.observe(notebookContainer, {childList: true});\n",
       "}}\n",
       "\n",
       "// Listen for the clearing of the current output cell\n",
       "var outputEl = gd.closest('.output');\n",
       "if (outputEl) {{\n",
       "    x.observe(outputEl, {childList: true});\n",
       "}}\n",
       "\n",
       "                        })                };                });            </script>        </div>"
      ]
     },
     "metadata": {},
     "output_type": "display_data"
    }
   ],
   "source": [
    "# Frequency analysis for sectors\n",
    "\n",
    "df_agg = df_kiva.groupby(\"sector\").size()\n",
    "fig = px.bar(x=df_agg, y=df_agg.index, title = 'Overview sectors')\n",
    "fig.update_layout(yaxis={'categoryorder':'total ascending'},xaxis_title = 'Number of projects', yaxis_title = 'Sectors')"
   ]
  },
  {
   "cell_type": "code",
   "execution_count": null,
   "id": "83dab37b",
   "metadata": {},
   "outputs": [
    {
     "data": {
      "application/vnd.plotly.v1+json": {
       "config": {
        "plotlyServerURL": "https://plot.ly"
       },
       "data": [
        {
         "alignmentgroup": "True",
         "hovertemplate": "x=%{x}<br>y=%{y}<extra></extra>",
         "legendgroup": "",
         "marker": {
          "color": "#636efa",
          "pattern": {
           "shape": ""
          }
         },
         "name": "",
         "offsetgroup": "",
         "orientation": "h",
         "showlegend": false,
         "textposition": "auto",
         "type": "bar",
         "x": [
          2,
          1917,
          8628,
          1905,
          123,
          497,
          1,
          8732,
          243,
          2454,
          825,
          34809,
          2227,
          9,
          133,
          21217,
          128,
          1547,
          1,
          478,
          13487,
          1639,
          39320,
          2408,
          4295,
          1,
          7234,
          3583,
          6487,
          11194,
          6203,
          989,
          182,
          4141,
          75112,
          1398,
          5773,
          1486,
          8776,
          422,
          3600,
          3818,
          1290,
          6637,
          1,
          5654,
          346,
          960,
          3467,
          1864,
          8,
          717,
          11676,
          10130,
          26853,
          8152,
          191,
          11841,
          22179,
          160361,
          67,
          6720,
          16,
          7372,
          3258,
          5296,
          554,
          75,
          377,
          124,
          219,
          19518,
          5092,
          180,
          3070,
          2676,
          5742,
          1701,
          20390,
          963,
          5928,
          4,
          10841,
          2,
          2308,
          750,
          3978
         ],
         "xaxis": "x",
         "y": [
          "Afghanistan",
          "Albania",
          "Armenia",
          "Azerbaijan",
          "Belize",
          "Benin",
          "Bhutan",
          "Bolivia",
          "Brazil",
          "Burkina Faso",
          "Burundi",
          "Cambodia",
          "Cameroon",
          "Chile",
          "China",
          "Colombia",
          "Congo",
          "Costa Rica",
          "Cote D'Ivoire",
          "Dominican Republic",
          "Ecuador",
          "Egypt",
          "El Salvador",
          "Georgia",
          "Ghana",
          "Guam",
          "Guatemala",
          "Haiti",
          "Honduras",
          "India",
          "Indonesia",
          "Iraq",
          "Israel",
          "Jordan",
          "Kenya",
          "Kosovo",
          "Kyrgyzstan",
          "Lao People's Democratic Republic",
          "Lebanon",
          "Lesotho",
          "Liberia",
          "Madagascar",
          "Malawi",
          "Mali",
          "Mauritania",
          "Mexico",
          "Moldova",
          "Mongolia",
          "Mozambique",
          "Myanmar (Burma)",
          "Namibia",
          "Nepal",
          "Nicaragua",
          "Nigeria",
          "Pakistan",
          "Palestine",
          "Panama",
          "Paraguay",
          "Peru",
          "Philippines",
          "Puerto Rico",
          "Rwanda",
          "Saint Vincent and the Grenadines",
          "Samoa",
          "Senegal",
          "Sierra Leone",
          "Solomon Islands",
          "Somalia",
          "South Africa",
          "South Sudan",
          "Suriname",
          "Tajikistan",
          "Tanzania",
          "Thailand",
          "The Democratic Republic of the Congo",
          "Timor-Leste",
          "Togo",
          "Turkey",
          "Uganda",
          "Ukraine",
          "United States",
          "Vanuatu",
          "Vietnam",
          "Virgin Islands",
          "Yemen",
          "Zambia",
          "Zimbabwe"
         ],
         "yaxis": "y"
        }
       ],
       "layout": {
        "barmode": "relative",
        "legend": {
         "tracegroupgap": 0
        },
        "template": {
         "data": {
          "bar": [
           {
            "error_x": {
             "color": "#2a3f5f"
            },
            "error_y": {
             "color": "#2a3f5f"
            },
            "marker": {
             "line": {
              "color": "#E5ECF6",
              "width": 0.5
             },
             "pattern": {
              "fillmode": "overlay",
              "size": 10,
              "solidity": 0.2
             }
            },
            "type": "bar"
           }
          ],
          "barpolar": [
           {
            "marker": {
             "line": {
              "color": "#E5ECF6",
              "width": 0.5
             },
             "pattern": {
              "fillmode": "overlay",
              "size": 10,
              "solidity": 0.2
             }
            },
            "type": "barpolar"
           }
          ],
          "carpet": [
           {
            "aaxis": {
             "endlinecolor": "#2a3f5f",
             "gridcolor": "white",
             "linecolor": "white",
             "minorgridcolor": "white",
             "startlinecolor": "#2a3f5f"
            },
            "baxis": {
             "endlinecolor": "#2a3f5f",
             "gridcolor": "white",
             "linecolor": "white",
             "minorgridcolor": "white",
             "startlinecolor": "#2a3f5f"
            },
            "type": "carpet"
           }
          ],
          "choropleth": [
           {
            "colorbar": {
             "outlinewidth": 0,
             "ticks": ""
            },
            "type": "choropleth"
           }
          ],
          "contour": [
           {
            "colorbar": {
             "outlinewidth": 0,
             "ticks": ""
            },
            "colorscale": [
             [
              0,
              "#0d0887"
             ],
             [
              0.1111111111111111,
              "#46039f"
             ],
             [
              0.2222222222222222,
              "#7201a8"
             ],
             [
              0.3333333333333333,
              "#9c179e"
             ],
             [
              0.4444444444444444,
              "#bd3786"
             ],
             [
              0.5555555555555556,
              "#d8576b"
             ],
             [
              0.6666666666666666,
              "#ed7953"
             ],
             [
              0.7777777777777778,
              "#fb9f3a"
             ],
             [
              0.8888888888888888,
              "#fdca26"
             ],
             [
              1,
              "#f0f921"
             ]
            ],
            "type": "contour"
           }
          ],
          "contourcarpet": [
           {
            "colorbar": {
             "outlinewidth": 0,
             "ticks": ""
            },
            "type": "contourcarpet"
           }
          ],
          "heatmap": [
           {
            "colorbar": {
             "outlinewidth": 0,
             "ticks": ""
            },
            "colorscale": [
             [
              0,
              "#0d0887"
             ],
             [
              0.1111111111111111,
              "#46039f"
             ],
             [
              0.2222222222222222,
              "#7201a8"
             ],
             [
              0.3333333333333333,
              "#9c179e"
             ],
             [
              0.4444444444444444,
              "#bd3786"
             ],
             [
              0.5555555555555556,
              "#d8576b"
             ],
             [
              0.6666666666666666,
              "#ed7953"
             ],
             [
              0.7777777777777778,
              "#fb9f3a"
             ],
             [
              0.8888888888888888,
              "#fdca26"
             ],
             [
              1,
              "#f0f921"
             ]
            ],
            "type": "heatmap"
           }
          ],
          "heatmapgl": [
           {
            "colorbar": {
             "outlinewidth": 0,
             "ticks": ""
            },
            "colorscale": [
             [
              0,
              "#0d0887"
             ],
             [
              0.1111111111111111,
              "#46039f"
             ],
             [
              0.2222222222222222,
              "#7201a8"
             ],
             [
              0.3333333333333333,
              "#9c179e"
             ],
             [
              0.4444444444444444,
              "#bd3786"
             ],
             [
              0.5555555555555556,
              "#d8576b"
             ],
             [
              0.6666666666666666,
              "#ed7953"
             ],
             [
              0.7777777777777778,
              "#fb9f3a"
             ],
             [
              0.8888888888888888,
              "#fdca26"
             ],
             [
              1,
              "#f0f921"
             ]
            ],
            "type": "heatmapgl"
           }
          ],
          "histogram": [
           {
            "marker": {
             "pattern": {
              "fillmode": "overlay",
              "size": 10,
              "solidity": 0.2
             }
            },
            "type": "histogram"
           }
          ],
          "histogram2d": [
           {
            "colorbar": {
             "outlinewidth": 0,
             "ticks": ""
            },
            "colorscale": [
             [
              0,
              "#0d0887"
             ],
             [
              0.1111111111111111,
              "#46039f"
             ],
             [
              0.2222222222222222,
              "#7201a8"
             ],
             [
              0.3333333333333333,
              "#9c179e"
             ],
             [
              0.4444444444444444,
              "#bd3786"
             ],
             [
              0.5555555555555556,
              "#d8576b"
             ],
             [
              0.6666666666666666,
              "#ed7953"
             ],
             [
              0.7777777777777778,
              "#fb9f3a"
             ],
             [
              0.8888888888888888,
              "#fdca26"
             ],
             [
              1,
              "#f0f921"
             ]
            ],
            "type": "histogram2d"
           }
          ],
          "histogram2dcontour": [
           {
            "colorbar": {
             "outlinewidth": 0,
             "ticks": ""
            },
            "colorscale": [
             [
              0,
              "#0d0887"
             ],
             [
              0.1111111111111111,
              "#46039f"
             ],
             [
              0.2222222222222222,
              "#7201a8"
             ],
             [
              0.3333333333333333,
              "#9c179e"
             ],
             [
              0.4444444444444444,
              "#bd3786"
             ],
             [
              0.5555555555555556,
              "#d8576b"
             ],
             [
              0.6666666666666666,
              "#ed7953"
             ],
             [
              0.7777777777777778,
              "#fb9f3a"
             ],
             [
              0.8888888888888888,
              "#fdca26"
             ],
             [
              1,
              "#f0f921"
             ]
            ],
            "type": "histogram2dcontour"
           }
          ],
          "mesh3d": [
           {
            "colorbar": {
             "outlinewidth": 0,
             "ticks": ""
            },
            "type": "mesh3d"
           }
          ],
          "parcoords": [
           {
            "line": {
             "colorbar": {
              "outlinewidth": 0,
              "ticks": ""
             }
            },
            "type": "parcoords"
           }
          ],
          "pie": [
           {
            "automargin": true,
            "type": "pie"
           }
          ],
          "scatter": [
           {
            "fillpattern": {
             "fillmode": "overlay",
             "size": 10,
             "solidity": 0.2
            },
            "type": "scatter"
           }
          ],
          "scatter3d": [
           {
            "line": {
             "colorbar": {
              "outlinewidth": 0,
              "ticks": ""
             }
            },
            "marker": {
             "colorbar": {
              "outlinewidth": 0,
              "ticks": ""
             }
            },
            "type": "scatter3d"
           }
          ],
          "scattercarpet": [
           {
            "marker": {
             "colorbar": {
              "outlinewidth": 0,
              "ticks": ""
             }
            },
            "type": "scattercarpet"
           }
          ],
          "scattergeo": [
           {
            "marker": {
             "colorbar": {
              "outlinewidth": 0,
              "ticks": ""
             }
            },
            "type": "scattergeo"
           }
          ],
          "scattergl": [
           {
            "marker": {
             "colorbar": {
              "outlinewidth": 0,
              "ticks": ""
             }
            },
            "type": "scattergl"
           }
          ],
          "scattermapbox": [
           {
            "marker": {
             "colorbar": {
              "outlinewidth": 0,
              "ticks": ""
             }
            },
            "type": "scattermapbox"
           }
          ],
          "scatterpolar": [
           {
            "marker": {
             "colorbar": {
              "outlinewidth": 0,
              "ticks": ""
             }
            },
            "type": "scatterpolar"
           }
          ],
          "scatterpolargl": [
           {
            "marker": {
             "colorbar": {
              "outlinewidth": 0,
              "ticks": ""
             }
            },
            "type": "scatterpolargl"
           }
          ],
          "scatterternary": [
           {
            "marker": {
             "colorbar": {
              "outlinewidth": 0,
              "ticks": ""
             }
            },
            "type": "scatterternary"
           }
          ],
          "surface": [
           {
            "colorbar": {
             "outlinewidth": 0,
             "ticks": ""
            },
            "colorscale": [
             [
              0,
              "#0d0887"
             ],
             [
              0.1111111111111111,
              "#46039f"
             ],
             [
              0.2222222222222222,
              "#7201a8"
             ],
             [
              0.3333333333333333,
              "#9c179e"
             ],
             [
              0.4444444444444444,
              "#bd3786"
             ],
             [
              0.5555555555555556,
              "#d8576b"
             ],
             [
              0.6666666666666666,
              "#ed7953"
             ],
             [
              0.7777777777777778,
              "#fb9f3a"
             ],
             [
              0.8888888888888888,
              "#fdca26"
             ],
             [
              1,
              "#f0f921"
             ]
            ],
            "type": "surface"
           }
          ],
          "table": [
           {
            "cells": {
             "fill": {
              "color": "#EBF0F8"
             },
             "line": {
              "color": "white"
             }
            },
            "header": {
             "fill": {
              "color": "#C8D4E3"
             },
             "line": {
              "color": "white"
             }
            },
            "type": "table"
           }
          ]
         },
         "layout": {
          "annotationdefaults": {
           "arrowcolor": "#2a3f5f",
           "arrowhead": 0,
           "arrowwidth": 1
          },
          "autotypenumbers": "strict",
          "coloraxis": {
           "colorbar": {
            "outlinewidth": 0,
            "ticks": ""
           }
          },
          "colorscale": {
           "diverging": [
            [
             0,
             "#8e0152"
            ],
            [
             0.1,
             "#c51b7d"
            ],
            [
             0.2,
             "#de77ae"
            ],
            [
             0.3,
             "#f1b6da"
            ],
            [
             0.4,
             "#fde0ef"
            ],
            [
             0.5,
             "#f7f7f7"
            ],
            [
             0.6,
             "#e6f5d0"
            ],
            [
             0.7,
             "#b8e186"
            ],
            [
             0.8,
             "#7fbc41"
            ],
            [
             0.9,
             "#4d9221"
            ],
            [
             1,
             "#276419"
            ]
           ],
           "sequential": [
            [
             0,
             "#0d0887"
            ],
            [
             0.1111111111111111,
             "#46039f"
            ],
            [
             0.2222222222222222,
             "#7201a8"
            ],
            [
             0.3333333333333333,
             "#9c179e"
            ],
            [
             0.4444444444444444,
             "#bd3786"
            ],
            [
             0.5555555555555556,
             "#d8576b"
            ],
            [
             0.6666666666666666,
             "#ed7953"
            ],
            [
             0.7777777777777778,
             "#fb9f3a"
            ],
            [
             0.8888888888888888,
             "#fdca26"
            ],
            [
             1,
             "#f0f921"
            ]
           ],
           "sequentialminus": [
            [
             0,
             "#0d0887"
            ],
            [
             0.1111111111111111,
             "#46039f"
            ],
            [
             0.2222222222222222,
             "#7201a8"
            ],
            [
             0.3333333333333333,
             "#9c179e"
            ],
            [
             0.4444444444444444,
             "#bd3786"
            ],
            [
             0.5555555555555556,
             "#d8576b"
            ],
            [
             0.6666666666666666,
             "#ed7953"
            ],
            [
             0.7777777777777778,
             "#fb9f3a"
            ],
            [
             0.8888888888888888,
             "#fdca26"
            ],
            [
             1,
             "#f0f921"
            ]
           ]
          },
          "colorway": [
           "#636efa",
           "#EF553B",
           "#00cc96",
           "#ab63fa",
           "#FFA15A",
           "#19d3f3",
           "#FF6692",
           "#B6E880",
           "#FF97FF",
           "#FECB52"
          ],
          "font": {
           "color": "#2a3f5f"
          },
          "geo": {
           "bgcolor": "white",
           "lakecolor": "white",
           "landcolor": "#E5ECF6",
           "showlakes": true,
           "showland": true,
           "subunitcolor": "white"
          },
          "hoverlabel": {
           "align": "left"
          },
          "hovermode": "closest",
          "mapbox": {
           "style": "light"
          },
          "paper_bgcolor": "white",
          "plot_bgcolor": "#E5ECF6",
          "polar": {
           "angularaxis": {
            "gridcolor": "white",
            "linecolor": "white",
            "ticks": ""
           },
           "bgcolor": "#E5ECF6",
           "radialaxis": {
            "gridcolor": "white",
            "linecolor": "white",
            "ticks": ""
           }
          },
          "scene": {
           "xaxis": {
            "backgroundcolor": "#E5ECF6",
            "gridcolor": "white",
            "gridwidth": 2,
            "linecolor": "white",
            "showbackground": true,
            "ticks": "",
            "zerolinecolor": "white"
           },
           "yaxis": {
            "backgroundcolor": "#E5ECF6",
            "gridcolor": "white",
            "gridwidth": 2,
            "linecolor": "white",
            "showbackground": true,
            "ticks": "",
            "zerolinecolor": "white"
           },
           "zaxis": {
            "backgroundcolor": "#E5ECF6",
            "gridcolor": "white",
            "gridwidth": 2,
            "linecolor": "white",
            "showbackground": true,
            "ticks": "",
            "zerolinecolor": "white"
           }
          },
          "shapedefaults": {
           "line": {
            "color": "#2a3f5f"
           }
          },
          "ternary": {
           "aaxis": {
            "gridcolor": "white",
            "linecolor": "white",
            "ticks": ""
           },
           "baxis": {
            "gridcolor": "white",
            "linecolor": "white",
            "ticks": ""
           },
           "bgcolor": "#E5ECF6",
           "caxis": {
            "gridcolor": "white",
            "linecolor": "white",
            "ticks": ""
           }
          },
          "title": {
           "x": 0.05
          },
          "xaxis": {
           "automargin": true,
           "gridcolor": "white",
           "linecolor": "white",
           "ticks": "",
           "title": {
            "standoff": 15
           },
           "zerolinecolor": "white",
           "zerolinewidth": 2
          },
          "yaxis": {
           "automargin": true,
           "gridcolor": "white",
           "linecolor": "white",
           "ticks": "",
           "title": {
            "standoff": 15
           },
           "zerolinecolor": "white",
           "zerolinewidth": 2
          }
         }
        },
        "title": {
         "text": "Overview Countries"
        },
        "xaxis": {
         "anchor": "y",
         "domain": [
          0,
          1
         ],
         "title": {
          "text": "Number of projects"
         }
        },
        "yaxis": {
         "anchor": "x",
         "categoryorder": "total ascending",
         "domain": [
          0,
          1
         ],
         "title": {
          "text": "Countries"
         }
        }
       }
      },
      "text/html": [
       "<div>                            <div id=\"08ea6eb4-d5b1-46f7-ae43-4aba53d4e384\" class=\"plotly-graph-div\" style=\"height:525px; width:100%;\"></div>            <script type=\"text/javascript\">                require([\"plotly\"], function(Plotly) {                    window.PLOTLYENV=window.PLOTLYENV || {};                                    if (document.getElementById(\"08ea6eb4-d5b1-46f7-ae43-4aba53d4e384\")) {                    Plotly.newPlot(                        \"08ea6eb4-d5b1-46f7-ae43-4aba53d4e384\",                        [{\"alignmentgroup\":\"True\",\"hovertemplate\":\"x=%{x}\\u003cbr\\u003ey=%{y}\\u003cextra\\u003e\\u003c\\u002fextra\\u003e\",\"legendgroup\":\"\",\"marker\":{\"color\":\"#636efa\",\"pattern\":{\"shape\":\"\"}},\"name\":\"\",\"offsetgroup\":\"\",\"orientation\":\"h\",\"showlegend\":false,\"textposition\":\"auto\",\"x\":[2,1917,8628,1905,123,497,1,8732,243,2454,825,34809,2227,9,133,21217,128,1547,1,478,13487,1639,39320,2408,4295,1,7234,3583,6487,11194,6203,989,182,4141,75112,1398,5773,1486,8776,422,3600,3818,1290,6637,1,5654,346,960,3467,1864,8,717,11676,10130,26853,8152,191,11841,22179,160361,67,6720,16,7372,3258,5296,554,75,377,124,219,19518,5092,180,3070,2676,5742,1701,20390,963,5928,4,10841,2,2308,750,3978],\"xaxis\":\"x\",\"y\":[\"Afghanistan\",\"Albania\",\"Armenia\",\"Azerbaijan\",\"Belize\",\"Benin\",\"Bhutan\",\"Bolivia\",\"Brazil\",\"Burkina Faso\",\"Burundi\",\"Cambodia\",\"Cameroon\",\"Chile\",\"China\",\"Colombia\",\"Congo\",\"Costa Rica\",\"Cote D'Ivoire\",\"Dominican Republic\",\"Ecuador\",\"Egypt\",\"El Salvador\",\"Georgia\",\"Ghana\",\"Guam\",\"Guatemala\",\"Haiti\",\"Honduras\",\"India\",\"Indonesia\",\"Iraq\",\"Israel\",\"Jordan\",\"Kenya\",\"Kosovo\",\"Kyrgyzstan\",\"Lao People's Democratic Republic\",\"Lebanon\",\"Lesotho\",\"Liberia\",\"Madagascar\",\"Malawi\",\"Mali\",\"Mauritania\",\"Mexico\",\"Moldova\",\"Mongolia\",\"Mozambique\",\"Myanmar (Burma)\",\"Namibia\",\"Nepal\",\"Nicaragua\",\"Nigeria\",\"Pakistan\",\"Palestine\",\"Panama\",\"Paraguay\",\"Peru\",\"Philippines\",\"Puerto Rico\",\"Rwanda\",\"Saint Vincent and the Grenadines\",\"Samoa\",\"Senegal\",\"Sierra Leone\",\"Solomon Islands\",\"Somalia\",\"South Africa\",\"South Sudan\",\"Suriname\",\"Tajikistan\",\"Tanzania\",\"Thailand\",\"The Democratic Republic of the Congo\",\"Timor-Leste\",\"Togo\",\"Turkey\",\"Uganda\",\"Ukraine\",\"United States\",\"Vanuatu\",\"Vietnam\",\"Virgin Islands\",\"Yemen\",\"Zambia\",\"Zimbabwe\"],\"yaxis\":\"y\",\"type\":\"bar\"}],                        {\"template\":{\"data\":{\"histogram2dcontour\":[{\"type\":\"histogram2dcontour\",\"colorbar\":{\"outlinewidth\":0,\"ticks\":\"\"},\"colorscale\":[[0.0,\"#0d0887\"],[0.1111111111111111,\"#46039f\"],[0.2222222222222222,\"#7201a8\"],[0.3333333333333333,\"#9c179e\"],[0.4444444444444444,\"#bd3786\"],[0.5555555555555556,\"#d8576b\"],[0.6666666666666666,\"#ed7953\"],[0.7777777777777778,\"#fb9f3a\"],[0.8888888888888888,\"#fdca26\"],[1.0,\"#f0f921\"]]}],\"choropleth\":[{\"type\":\"choropleth\",\"colorbar\":{\"outlinewidth\":0,\"ticks\":\"\"}}],\"histogram2d\":[{\"type\":\"histogram2d\",\"colorbar\":{\"outlinewidth\":0,\"ticks\":\"\"},\"colorscale\":[[0.0,\"#0d0887\"],[0.1111111111111111,\"#46039f\"],[0.2222222222222222,\"#7201a8\"],[0.3333333333333333,\"#9c179e\"],[0.4444444444444444,\"#bd3786\"],[0.5555555555555556,\"#d8576b\"],[0.6666666666666666,\"#ed7953\"],[0.7777777777777778,\"#fb9f3a\"],[0.8888888888888888,\"#fdca26\"],[1.0,\"#f0f921\"]]}],\"heatmap\":[{\"type\":\"heatmap\",\"colorbar\":{\"outlinewidth\":0,\"ticks\":\"\"},\"colorscale\":[[0.0,\"#0d0887\"],[0.1111111111111111,\"#46039f\"],[0.2222222222222222,\"#7201a8\"],[0.3333333333333333,\"#9c179e\"],[0.4444444444444444,\"#bd3786\"],[0.5555555555555556,\"#d8576b\"],[0.6666666666666666,\"#ed7953\"],[0.7777777777777778,\"#fb9f3a\"],[0.8888888888888888,\"#fdca26\"],[1.0,\"#f0f921\"]]}],\"heatmapgl\":[{\"type\":\"heatmapgl\",\"colorbar\":{\"outlinewidth\":0,\"ticks\":\"\"},\"colorscale\":[[0.0,\"#0d0887\"],[0.1111111111111111,\"#46039f\"],[0.2222222222222222,\"#7201a8\"],[0.3333333333333333,\"#9c179e\"],[0.4444444444444444,\"#bd3786\"],[0.5555555555555556,\"#d8576b\"],[0.6666666666666666,\"#ed7953\"],[0.7777777777777778,\"#fb9f3a\"],[0.8888888888888888,\"#fdca26\"],[1.0,\"#f0f921\"]]}],\"contourcarpet\":[{\"type\":\"contourcarpet\",\"colorbar\":{\"outlinewidth\":0,\"ticks\":\"\"}}],\"contour\":[{\"type\":\"contour\",\"colorbar\":{\"outlinewidth\":0,\"ticks\":\"\"},\"colorscale\":[[0.0,\"#0d0887\"],[0.1111111111111111,\"#46039f\"],[0.2222222222222222,\"#7201a8\"],[0.3333333333333333,\"#9c179e\"],[0.4444444444444444,\"#bd3786\"],[0.5555555555555556,\"#d8576b\"],[0.6666666666666666,\"#ed7953\"],[0.7777777777777778,\"#fb9f3a\"],[0.8888888888888888,\"#fdca26\"],[1.0,\"#f0f921\"]]}],\"surface\":[{\"type\":\"surface\",\"colorbar\":{\"outlinewidth\":0,\"ticks\":\"\"},\"colorscale\":[[0.0,\"#0d0887\"],[0.1111111111111111,\"#46039f\"],[0.2222222222222222,\"#7201a8\"],[0.3333333333333333,\"#9c179e\"],[0.4444444444444444,\"#bd3786\"],[0.5555555555555556,\"#d8576b\"],[0.6666666666666666,\"#ed7953\"],[0.7777777777777778,\"#fb9f3a\"],[0.8888888888888888,\"#fdca26\"],[1.0,\"#f0f921\"]]}],\"mesh3d\":[{\"type\":\"mesh3d\",\"colorbar\":{\"outlinewidth\":0,\"ticks\":\"\"}}],\"scatter\":[{\"fillpattern\":{\"fillmode\":\"overlay\",\"size\":10,\"solidity\":0.2},\"type\":\"scatter\"}],\"parcoords\":[{\"type\":\"parcoords\",\"line\":{\"colorbar\":{\"outlinewidth\":0,\"ticks\":\"\"}}}],\"scatterpolargl\":[{\"type\":\"scatterpolargl\",\"marker\":{\"colorbar\":{\"outlinewidth\":0,\"ticks\":\"\"}}}],\"bar\":[{\"error_x\":{\"color\":\"#2a3f5f\"},\"error_y\":{\"color\":\"#2a3f5f\"},\"marker\":{\"line\":{\"color\":\"#E5ECF6\",\"width\":0.5},\"pattern\":{\"fillmode\":\"overlay\",\"size\":10,\"solidity\":0.2}},\"type\":\"bar\"}],\"scattergeo\":[{\"type\":\"scattergeo\",\"marker\":{\"colorbar\":{\"outlinewidth\":0,\"ticks\":\"\"}}}],\"scatterpolar\":[{\"type\":\"scatterpolar\",\"marker\":{\"colorbar\":{\"outlinewidth\":0,\"ticks\":\"\"}}}],\"histogram\":[{\"marker\":{\"pattern\":{\"fillmode\":\"overlay\",\"size\":10,\"solidity\":0.2}},\"type\":\"histogram\"}],\"scattergl\":[{\"type\":\"scattergl\",\"marker\":{\"colorbar\":{\"outlinewidth\":0,\"ticks\":\"\"}}}],\"scatter3d\":[{\"type\":\"scatter3d\",\"line\":{\"colorbar\":{\"outlinewidth\":0,\"ticks\":\"\"}},\"marker\":{\"colorbar\":{\"outlinewidth\":0,\"ticks\":\"\"}}}],\"scattermapbox\":[{\"type\":\"scattermapbox\",\"marker\":{\"colorbar\":{\"outlinewidth\":0,\"ticks\":\"\"}}}],\"scatterternary\":[{\"type\":\"scatterternary\",\"marker\":{\"colorbar\":{\"outlinewidth\":0,\"ticks\":\"\"}}}],\"scattercarpet\":[{\"type\":\"scattercarpet\",\"marker\":{\"colorbar\":{\"outlinewidth\":0,\"ticks\":\"\"}}}],\"carpet\":[{\"aaxis\":{\"endlinecolor\":\"#2a3f5f\",\"gridcolor\":\"white\",\"linecolor\":\"white\",\"minorgridcolor\":\"white\",\"startlinecolor\":\"#2a3f5f\"},\"baxis\":{\"endlinecolor\":\"#2a3f5f\",\"gridcolor\":\"white\",\"linecolor\":\"white\",\"minorgridcolor\":\"white\",\"startlinecolor\":\"#2a3f5f\"},\"type\":\"carpet\"}],\"table\":[{\"cells\":{\"fill\":{\"color\":\"#EBF0F8\"},\"line\":{\"color\":\"white\"}},\"header\":{\"fill\":{\"color\":\"#C8D4E3\"},\"line\":{\"color\":\"white\"}},\"type\":\"table\"}],\"barpolar\":[{\"marker\":{\"line\":{\"color\":\"#E5ECF6\",\"width\":0.5},\"pattern\":{\"fillmode\":\"overlay\",\"size\":10,\"solidity\":0.2}},\"type\":\"barpolar\"}],\"pie\":[{\"automargin\":true,\"type\":\"pie\"}]},\"layout\":{\"autotypenumbers\":\"strict\",\"colorway\":[\"#636efa\",\"#EF553B\",\"#00cc96\",\"#ab63fa\",\"#FFA15A\",\"#19d3f3\",\"#FF6692\",\"#B6E880\",\"#FF97FF\",\"#FECB52\"],\"font\":{\"color\":\"#2a3f5f\"},\"hovermode\":\"closest\",\"hoverlabel\":{\"align\":\"left\"},\"paper_bgcolor\":\"white\",\"plot_bgcolor\":\"#E5ECF6\",\"polar\":{\"bgcolor\":\"#E5ECF6\",\"angularaxis\":{\"gridcolor\":\"white\",\"linecolor\":\"white\",\"ticks\":\"\"},\"radialaxis\":{\"gridcolor\":\"white\",\"linecolor\":\"white\",\"ticks\":\"\"}},\"ternary\":{\"bgcolor\":\"#E5ECF6\",\"aaxis\":{\"gridcolor\":\"white\",\"linecolor\":\"white\",\"ticks\":\"\"},\"baxis\":{\"gridcolor\":\"white\",\"linecolor\":\"white\",\"ticks\":\"\"},\"caxis\":{\"gridcolor\":\"white\",\"linecolor\":\"white\",\"ticks\":\"\"}},\"coloraxis\":{\"colorbar\":{\"outlinewidth\":0,\"ticks\":\"\"}},\"colorscale\":{\"sequential\":[[0.0,\"#0d0887\"],[0.1111111111111111,\"#46039f\"],[0.2222222222222222,\"#7201a8\"],[0.3333333333333333,\"#9c179e\"],[0.4444444444444444,\"#bd3786\"],[0.5555555555555556,\"#d8576b\"],[0.6666666666666666,\"#ed7953\"],[0.7777777777777778,\"#fb9f3a\"],[0.8888888888888888,\"#fdca26\"],[1.0,\"#f0f921\"]],\"sequentialminus\":[[0.0,\"#0d0887\"],[0.1111111111111111,\"#46039f\"],[0.2222222222222222,\"#7201a8\"],[0.3333333333333333,\"#9c179e\"],[0.4444444444444444,\"#bd3786\"],[0.5555555555555556,\"#d8576b\"],[0.6666666666666666,\"#ed7953\"],[0.7777777777777778,\"#fb9f3a\"],[0.8888888888888888,\"#fdca26\"],[1.0,\"#f0f921\"]],\"diverging\":[[0,\"#8e0152\"],[0.1,\"#c51b7d\"],[0.2,\"#de77ae\"],[0.3,\"#f1b6da\"],[0.4,\"#fde0ef\"],[0.5,\"#f7f7f7\"],[0.6,\"#e6f5d0\"],[0.7,\"#b8e186\"],[0.8,\"#7fbc41\"],[0.9,\"#4d9221\"],[1,\"#276419\"]]},\"xaxis\":{\"gridcolor\":\"white\",\"linecolor\":\"white\",\"ticks\":\"\",\"title\":{\"standoff\":15},\"zerolinecolor\":\"white\",\"automargin\":true,\"zerolinewidth\":2},\"yaxis\":{\"gridcolor\":\"white\",\"linecolor\":\"white\",\"ticks\":\"\",\"title\":{\"standoff\":15},\"zerolinecolor\":\"white\",\"automargin\":true,\"zerolinewidth\":2},\"scene\":{\"xaxis\":{\"backgroundcolor\":\"#E5ECF6\",\"gridcolor\":\"white\",\"linecolor\":\"white\",\"showbackground\":true,\"ticks\":\"\",\"zerolinecolor\":\"white\",\"gridwidth\":2},\"yaxis\":{\"backgroundcolor\":\"#E5ECF6\",\"gridcolor\":\"white\",\"linecolor\":\"white\",\"showbackground\":true,\"ticks\":\"\",\"zerolinecolor\":\"white\",\"gridwidth\":2},\"zaxis\":{\"backgroundcolor\":\"#E5ECF6\",\"gridcolor\":\"white\",\"linecolor\":\"white\",\"showbackground\":true,\"ticks\":\"\",\"zerolinecolor\":\"white\",\"gridwidth\":2}},\"shapedefaults\":{\"line\":{\"color\":\"#2a3f5f\"}},\"annotationdefaults\":{\"arrowcolor\":\"#2a3f5f\",\"arrowhead\":0,\"arrowwidth\":1},\"geo\":{\"bgcolor\":\"white\",\"landcolor\":\"#E5ECF6\",\"subunitcolor\":\"white\",\"showland\":true,\"showlakes\":true,\"lakecolor\":\"white\"},\"title\":{\"x\":0.05},\"mapbox\":{\"style\":\"light\"}}},\"xaxis\":{\"anchor\":\"y\",\"domain\":[0.0,1.0],\"title\":{\"text\":\"Number of projects\"}},\"yaxis\":{\"anchor\":\"x\",\"domain\":[0.0,1.0],\"title\":{\"text\":\"Countries\"},\"categoryorder\":\"total ascending\"},\"legend\":{\"tracegroupgap\":0},\"title\":{\"text\":\"Overview Countries\"},\"barmode\":\"relative\"},                        {\"responsive\": true}                    ).then(function(){\n",
       "                            \n",
       "var gd = document.getElementById('08ea6eb4-d5b1-46f7-ae43-4aba53d4e384');\n",
       "var x = new MutationObserver(function (mutations, observer) {{\n",
       "        var display = window.getComputedStyle(gd).display;\n",
       "        if (!display || display === 'none') {{\n",
       "            console.log([gd, 'removed!']);\n",
       "            Plotly.purge(gd);\n",
       "            observer.disconnect();\n",
       "        }}\n",
       "}});\n",
       "\n",
       "// Listen for the removal of the full notebook cells\n",
       "var notebookContainer = gd.closest('#notebook-container');\n",
       "if (notebookContainer) {{\n",
       "    x.observe(notebookContainer, {childList: true});\n",
       "}}\n",
       "\n",
       "// Listen for the clearing of the current output cell\n",
       "var outputEl = gd.closest('.output');\n",
       "if (outputEl) {{\n",
       "    x.observe(outputEl, {childList: true});\n",
       "}}\n",
       "\n",
       "                        })                };                });            </script>        </div>"
      ]
     },
     "metadata": {},
     "output_type": "display_data"
    }
   ],
   "source": [
    "# Frequency analysis for countries\n",
    "\n",
    "df_agg = df_kiva.groupby(\"country\").size()\n",
    "fig = px.bar(x = df_agg, y=df_agg.index, title = 'Overview Countries')\n",
    "fig.update_layout(yaxis={'categoryorder':'total ascending'}, xaxis_title = 'Number of projects', yaxis_title = 'Countries')"
   ]
  },
  {
   "cell_type": "markdown",
   "id": "dac23277",
   "metadata": {},
   "source": [
    "## Extracting additional information from columns and creating new KPIs"
   ]
  },
  {
   "cell_type": "code",
   "execution_count": null,
   "id": "fed98b16",
   "metadata": {
    "scrolled": true
   },
   "outputs": [
    {
     "data": {
      "text/html": [
       "<div>\n",
       "<style scoped>\n",
       "    .dataframe tbody tr th:only-of-type {\n",
       "        vertical-align: middle;\n",
       "    }\n",
       "\n",
       "    .dataframe tbody tr th {\n",
       "        vertical-align: top;\n",
       "    }\n",
       "\n",
       "    .dataframe thead th {\n",
       "        text-align: right;\n",
       "    }\n",
       "</style>\n",
       "<table border=\"1\" class=\"dataframe\">\n",
       "  <thead>\n",
       "    <tr style=\"text-align: right;\">\n",
       "      <th></th>\n",
       "      <th>funded_amount</th>\n",
       "      <th>loan_amount</th>\n",
       "      <th>activity</th>\n",
       "      <th>sector</th>\n",
       "      <th>country_code</th>\n",
       "      <th>country</th>\n",
       "      <th>currency</th>\n",
       "      <th>term_in_months</th>\n",
       "      <th>lender_count</th>\n",
       "      <th>borrower_genders</th>\n",
       "      <th>repayment_interval</th>\n",
       "      <th>number_of_borrowers</th>\n",
       "    </tr>\n",
       "  </thead>\n",
       "  <tbody>\n",
       "    <tr>\n",
       "      <th>0</th>\n",
       "      <td>300.0</td>\n",
       "      <td>300.0</td>\n",
       "      <td>Fruits &amp; Vegetables</td>\n",
       "      <td>Food</td>\n",
       "      <td>PK</td>\n",
       "      <td>Pakistan</td>\n",
       "      <td>PKR</td>\n",
       "      <td>12.0</td>\n",
       "      <td>12</td>\n",
       "      <td>female</td>\n",
       "      <td>irregular</td>\n",
       "      <td>1</td>\n",
       "    </tr>\n",
       "    <tr>\n",
       "      <th>1</th>\n",
       "      <td>575.0</td>\n",
       "      <td>575.0</td>\n",
       "      <td>Rickshaw</td>\n",
       "      <td>Transportation</td>\n",
       "      <td>PK</td>\n",
       "      <td>Pakistan</td>\n",
       "      <td>PKR</td>\n",
       "      <td>11.0</td>\n",
       "      <td>14</td>\n",
       "      <td>female, female</td>\n",
       "      <td>irregular</td>\n",
       "      <td>2</td>\n",
       "    </tr>\n",
       "    <tr>\n",
       "      <th>2</th>\n",
       "      <td>150.0</td>\n",
       "      <td>150.0</td>\n",
       "      <td>Transportation</td>\n",
       "      <td>Transportation</td>\n",
       "      <td>IN</td>\n",
       "      <td>India</td>\n",
       "      <td>INR</td>\n",
       "      <td>43.0</td>\n",
       "      <td>6</td>\n",
       "      <td>female</td>\n",
       "      <td>bullet</td>\n",
       "      <td>1</td>\n",
       "    </tr>\n",
       "    <tr>\n",
       "      <th>3</th>\n",
       "      <td>200.0</td>\n",
       "      <td>200.0</td>\n",
       "      <td>Embroidery</td>\n",
       "      <td>Arts</td>\n",
       "      <td>PK</td>\n",
       "      <td>Pakistan</td>\n",
       "      <td>PKR</td>\n",
       "      <td>11.0</td>\n",
       "      <td>8</td>\n",
       "      <td>female</td>\n",
       "      <td>irregular</td>\n",
       "      <td>1</td>\n",
       "    </tr>\n",
       "    <tr>\n",
       "      <th>4</th>\n",
       "      <td>400.0</td>\n",
       "      <td>400.0</td>\n",
       "      <td>Milk Sales</td>\n",
       "      <td>Food</td>\n",
       "      <td>PK</td>\n",
       "      <td>Pakistan</td>\n",
       "      <td>PKR</td>\n",
       "      <td>14.0</td>\n",
       "      <td>16</td>\n",
       "      <td>female</td>\n",
       "      <td>monthly</td>\n",
       "      <td>1</td>\n",
       "    </tr>\n",
       "    <tr>\n",
       "      <th>...</th>\n",
       "      <td>...</td>\n",
       "      <td>...</td>\n",
       "      <td>...</td>\n",
       "      <td>...</td>\n",
       "      <td>...</td>\n",
       "      <td>...</td>\n",
       "      <td>...</td>\n",
       "      <td>...</td>\n",
       "      <td>...</td>\n",
       "      <td>...</td>\n",
       "      <td>...</td>\n",
       "      <td>...</td>\n",
       "    </tr>\n",
       "    <tr>\n",
       "      <th>671199</th>\n",
       "      <td>0.0</td>\n",
       "      <td>25.0</td>\n",
       "      <td>Livestock</td>\n",
       "      <td>Agriculture</td>\n",
       "      <td>PY</td>\n",
       "      <td>Paraguay</td>\n",
       "      <td>USD</td>\n",
       "      <td>13.0</td>\n",
       "      <td>0</td>\n",
       "      <td>female</td>\n",
       "      <td>monthly</td>\n",
       "      <td>1</td>\n",
       "    </tr>\n",
       "    <tr>\n",
       "      <th>671200</th>\n",
       "      <td>0.0</td>\n",
       "      <td>25.0</td>\n",
       "      <td>Livestock</td>\n",
       "      <td>Agriculture</td>\n",
       "      <td>PY</td>\n",
       "      <td>Paraguay</td>\n",
       "      <td>USD</td>\n",
       "      <td>13.0</td>\n",
       "      <td>0</td>\n",
       "      <td>female</td>\n",
       "      <td>monthly</td>\n",
       "      <td>1</td>\n",
       "    </tr>\n",
       "    <tr>\n",
       "      <th>671201</th>\n",
       "      <td>25.0</td>\n",
       "      <td>25.0</td>\n",
       "      <td>Livestock</td>\n",
       "      <td>Agriculture</td>\n",
       "      <td>KE</td>\n",
       "      <td>Kenya</td>\n",
       "      <td>KES</td>\n",
       "      <td>13.0</td>\n",
       "      <td>1</td>\n",
       "      <td>female</td>\n",
       "      <td>monthly</td>\n",
       "      <td>1</td>\n",
       "    </tr>\n",
       "    <tr>\n",
       "      <th>671203</th>\n",
       "      <td>0.0</td>\n",
       "      <td>25.0</td>\n",
       "      <td>Livestock</td>\n",
       "      <td>Agriculture</td>\n",
       "      <td>KE</td>\n",
       "      <td>Kenya</td>\n",
       "      <td>KES</td>\n",
       "      <td>13.0</td>\n",
       "      <td>0</td>\n",
       "      <td>female</td>\n",
       "      <td>monthly</td>\n",
       "      <td>1</td>\n",
       "    </tr>\n",
       "    <tr>\n",
       "      <th>671204</th>\n",
       "      <td>0.0</td>\n",
       "      <td>25.0</td>\n",
       "      <td>Livestock</td>\n",
       "      <td>Agriculture</td>\n",
       "      <td>KE</td>\n",
       "      <td>Kenya</td>\n",
       "      <td>KES</td>\n",
       "      <td>13.0</td>\n",
       "      <td>0</td>\n",
       "      <td>female</td>\n",
       "      <td>monthly</td>\n",
       "      <td>1</td>\n",
       "    </tr>\n",
       "  </tbody>\n",
       "</table>\n",
       "<p>666972 rows × 12 columns</p>\n",
       "</div>"
      ],
      "text/plain": [
       "        funded_amount  loan_amount             activity          sector   \n",
       "0               300.0        300.0  Fruits & Vegetables            Food  \\\n",
       "1               575.0        575.0             Rickshaw  Transportation   \n",
       "2               150.0        150.0       Transportation  Transportation   \n",
       "3               200.0        200.0           Embroidery            Arts   \n",
       "4               400.0        400.0           Milk Sales            Food   \n",
       "...               ...          ...                  ...             ...   \n",
       "671199            0.0         25.0            Livestock     Agriculture   \n",
       "671200            0.0         25.0            Livestock     Agriculture   \n",
       "671201           25.0         25.0            Livestock     Agriculture   \n",
       "671203            0.0         25.0            Livestock     Agriculture   \n",
       "671204            0.0         25.0            Livestock     Agriculture   \n",
       "\n",
       "       country_code   country currency  term_in_months  lender_count   \n",
       "0                PK  Pakistan      PKR            12.0            12  \\\n",
       "1                PK  Pakistan      PKR            11.0            14   \n",
       "2                IN     India      INR            43.0             6   \n",
       "3                PK  Pakistan      PKR            11.0             8   \n",
       "4                PK  Pakistan      PKR            14.0            16   \n",
       "...             ...       ...      ...             ...           ...   \n",
       "671199           PY  Paraguay      USD            13.0             0   \n",
       "671200           PY  Paraguay      USD            13.0             0   \n",
       "671201           KE     Kenya      KES            13.0             1   \n",
       "671203           KE     Kenya      KES            13.0             0   \n",
       "671204           KE     Kenya      KES            13.0             0   \n",
       "\n",
       "       borrower_genders repayment_interval  number_of_borrowers  \n",
       "0                female          irregular                    1  \n",
       "1        female, female          irregular                    2  \n",
       "2                female             bullet                    1  \n",
       "3                female          irregular                    1  \n",
       "4                female            monthly                    1  \n",
       "...                 ...                ...                  ...  \n",
       "671199           female            monthly                    1  \n",
       "671200           female            monthly                    1  \n",
       "671201           female            monthly                    1  \n",
       "671203           female            monthly                    1  \n",
       "671204           female            monthly                    1  \n",
       "\n",
       "[666972 rows x 12 columns]"
      ]
     },
     "execution_count": 23,
     "metadata": {},
     "output_type": "execute_result"
    }
   ],
   "source": [
    "# Generating the column number of borrowers\n",
    "\n",
    "df_kiva['number_of_borrowers'] = df_kiva.borrower_genders.apply(lambda x: len(str(x).split(' ')))\n",
    "df_kiva\n"
   ]
  },
  {
   "cell_type": "code",
   "execution_count": null,
   "id": "22df02fa",
   "metadata": {},
   "outputs": [],
   "source": [
    "#Generating superordinate gender\n",
    "df_kiva['gender_of_borrowers'] = df_kiva.borrower_genders.apply(lambda x: str(pd.Series(str(x).split(', ')).unique()))"
   ]
  },
  {
   "cell_type": "code",
   "execution_count": null,
   "id": "2fd2cbe1",
   "metadata": {},
   "outputs": [],
   "source": [
    "#Editing new column further\n",
    "df_kiva.loc[((df_kiva.loc[:,'gender_of_borrowers'] == \"['female' 'male']\") | (df_kiva.loc[:,'gender_of_borrowers'] == \"['male' 'female']\"), 'gender_of_borrowers')] = 'mixed'\n",
    "df_kiva.loc[(df_kiva.loc[:,'gender_of_borrowers'] == \"['female']\"), 'gender_of_borrowers'] = 'female'\n",
    "df_kiva.loc[(df_kiva.loc[:,'gender_of_borrowers'] == \"['male']\"), 'gender_of_borrowers'] = 'male'"
   ]
  },
  {
   "cell_type": "code",
   "execution_count": null,
   "id": "95b2bbcc",
   "metadata": {},
   "outputs": [],
   "source": [
    "#Fixing country code issues with new library\n",
    "\n",
    "import pycountry_convert as pc\n",
    "\n",
    "def country_to_continent(country_name):\n",
    "    #In der Bibliothek gab es einen Bug mit einer Fehlermeldung zu TL als Country-Code, möglicherweise mehr\n",
    "    try:\n",
    "        country_alpha2 = pc.country_name_to_country_alpha2(country_name)\n",
    "        country_continent_code = pc.country_alpha2_to_continent_code(country_alpha2)\n",
    "        country_continent_name = pc.convert_continent_code_to_continent_name(country_continent_code)\n",
    "    except: \n",
    "        country_continent_name = 'please check' \n",
    "    return country_continent_name\n"
   ]
  },
  {
   "cell_type": "code",
   "execution_count": null,
   "id": "f428f211",
   "metadata": {},
   "outputs": [],
   "source": [
    "#Adding continent to countries\n",
    "df_kiva['continent'] = df_kiva.country.apply(lambda x: country_to_continent(x))"
   ]
  },
  {
   "cell_type": "code",
   "execution_count": null,
   "id": "26502bce",
   "metadata": {},
   "outputs": [
    {
     "data": {
      "text/plain": [
       "array(['Timor-Leste', 'Kosovo', 'The Democratic Republic of the Congo',\n",
       "       'Virgin Islands', 'Myanmar (Burma)', \"Cote D'Ivoire\"], dtype=object)"
      ]
     },
     "execution_count": 29,
     "metadata": {},
     "output_type": "execute_result"
    }
   ],
   "source": [
    "#Checking for problems\n",
    "df_kiva.loc[(df_kiva.loc[:,'continent']=='please check')]['country'].unique()"
   ]
  },
  {
   "cell_type": "code",
   "execution_count": null,
   "id": "f451d90c",
   "metadata": {},
   "outputs": [],
   "source": [
    "# Manually fixing problems\n",
    "\n",
    "df_kiva.loc[((df_kiva.loc[:,'country'] == 'The Democratic Republic of the Congo') | (df_kiva.loc[:,'country'] == \"Cote D'Ivoire\"), 'continent')] = 'Africa'\n",
    "df_kiva.loc[(df_kiva.loc[:,'country'] == \"Kosovo\"), 'continent'] = 'Europe'\n",
    "df_kiva.loc[((df_kiva.loc[:,'country'] == 'Timor-Leste') | (df_kiva.loc[:,'country'] == \"Myanmar (Burma)\"), 'continent')] = 'Asia'\n",
    "df_kiva.loc[(df_kiva.loc[:,'country'] == 'Virgin Islands'), 'continent'] = 'North America'\n",
    "             \n"
   ]
  },
  {
   "cell_type": "markdown",
   "id": "3f78cfa8",
   "metadata": {},
   "source": [
    "## Adding more KPIs\n"
   ]
  },
  {
   "cell_type": "code",
   "execution_count": null,
   "id": "3257dea8",
   "metadata": {},
   "outputs": [],
   "source": [
    "# percentage_of_credit_goal_funded = Funded_Amount / Loan_Amount * 100\n",
    "df_kiva['percentage_of_credit_goal_funded'] = df_kiva.funded_amount / df_kiva.loan_amount * 100\n"
   ]
  },
  {
   "cell_type": "code",
   "execution_count": null,
   "id": "f406b817",
   "metadata": {},
   "outputs": [],
   "source": [
    "# mean_investment_given_per_lender = Funded_Amount / Lender_Count\n",
    "df_kiva['mean_investment_given_per_lender'] = df_kiva.funded_amount / df_kiva.lender_count\n",
    "\n",
    "# Filling in 0 for NaNs\n",
    "df_kiva.loc[(df_kiva.loc[:,'mean_investment_given_per_lender'].isnull()), 'mean_investment_given_per_lender'] = 0\n"
   ]
  },
  {
   "cell_type": "code",
   "execution_count": null,
   "id": "28fbb705",
   "metadata": {},
   "outputs": [],
   "source": [
    "# ean_investment_received_per_borrower = Funded_Amount / Number_of_Borrowers\n",
    "df_kiva['mean_investment_received_per_borrower'] = df_kiva.funded_amount / df_kiva.number_of_borrowers"
   ]
  },
  {
   "cell_type": "code",
   "execution_count": null,
   "id": "f3a13b68",
   "metadata": {},
   "outputs": [],
   "source": [
    "# mean_credit_goal_per_borrower = Loan_Amount / Number_of_Borrowers\n",
    "df_kiva['mean_credit_goal_per_borrower'] = df_kiva.loan_amount / df_kiva.number_of_borrowers"
   ]
  },
  {
   "cell_type": "code",
   "execution_count": null,
   "id": "40e81a63",
   "metadata": {},
   "outputs": [],
   "source": [
    "# mean_total_credit_rates_per_month = Funded_Amount / Term in month\n",
    "df_kiva['mean_total_credit_rates_per_month'] = df_kiva.funded_amount / df_kiva.term_in_months"
   ]
  },
  {
   "cell_type": "code",
   "execution_count": null,
   "id": "dfd7b9db",
   "metadata": {},
   "outputs": [],
   "source": [
    "# mean_total_credit_rates_per_month_per_person = Funded_Amount / Term in month / Number_of_Borrowers\n",
    "df_kiva['mean_total_credit_rates_per_month_per_person'] = df_kiva.funded_amount / df_kiva.term_in_months / df_kiva.number_of_borrowers"
   ]
  },
  {
   "cell_type": "markdown",
   "id": "52d2d634",
   "metadata": {},
   "source": [
    "### Kategorization of data"
   ]
  },
  {
   "cell_type": "code",
   "execution_count": null,
   "id": "1ed74640",
   "metadata": {},
   "outputs": [
    {
     "data": {
      "application/vnd.plotly.v1+json": {
       "config": {
        "plotlyServerURL": "https://plot.ly"
       },
       "data": [
        {
         "alignmentgroup": "True",
         "hovertemplate": "x=%{x}<br>y=%{y}<extra></extra>",
         "legendgroup": "",
         "marker": {
          "color": "#636efa",
          "pattern": {
           "shape": ""
          }
         },
         "name": "",
         "offsetgroup": "",
         "orientation": "v",
         "showlegend": false,
         "textposition": "auto",
         "type": "bar",
         "x": [
          0,
          1,
          2,
          3,
          4,
          5,
          6,
          7,
          8,
          9,
          10,
          11,
          12,
          13,
          14,
          15,
          16,
          17,
          18,
          19,
          20,
          21,
          22,
          23,
          24,
          25,
          26,
          27,
          28,
          29,
          30,
          31,
          32,
          33,
          34,
          35,
          36,
          37,
          38,
          39,
          40,
          41,
          42,
          43,
          44,
          45,
          46,
          47,
          48,
          49
         ],
         "xaxis": "x",
         "y": [
          561203,
          16211,
          16200,
          13547,
          13486,
          4982,
          4040,
          5431,
          3643,
          5168,
          2823,
          2426,
          1965,
          1616,
          2347,
          1674,
          2049,
          1303,
          993,
          1062,
          643,
          561,
          533,
          433,
          517,
          313,
          258,
          246,
          188,
          229,
          138,
          106,
          101,
          77,
          72,
          59,
          71,
          45,
          25,
          38,
          32,
          25,
          22,
          12,
          12,
          4,
          3,
          5,
          4,
          31
         ],
         "yaxis": "y"
        }
       ],
       "layout": {
        "barmode": "relative",
        "legend": {
         "tracegroupgap": 0
        },
        "margin": {
         "t": 60
        },
        "shapes": [
         {
          "type": "line",
          "x0": 0.5,
          "x1": 0.5,
          "xref": "x",
          "y0": 0,
          "y1": 1,
          "yref": "y domain"
         },
         {
          "type": "line",
          "x0": 4.5,
          "x1": 4.5,
          "xref": "x",
          "y0": 0,
          "y1": 1,
          "yref": "y domain"
         },
         {
          "type": "line",
          "x0": 9.5,
          "x1": 9.5,
          "xref": "x",
          "y0": 0,
          "y1": 1,
          "yref": "y domain"
         }
        ],
        "template": {
         "data": {
          "bar": [
           {
            "error_x": {
             "color": "#2a3f5f"
            },
            "error_y": {
             "color": "#2a3f5f"
            },
            "marker": {
             "line": {
              "color": "#E5ECF6",
              "width": 0.5
             },
             "pattern": {
              "fillmode": "overlay",
              "size": 10,
              "solidity": 0.2
             }
            },
            "type": "bar"
           }
          ],
          "barpolar": [
           {
            "marker": {
             "line": {
              "color": "#E5ECF6",
              "width": 0.5
             },
             "pattern": {
              "fillmode": "overlay",
              "size": 10,
              "solidity": 0.2
             }
            },
            "type": "barpolar"
           }
          ],
          "carpet": [
           {
            "aaxis": {
             "endlinecolor": "#2a3f5f",
             "gridcolor": "white",
             "linecolor": "white",
             "minorgridcolor": "white",
             "startlinecolor": "#2a3f5f"
            },
            "baxis": {
             "endlinecolor": "#2a3f5f",
             "gridcolor": "white",
             "linecolor": "white",
             "minorgridcolor": "white",
             "startlinecolor": "#2a3f5f"
            },
            "type": "carpet"
           }
          ],
          "choropleth": [
           {
            "colorbar": {
             "outlinewidth": 0,
             "ticks": ""
            },
            "type": "choropleth"
           }
          ],
          "contour": [
           {
            "colorbar": {
             "outlinewidth": 0,
             "ticks": ""
            },
            "colorscale": [
             [
              0,
              "#0d0887"
             ],
             [
              0.1111111111111111,
              "#46039f"
             ],
             [
              0.2222222222222222,
              "#7201a8"
             ],
             [
              0.3333333333333333,
              "#9c179e"
             ],
             [
              0.4444444444444444,
              "#bd3786"
             ],
             [
              0.5555555555555556,
              "#d8576b"
             ],
             [
              0.6666666666666666,
              "#ed7953"
             ],
             [
              0.7777777777777778,
              "#fb9f3a"
             ],
             [
              0.8888888888888888,
              "#fdca26"
             ],
             [
              1,
              "#f0f921"
             ]
            ],
            "type": "contour"
           }
          ],
          "contourcarpet": [
           {
            "colorbar": {
             "outlinewidth": 0,
             "ticks": ""
            },
            "type": "contourcarpet"
           }
          ],
          "heatmap": [
           {
            "colorbar": {
             "outlinewidth": 0,
             "ticks": ""
            },
            "colorscale": [
             [
              0,
              "#0d0887"
             ],
             [
              0.1111111111111111,
              "#46039f"
             ],
             [
              0.2222222222222222,
              "#7201a8"
             ],
             [
              0.3333333333333333,
              "#9c179e"
             ],
             [
              0.4444444444444444,
              "#bd3786"
             ],
             [
              0.5555555555555556,
              "#d8576b"
             ],
             [
              0.6666666666666666,
              "#ed7953"
             ],
             [
              0.7777777777777778,
              "#fb9f3a"
             ],
             [
              0.8888888888888888,
              "#fdca26"
             ],
             [
              1,
              "#f0f921"
             ]
            ],
            "type": "heatmap"
           }
          ],
          "heatmapgl": [
           {
            "colorbar": {
             "outlinewidth": 0,
             "ticks": ""
            },
            "colorscale": [
             [
              0,
              "#0d0887"
             ],
             [
              0.1111111111111111,
              "#46039f"
             ],
             [
              0.2222222222222222,
              "#7201a8"
             ],
             [
              0.3333333333333333,
              "#9c179e"
             ],
             [
              0.4444444444444444,
              "#bd3786"
             ],
             [
              0.5555555555555556,
              "#d8576b"
             ],
             [
              0.6666666666666666,
              "#ed7953"
             ],
             [
              0.7777777777777778,
              "#fb9f3a"
             ],
             [
              0.8888888888888888,
              "#fdca26"
             ],
             [
              1,
              "#f0f921"
             ]
            ],
            "type": "heatmapgl"
           }
          ],
          "histogram": [
           {
            "marker": {
             "pattern": {
              "fillmode": "overlay",
              "size": 10,
              "solidity": 0.2
             }
            },
            "type": "histogram"
           }
          ],
          "histogram2d": [
           {
            "colorbar": {
             "outlinewidth": 0,
             "ticks": ""
            },
            "colorscale": [
             [
              0,
              "#0d0887"
             ],
             [
              0.1111111111111111,
              "#46039f"
             ],
             [
              0.2222222222222222,
              "#7201a8"
             ],
             [
              0.3333333333333333,
              "#9c179e"
             ],
             [
              0.4444444444444444,
              "#bd3786"
             ],
             [
              0.5555555555555556,
              "#d8576b"
             ],
             [
              0.6666666666666666,
              "#ed7953"
             ],
             [
              0.7777777777777778,
              "#fb9f3a"
             ],
             [
              0.8888888888888888,
              "#fdca26"
             ],
             [
              1,
              "#f0f921"
             ]
            ],
            "type": "histogram2d"
           }
          ],
          "histogram2dcontour": [
           {
            "colorbar": {
             "outlinewidth": 0,
             "ticks": ""
            },
            "colorscale": [
             [
              0,
              "#0d0887"
             ],
             [
              0.1111111111111111,
              "#46039f"
             ],
             [
              0.2222222222222222,
              "#7201a8"
             ],
             [
              0.3333333333333333,
              "#9c179e"
             ],
             [
              0.4444444444444444,
              "#bd3786"
             ],
             [
              0.5555555555555556,
              "#d8576b"
             ],
             [
              0.6666666666666666,
              "#ed7953"
             ],
             [
              0.7777777777777778,
              "#fb9f3a"
             ],
             [
              0.8888888888888888,
              "#fdca26"
             ],
             [
              1,
              "#f0f921"
             ]
            ],
            "type": "histogram2dcontour"
           }
          ],
          "mesh3d": [
           {
            "colorbar": {
             "outlinewidth": 0,
             "ticks": ""
            },
            "type": "mesh3d"
           }
          ],
          "parcoords": [
           {
            "line": {
             "colorbar": {
              "outlinewidth": 0,
              "ticks": ""
             }
            },
            "type": "parcoords"
           }
          ],
          "pie": [
           {
            "automargin": true,
            "type": "pie"
           }
          ],
          "scatter": [
           {
            "fillpattern": {
             "fillmode": "overlay",
             "size": 10,
             "solidity": 0.2
            },
            "type": "scatter"
           }
          ],
          "scatter3d": [
           {
            "line": {
             "colorbar": {
              "outlinewidth": 0,
              "ticks": ""
             }
            },
            "marker": {
             "colorbar": {
              "outlinewidth": 0,
              "ticks": ""
             }
            },
            "type": "scatter3d"
           }
          ],
          "scattercarpet": [
           {
            "marker": {
             "colorbar": {
              "outlinewidth": 0,
              "ticks": ""
             }
            },
            "type": "scattercarpet"
           }
          ],
          "scattergeo": [
           {
            "marker": {
             "colorbar": {
              "outlinewidth": 0,
              "ticks": ""
             }
            },
            "type": "scattergeo"
           }
          ],
          "scattergl": [
           {
            "marker": {
             "colorbar": {
              "outlinewidth": 0,
              "ticks": ""
             }
            },
            "type": "scattergl"
           }
          ],
          "scattermapbox": [
           {
            "marker": {
             "colorbar": {
              "outlinewidth": 0,
              "ticks": ""
             }
            },
            "type": "scattermapbox"
           }
          ],
          "scatterpolar": [
           {
            "marker": {
             "colorbar": {
              "outlinewidth": 0,
              "ticks": ""
             }
            },
            "type": "scatterpolar"
           }
          ],
          "scatterpolargl": [
           {
            "marker": {
             "colorbar": {
              "outlinewidth": 0,
              "ticks": ""
             }
            },
            "type": "scatterpolargl"
           }
          ],
          "scatterternary": [
           {
            "marker": {
             "colorbar": {
              "outlinewidth": 0,
              "ticks": ""
             }
            },
            "type": "scatterternary"
           }
          ],
          "surface": [
           {
            "colorbar": {
             "outlinewidth": 0,
             "ticks": ""
            },
            "colorscale": [
             [
              0,
              "#0d0887"
             ],
             [
              0.1111111111111111,
              "#46039f"
             ],
             [
              0.2222222222222222,
              "#7201a8"
             ],
             [
              0.3333333333333333,
              "#9c179e"
             ],
             [
              0.4444444444444444,
              "#bd3786"
             ],
             [
              0.5555555555555556,
              "#d8576b"
             ],
             [
              0.6666666666666666,
              "#ed7953"
             ],
             [
              0.7777777777777778,
              "#fb9f3a"
             ],
             [
              0.8888888888888888,
              "#fdca26"
             ],
             [
              1,
              "#f0f921"
             ]
            ],
            "type": "surface"
           }
          ],
          "table": [
           {
            "cells": {
             "fill": {
              "color": "#EBF0F8"
             },
             "line": {
              "color": "white"
             }
            },
            "header": {
             "fill": {
              "color": "#C8D4E3"
             },
             "line": {
              "color": "white"
             }
            },
            "type": "table"
           }
          ]
         },
         "layout": {
          "annotationdefaults": {
           "arrowcolor": "#2a3f5f",
           "arrowhead": 0,
           "arrowwidth": 1
          },
          "autotypenumbers": "strict",
          "coloraxis": {
           "colorbar": {
            "outlinewidth": 0,
            "ticks": ""
           }
          },
          "colorscale": {
           "diverging": [
            [
             0,
             "#8e0152"
            ],
            [
             0.1,
             "#c51b7d"
            ],
            [
             0.2,
             "#de77ae"
            ],
            [
             0.3,
             "#f1b6da"
            ],
            [
             0.4,
             "#fde0ef"
            ],
            [
             0.5,
             "#f7f7f7"
            ],
            [
             0.6,
             "#e6f5d0"
            ],
            [
             0.7,
             "#b8e186"
            ],
            [
             0.8,
             "#7fbc41"
            ],
            [
             0.9,
             "#4d9221"
            ],
            [
             1,
             "#276419"
            ]
           ],
           "sequential": [
            [
             0,
             "#0d0887"
            ],
            [
             0.1111111111111111,
             "#46039f"
            ],
            [
             0.2222222222222222,
             "#7201a8"
            ],
            [
             0.3333333333333333,
             "#9c179e"
            ],
            [
             0.4444444444444444,
             "#bd3786"
            ],
            [
             0.5555555555555556,
             "#d8576b"
            ],
            [
             0.6666666666666666,
             "#ed7953"
            ],
            [
             0.7777777777777778,
             "#fb9f3a"
            ],
            [
             0.8888888888888888,
             "#fdca26"
            ],
            [
             1,
             "#f0f921"
            ]
           ],
           "sequentialminus": [
            [
             0,
             "#0d0887"
            ],
            [
             0.1111111111111111,
             "#46039f"
            ],
            [
             0.2222222222222222,
             "#7201a8"
            ],
            [
             0.3333333333333333,
             "#9c179e"
            ],
            [
             0.4444444444444444,
             "#bd3786"
            ],
            [
             0.5555555555555556,
             "#d8576b"
            ],
            [
             0.6666666666666666,
             "#ed7953"
            ],
            [
             0.7777777777777778,
             "#fb9f3a"
            ],
            [
             0.8888888888888888,
             "#fdca26"
            ],
            [
             1,
             "#f0f921"
            ]
           ]
          },
          "colorway": [
           "#636efa",
           "#EF553B",
           "#00cc96",
           "#ab63fa",
           "#FFA15A",
           "#19d3f3",
           "#FF6692",
           "#B6E880",
           "#FF97FF",
           "#FECB52"
          ],
          "font": {
           "color": "#2a3f5f"
          },
          "geo": {
           "bgcolor": "white",
           "lakecolor": "white",
           "landcolor": "#E5ECF6",
           "showlakes": true,
           "showland": true,
           "subunitcolor": "white"
          },
          "hoverlabel": {
           "align": "left"
          },
          "hovermode": "closest",
          "mapbox": {
           "style": "light"
          },
          "paper_bgcolor": "white",
          "plot_bgcolor": "#E5ECF6",
          "polar": {
           "angularaxis": {
            "gridcolor": "white",
            "linecolor": "white",
            "ticks": ""
           },
           "bgcolor": "#E5ECF6",
           "radialaxis": {
            "gridcolor": "white",
            "linecolor": "white",
            "ticks": ""
           }
          },
          "scene": {
           "xaxis": {
            "backgroundcolor": "#E5ECF6",
            "gridcolor": "white",
            "gridwidth": 2,
            "linecolor": "white",
            "showbackground": true,
            "ticks": "",
            "zerolinecolor": "white"
           },
           "yaxis": {
            "backgroundcolor": "#E5ECF6",
            "gridcolor": "white",
            "gridwidth": 2,
            "linecolor": "white",
            "showbackground": true,
            "ticks": "",
            "zerolinecolor": "white"
           },
           "zaxis": {
            "backgroundcolor": "#E5ECF6",
            "gridcolor": "white",
            "gridwidth": 2,
            "linecolor": "white",
            "showbackground": true,
            "ticks": "",
            "zerolinecolor": "white"
           }
          },
          "shapedefaults": {
           "line": {
            "color": "#2a3f5f"
           }
          },
          "ternary": {
           "aaxis": {
            "gridcolor": "white",
            "linecolor": "white",
            "ticks": ""
           },
           "baxis": {
            "gridcolor": "white",
            "linecolor": "white",
            "ticks": ""
           },
           "bgcolor": "#E5ECF6",
           "caxis": {
            "gridcolor": "white",
            "linecolor": "white",
            "ticks": ""
           }
          },
          "title": {
           "x": 0.05
          },
          "xaxis": {
           "automargin": true,
           "gridcolor": "white",
           "linecolor": "white",
           "ticks": "",
           "title": {
            "standoff": 15
           },
           "zerolinecolor": "white",
           "zerolinewidth": 2
          },
          "yaxis": {
           "automargin": true,
           "gridcolor": "white",
           "linecolor": "white",
           "ticks": "",
           "title": {
            "standoff": 15
           },
           "zerolinecolor": "white",
           "zerolinewidth": 2
          }
         }
        },
        "xaxis": {
         "anchor": "y",
         "domain": [
          0,
          1
         ],
         "title": {
          "text": "Number of borrowers"
         }
        },
        "yaxis": {
         "anchor": "x",
         "domain": [
          0,
          1
         ],
         "title": {
          "text": "Number of projects"
         },
         "type": "log"
        }
       }
      },
      "text/html": [
       "<div>                            <div id=\"b848578c-2e92-4949-a129-ab827d669c6f\" class=\"plotly-graph-div\" style=\"height:525px; width:100%;\"></div>            <script type=\"text/javascript\">                require([\"plotly\"], function(Plotly) {                    window.PLOTLYENV=window.PLOTLYENV || {};                                    if (document.getElementById(\"b848578c-2e92-4949-a129-ab827d669c6f\")) {                    Plotly.newPlot(                        \"b848578c-2e92-4949-a129-ab827d669c6f\",                        [{\"alignmentgroup\":\"True\",\"hovertemplate\":\"x=%{x}\\u003cbr\\u003ey=%{y}\\u003cextra\\u003e\\u003c\\u002fextra\\u003e\",\"legendgroup\":\"\",\"marker\":{\"color\":\"#636efa\",\"pattern\":{\"shape\":\"\"}},\"name\":\"\",\"offsetgroup\":\"\",\"orientation\":\"v\",\"showlegend\":false,\"textposition\":\"auto\",\"x\":[0,1,2,3,4,5,6,7,8,9,10,11,12,13,14,15,16,17,18,19,20,21,22,23,24,25,26,27,28,29,30,31,32,33,34,35,36,37,38,39,40,41,42,43,44,45,46,47,48,49],\"xaxis\":\"x\",\"y\":[561203,16211,16200,13547,13486,4982,4040,5431,3643,5168,2823,2426,1965,1616,2347,1674,2049,1303,993,1062,643,561,533,433,517,313,258,246,188,229,138,106,101,77,72,59,71,45,25,38,32,25,22,12,12,4,3,5,4,31],\"yaxis\":\"y\",\"type\":\"bar\"}],                        {\"template\":{\"data\":{\"histogram2dcontour\":[{\"type\":\"histogram2dcontour\",\"colorbar\":{\"outlinewidth\":0,\"ticks\":\"\"},\"colorscale\":[[0.0,\"#0d0887\"],[0.1111111111111111,\"#46039f\"],[0.2222222222222222,\"#7201a8\"],[0.3333333333333333,\"#9c179e\"],[0.4444444444444444,\"#bd3786\"],[0.5555555555555556,\"#d8576b\"],[0.6666666666666666,\"#ed7953\"],[0.7777777777777778,\"#fb9f3a\"],[0.8888888888888888,\"#fdca26\"],[1.0,\"#f0f921\"]]}],\"choropleth\":[{\"type\":\"choropleth\",\"colorbar\":{\"outlinewidth\":0,\"ticks\":\"\"}}],\"histogram2d\":[{\"type\":\"histogram2d\",\"colorbar\":{\"outlinewidth\":0,\"ticks\":\"\"},\"colorscale\":[[0.0,\"#0d0887\"],[0.1111111111111111,\"#46039f\"],[0.2222222222222222,\"#7201a8\"],[0.3333333333333333,\"#9c179e\"],[0.4444444444444444,\"#bd3786\"],[0.5555555555555556,\"#d8576b\"],[0.6666666666666666,\"#ed7953\"],[0.7777777777777778,\"#fb9f3a\"],[0.8888888888888888,\"#fdca26\"],[1.0,\"#f0f921\"]]}],\"heatmap\":[{\"type\":\"heatmap\",\"colorbar\":{\"outlinewidth\":0,\"ticks\":\"\"},\"colorscale\":[[0.0,\"#0d0887\"],[0.1111111111111111,\"#46039f\"],[0.2222222222222222,\"#7201a8\"],[0.3333333333333333,\"#9c179e\"],[0.4444444444444444,\"#bd3786\"],[0.5555555555555556,\"#d8576b\"],[0.6666666666666666,\"#ed7953\"],[0.7777777777777778,\"#fb9f3a\"],[0.8888888888888888,\"#fdca26\"],[1.0,\"#f0f921\"]]}],\"heatmapgl\":[{\"type\":\"heatmapgl\",\"colorbar\":{\"outlinewidth\":0,\"ticks\":\"\"},\"colorscale\":[[0.0,\"#0d0887\"],[0.1111111111111111,\"#46039f\"],[0.2222222222222222,\"#7201a8\"],[0.3333333333333333,\"#9c179e\"],[0.4444444444444444,\"#bd3786\"],[0.5555555555555556,\"#d8576b\"],[0.6666666666666666,\"#ed7953\"],[0.7777777777777778,\"#fb9f3a\"],[0.8888888888888888,\"#fdca26\"],[1.0,\"#f0f921\"]]}],\"contourcarpet\":[{\"type\":\"contourcarpet\",\"colorbar\":{\"outlinewidth\":0,\"ticks\":\"\"}}],\"contour\":[{\"type\":\"contour\",\"colorbar\":{\"outlinewidth\":0,\"ticks\":\"\"},\"colorscale\":[[0.0,\"#0d0887\"],[0.1111111111111111,\"#46039f\"],[0.2222222222222222,\"#7201a8\"],[0.3333333333333333,\"#9c179e\"],[0.4444444444444444,\"#bd3786\"],[0.5555555555555556,\"#d8576b\"],[0.6666666666666666,\"#ed7953\"],[0.7777777777777778,\"#fb9f3a\"],[0.8888888888888888,\"#fdca26\"],[1.0,\"#f0f921\"]]}],\"surface\":[{\"type\":\"surface\",\"colorbar\":{\"outlinewidth\":0,\"ticks\":\"\"},\"colorscale\":[[0.0,\"#0d0887\"],[0.1111111111111111,\"#46039f\"],[0.2222222222222222,\"#7201a8\"],[0.3333333333333333,\"#9c179e\"],[0.4444444444444444,\"#bd3786\"],[0.5555555555555556,\"#d8576b\"],[0.6666666666666666,\"#ed7953\"],[0.7777777777777778,\"#fb9f3a\"],[0.8888888888888888,\"#fdca26\"],[1.0,\"#f0f921\"]]}],\"mesh3d\":[{\"type\":\"mesh3d\",\"colorbar\":{\"outlinewidth\":0,\"ticks\":\"\"}}],\"scatter\":[{\"fillpattern\":{\"fillmode\":\"overlay\",\"size\":10,\"solidity\":0.2},\"type\":\"scatter\"}],\"parcoords\":[{\"type\":\"parcoords\",\"line\":{\"colorbar\":{\"outlinewidth\":0,\"ticks\":\"\"}}}],\"scatterpolargl\":[{\"type\":\"scatterpolargl\",\"marker\":{\"colorbar\":{\"outlinewidth\":0,\"ticks\":\"\"}}}],\"bar\":[{\"error_x\":{\"color\":\"#2a3f5f\"},\"error_y\":{\"color\":\"#2a3f5f\"},\"marker\":{\"line\":{\"color\":\"#E5ECF6\",\"width\":0.5},\"pattern\":{\"fillmode\":\"overlay\",\"size\":10,\"solidity\":0.2}},\"type\":\"bar\"}],\"scattergeo\":[{\"type\":\"scattergeo\",\"marker\":{\"colorbar\":{\"outlinewidth\":0,\"ticks\":\"\"}}}],\"scatterpolar\":[{\"type\":\"scatterpolar\",\"marker\":{\"colorbar\":{\"outlinewidth\":0,\"ticks\":\"\"}}}],\"histogram\":[{\"marker\":{\"pattern\":{\"fillmode\":\"overlay\",\"size\":10,\"solidity\":0.2}},\"type\":\"histogram\"}],\"scattergl\":[{\"type\":\"scattergl\",\"marker\":{\"colorbar\":{\"outlinewidth\":0,\"ticks\":\"\"}}}],\"scatter3d\":[{\"type\":\"scatter3d\",\"line\":{\"colorbar\":{\"outlinewidth\":0,\"ticks\":\"\"}},\"marker\":{\"colorbar\":{\"outlinewidth\":0,\"ticks\":\"\"}}}],\"scattermapbox\":[{\"type\":\"scattermapbox\",\"marker\":{\"colorbar\":{\"outlinewidth\":0,\"ticks\":\"\"}}}],\"scatterternary\":[{\"type\":\"scatterternary\",\"marker\":{\"colorbar\":{\"outlinewidth\":0,\"ticks\":\"\"}}}],\"scattercarpet\":[{\"type\":\"scattercarpet\",\"marker\":{\"colorbar\":{\"outlinewidth\":0,\"ticks\":\"\"}}}],\"carpet\":[{\"aaxis\":{\"endlinecolor\":\"#2a3f5f\",\"gridcolor\":\"white\",\"linecolor\":\"white\",\"minorgridcolor\":\"white\",\"startlinecolor\":\"#2a3f5f\"},\"baxis\":{\"endlinecolor\":\"#2a3f5f\",\"gridcolor\":\"white\",\"linecolor\":\"white\",\"minorgridcolor\":\"white\",\"startlinecolor\":\"#2a3f5f\"},\"type\":\"carpet\"}],\"table\":[{\"cells\":{\"fill\":{\"color\":\"#EBF0F8\"},\"line\":{\"color\":\"white\"}},\"header\":{\"fill\":{\"color\":\"#C8D4E3\"},\"line\":{\"color\":\"white\"}},\"type\":\"table\"}],\"barpolar\":[{\"marker\":{\"line\":{\"color\":\"#E5ECF6\",\"width\":0.5},\"pattern\":{\"fillmode\":\"overlay\",\"size\":10,\"solidity\":0.2}},\"type\":\"barpolar\"}],\"pie\":[{\"automargin\":true,\"type\":\"pie\"}]},\"layout\":{\"autotypenumbers\":\"strict\",\"colorway\":[\"#636efa\",\"#EF553B\",\"#00cc96\",\"#ab63fa\",\"#FFA15A\",\"#19d3f3\",\"#FF6692\",\"#B6E880\",\"#FF97FF\",\"#FECB52\"],\"font\":{\"color\":\"#2a3f5f\"},\"hovermode\":\"closest\",\"hoverlabel\":{\"align\":\"left\"},\"paper_bgcolor\":\"white\",\"plot_bgcolor\":\"#E5ECF6\",\"polar\":{\"bgcolor\":\"#E5ECF6\",\"angularaxis\":{\"gridcolor\":\"white\",\"linecolor\":\"white\",\"ticks\":\"\"},\"radialaxis\":{\"gridcolor\":\"white\",\"linecolor\":\"white\",\"ticks\":\"\"}},\"ternary\":{\"bgcolor\":\"#E5ECF6\",\"aaxis\":{\"gridcolor\":\"white\",\"linecolor\":\"white\",\"ticks\":\"\"},\"baxis\":{\"gridcolor\":\"white\",\"linecolor\":\"white\",\"ticks\":\"\"},\"caxis\":{\"gridcolor\":\"white\",\"linecolor\":\"white\",\"ticks\":\"\"}},\"coloraxis\":{\"colorbar\":{\"outlinewidth\":0,\"ticks\":\"\"}},\"colorscale\":{\"sequential\":[[0.0,\"#0d0887\"],[0.1111111111111111,\"#46039f\"],[0.2222222222222222,\"#7201a8\"],[0.3333333333333333,\"#9c179e\"],[0.4444444444444444,\"#bd3786\"],[0.5555555555555556,\"#d8576b\"],[0.6666666666666666,\"#ed7953\"],[0.7777777777777778,\"#fb9f3a\"],[0.8888888888888888,\"#fdca26\"],[1.0,\"#f0f921\"]],\"sequentialminus\":[[0.0,\"#0d0887\"],[0.1111111111111111,\"#46039f\"],[0.2222222222222222,\"#7201a8\"],[0.3333333333333333,\"#9c179e\"],[0.4444444444444444,\"#bd3786\"],[0.5555555555555556,\"#d8576b\"],[0.6666666666666666,\"#ed7953\"],[0.7777777777777778,\"#fb9f3a\"],[0.8888888888888888,\"#fdca26\"],[1.0,\"#f0f921\"]],\"diverging\":[[0,\"#8e0152\"],[0.1,\"#c51b7d\"],[0.2,\"#de77ae\"],[0.3,\"#f1b6da\"],[0.4,\"#fde0ef\"],[0.5,\"#f7f7f7\"],[0.6,\"#e6f5d0\"],[0.7,\"#b8e186\"],[0.8,\"#7fbc41\"],[0.9,\"#4d9221\"],[1,\"#276419\"]]},\"xaxis\":{\"gridcolor\":\"white\",\"linecolor\":\"white\",\"ticks\":\"\",\"title\":{\"standoff\":15},\"zerolinecolor\":\"white\",\"automargin\":true,\"zerolinewidth\":2},\"yaxis\":{\"gridcolor\":\"white\",\"linecolor\":\"white\",\"ticks\":\"\",\"title\":{\"standoff\":15},\"zerolinecolor\":\"white\",\"automargin\":true,\"zerolinewidth\":2},\"scene\":{\"xaxis\":{\"backgroundcolor\":\"#E5ECF6\",\"gridcolor\":\"white\",\"linecolor\":\"white\",\"showbackground\":true,\"ticks\":\"\",\"zerolinecolor\":\"white\",\"gridwidth\":2},\"yaxis\":{\"backgroundcolor\":\"#E5ECF6\",\"gridcolor\":\"white\",\"linecolor\":\"white\",\"showbackground\":true,\"ticks\":\"\",\"zerolinecolor\":\"white\",\"gridwidth\":2},\"zaxis\":{\"backgroundcolor\":\"#E5ECF6\",\"gridcolor\":\"white\",\"linecolor\":\"white\",\"showbackground\":true,\"ticks\":\"\",\"zerolinecolor\":\"white\",\"gridwidth\":2}},\"shapedefaults\":{\"line\":{\"color\":\"#2a3f5f\"}},\"annotationdefaults\":{\"arrowcolor\":\"#2a3f5f\",\"arrowhead\":0,\"arrowwidth\":1},\"geo\":{\"bgcolor\":\"white\",\"landcolor\":\"#E5ECF6\",\"subunitcolor\":\"white\",\"showland\":true,\"showlakes\":true,\"lakecolor\":\"white\"},\"title\":{\"x\":0.05},\"mapbox\":{\"style\":\"light\"}}},\"xaxis\":{\"anchor\":\"y\",\"domain\":[0.0,1.0],\"title\":{\"text\":\"Number of borrowers\"}},\"yaxis\":{\"anchor\":\"x\",\"domain\":[0.0,1.0],\"title\":{\"text\":\"Number of projects\"},\"type\":\"log\"},\"legend\":{\"tracegroupgap\":0},\"margin\":{\"t\":60},\"barmode\":\"relative\",\"shapes\":[{\"type\":\"line\",\"x0\":0.5,\"x1\":0.5,\"xref\":\"x\",\"y0\":0,\"y1\":1,\"yref\":\"y domain\"},{\"type\":\"line\",\"x0\":4.5,\"x1\":4.5,\"xref\":\"x\",\"y0\":0,\"y1\":1,\"yref\":\"y domain\"},{\"type\":\"line\",\"x0\":9.5,\"x1\":9.5,\"xref\":\"x\",\"y0\":0,\"y1\":1,\"yref\":\"y domain\"}]},                        {\"responsive\": true}                    ).then(function(){\n",
       "                            \n",
       "var gd = document.getElementById('b848578c-2e92-4949-a129-ab827d669c6f');\n",
       "var x = new MutationObserver(function (mutations, observer) {{\n",
       "        var display = window.getComputedStyle(gd).display;\n",
       "        if (!display || display === 'none') {{\n",
       "            console.log([gd, 'removed!']);\n",
       "            Plotly.purge(gd);\n",
       "            observer.disconnect();\n",
       "        }}\n",
       "}});\n",
       "\n",
       "// Listen for the removal of the full notebook cells\n",
       "var notebookContainer = gd.closest('#notebook-container');\n",
       "if (notebookContainer) {{\n",
       "    x.observe(notebookContainer, {childList: true});\n",
       "}}\n",
       "\n",
       "// Listen for the clearing of the current output cell\n",
       "var outputEl = gd.closest('.output');\n",
       "if (outputEl) {{\n",
       "    x.observe(outputEl, {childList: true});\n",
       "}}\n",
       "\n",
       "                        })                };                });            </script>        </div>"
      ]
     },
     "metadata": {},
     "output_type": "display_data"
    }
   ],
   "source": [
    "# Frequency analysis for groupsize\n",
    "\n",
    "df_number_of_borrowers = df_kiva.groupby(\"number_of_borrowers\").size()\n",
    "fig = px.bar(y=df_number_of_borrowers, log_y= True)\n",
    "fig.update_layout(xaxis_title = 'Number of borrowers' , yaxis_title = 'Number of projects')\n",
    "fig.add_vline(0.5)\n",
    "fig.add_vline(4.5)\n",
    "fig.add_vline(9.5)\n",
    "fig.show()"
   ]
  },
  {
   "cell_type": "code",
   "execution_count": null,
   "id": "11d773fa",
   "metadata": {},
   "outputs": [
    {
     "data": {
      "text/html": [
       "<div>\n",
       "<style scoped>\n",
       "    .dataframe tbody tr th:only-of-type {\n",
       "        vertical-align: middle;\n",
       "    }\n",
       "\n",
       "    .dataframe tbody tr th {\n",
       "        vertical-align: top;\n",
       "    }\n",
       "\n",
       "    .dataframe thead th {\n",
       "        text-align: right;\n",
       "    }\n",
       "</style>\n",
       "<table border=\"1\" class=\"dataframe\">\n",
       "  <thead>\n",
       "    <tr style=\"text-align: right;\">\n",
       "      <th></th>\n",
       "      <th>funded_amount</th>\n",
       "      <th>loan_amount</th>\n",
       "      <th>activity</th>\n",
       "      <th>sector</th>\n",
       "      <th>country_code</th>\n",
       "      <th>country</th>\n",
       "      <th>currency</th>\n",
       "      <th>term_in_months</th>\n",
       "      <th>lender_count</th>\n",
       "      <th>borrower_genders</th>\n",
       "      <th>...</th>\n",
       "      <th>number_of_borrowers</th>\n",
       "      <th>gender_of_borrowers</th>\n",
       "      <th>continent</th>\n",
       "      <th>percentage_of_credit_goal_funded</th>\n",
       "      <th>mean_investment_given_per_lender</th>\n",
       "      <th>mean_investment_received_per_borrower</th>\n",
       "      <th>mean_credit_goal_per_borrower</th>\n",
       "      <th>mean_total_credit_rates_per_month</th>\n",
       "      <th>mean_total_credit_rates_per_month_per_person</th>\n",
       "      <th>group_size</th>\n",
       "    </tr>\n",
       "  </thead>\n",
       "  <tbody>\n",
       "    <tr>\n",
       "      <th>0</th>\n",
       "      <td>300.0</td>\n",
       "      <td>300.0</td>\n",
       "      <td>Fruits &amp; Vegetables</td>\n",
       "      <td>Food</td>\n",
       "      <td>PK</td>\n",
       "      <td>Pakistan</td>\n",
       "      <td>PKR</td>\n",
       "      <td>12.0</td>\n",
       "      <td>12</td>\n",
       "      <td>female</td>\n",
       "      <td>...</td>\n",
       "      <td>1</td>\n",
       "      <td>female</td>\n",
       "      <td>Asia</td>\n",
       "      <td>100.0</td>\n",
       "      <td>25.000000</td>\n",
       "      <td>300.0</td>\n",
       "      <td>300.0</td>\n",
       "      <td>25.000000</td>\n",
       "      <td>25.000000</td>\n",
       "      <td>individual person</td>\n",
       "    </tr>\n",
       "    <tr>\n",
       "      <th>1</th>\n",
       "      <td>575.0</td>\n",
       "      <td>575.0</td>\n",
       "      <td>Rickshaw</td>\n",
       "      <td>Transportation</td>\n",
       "      <td>PK</td>\n",
       "      <td>Pakistan</td>\n",
       "      <td>PKR</td>\n",
       "      <td>11.0</td>\n",
       "      <td>14</td>\n",
       "      <td>female, female</td>\n",
       "      <td>...</td>\n",
       "      <td>2</td>\n",
       "      <td>female</td>\n",
       "      <td>Asia</td>\n",
       "      <td>100.0</td>\n",
       "      <td>41.071429</td>\n",
       "      <td>287.5</td>\n",
       "      <td>287.5</td>\n",
       "      <td>52.272727</td>\n",
       "      <td>26.136364</td>\n",
       "      <td>small group (2-5)</td>\n",
       "    </tr>\n",
       "    <tr>\n",
       "      <th>2</th>\n",
       "      <td>150.0</td>\n",
       "      <td>150.0</td>\n",
       "      <td>Transportation</td>\n",
       "      <td>Transportation</td>\n",
       "      <td>IN</td>\n",
       "      <td>India</td>\n",
       "      <td>INR</td>\n",
       "      <td>43.0</td>\n",
       "      <td>6</td>\n",
       "      <td>female</td>\n",
       "      <td>...</td>\n",
       "      <td>1</td>\n",
       "      <td>female</td>\n",
       "      <td>Asia</td>\n",
       "      <td>100.0</td>\n",
       "      <td>25.000000</td>\n",
       "      <td>150.0</td>\n",
       "      <td>150.0</td>\n",
       "      <td>3.488372</td>\n",
       "      <td>3.488372</td>\n",
       "      <td>individual person</td>\n",
       "    </tr>\n",
       "    <tr>\n",
       "      <th>3</th>\n",
       "      <td>200.0</td>\n",
       "      <td>200.0</td>\n",
       "      <td>Embroidery</td>\n",
       "      <td>Arts</td>\n",
       "      <td>PK</td>\n",
       "      <td>Pakistan</td>\n",
       "      <td>PKR</td>\n",
       "      <td>11.0</td>\n",
       "      <td>8</td>\n",
       "      <td>female</td>\n",
       "      <td>...</td>\n",
       "      <td>1</td>\n",
       "      <td>female</td>\n",
       "      <td>Asia</td>\n",
       "      <td>100.0</td>\n",
       "      <td>25.000000</td>\n",
       "      <td>200.0</td>\n",
       "      <td>200.0</td>\n",
       "      <td>18.181818</td>\n",
       "      <td>18.181818</td>\n",
       "      <td>individual person</td>\n",
       "    </tr>\n",
       "    <tr>\n",
       "      <th>4</th>\n",
       "      <td>400.0</td>\n",
       "      <td>400.0</td>\n",
       "      <td>Milk Sales</td>\n",
       "      <td>Food</td>\n",
       "      <td>PK</td>\n",
       "      <td>Pakistan</td>\n",
       "      <td>PKR</td>\n",
       "      <td>14.0</td>\n",
       "      <td>16</td>\n",
       "      <td>female</td>\n",
       "      <td>...</td>\n",
       "      <td>1</td>\n",
       "      <td>female</td>\n",
       "      <td>Asia</td>\n",
       "      <td>100.0</td>\n",
       "      <td>25.000000</td>\n",
       "      <td>400.0</td>\n",
       "      <td>400.0</td>\n",
       "      <td>28.571429</td>\n",
       "      <td>28.571429</td>\n",
       "      <td>individual person</td>\n",
       "    </tr>\n",
       "    <tr>\n",
       "      <th>...</th>\n",
       "      <td>...</td>\n",
       "      <td>...</td>\n",
       "      <td>...</td>\n",
       "      <td>...</td>\n",
       "      <td>...</td>\n",
       "      <td>...</td>\n",
       "      <td>...</td>\n",
       "      <td>...</td>\n",
       "      <td>...</td>\n",
       "      <td>...</td>\n",
       "      <td>...</td>\n",
       "      <td>...</td>\n",
       "      <td>...</td>\n",
       "      <td>...</td>\n",
       "      <td>...</td>\n",
       "      <td>...</td>\n",
       "      <td>...</td>\n",
       "      <td>...</td>\n",
       "      <td>...</td>\n",
       "      <td>...</td>\n",
       "      <td>...</td>\n",
       "    </tr>\n",
       "    <tr>\n",
       "      <th>671199</th>\n",
       "      <td>0.0</td>\n",
       "      <td>25.0</td>\n",
       "      <td>Livestock</td>\n",
       "      <td>Agriculture</td>\n",
       "      <td>PY</td>\n",
       "      <td>Paraguay</td>\n",
       "      <td>USD</td>\n",
       "      <td>13.0</td>\n",
       "      <td>0</td>\n",
       "      <td>female</td>\n",
       "      <td>...</td>\n",
       "      <td>1</td>\n",
       "      <td>female</td>\n",
       "      <td>South America</td>\n",
       "      <td>0.0</td>\n",
       "      <td>0.000000</td>\n",
       "      <td>0.0</td>\n",
       "      <td>25.0</td>\n",
       "      <td>0.000000</td>\n",
       "      <td>0.000000</td>\n",
       "      <td>individual person</td>\n",
       "    </tr>\n",
       "    <tr>\n",
       "      <th>671200</th>\n",
       "      <td>0.0</td>\n",
       "      <td>25.0</td>\n",
       "      <td>Livestock</td>\n",
       "      <td>Agriculture</td>\n",
       "      <td>PY</td>\n",
       "      <td>Paraguay</td>\n",
       "      <td>USD</td>\n",
       "      <td>13.0</td>\n",
       "      <td>0</td>\n",
       "      <td>female</td>\n",
       "      <td>...</td>\n",
       "      <td>1</td>\n",
       "      <td>female</td>\n",
       "      <td>South America</td>\n",
       "      <td>0.0</td>\n",
       "      <td>0.000000</td>\n",
       "      <td>0.0</td>\n",
       "      <td>25.0</td>\n",
       "      <td>0.000000</td>\n",
       "      <td>0.000000</td>\n",
       "      <td>individual person</td>\n",
       "    </tr>\n",
       "    <tr>\n",
       "      <th>671201</th>\n",
       "      <td>25.0</td>\n",
       "      <td>25.0</td>\n",
       "      <td>Livestock</td>\n",
       "      <td>Agriculture</td>\n",
       "      <td>KE</td>\n",
       "      <td>Kenya</td>\n",
       "      <td>KES</td>\n",
       "      <td>13.0</td>\n",
       "      <td>1</td>\n",
       "      <td>female</td>\n",
       "      <td>...</td>\n",
       "      <td>1</td>\n",
       "      <td>female</td>\n",
       "      <td>Africa</td>\n",
       "      <td>100.0</td>\n",
       "      <td>25.000000</td>\n",
       "      <td>25.0</td>\n",
       "      <td>25.0</td>\n",
       "      <td>1.923077</td>\n",
       "      <td>1.923077</td>\n",
       "      <td>individual person</td>\n",
       "    </tr>\n",
       "    <tr>\n",
       "      <th>671203</th>\n",
       "      <td>0.0</td>\n",
       "      <td>25.0</td>\n",
       "      <td>Livestock</td>\n",
       "      <td>Agriculture</td>\n",
       "      <td>KE</td>\n",
       "      <td>Kenya</td>\n",
       "      <td>KES</td>\n",
       "      <td>13.0</td>\n",
       "      <td>0</td>\n",
       "      <td>female</td>\n",
       "      <td>...</td>\n",
       "      <td>1</td>\n",
       "      <td>female</td>\n",
       "      <td>Africa</td>\n",
       "      <td>0.0</td>\n",
       "      <td>0.000000</td>\n",
       "      <td>0.0</td>\n",
       "      <td>25.0</td>\n",
       "      <td>0.000000</td>\n",
       "      <td>0.000000</td>\n",
       "      <td>individual person</td>\n",
       "    </tr>\n",
       "    <tr>\n",
       "      <th>671204</th>\n",
       "      <td>0.0</td>\n",
       "      <td>25.0</td>\n",
       "      <td>Livestock</td>\n",
       "      <td>Agriculture</td>\n",
       "      <td>KE</td>\n",
       "      <td>Kenya</td>\n",
       "      <td>KES</td>\n",
       "      <td>13.0</td>\n",
       "      <td>0</td>\n",
       "      <td>female</td>\n",
       "      <td>...</td>\n",
       "      <td>1</td>\n",
       "      <td>female</td>\n",
       "      <td>Africa</td>\n",
       "      <td>0.0</td>\n",
       "      <td>0.000000</td>\n",
       "      <td>0.0</td>\n",
       "      <td>25.0</td>\n",
       "      <td>0.000000</td>\n",
       "      <td>0.000000</td>\n",
       "      <td>individual person</td>\n",
       "    </tr>\n",
       "  </tbody>\n",
       "</table>\n",
       "<p>666972 rows × 21 columns</p>\n",
       "</div>"
      ],
      "text/plain": [
       "        funded_amount  loan_amount             activity          sector   \n",
       "0               300.0        300.0  Fruits & Vegetables            Food  \\\n",
       "1               575.0        575.0             Rickshaw  Transportation   \n",
       "2               150.0        150.0       Transportation  Transportation   \n",
       "3               200.0        200.0           Embroidery            Arts   \n",
       "4               400.0        400.0           Milk Sales            Food   \n",
       "...               ...          ...                  ...             ...   \n",
       "671199            0.0         25.0            Livestock     Agriculture   \n",
       "671200            0.0         25.0            Livestock     Agriculture   \n",
       "671201           25.0         25.0            Livestock     Agriculture   \n",
       "671203            0.0         25.0            Livestock     Agriculture   \n",
       "671204            0.0         25.0            Livestock     Agriculture   \n",
       "\n",
       "       country_code   country currency  term_in_months  lender_count   \n",
       "0                PK  Pakistan      PKR            12.0            12  \\\n",
       "1                PK  Pakistan      PKR            11.0            14   \n",
       "2                IN     India      INR            43.0             6   \n",
       "3                PK  Pakistan      PKR            11.0             8   \n",
       "4                PK  Pakistan      PKR            14.0            16   \n",
       "...             ...       ...      ...             ...           ...   \n",
       "671199           PY  Paraguay      USD            13.0             0   \n",
       "671200           PY  Paraguay      USD            13.0             0   \n",
       "671201           KE     Kenya      KES            13.0             1   \n",
       "671203           KE     Kenya      KES            13.0             0   \n",
       "671204           KE     Kenya      KES            13.0             0   \n",
       "\n",
       "       borrower_genders  ... number_of_borrowers  gender_of_borrowers   \n",
       "0                female  ...                   1               female  \\\n",
       "1        female, female  ...                   2               female   \n",
       "2                female  ...                   1               female   \n",
       "3                female  ...                   1               female   \n",
       "4                female  ...                   1               female   \n",
       "...                 ...  ...                 ...                  ...   \n",
       "671199           female  ...                   1               female   \n",
       "671200           female  ...                   1               female   \n",
       "671201           female  ...                   1               female   \n",
       "671203           female  ...                   1               female   \n",
       "671204           female  ...                   1               female   \n",
       "\n",
       "            continent percentage_of_credit_goal_funded   \n",
       "0                Asia                            100.0  \\\n",
       "1                Asia                            100.0   \n",
       "2                Asia                            100.0   \n",
       "3                Asia                            100.0   \n",
       "4                Asia                            100.0   \n",
       "...               ...                              ...   \n",
       "671199  South America                              0.0   \n",
       "671200  South America                              0.0   \n",
       "671201         Africa                            100.0   \n",
       "671203         Africa                              0.0   \n",
       "671204         Africa                              0.0   \n",
       "\n",
       "        mean_investment_given_per_lender   \n",
       "0                              25.000000  \\\n",
       "1                              41.071429   \n",
       "2                              25.000000   \n",
       "3                              25.000000   \n",
       "4                              25.000000   \n",
       "...                                  ...   \n",
       "671199                          0.000000   \n",
       "671200                          0.000000   \n",
       "671201                         25.000000   \n",
       "671203                          0.000000   \n",
       "671204                          0.000000   \n",
       "\n",
       "        mean_investment_received_per_borrower  mean_credit_goal_per_borrower   \n",
       "0                                       300.0                          300.0  \\\n",
       "1                                       287.5                          287.5   \n",
       "2                                       150.0                          150.0   \n",
       "3                                       200.0                          200.0   \n",
       "4                                       400.0                          400.0   \n",
       "...                                       ...                            ...   \n",
       "671199                                    0.0                           25.0   \n",
       "671200                                    0.0                           25.0   \n",
       "671201                                   25.0                           25.0   \n",
       "671203                                    0.0                           25.0   \n",
       "671204                                    0.0                           25.0   \n",
       "\n",
       "        mean_total_credit_rates_per_month   \n",
       "0                               25.000000  \\\n",
       "1                               52.272727   \n",
       "2                                3.488372   \n",
       "3                               18.181818   \n",
       "4                               28.571429   \n",
       "...                                   ...   \n",
       "671199                           0.000000   \n",
       "671200                           0.000000   \n",
       "671201                           1.923077   \n",
       "671203                           0.000000   \n",
       "671204                           0.000000   \n",
       "\n",
       "        mean_total_credit_rates_per_month_per_person         group_size  \n",
       "0                                          25.000000  individual person  \n",
       "1                                          26.136364  small group (2-5)  \n",
       "2                                           3.488372  individual person  \n",
       "3                                          18.181818  individual person  \n",
       "4                                          28.571429  individual person  \n",
       "...                                              ...                ...  \n",
       "671199                                      0.000000  individual person  \n",
       "671200                                      0.000000  individual person  \n",
       "671201                                      1.923077  individual person  \n",
       "671203                                      0.000000  individual person  \n",
       "671204                                      0.000000  individual person  \n",
       "\n",
       "[666972 rows x 21 columns]"
      ]
     },
     "execution_count": 38,
     "metadata": {},
     "output_type": "execute_result"
    }
   ],
   "source": [
    "# Finding labels for new categories\n",
    "category = [\"individual person\", \"small group (2-5)\", \"medium group (6-10)\" , \"large group (10+)\"]\n",
    "\n",
    "# Putting ranges\n",
    "\n",
    "group_range = [0, 1, 5, 10, 100]\n",
    "Applying new categoriesVergabe der Kategorien \n",
    "df_kiva[\"group_size\"] = pd.cut(x=df_kiva.loc[:,\"number_of_borrowers\"], \n",
    "                                      bins=group_range,        \n",
    "                                      labels=category\n",
    "                                     )\n"
   ]
  },
  {
   "cell_type": "markdown",
   "id": "b55919d2",
   "metadata": {},
   "source": [
    "## Optimizing memory use"
   ]
  },
  {
   "cell_type": "code",
   "execution_count": null,
   "id": "6371dcfe",
   "metadata": {},
   "outputs": [
    {
     "data": {
      "text/plain": [
       "Index                                            5335776\n",
       "funded_amount                                    5335776\n",
       "loan_amount                                      5335776\n",
       "activity                                        46227986\n",
       "sector                                          43329295\n",
       "country_code                                    39351348\n",
       "country                                         43648891\n",
       "currency                                        40018320\n",
       "term_in_months                                   5335776\n",
       "lender_count                                     5335776\n",
       "borrower_genders                                46902998\n",
       "repayment_interval                              43129118\n",
       "number_of_borrowers                              5335776\n",
       "gender_of_borrowers                             41701818\n",
       "continent                                       42503276\n",
       "percentage_of_credit_goal_funded                 5335776\n",
       "mean_investment_given_per_lender                 5335776\n",
       "mean_investment_received_per_borrower            5335776\n",
       "mean_credit_goal_per_borrower                    5335776\n",
       "mean_total_credit_rates_per_month                5335776\n",
       "mean_total_credit_rates_per_month_per_person     5335776\n",
       "group_size                                        667442\n",
       "dtype: int64"
      ]
     },
     "execution_count": 40,
     "metadata": {},
     "output_type": "execute_result"
    }
   ],
   "source": [
    "# showing memory usage\n",
    "\n",
    "df_kiva.memory_usage(deep=True) "
   ]
  },
  {
   "cell_type": "code",
   "execution_count": null,
   "id": "f16208a0",
   "metadata": {},
   "outputs": [
    {
     "name": "stdout",
     "output_type": "stream",
     "text": [
      "<class 'pandas.core.frame.DataFrame'>\n",
      "Index: 666972 entries, 0 to 671204\n",
      "Data columns (total 21 columns):\n",
      " #   Column                                        Non-Null Count   Dtype   \n",
      "---  ------                                        --------------   -----   \n",
      " 0   funded_amount                                 666972 non-null  float32 \n",
      " 1   loan_amount                                   666972 non-null  float32 \n",
      " 2   activity                                      666972 non-null  category\n",
      " 3   sector                                        666972 non-null  category\n",
      " 4   country_code                                  666972 non-null  category\n",
      " 5   country                                       666972 non-null  category\n",
      " 6   currency                                      666972 non-null  category\n",
      " 7   term_in_months                                666972 non-null  int16   \n",
      " 8   lender_count                                  666972 non-null  int16   \n",
      " 9   borrower_genders                              666972 non-null  category\n",
      " 10  repayment_interval                            666972 non-null  category\n",
      " 11  number_of_borrowers                           666972 non-null  int16   \n",
      " 12  gender_of_borrowers                           666972 non-null  category\n",
      " 13  continent                                     666972 non-null  category\n",
      " 14  percentage_of_credit_goal_funded              666972 non-null  float32 \n",
      " 15  mean_investment_given_per_lender              666972 non-null  float32 \n",
      " 16  mean_investment_received_per_borrower         666972 non-null  float32 \n",
      " 17  mean_credit_goal_per_borrower                 666972 non-null  float32 \n",
      " 18  mean_total_credit_rates_per_month             666972 non-null  float32 \n",
      " 19  mean_total_credit_rates_per_month_per_person  666972 non-null  float32 \n",
      " 20  group_size                                    666972 non-null  category\n",
      "dtypes: category(10), float32(8), int16(3)\n",
      "memory usage: 37.2 MB\n"
     ]
    }
   ],
   "source": [
    "# Conversion of data types to save memory\n",
    "\n",
    "df_kiva_reduced = df_kiva\n",
    "\n",
    "df_kiva_reduced = df_kiva_reduced.astype({\n",
    "    'funded_amount':'float32',\n",
    "    'loan_amount':'float32',\n",
    "    'activity':'category',\n",
    "    'sector':'category',\n",
    "    'country_code':'category',\n",
    "    'country':'category',\n",
    "    'currency':'category',\n",
    "    'term_in_months':'int16',\n",
    "    'lender_count':'int16',\n",
    "    'borrower_genders':'category',\n",
    "    'repayment_interval':'category',\n",
    "    'number_of_borrowers':'int16',\n",
    "    'gender_of_borrowers':'category',\n",
    "    'continent':'category',\n",
    "    'percentage_of_credit_goal_funded':'float32',\n",
    "    'mean_investment_given_per_lender':'float32',\n",
    "    'mean_investment_received_per_borrower':'float32',\n",
    "    'mean_credit_goal_per_borrower':'float32',\n",
    "    'mean_total_credit_rates_per_month':'float32',\n",
    "    'mean_total_credit_rates_per_month_per_person':'float32',\n",
    "    'group_size':'category'\n",
    "})\n",
    "df_kiva_reduced.info()"
   ]
  },
  {
   "cell_type": "code",
   "execution_count": null,
   "id": "5a9efa99",
   "metadata": {},
   "outputs": [
    {
     "name": "stdout",
     "output_type": "stream",
     "text": [
      "0.9093693854762896\n"
     ]
    }
   ],
   "source": [
    "# Optimizing memory usage\n",
    "\n",
    "reduction = (df_kiva.memory_usage(deep=True).sum()-df_kiva_reduced.memory_usage(deep=True).sum())/df_kiva.memory_usage(deep=True).sum()\n",
    "\n",
    "print(reduction)"
   ]
  },
  {
   "cell_type": "markdown",
   "id": "a859ae60",
   "metadata": {},
   "source": [
    "Durch die Umwandlungen konnten ~80 Prozent Memory Usage eingespart werden. "
   ]
  },
  {
   "cell_type": "markdown",
   "id": "96231a2c",
   "metadata": {},
   "source": [
    "# EDA"
   ]
  },
  {
   "cell_type": "markdown",
   "id": "2460f845",
   "metadata": {},
   "source": [
    "## Business question\n",
    "\n",
    "**Business Logic**\n",
    "\n",
    "Kiva is a platform that facilitates crowd-investment through micro-loans. It connects money givers and money takers around the world. \n",
    "\n",
    "The company generates its own profits by receiving commission for each project that lands on the platform.\n",
    "\n",
    "**Data analysis requirement**\n",
    "\n",
    "The company wants to expand its business. Out of consideration, this can be done in many ways. \n",
    "\n",
    "It can:\n",
    "- The number of individual projects can be increased, as more agreements mean more commission opportunities.\n",
    "- The volume of individual projects can be increased, as larger, converted sums mean more commission.\n",
    "- Entirely new business models could be thought of that expand the company beyond its current core business.\n",
    "\n",
    "To make this possible, various steps are possible:\n",
    "- Playing on regional markets that have not yet been tapped.\n",
    "- The same applies to (new) financed sectors and activities.\n",
    "- Focusing on specific sectors, activities or countries that either transform weaknesses into strengths or expand strengths already present today are also conceivable.\n",
    "\n",
    "However, in order to arrive at such paths, which can be equated with a target state, the current state must first be mapped."
   ]
  },
  {
   "cell_type": "markdown",
   "id": "ac082028",
   "metadata": {},
   "source": [
    "## Current state of kiva.org"
   ]
  },
  {
   "cell_type": "code",
   "execution_count": null,
   "id": "c65bf27e",
   "metadata": {},
   "outputs": [
    {
     "data": {
      "text/html": [
       "<div>\n",
       "<style scoped>\n",
       "    .dataframe tbody tr th:only-of-type {\n",
       "        vertical-align: middle;\n",
       "    }\n",
       "\n",
       "    .dataframe tbody tr th {\n",
       "        vertical-align: top;\n",
       "    }\n",
       "\n",
       "    .dataframe thead th {\n",
       "        text-align: right;\n",
       "    }\n",
       "</style>\n",
       "<table border=\"1\" class=\"dataframe\">\n",
       "  <thead>\n",
       "    <tr style=\"text-align: right;\">\n",
       "      <th></th>\n",
       "      <th>funded_amount</th>\n",
       "      <th>loan_amount</th>\n",
       "      <th>term_in_months</th>\n",
       "      <th>lender_count</th>\n",
       "      <th>number_of_borrowers</th>\n",
       "      <th>percentage_of_credit_goal_funded</th>\n",
       "      <th>mean_investment_given_per_lender</th>\n",
       "      <th>mean_investment_received_per_borrower</th>\n",
       "      <th>mean_credit_goal_per_borrower</th>\n",
       "      <th>mean_total_credit_rates_per_month</th>\n",
       "      <th>mean_total_credit_rates_per_month_per_person</th>\n",
       "    </tr>\n",
       "  </thead>\n",
       "  <tbody>\n",
       "    <tr>\n",
       "      <th>count</th>\n",
       "      <td>666972.000000</td>\n",
       "      <td>666972.000000</td>\n",
       "      <td>666972.00000</td>\n",
       "      <td>666972.000000</td>\n",
       "      <td>666972.000000</td>\n",
       "      <td>666972.000000</td>\n",
       "      <td>666972.000000</td>\n",
       "      <td>666972.000000</td>\n",
       "      <td>666972.000000</td>\n",
       "      <td>666972.000000</td>\n",
       "      <td>666972.000000</td>\n",
       "    </tr>\n",
       "    <tr>\n",
       "      <th>mean</th>\n",
       "      <td>785.131897</td>\n",
       "      <td>840.272827</td>\n",
       "      <td>13.73022</td>\n",
       "      <td>20.551025</td>\n",
       "      <td>2.018325</td>\n",
       "      <td>96.113731</td>\n",
       "      <td>61.017693</td>\n",
       "      <td>558.349426</td>\n",
       "      <td>604.222656</td>\n",
       "      <td>70.384796</td>\n",
       "      <td>42.666138</td>\n",
       "    </tr>\n",
       "    <tr>\n",
       "      <th>std</th>\n",
       "      <td>1128.005859</td>\n",
       "      <td>1187.875610</td>\n",
       "      <td>8.59619</td>\n",
       "      <td>28.366363</td>\n",
       "      <td>3.413485</td>\n",
       "      <td>15.729571</td>\n",
       "      <td>178.399033</td>\n",
       "      <td>830.445496</td>\n",
       "      <td>901.504272</td>\n",
       "      <td>125.827049</td>\n",
       "      <td>55.604282</td>\n",
       "    </tr>\n",
       "    <tr>\n",
       "      <th>min</th>\n",
       "      <td>0.000000</td>\n",
       "      <td>25.000000</td>\n",
       "      <td>1.00000</td>\n",
       "      <td>0.000000</td>\n",
       "      <td>1.000000</td>\n",
       "      <td>0.000000</td>\n",
       "      <td>0.000000</td>\n",
       "      <td>0.000000</td>\n",
       "      <td>2.777778</td>\n",
       "      <td>0.000000</td>\n",
       "      <td>0.000000</td>\n",
       "    </tr>\n",
       "    <tr>\n",
       "      <th>25%</th>\n",
       "      <td>250.000000</td>\n",
       "      <td>275.000000</td>\n",
       "      <td>8.00000</td>\n",
       "      <td>7.000000</td>\n",
       "      <td>1.000000</td>\n",
       "      <td>100.000000</td>\n",
       "      <td>26.666666</td>\n",
       "      <td>225.000000</td>\n",
       "      <td>225.000000</td>\n",
       "      <td>22.727272</td>\n",
       "      <td>19.791666</td>\n",
       "    </tr>\n",
       "    <tr>\n",
       "      <th>50%</th>\n",
       "      <td>450.000000</td>\n",
       "      <td>500.000000</td>\n",
       "      <td>13.00000</td>\n",
       "      <td>13.000000</td>\n",
       "      <td>1.000000</td>\n",
       "      <td>100.000000</td>\n",
       "      <td>31.250000</td>\n",
       "      <td>375.000000</td>\n",
       "      <td>400.000000</td>\n",
       "      <td>37.500000</td>\n",
       "      <td>32.142857</td>\n",
       "    </tr>\n",
       "    <tr>\n",
       "      <th>75%</th>\n",
       "      <td>900.000000</td>\n",
       "      <td>1000.000000</td>\n",
       "      <td>14.00000</td>\n",
       "      <td>24.000000</td>\n",
       "      <td>1.000000</td>\n",
       "      <td>100.000000</td>\n",
       "      <td>42.857143</td>\n",
       "      <td>650.000000</td>\n",
       "      <td>700.000000</td>\n",
       "      <td>65.625000</td>\n",
       "      <td>51.388889</td>\n",
       "    </tr>\n",
       "    <tr>\n",
       "      <th>max</th>\n",
       "      <td>100000.000000</td>\n",
       "      <td>100000.000000</td>\n",
       "      <td>158.00000</td>\n",
       "      <td>2986.000000</td>\n",
       "      <td>50.000000</td>\n",
       "      <td>113.333336</td>\n",
       "      <td>9475.000000</td>\n",
       "      <td>100000.000000</td>\n",
       "      <td>100000.000000</td>\n",
       "      <td>10000.000000</td>\n",
       "      <td>10000.000000</td>\n",
       "    </tr>\n",
       "  </tbody>\n",
       "</table>\n",
       "</div>"
      ],
      "text/plain": [
       "       funded_amount    loan_amount  term_in_months   lender_count   \n",
       "count  666972.000000  666972.000000    666972.00000  666972.000000  \\\n",
       "mean      785.131897     840.272827        13.73022      20.551025   \n",
       "std      1128.005859    1187.875610         8.59619      28.366363   \n",
       "min         0.000000      25.000000         1.00000       0.000000   \n",
       "25%       250.000000     275.000000         8.00000       7.000000   \n",
       "50%       450.000000     500.000000        13.00000      13.000000   \n",
       "75%       900.000000    1000.000000        14.00000      24.000000   \n",
       "max    100000.000000  100000.000000       158.00000    2986.000000   \n",
       "\n",
       "       number_of_borrowers  percentage_of_credit_goal_funded   \n",
       "count        666972.000000                     666972.000000  \\\n",
       "mean              2.018325                         96.113731   \n",
       "std               3.413485                         15.729571   \n",
       "min               1.000000                          0.000000   \n",
       "25%               1.000000                        100.000000   \n",
       "50%               1.000000                        100.000000   \n",
       "75%               1.000000                        100.000000   \n",
       "max              50.000000                        113.333336   \n",
       "\n",
       "       mean_investment_given_per_lender   \n",
       "count                     666972.000000  \\\n",
       "mean                          61.017693   \n",
       "std                          178.399033   \n",
       "min                            0.000000   \n",
       "25%                           26.666666   \n",
       "50%                           31.250000   \n",
       "75%                           42.857143   \n",
       "max                         9475.000000   \n",
       "\n",
       "       mean_investment_received_per_borrower  mean_credit_goal_per_borrower   \n",
       "count                          666972.000000                  666972.000000  \\\n",
       "mean                              558.349426                     604.222656   \n",
       "std                               830.445496                     901.504272   \n",
       "min                                 0.000000                       2.777778   \n",
       "25%                               225.000000                     225.000000   \n",
       "50%                               375.000000                     400.000000   \n",
       "75%                               650.000000                     700.000000   \n",
       "max                            100000.000000                  100000.000000   \n",
       "\n",
       "       mean_total_credit_rates_per_month   \n",
       "count                      666972.000000  \\\n",
       "mean                           70.384796   \n",
       "std                           125.827049   \n",
       "min                             0.000000   \n",
       "25%                            22.727272   \n",
       "50%                            37.500000   \n",
       "75%                            65.625000   \n",
       "max                         10000.000000   \n",
       "\n",
       "       mean_total_credit_rates_per_month_per_person  \n",
       "count                                 666972.000000  \n",
       "mean                                      42.666138  \n",
       "std                                       55.604282  \n",
       "min                                        0.000000  \n",
       "25%                                       19.791666  \n",
       "50%                                       32.142857  \n",
       "75%                                       51.388889  \n",
       "max                                    10000.000000  "
      ]
     },
     "execution_count": 44,
     "metadata": {},
     "output_type": "execute_result"
    }
   ],
   "source": [
    "df_kiva_reduced.describe()"
   ]
  },
  {
   "cell_type": "markdown",
   "id": "ab7ad85d",
   "metadata": {},
   "source": [
    "A look at the adjusted data shows us that Kiva performed about 670000 transactions for us. A median transaction within this sample looked something like this:\n",
    "\n",
    "Two borrowers want 500 USD and want to pay it back within 14 months. Typically, this sum is funded by 24 investors at about 90 % (450 USD funded_amount).\n",
    "\n",
    "So we see that smaller sums for a few people have been the core business of Kiva so far. To see where and how these loans come about, we can look at distributions by geography, sector, gender and group size:"
   ]
  },
  {
   "cell_type": "markdown",
   "id": "e7841bea",
   "metadata": {},
   "source": [
    "### Kiva around the World"
   ]
  },
  {
   "cell_type": "code",
   "execution_count": null,
   "id": "69152b67",
   "metadata": {},
   "outputs": [
    {
     "data": {
      "text/html": [
       "<div>\n",
       "<style scoped>\n",
       "    .dataframe tbody tr th:only-of-type {\n",
       "        vertical-align: middle;\n",
       "    }\n",
       "\n",
       "    .dataframe tbody tr th {\n",
       "        vertical-align: top;\n",
       "    }\n",
       "\n",
       "    .dataframe thead tr th {\n",
       "        text-align: left;\n",
       "    }\n",
       "</style>\n",
       "<table border=\"1\" class=\"dataframe\">\n",
       "  <thead>\n",
       "    <tr>\n",
       "      <th></th>\n",
       "      <th>continent</th>\n",
       "      <th colspan=\"3\" halign=\"left\">funded_amount</th>\n",
       "      <th colspan=\"3\" halign=\"left\">loan_amount</th>\n",
       "    </tr>\n",
       "    <tr>\n",
       "      <th></th>\n",
       "      <th></th>\n",
       "      <th>count</th>\n",
       "      <th>sum</th>\n",
       "      <th>mean</th>\n",
       "      <th>count</th>\n",
       "      <th>sum</th>\n",
       "      <th>mean</th>\n",
       "    </tr>\n",
       "  </thead>\n",
       "  <tbody>\n",
       "    <tr>\n",
       "      <th>0</th>\n",
       "      <td>Africa</td>\n",
       "      <td>171423</td>\n",
       "      <td>126065344.0</td>\n",
       "      <td>735.405090</td>\n",
       "      <td>171423</td>\n",
       "      <td>133277504.0</td>\n",
       "      <td>777.477356</td>\n",
       "    </tr>\n",
       "    <tr>\n",
       "      <th>1</th>\n",
       "      <td>Asia</td>\n",
       "      <td>322761</td>\n",
       "      <td>190881504.0</td>\n",
       "      <td>591.402039</td>\n",
       "      <td>322761</td>\n",
       "      <td>201540704.0</td>\n",
       "      <td>624.427063</td>\n",
       "    </tr>\n",
       "    <tr>\n",
       "      <th>2</th>\n",
       "      <td>Europe</td>\n",
       "      <td>4624</td>\n",
       "      <td>6465425.0</td>\n",
       "      <td>1398.232056</td>\n",
       "      <td>4624</td>\n",
       "      <td>6893175.0</td>\n",
       "      <td>1490.738525</td>\n",
       "    </tr>\n",
       "    <tr>\n",
       "      <th>3</th>\n",
       "      <td>North America</td>\n",
       "      <td>82306</td>\n",
       "      <td>88570568.0</td>\n",
       "      <td>1076.113159</td>\n",
       "      <td>82306</td>\n",
       "      <td>101945048.0</td>\n",
       "      <td>1238.610107</td>\n",
       "    </tr>\n",
       "    <tr>\n",
       "      <th>4</th>\n",
       "      <td>Oceania</td>\n",
       "      <td>7931</td>\n",
       "      <td>6116920.0</td>\n",
       "      <td>771.267151</td>\n",
       "      <td>7931</td>\n",
       "      <td>6783325.0</td>\n",
       "      <td>855.292542</td>\n",
       "    </tr>\n",
       "    <tr>\n",
       "      <th>5</th>\n",
       "      <td>South America</td>\n",
       "      <td>77927</td>\n",
       "      <td>105561200.0</td>\n",
       "      <td>1354.616455</td>\n",
       "      <td>77927</td>\n",
       "      <td>109998752.0</td>\n",
       "      <td>1411.561523</td>\n",
       "    </tr>\n",
       "  </tbody>\n",
       "</table>\n",
       "</div>"
      ],
      "text/plain": [
       "       continent funded_amount                           loan_amount   \n",
       "                         count          sum         mean       count   \n",
       "0         Africa        171423  126065344.0   735.405090      171423  \\\n",
       "1           Asia        322761  190881504.0   591.402039      322761   \n",
       "2         Europe          4624    6465425.0  1398.232056        4624   \n",
       "3  North America         82306   88570568.0  1076.113159       82306   \n",
       "4        Oceania          7931    6116920.0   771.267151        7931   \n",
       "5  South America         77927  105561200.0  1354.616455       77927   \n",
       "\n",
       "                             \n",
       "           sum         mean  \n",
       "0  133277504.0   777.477356  \n",
       "1  201540704.0   624.427063  \n",
       "2    6893175.0  1490.738525  \n",
       "3  101945048.0  1238.610107  \n",
       "4    6783325.0   855.292542  \n",
       "5  109998752.0  1411.561523  "
      ]
     },
     "execution_count": 45,
     "metadata": {},
     "output_type": "execute_result"
    }
   ],
   "source": [
    "# Creating grouped table\n",
    "df_overview_continents = df_kiva_reduced.groupby(by='continent', as_index=False).agg(func={'funded_amount': ['count', 'sum', 'mean'], 'loan_amount': ['count', 'sum', 'mean']})\n",
    "df_overview_continents"
   ]
  },
  {
   "cell_type": "markdown",
   "id": "fc6ed010",
   "metadata": {},
   "source": [
    "A first look at the global values shows us that Kiva has so far been by far the most active in Asia when we look at pure loans granted. Interestingly, this large gap closes when we look at total investments, both requested and actually delivered. Africa and South America are catching up in terms of total amounts. However, the average size of projects is largest in Europe and South America, whereas Asia and Africa are in the last two ranks."
   ]
  },
  {
   "cell_type": "markdown",
   "id": "75582903",
   "metadata": {},
   "source": [
    "### Kiva in various sectors"
   ]
  },
  {
   "cell_type": "code",
   "execution_count": null,
   "id": "e4b0dea6",
   "metadata": {},
   "outputs": [
    {
     "data": {
      "text/html": [
       "<div>\n",
       "<style scoped>\n",
       "    .dataframe tbody tr th:only-of-type {\n",
       "        vertical-align: middle;\n",
       "    }\n",
       "\n",
       "    .dataframe tbody tr th {\n",
       "        vertical-align: top;\n",
       "    }\n",
       "\n",
       "    .dataframe thead tr th {\n",
       "        text-align: left;\n",
       "    }\n",
       "</style>\n",
       "<table border=\"1\" class=\"dataframe\">\n",
       "  <thead>\n",
       "    <tr>\n",
       "      <th></th>\n",
       "      <th>sector</th>\n",
       "      <th colspan=\"3\" halign=\"left\">funded_amount</th>\n",
       "      <th colspan=\"3\" halign=\"left\">loan_amount</th>\n",
       "    </tr>\n",
       "    <tr>\n",
       "      <th></th>\n",
       "      <th></th>\n",
       "      <th>count</th>\n",
       "      <th>sum</th>\n",
       "      <th>mean</th>\n",
       "      <th>count</th>\n",
       "      <th>sum</th>\n",
       "      <th>mean</th>\n",
       "    </tr>\n",
       "  </thead>\n",
       "  <tbody>\n",
       "    <tr>\n",
       "      <th>0</th>\n",
       "      <td>Agriculture</td>\n",
       "      <td>179221</td>\n",
       "      <td>133041272.0</td>\n",
       "      <td>742.330811</td>\n",
       "      <td>179221</td>\n",
       "      <td>142107056.0</td>\n",
       "      <td>792.915222</td>\n",
       "    </tr>\n",
       "    <tr>\n",
       "      <th>1</th>\n",
       "      <td>Arts</td>\n",
       "      <td>11994</td>\n",
       "      <td>11717555.0</td>\n",
       "      <td>976.951416</td>\n",
       "      <td>11994</td>\n",
       "      <td>12107800.0</td>\n",
       "      <td>1009.488098</td>\n",
       "    </tr>\n",
       "    <tr>\n",
       "      <th>2</th>\n",
       "      <td>Clothing</td>\n",
       "      <td>32478</td>\n",
       "      <td>34534520.0</td>\n",
       "      <td>1063.320435</td>\n",
       "      <td>32478</td>\n",
       "      <td>36976400.0</td>\n",
       "      <td>1138.506104</td>\n",
       "    </tr>\n",
       "    <tr>\n",
       "      <th>3</th>\n",
       "      <td>Construction</td>\n",
       "      <td>6194</td>\n",
       "      <td>6174600.0</td>\n",
       "      <td>996.867920</td>\n",
       "      <td>6194</td>\n",
       "      <td>6531950.0</td>\n",
       "      <td>1054.560913</td>\n",
       "    </tr>\n",
       "    <tr>\n",
       "      <th>4</th>\n",
       "      <td>Education</td>\n",
       "      <td>30837</td>\n",
       "      <td>29866944.0</td>\n",
       "      <td>968.542480</td>\n",
       "      <td>30837</td>\n",
       "      <td>30773050.0</td>\n",
       "      <td>997.926208</td>\n",
       "    </tr>\n",
       "    <tr>\n",
       "      <th>5</th>\n",
       "      <td>Entertainment</td>\n",
       "      <td>820</td>\n",
       "      <td>1000645.0</td>\n",
       "      <td>1220.298828</td>\n",
       "      <td>820</td>\n",
       "      <td>1366650.0</td>\n",
       "      <td>1666.646362</td>\n",
       "    </tr>\n",
       "    <tr>\n",
       "      <th>6</th>\n",
       "      <td>Food</td>\n",
       "      <td>135746</td>\n",
       "      <td>114191352.0</td>\n",
       "      <td>841.213379</td>\n",
       "      <td>135746</td>\n",
       "      <td>120509728.0</td>\n",
       "      <td>887.758972</td>\n",
       "    </tr>\n",
       "    <tr>\n",
       "      <th>7</th>\n",
       "      <td>Health</td>\n",
       "      <td>9172</td>\n",
       "      <td>9119750.0</td>\n",
       "      <td>994.303345</td>\n",
       "      <td>9172</td>\n",
       "      <td>9788100.0</td>\n",
       "      <td>1067.171875</td>\n",
       "    </tr>\n",
       "    <tr>\n",
       "      <th>8</th>\n",
       "      <td>Housing</td>\n",
       "      <td>33571</td>\n",
       "      <td>21253450.0</td>\n",
       "      <td>633.089600</td>\n",
       "      <td>33571</td>\n",
       "      <td>23513224.0</td>\n",
       "      <td>700.402832</td>\n",
       "    </tr>\n",
       "    <tr>\n",
       "      <th>9</th>\n",
       "      <td>Manufacturing</td>\n",
       "      <td>6158</td>\n",
       "      <td>5298525.0</td>\n",
       "      <td>860.429504</td>\n",
       "      <td>6158</td>\n",
       "      <td>5385475.0</td>\n",
       "      <td>874.549377</td>\n",
       "    </tr>\n",
       "    <tr>\n",
       "      <th>10</th>\n",
       "      <td>Personal Use</td>\n",
       "      <td>36246</td>\n",
       "      <td>14127275.0</td>\n",
       "      <td>389.760925</td>\n",
       "      <td>36246</td>\n",
       "      <td>14880400.0</td>\n",
       "      <td>410.539093</td>\n",
       "    </tr>\n",
       "    <tr>\n",
       "      <th>11</th>\n",
       "      <td>Retail</td>\n",
       "      <td>123758</td>\n",
       "      <td>90203352.0</td>\n",
       "      <td>728.868835</td>\n",
       "      <td>123758</td>\n",
       "      <td>97322272.0</td>\n",
       "      <td>786.391785</td>\n",
       "    </tr>\n",
       "    <tr>\n",
       "      <th>12</th>\n",
       "      <td>Services</td>\n",
       "      <td>44696</td>\n",
       "      <td>42437740.0</td>\n",
       "      <td>949.475098</td>\n",
       "      <td>44696</td>\n",
       "      <td>47297376.0</td>\n",
       "      <td>1058.201538</td>\n",
       "    </tr>\n",
       "    <tr>\n",
       "      <th>13</th>\n",
       "      <td>Transportation</td>\n",
       "      <td>15455</td>\n",
       "      <td>9786090.0</td>\n",
       "      <td>633.198975</td>\n",
       "      <td>15455</td>\n",
       "      <td>10944850.0</td>\n",
       "      <td>708.175354</td>\n",
       "    </tr>\n",
       "    <tr>\n",
       "      <th>14</th>\n",
       "      <td>Wholesale</td>\n",
       "      <td>626</td>\n",
       "      <td>907875.0</td>\n",
       "      <td>1450.279541</td>\n",
       "      <td>626</td>\n",
       "      <td>934175.0</td>\n",
       "      <td>1492.292358</td>\n",
       "    </tr>\n",
       "  </tbody>\n",
       "</table>\n",
       "</div>"
      ],
      "text/plain": [
       "            sector funded_amount                           loan_amount   \n",
       "                           count          sum         mean       count   \n",
       "0      Agriculture        179221  133041272.0   742.330811      179221  \\\n",
       "1             Arts         11994   11717555.0   976.951416       11994   \n",
       "2         Clothing         32478   34534520.0  1063.320435       32478   \n",
       "3     Construction          6194    6174600.0   996.867920        6194   \n",
       "4        Education         30837   29866944.0   968.542480       30837   \n",
       "5    Entertainment           820    1000645.0  1220.298828         820   \n",
       "6             Food        135746  114191352.0   841.213379      135746   \n",
       "7           Health          9172    9119750.0   994.303345        9172   \n",
       "8          Housing         33571   21253450.0   633.089600       33571   \n",
       "9    Manufacturing          6158    5298525.0   860.429504        6158   \n",
       "10    Personal Use         36246   14127275.0   389.760925       36246   \n",
       "11          Retail        123758   90203352.0   728.868835      123758   \n",
       "12        Services         44696   42437740.0   949.475098       44696   \n",
       "13  Transportation         15455    9786090.0   633.198975       15455   \n",
       "14       Wholesale           626     907875.0  1450.279541         626   \n",
       "\n",
       "                              \n",
       "            sum         mean  \n",
       "0   142107056.0   792.915222  \n",
       "1    12107800.0  1009.488098  \n",
       "2    36976400.0  1138.506104  \n",
       "3     6531950.0  1054.560913  \n",
       "4    30773050.0   997.926208  \n",
       "5     1366650.0  1666.646362  \n",
       "6   120509728.0   887.758972  \n",
       "7     9788100.0  1067.171875  \n",
       "8    23513224.0   700.402832  \n",
       "9     5385475.0   874.549377  \n",
       "10   14880400.0   410.539093  \n",
       "11   97322272.0   786.391785  \n",
       "12   47297376.0  1058.201538  \n",
       "13   10944850.0   708.175354  \n",
       "14     934175.0  1492.292358  "
      ]
     },
     "execution_count": 46,
     "metadata": {},
     "output_type": "execute_result"
    }
   ],
   "source": [
    "# Creating grouped table\n",
    "df_overview_sectors = df_kiva_reduced.groupby(by='sector' , as_index=False).agg(func={'funded_amount': ['count', 'sum', 'mean'], 'loan_amount': ['count', 'sum', 'mean']})\n",
    "df_overview_sectors"
   ]
  },
  {
   "cell_type": "markdown",
   "id": "253abb32",
   "metadata": {},
   "source": [
    "### Kiva and Gender"
   ]
  },
  {
   "cell_type": "code",
   "execution_count": null,
   "id": "86b513de",
   "metadata": {},
   "outputs": [
    {
     "data": {
      "text/html": [
       "<div>\n",
       "<style scoped>\n",
       "    .dataframe tbody tr th:only-of-type {\n",
       "        vertical-align: middle;\n",
       "    }\n",
       "\n",
       "    .dataframe tbody tr th {\n",
       "        vertical-align: top;\n",
       "    }\n",
       "\n",
       "    .dataframe thead tr th {\n",
       "        text-align: left;\n",
       "    }\n",
       "</style>\n",
       "<table border=\"1\" class=\"dataframe\">\n",
       "  <thead>\n",
       "    <tr>\n",
       "      <th></th>\n",
       "      <th>gender_of_borrowers</th>\n",
       "      <th colspan=\"3\" halign=\"left\">funded_amount</th>\n",
       "      <th colspan=\"3\" halign=\"left\">loan_amount</th>\n",
       "    </tr>\n",
       "    <tr>\n",
       "      <th></th>\n",
       "      <th></th>\n",
       "      <th>count</th>\n",
       "      <th>sum</th>\n",
       "      <th>mean</th>\n",
       "      <th>count</th>\n",
       "      <th>sum</th>\n",
       "      <th>mean</th>\n",
       "    </tr>\n",
       "  </thead>\n",
       "  <tbody>\n",
       "    <tr>\n",
       "      <th>0</th>\n",
       "      <td>female</td>\n",
       "      <td>488074</td>\n",
       "      <td>339860544.0</td>\n",
       "      <td>696.329956</td>\n",
       "      <td>488074</td>\n",
       "      <td>356517184.0</td>\n",
       "      <td>730.457214</td>\n",
       "    </tr>\n",
       "    <tr>\n",
       "      <th>1</th>\n",
       "      <td>male</td>\n",
       "      <td>138520</td>\n",
       "      <td>110445488.0</td>\n",
       "      <td>797.325195</td>\n",
       "      <td>138520</td>\n",
       "      <td>126916728.0</td>\n",
       "      <td>916.233948</td>\n",
       "    </tr>\n",
       "    <tr>\n",
       "      <th>2</th>\n",
       "      <td>mixed</td>\n",
       "      <td>40378</td>\n",
       "      <td>73354928.0</td>\n",
       "      <td>1816.705322</td>\n",
       "      <td>40378</td>\n",
       "      <td>77004576.0</td>\n",
       "      <td>1907.092407</td>\n",
       "    </tr>\n",
       "  </tbody>\n",
       "</table>\n",
       "</div>"
      ],
      "text/plain": [
       "  gender_of_borrowers funded_amount                           loan_amount   \n",
       "                              count          sum         mean       count   \n",
       "0              female        488074  339860544.0   696.329956      488074  \\\n",
       "1                male        138520  110445488.0   797.325195      138520   \n",
       "2               mixed         40378   73354928.0  1816.705322       40378   \n",
       "\n",
       "                             \n",
       "           sum         mean  \n",
       "0  356517184.0   730.457214  \n",
       "1  126916728.0   916.233948  \n",
       "2   77004576.0  1907.092407  "
      ]
     },
     "execution_count": 47,
     "metadata": {},
     "output_type": "execute_result"
    }
   ],
   "source": [
    "# Creating grouped table\n",
    "df_overview_gender = df_kiva_reduced.groupby(by='gender_of_borrowers' , as_index=False).agg(func={'funded_amount': ['count', 'sum', 'mean'], 'loan_amount': ['count', 'sum', 'mean']})\n",
    "df_overview_gender"
   ]
  },
  {
   "cell_type": "markdown",
   "id": "c835aad2",
   "metadata": {},
   "source": [
    "The first, superficial look at gender and Kiva shows that many more women's (groups) than men's (groups) have been supported in the company's history so far. Men and women together in groups applying for loans is the rarest. As a result, the absolute amounts have also been clearly distributed so far. Women (groups) have been lent more money than men (groups) or mixed groups. Interestingly, however, this picture is reversed if we take a look at the average size of the respective loans. Here, women-only groups apply for and receive less than men's or mixed groups."
   ]
  },
  {
   "cell_type": "code",
   "execution_count": null,
   "id": "112b7a90",
   "metadata": {
    "run_control": {
     "marked": false
    }
   },
   "outputs": [
    {
     "data": {
      "text/html": [
       "<div>\n",
       "<style scoped>\n",
       "    .dataframe tbody tr th:only-of-type {\n",
       "        vertical-align: middle;\n",
       "    }\n",
       "\n",
       "    .dataframe tbody tr th {\n",
       "        vertical-align: top;\n",
       "    }\n",
       "\n",
       "    .dataframe thead tr th {\n",
       "        text-align: left;\n",
       "    }\n",
       "</style>\n",
       "<table border=\"1\" class=\"dataframe\">\n",
       "  <thead>\n",
       "    <tr>\n",
       "      <th></th>\n",
       "      <th>gender_of_borrowers</th>\n",
       "      <th colspan=\"2\" halign=\"left\">mean_investment_received_per_borrower</th>\n",
       "    </tr>\n",
       "    <tr>\n",
       "      <th></th>\n",
       "      <th></th>\n",
       "      <th>count</th>\n",
       "      <th>mean</th>\n",
       "    </tr>\n",
       "  </thead>\n",
       "  <tbody>\n",
       "    <tr>\n",
       "      <th>0</th>\n",
       "      <td>female</td>\n",
       "      <td>488074</td>\n",
       "      <td>525.588745</td>\n",
       "    </tr>\n",
       "    <tr>\n",
       "      <th>1</th>\n",
       "      <td>male</td>\n",
       "      <td>138520</td>\n",
       "      <td>770.284424</td>\n",
       "    </tr>\n",
       "    <tr>\n",
       "      <th>2</th>\n",
       "      <td>mixed</td>\n",
       "      <td>40378</td>\n",
       "      <td>227.287292</td>\n",
       "    </tr>\n",
       "  </tbody>\n",
       "</table>\n",
       "</div>"
      ],
      "text/plain": [
       "  gender_of_borrowers mean_investment_received_per_borrower            \n",
       "                                                      count        mean\n",
       "0              female                                488074  525.588745\n",
       "1                male                                138520  770.284424\n",
       "2               mixed                                 40378  227.287292"
      ]
     },
     "execution_count": 48,
     "metadata": {},
     "output_type": "execute_result"
    }
   ],
   "source": [
    "# Creating grouped table\n",
    "df_overview_gender_1 = df_kiva_reduced.groupby(by='gender_of_borrowers' , as_index=False).agg(func={'mean_investment_received_per_borrower': ['count', 'mean'], })\n",
    "df_overview_gender_1"
   ]
  },
  {
   "cell_type": "markdown",
   "id": "9fc84623",
   "metadata": {},
   "source": [
    "A closer look at the amounts that actually reach people shows that women alone or in women-only groups receive significantly less money on average than men alone or in groups. Even less, however, is received per capita in mixed groups."
   ]
  },
  {
   "cell_type": "markdown",
   "id": "04f319bd",
   "metadata": {},
   "source": [
    "### Kiva and group size"
   ]
  },
  {
   "cell_type": "code",
   "execution_count": null,
   "id": "29506f1b",
   "metadata": {},
   "outputs": [
    {
     "data": {
      "text/html": [
       "<div>\n",
       "<style scoped>\n",
       "    .dataframe tbody tr th:only-of-type {\n",
       "        vertical-align: middle;\n",
       "    }\n",
       "\n",
       "    .dataframe tbody tr th {\n",
       "        vertical-align: top;\n",
       "    }\n",
       "\n",
       "    .dataframe thead tr th {\n",
       "        text-align: left;\n",
       "    }\n",
       "</style>\n",
       "<table border=\"1\" class=\"dataframe\">\n",
       "  <thead>\n",
       "    <tr>\n",
       "      <th></th>\n",
       "      <th>group_size</th>\n",
       "      <th colspan=\"3\" halign=\"left\">funded_amount</th>\n",
       "      <th colspan=\"3\" halign=\"left\">loan_amount</th>\n",
       "    </tr>\n",
       "    <tr>\n",
       "      <th></th>\n",
       "      <th></th>\n",
       "      <th>count</th>\n",
       "      <th>sum</th>\n",
       "      <th>mean</th>\n",
       "      <th>count</th>\n",
       "      <th>sum</th>\n",
       "      <th>mean</th>\n",
       "    </tr>\n",
       "  </thead>\n",
       "  <tbody>\n",
       "    <tr>\n",
       "      <th>0</th>\n",
       "      <td>individual person</td>\n",
       "      <td>561203</td>\n",
       "      <td>344880384.0</td>\n",
       "      <td>614.537659</td>\n",
       "      <td>561203</td>\n",
       "      <td>374039296.0</td>\n",
       "      <td>666.495544</td>\n",
       "    </tr>\n",
       "    <tr>\n",
       "      <th>1</th>\n",
       "      <td>small group (2-5)</td>\n",
       "      <td>59444</td>\n",
       "      <td>54793376.0</td>\n",
       "      <td>921.764648</td>\n",
       "      <td>59444</td>\n",
       "      <td>57973924.0</td>\n",
       "      <td>975.269592</td>\n",
       "    </tr>\n",
       "    <tr>\n",
       "      <th>2</th>\n",
       "      <td>medium group (6-10)</td>\n",
       "      <td>23264</td>\n",
       "      <td>53183848.0</td>\n",
       "      <td>2286.100830</td>\n",
       "      <td>23264</td>\n",
       "      <td>55950476.0</td>\n",
       "      <td>2405.023926</td>\n",
       "    </tr>\n",
       "    <tr>\n",
       "      <th>3</th>\n",
       "      <td>large group (10+)</td>\n",
       "      <td>23061</td>\n",
       "      <td>70803328.0</td>\n",
       "      <td>3070.262695</td>\n",
       "      <td>23061</td>\n",
       "      <td>72474800.0</td>\n",
       "      <td>3142.743164</td>\n",
       "    </tr>\n",
       "  </tbody>\n",
       "</table>\n",
       "</div>"
      ],
      "text/plain": [
       "            group_size funded_amount                           loan_amount   \n",
       "                               count          sum         mean       count   \n",
       "0    individual person        561203  344880384.0   614.537659      561203  \\\n",
       "1    small group (2-5)         59444   54793376.0   921.764648       59444   \n",
       "2  medium group (6-10)         23264   53183848.0  2286.100830       23264   \n",
       "3    large group (10+)         23061   70803328.0  3070.262695       23061   \n",
       "\n",
       "                             \n",
       "           sum         mean  \n",
       "0  374039296.0   666.495544  \n",
       "1   57973924.0   975.269592  \n",
       "2   55950476.0  2405.023926  \n",
       "3   72474800.0  3142.743164  "
      ]
     },
     "execution_count": 49,
     "metadata": {},
     "output_type": "execute_result"
    }
   ],
   "source": [
    "# Creating gropued table\n",
    "df_overview_groupsize = df_kiva_reduced.groupby(by='group_size' , as_index=False).agg(func={'funded_amount': ['count', 'sum', 'mean'], 'loan_amount': ['count', 'sum', 'mean']})\n",
    "df_overview_groupsize"
   ]
  },
  {
   "cell_type": "markdown",
   "id": "c37635c7",
   "metadata": {},
   "source": [
    "A first overview of group sizes shows that the platform was historically clearly designed for individuals and probably still is. As the group size increases, the number of projects decreases. The fact that large groups have a similar number of loans as medium groups is only due to the fact that the number of people behind them ranges from 11 to 50.\n",
    "\n",
    "It is nevertheless exciting to see that large groups have nevertheless received more investment money than small and medium groups."
   ]
  },
  {
   "cell_type": "code",
   "execution_count": null,
   "id": "6c398032",
   "metadata": {},
   "outputs": [
    {
     "data": {
      "text/html": [
       "<div>\n",
       "<style scoped>\n",
       "    .dataframe tbody tr th:only-of-type {\n",
       "        vertical-align: middle;\n",
       "    }\n",
       "\n",
       "    .dataframe tbody tr th {\n",
       "        vertical-align: top;\n",
       "    }\n",
       "\n",
       "    .dataframe thead tr th {\n",
       "        text-align: left;\n",
       "    }\n",
       "</style>\n",
       "<table border=\"1\" class=\"dataframe\">\n",
       "  <thead>\n",
       "    <tr>\n",
       "      <th></th>\n",
       "      <th>group_size</th>\n",
       "      <th colspan=\"2\" halign=\"left\">mean_investment_received_per_borrower</th>\n",
       "    </tr>\n",
       "    <tr>\n",
       "      <th></th>\n",
       "      <th></th>\n",
       "      <th>count</th>\n",
       "      <th>mean</th>\n",
       "    </tr>\n",
       "  </thead>\n",
       "  <tbody>\n",
       "    <tr>\n",
       "      <th>0</th>\n",
       "      <td>individual person</td>\n",
       "      <td>561203</td>\n",
       "      <td>614.537659</td>\n",
       "    </tr>\n",
       "    <tr>\n",
       "      <th>1</th>\n",
       "      <td>small group (2-5)</td>\n",
       "      <td>59444</td>\n",
       "      <td>278.021088</td>\n",
       "    </tr>\n",
       "    <tr>\n",
       "      <th>2</th>\n",
       "      <td>medium group (6-10)</td>\n",
       "      <td>23264</td>\n",
       "      <td>291.998230</td>\n",
       "    </tr>\n",
       "    <tr>\n",
       "      <th>3</th>\n",
       "      <td>large group (10+)</td>\n",
       "      <td>23061</td>\n",
       "      <td>182.267029</td>\n",
       "    </tr>\n",
       "  </tbody>\n",
       "</table>\n",
       "</div>"
      ],
      "text/plain": [
       "            group_size mean_investment_received_per_borrower            \n",
       "                                                       count        mean\n",
       "0    individual person                                561203  614.537659\n",
       "1    small group (2-5)                                 59444  278.021088\n",
       "2  medium group (6-10)                                 23264  291.998230\n",
       "3    large group (10+)                                 23061  182.267029"
      ]
     },
     "execution_count": 50,
     "metadata": {},
     "output_type": "execute_result"
    }
   ],
   "source": [
    "# Creating grouped table\n",
    "df_overview_groupsize_1 = df_kiva_reduced.groupby(by='group_size' , as_index=False).agg(func={'mean_investment_received_per_borrower': ['count', 'mean'], })\n",
    "df_overview_groupsize_1"
   ]
  },
  {
   "cell_type": "markdown",
   "id": "6376f6c1",
   "metadata": {},
   "source": [
    "However, if we break the investment sums down again to money received per capita, we find that the individual receives less and less as the group size increases, with a small countervailing result for medium groups, which receive slightly more money per person than small groups."
   ]
  },
  {
   "cell_type": "markdown",
   "id": "77671fef",
   "metadata": {},
   "source": [
    "## Analysis and plots"
   ]
  },
  {
   "cell_type": "markdown",
   "id": "7788f064",
   "metadata": {},
   "source": [
    "### World map for Kiva activities\n",
    "\n",
    "For an analysis, it makes sense to first get an overview of Kiva's global business. A world map seems appropriate:"
   ]
  },
  {
   "cell_type": "code",
   "execution_count": null,
   "id": "62117324",
   "metadata": {},
   "outputs": [
    {
     "data": {
      "text/html": [
       "<div>\n",
       "<style scoped>\n",
       "    .dataframe tbody tr th:only-of-type {\n",
       "        vertical-align: middle;\n",
       "    }\n",
       "\n",
       "    .dataframe tbody tr th {\n",
       "        vertical-align: top;\n",
       "    }\n",
       "\n",
       "    .dataframe thead th {\n",
       "        text-align: right;\n",
       "    }\n",
       "</style>\n",
       "<table border=\"1\" class=\"dataframe\">\n",
       "  <thead>\n",
       "    <tr style=\"text-align: right;\">\n",
       "      <th></th>\n",
       "      <th>country</th>\n",
       "      <th>country_code</th>\n",
       "      <th>funded_amount_count</th>\n",
       "      <th>funded_amount_sum</th>\n",
       "      <th>funded_amount_mean</th>\n",
       "      <th>continent</th>\n",
       "      <th>country_type</th>\n",
       "    </tr>\n",
       "  </thead>\n",
       "  <tbody>\n",
       "    <tr>\n",
       "      <th>1</th>\n",
       "      <td>Albania</td>\n",
       "      <td>AL</td>\n",
       "      <td>1917</td>\n",
       "      <td>2469575.0</td>\n",
       "      <td>1288.249878</td>\n",
       "      <td>Europe</td>\n",
       "      <td>Below 10 Mio USD</td>\n",
       "    </tr>\n",
       "    <tr>\n",
       "      <th>2</th>\n",
       "      <td>Armenia</td>\n",
       "      <td>AM</td>\n",
       "      <td>8628</td>\n",
       "      <td>11186225.0</td>\n",
       "      <td>1296.502686</td>\n",
       "      <td>Asia</td>\n",
       "      <td>Above 10 Mio USD, High Mean</td>\n",
       "    </tr>\n",
       "    <tr>\n",
       "      <th>3</th>\n",
       "      <td>Azerbaijan</td>\n",
       "      <td>AZ</td>\n",
       "      <td>1905</td>\n",
       "      <td>2653225.0</td>\n",
       "      <td>1392.769043</td>\n",
       "      <td>Asia</td>\n",
       "      <td>Below 10 Mio USD</td>\n",
       "    </tr>\n",
       "    <tr>\n",
       "      <th>4</th>\n",
       "      <td>Belize</td>\n",
       "      <td>BZ</td>\n",
       "      <td>123</td>\n",
       "      <td>111975.0</td>\n",
       "      <td>910.365845</td>\n",
       "      <td>North America</td>\n",
       "      <td>Below 10 Mio USD</td>\n",
       "    </tr>\n",
       "    <tr>\n",
       "      <th>5</th>\n",
       "      <td>Benin</td>\n",
       "      <td>BJ</td>\n",
       "      <td>497</td>\n",
       "      <td>516825.0</td>\n",
       "      <td>1039.889282</td>\n",
       "      <td>Africa</td>\n",
       "      <td>Below 10 Mio USD</td>\n",
       "    </tr>\n",
       "    <tr>\n",
       "      <th>...</th>\n",
       "      <td>...</td>\n",
       "      <td>...</td>\n",
       "      <td>...</td>\n",
       "      <td>...</td>\n",
       "      <td>...</td>\n",
       "      <td>...</td>\n",
       "      <td>...</td>\n",
       "    </tr>\n",
       "    <tr>\n",
       "      <th>80</th>\n",
       "      <td>United States</td>\n",
       "      <td>US</td>\n",
       "      <td>5928</td>\n",
       "      <td>22676016.0</td>\n",
       "      <td>3825.238770</td>\n",
       "      <td>North America</td>\n",
       "      <td>Above 10 Mio USD, High Mean</td>\n",
       "    </tr>\n",
       "    <tr>\n",
       "      <th>82</th>\n",
       "      <td>Vietnam</td>\n",
       "      <td>VN</td>\n",
       "      <td>10841</td>\n",
       "      <td>13660925.0</td>\n",
       "      <td>1260.116699</td>\n",
       "      <td>Asia</td>\n",
       "      <td>Above 10 Mio USD, High Volume and Mean</td>\n",
       "    </tr>\n",
       "    <tr>\n",
       "      <th>84</th>\n",
       "      <td>Yemen</td>\n",
       "      <td>YE</td>\n",
       "      <td>2308</td>\n",
       "      <td>1771950.0</td>\n",
       "      <td>767.742615</td>\n",
       "      <td>Asia</td>\n",
       "      <td>Below 10 Mio USD</td>\n",
       "    </tr>\n",
       "    <tr>\n",
       "      <th>85</th>\n",
       "      <td>Zambia</td>\n",
       "      <td>ZM</td>\n",
       "      <td>750</td>\n",
       "      <td>1119250.0</td>\n",
       "      <td>1492.333374</td>\n",
       "      <td>Africa</td>\n",
       "      <td>Below 10 Mio USD</td>\n",
       "    </tr>\n",
       "    <tr>\n",
       "      <th>86</th>\n",
       "      <td>Zimbabwe</td>\n",
       "      <td>ZW</td>\n",
       "      <td>3978</td>\n",
       "      <td>3327675.0</td>\n",
       "      <td>836.519592</td>\n",
       "      <td>Africa</td>\n",
       "      <td>Below 10 Mio USD</td>\n",
       "    </tr>\n",
       "  </tbody>\n",
       "</table>\n",
       "<p>75 rows × 7 columns</p>\n",
       "</div>"
      ],
      "text/plain": [
       "          country country_code  funded_amount_count  funded_amount_sum   \n",
       "1         Albania           AL                 1917          2469575.0  \\\n",
       "2         Armenia           AM                 8628         11186225.0   \n",
       "3      Azerbaijan           AZ                 1905          2653225.0   \n",
       "4          Belize           BZ                  123           111975.0   \n",
       "5           Benin           BJ                  497           516825.0   \n",
       "..            ...          ...                  ...                ...   \n",
       "80  United States           US                 5928         22676016.0   \n",
       "82        Vietnam           VN                10841         13660925.0   \n",
       "84          Yemen           YE                 2308          1771950.0   \n",
       "85         Zambia           ZM                  750          1119250.0   \n",
       "86       Zimbabwe           ZW                 3978          3327675.0   \n",
       "\n",
       "    funded_amount_mean      continent                            country_type  \n",
       "1          1288.249878         Europe                        Below 10 Mio USD  \n",
       "2          1296.502686           Asia             Above 10 Mio USD, High Mean  \n",
       "3          1392.769043           Asia                        Below 10 Mio USD  \n",
       "4           910.365845  North America                        Below 10 Mio USD  \n",
       "5          1039.889282         Africa                        Below 10 Mio USD  \n",
       "..                 ...            ...                                     ...  \n",
       "80         3825.238770  North America             Above 10 Mio USD, High Mean  \n",
       "82         1260.116699           Asia  Above 10 Mio USD, High Volume and Mean  \n",
       "84          767.742615           Asia                        Below 10 Mio USD  \n",
       "85         1492.333374         Africa                        Below 10 Mio USD  \n",
       "86          836.519592         Africa                        Below 10 Mio USD  \n",
       "\n",
       "[75 rows x 7 columns]"
      ]
     },
     "execution_count": 51,
     "metadata": {},
     "output_type": "execute_result"
    }
   ],
   "source": [
    "#Grouping data\n",
    "\n",
    "df_scatter_country = df_kiva_reduced.groupby(['country', 'country_code'], observed= True, as_index= False).agg(funded_amount_count = ('funded_amount', 'count'),\n",
    "                                                                               funded_amount_sum = ('funded_amount', 'sum'),\n",
    "                                                                               funded_amount_mean = ('funded_amount', 'mean'))\n",
    "\n",
    "# Adding continent\n",
    "df_scatter_country['continent'] = df_scatter_country.country.apply(lambda x: country_to_continent(x))\n",
    "df_scatter_country.loc[((df_scatter_country.loc[:,'country'] == 'The Democratic Republic of the Congo') | (df_scatter_country.loc[:,'country'] == \"Cote D'Ivoire\"), 'continent')] = 'Africa'\n",
    "df_scatter_country.loc[(df_scatter_country.loc[:,'country'] == \"Kosovo\"), 'continent'] = 'Europe'\n",
    "df_scatter_country.loc[((df_scatter_country.loc[:,'country'] == 'Timor-Leste') | (df_scatter_country.loc[:,'country'] == \"Myanmar (Burma)\"), 'continent')] = 'Asia'\n",
    "df_scatter_country.loc[(df_scatter_country.loc[:,'country'] == 'Virgin Islands'), 'continent'] = 'North America'\n",
    "\n",
    "# Project volume\n",
    "df_scatter_country['country_type'] = 'Below 10 Mio USD'\n",
    "df_scatter_country.loc[((df_scatter_country.loc[:,'funded_amount_sum'] > 10000000) & (df_scatter_country.loc[:,'funded_amount_count'] > 10000), 'country_type')] = 'Above 10 Mio USD, High Volume'\n",
    "df_scatter_country.loc[((df_scatter_country.loc[:,'funded_amount_mean'] > 1000) & (df_scatter_country.loc[:,'funded_amount_sum'] > 10000000), 'country_type')] = 'Above 10 Mio USD, High Mean'\n",
    "df_scatter_country.loc[((df_scatter_country.loc[:,'funded_amount_mean'] > 1000) & (df_scatter_country.loc[:,'funded_amount_count'] > 10000) & (df_scatter_country.loc[:,'funded_amount_sum'] > 10000000), 'country_type')] = 'Above 10 Mio USD, High Volume and Mean'\n",
    "\n",
    "\n",
    "# Credits threshold to see regular business\n",
    "df_scatter_country = df_scatter_country.loc[(df_scatter_country.loc[:,'funded_amount_count']>100)]\n",
    "df_scatter_country"
   ]
  },
  {
   "cell_type": "code",
   "execution_count": null,
   "id": "394ebbdb",
   "metadata": {},
   "outputs": [
    {
     "data": {
      "application/vnd.plotly.v1+json": {
       "config": {
        "plotlyServerURL": "https://plot.ly"
       },
       "data": [
        {
         "coloraxis": "coloraxis",
         "customdata": [
          [
           1917,
           2469575,
           1288.2498779296875
          ],
          [
           8628,
           11186225,
           1296.502685546875
          ],
          [
           1905,
           2653225,
           1392.76904296875
          ],
          [
           123,
           111975,
           910.3658447265625
          ],
          [
           497,
           516825,
           1039.8892822265625
          ],
          [
           8732,
           18210724,
           2085.515869140625
          ],
          [
           243,
           610850,
           2513.785888671875
          ],
          [
           2454,
           2908850,
           1185.3504638671875
          ],
          [
           825,
           2372400,
           2875.636474609375
          ],
          [
           34809,
           18784824,
           539.6542358398438
          ],
          [
           2227,
           874350,
           392.6133728027344
          ],
          [
           133,
           372525,
           2800.93994140625
          ],
          [
           21217,
           11968075,
           564.0795288085938
          ],
          [
           128,
           786250,
           6142.578125
          ],
          [
           1547,
           2010275,
           1299.4666748046875
          ],
          [
           478,
           2007900,
           4200.62744140625
          ],
          [
           13487,
           14568600,
           1080.19580078125
          ],
          [
           1639,
           1084925,
           661.9432373046875
          ],
          [
           39320,
           23059976,
           586.4693603515625
          ],
          [
           2408,
           3368800,
           1399.0032958984375
          ],
          [
           4295,
           4713075,
           1097.3399658203125
          ],
          [
           7234,
           10857175,
           1500.8536376953125
          ],
          [
           3583,
           2581225,
           720.4088745117188
          ],
          [
           6487,
           5631350,
           868.0977172851562
          ],
          [
           11194,
           6373500,
           569.3674926757812
          ],
          [
           6203,
           4539025,
           731.7467651367188
          ],
          [
           989,
           2605500,
           2634.479248046875
          ],
          [
           182,
           691050,
           3796.97802734375
          ],
          [
           4141,
           4401100,
           1062.8109130859375
          ],
          [
           75112,
           31969964,
           425.6305847167969
          ],
          [
           1398,
           1753675,
           1254.4169921875
          ],
          [
           5773,
           6728200,
           1165.4598388671875
          ],
          [
           1486,
           1160425,
           780.9050903320312
          ],
          [
           8776,
           11539125,
           1314.8502197265625
          ],
          [
           422,
           359525,
           851.9549560546875
          ],
          [
           3600,
           1141350,
           317.0416564941406
          ],
          [
           3818,
           1223125,
           320.3575134277344
          ],
          [
           1290,
           1590425,
           1232.8875732421875
          ],
          [
           6637,
           8337275,
           1256.1812744140625
          ],
          [
           5654,
           9228700,
           1632.24267578125
          ],
          [
           346,
           680825,
           1967.7022705078125
          ],
          [
           960,
           1582350,
           1648.28125
          ],
          [
           3467,
           1908300,
           550.418212890625
          ],
          [
           1864,
           3011950,
           1615.85302734375
          ],
          [
           717,
           307625,
           429.04461669921875
          ],
          [
           11676,
           9793500,
           838.7718505859375
          ],
          [
           10130,
           1904875,
           188.04293823242188
          ],
          [
           26853,
           12465425,
           464.20977783203125
          ],
          [
           8152,
           12017025,
           1474.119873046875
          ],
          [
           191,
           265175,
           1388.350830078125
          ],
          [
           11841,
           29297650,
           2474.254638671875
          ],
          [
           22179,
           30302100,
           1366.2518310546875
          ],
          [
           160361,
           54438076,
           339.4720458984375
          ],
          [
           6720,
           15473975,
           2302.6748046875
          ],
          [
           7372,
           5613400,
           761.44873046875
          ],
          [
           3258,
           6807575,
           2089.4951171875
          ],
          [
           5296,
           3864400,
           729.6828002929688
          ],
          [
           554,
           493875,
           891.4711303710938
          ],
          [
           377,
           572250,
           1517.904541015625
          ],
          [
           124,
           104675,
           844.1531982421875
          ],
          [
           219,
           530475,
           2422.26025390625
          ],
          [
           19518,
           13736925,
           703.8080444335938
          ],
          [
           5092,
           6248600,
           1227.140625
          ],
          [
           180,
           423350,
           2351.9443359375
          ],
          [
           3070,
           11016925,
           3588.574951171875
          ],
          [
           2676,
           2316900,
           865.8071899414062
          ],
          [
           5742,
           1476250,
           257.0968322753906
          ],
          [
           1701,
           721475,
           424.1475524902344
          ],
          [
           20390,
           14039000,
           688.5238037109375
          ],
          [
           963,
           1561350,
           1621.339599609375
          ],
          [
           5928,
           22676016,
           3825.23876953125
          ],
          [
           10841,
           13660925,
           1260.11669921875
          ],
          [
           2308,
           1771950,
           767.7426147460938
          ],
          [
           750,
           1119250,
           1492.3333740234375
          ],
          [
           3978,
           3327675,
           836.5195922851562
          ]
         ],
         "geo": "geo",
         "hovertemplate": "<b>%{hovertext}</b><br><br>Country=%{location}<br>Number of funded projects=%{customdata[0]}<br>Total investment sum per country in USD=%{z}<br>Mean investment sum per project in USD=%{customdata[2]}<extra></extra>",
         "hovertext": [
          "Albania",
          "Armenia",
          "Azerbaijan",
          "Belize",
          "Benin",
          "Bolivia",
          "Brazil",
          "Burkina Faso",
          "Burundi",
          "Cambodia",
          "Cameroon",
          "China",
          "Colombia",
          "Congo",
          "Costa Rica",
          "Dominican Republic",
          "Ecuador",
          "Egypt",
          "El Salvador",
          "Georgia",
          "Ghana",
          "Guatemala",
          "Haiti",
          "Honduras",
          "India",
          "Indonesia",
          "Iraq",
          "Israel",
          "Jordan",
          "Kenya",
          "Kosovo",
          "Kyrgyzstan",
          "Lao People's Democratic Republic",
          "Lebanon",
          "Lesotho",
          "Liberia",
          "Madagascar",
          "Malawi",
          "Mali",
          "Mexico",
          "Moldova",
          "Mongolia",
          "Mozambique",
          "Myanmar (Burma)",
          "Nepal",
          "Nicaragua",
          "Nigeria",
          "Pakistan",
          "Palestine",
          "Panama",
          "Paraguay",
          "Peru",
          "Philippines",
          "Rwanda",
          "Samoa",
          "Senegal",
          "Sierra Leone",
          "Solomon Islands",
          "South Africa",
          "South Sudan",
          "Suriname",
          "Tajikistan",
          "Tanzania",
          "Thailand",
          "The Democratic Republic of the Congo",
          "Timor-Leste",
          "Togo",
          "Turkey",
          "Uganda",
          "Ukraine",
          "United States",
          "Vietnam",
          "Yemen",
          "Zambia",
          "Zimbabwe"
         ],
         "locationmode": "country names",
         "locations": [
          "Albania",
          "Armenia",
          "Azerbaijan",
          "Belize",
          "Benin",
          "Bolivia",
          "Brazil",
          "Burkina Faso",
          "Burundi",
          "Cambodia",
          "Cameroon",
          "China",
          "Colombia",
          "Congo",
          "Costa Rica",
          "Dominican Republic",
          "Ecuador",
          "Egypt",
          "El Salvador",
          "Georgia",
          "Ghana",
          "Guatemala",
          "Haiti",
          "Honduras",
          "India",
          "Indonesia",
          "Iraq",
          "Israel",
          "Jordan",
          "Kenya",
          "Kosovo",
          "Kyrgyzstan",
          "Lao People's Democratic Republic",
          "Lebanon",
          "Lesotho",
          "Liberia",
          "Madagascar",
          "Malawi",
          "Mali",
          "Mexico",
          "Moldova",
          "Mongolia",
          "Mozambique",
          "Myanmar (Burma)",
          "Nepal",
          "Nicaragua",
          "Nigeria",
          "Pakistan",
          "Palestine",
          "Panama",
          "Paraguay",
          "Peru",
          "Philippines",
          "Rwanda",
          "Samoa",
          "Senegal",
          "Sierra Leone",
          "Solomon Islands",
          "South Africa",
          "South Sudan",
          "Suriname",
          "Tajikistan",
          "Tanzania",
          "Thailand",
          "The Democratic Republic of the Congo",
          "Timor-Leste",
          "Togo",
          "Turkey",
          "Uganda",
          "Ukraine",
          "United States",
          "Vietnam",
          "Yemen",
          "Zambia",
          "Zimbabwe"
         ],
         "name": "",
         "type": "choropleth",
         "z": [
          2469575,
          11186225,
          2653225,
          111975,
          516825,
          18210724,
          610850,
          2908850,
          2372400,
          18784824,
          874350,
          372525,
          11968075,
          786250,
          2010275,
          2007900,
          14568600,
          1084925,
          23059976,
          3368800,
          4713075,
          10857175,
          2581225,
          5631350,
          6373500,
          4539025,
          2605500,
          691050,
          4401100,
          31969964,
          1753675,
          6728200,
          1160425,
          11539125,
          359525,
          1141350,
          1223125,
          1590425,
          8337275,
          9228700,
          680825,
          1582350,
          1908300,
          3011950,
          307625,
          9793500,
          1904875,
          12465425,
          12017025,
          265175,
          29297650,
          30302100,
          54438076,
          15473975,
          5613400,
          6807575,
          3864400,
          493875,
          572250,
          104675,
          530475,
          13736925,
          6248600,
          423350,
          11016925,
          2316900,
          1476250,
          721475,
          14039000,
          1561350,
          22676016,
          13660925,
          1771950,
          1119250,
          3327675
         ]
        }
       ],
       "layout": {
        "coloraxis": {
         "colorbar": {
          "title": {
           "text": "Total investment sum per country in USD"
          }
         },
         "colorscale": [
          [
           0,
           "#0d0887"
          ],
          [
           0.1111111111111111,
           "#46039f"
          ],
          [
           0.2222222222222222,
           "#7201a8"
          ],
          [
           0.3333333333333333,
           "#9c179e"
          ],
          [
           0.4444444444444444,
           "#bd3786"
          ],
          [
           0.5555555555555556,
           "#d8576b"
          ],
          [
           0.6666666666666666,
           "#ed7953"
          ],
          [
           0.7777777777777778,
           "#fb9f3a"
          ],
          [
           0.8888888888888888,
           "#fdca26"
          ],
          [
           1,
           "#f0f921"
          ]
         ]
        },
        "geo": {
         "center": {},
         "domain": {
          "x": [
           0,
           1
          ],
          "y": [
           0,
           1
          ]
         },
         "projection": {
          "type": "natural earth"
         }
        },
        "legend": {
         "tracegroupgap": 0
        },
        "margin": {
         "t": 60
        },
        "template": {
         "data": {
          "bar": [
           {
            "error_x": {
             "color": "#2a3f5f"
            },
            "error_y": {
             "color": "#2a3f5f"
            },
            "marker": {
             "line": {
              "color": "#E5ECF6",
              "width": 0.5
             },
             "pattern": {
              "fillmode": "overlay",
              "size": 10,
              "solidity": 0.2
             }
            },
            "type": "bar"
           }
          ],
          "barpolar": [
           {
            "marker": {
             "line": {
              "color": "#E5ECF6",
              "width": 0.5
             },
             "pattern": {
              "fillmode": "overlay",
              "size": 10,
              "solidity": 0.2
             }
            },
            "type": "barpolar"
           }
          ],
          "carpet": [
           {
            "aaxis": {
             "endlinecolor": "#2a3f5f",
             "gridcolor": "white",
             "linecolor": "white",
             "minorgridcolor": "white",
             "startlinecolor": "#2a3f5f"
            },
            "baxis": {
             "endlinecolor": "#2a3f5f",
             "gridcolor": "white",
             "linecolor": "white",
             "minorgridcolor": "white",
             "startlinecolor": "#2a3f5f"
            },
            "type": "carpet"
           }
          ],
          "choropleth": [
           {
            "colorbar": {
             "outlinewidth": 0,
             "ticks": ""
            },
            "type": "choropleth"
           }
          ],
          "contour": [
           {
            "colorbar": {
             "outlinewidth": 0,
             "ticks": ""
            },
            "colorscale": [
             [
              0,
              "#0d0887"
             ],
             [
              0.1111111111111111,
              "#46039f"
             ],
             [
              0.2222222222222222,
              "#7201a8"
             ],
             [
              0.3333333333333333,
              "#9c179e"
             ],
             [
              0.4444444444444444,
              "#bd3786"
             ],
             [
              0.5555555555555556,
              "#d8576b"
             ],
             [
              0.6666666666666666,
              "#ed7953"
             ],
             [
              0.7777777777777778,
              "#fb9f3a"
             ],
             [
              0.8888888888888888,
              "#fdca26"
             ],
             [
              1,
              "#f0f921"
             ]
            ],
            "type": "contour"
           }
          ],
          "contourcarpet": [
           {
            "colorbar": {
             "outlinewidth": 0,
             "ticks": ""
            },
            "type": "contourcarpet"
           }
          ],
          "heatmap": [
           {
            "colorbar": {
             "outlinewidth": 0,
             "ticks": ""
            },
            "colorscale": [
             [
              0,
              "#0d0887"
             ],
             [
              0.1111111111111111,
              "#46039f"
             ],
             [
              0.2222222222222222,
              "#7201a8"
             ],
             [
              0.3333333333333333,
              "#9c179e"
             ],
             [
              0.4444444444444444,
              "#bd3786"
             ],
             [
              0.5555555555555556,
              "#d8576b"
             ],
             [
              0.6666666666666666,
              "#ed7953"
             ],
             [
              0.7777777777777778,
              "#fb9f3a"
             ],
             [
              0.8888888888888888,
              "#fdca26"
             ],
             [
              1,
              "#f0f921"
             ]
            ],
            "type": "heatmap"
           }
          ],
          "heatmapgl": [
           {
            "colorbar": {
             "outlinewidth": 0,
             "ticks": ""
            },
            "colorscale": [
             [
              0,
              "#0d0887"
             ],
             [
              0.1111111111111111,
              "#46039f"
             ],
             [
              0.2222222222222222,
              "#7201a8"
             ],
             [
              0.3333333333333333,
              "#9c179e"
             ],
             [
              0.4444444444444444,
              "#bd3786"
             ],
             [
              0.5555555555555556,
              "#d8576b"
             ],
             [
              0.6666666666666666,
              "#ed7953"
             ],
             [
              0.7777777777777778,
              "#fb9f3a"
             ],
             [
              0.8888888888888888,
              "#fdca26"
             ],
             [
              1,
              "#f0f921"
             ]
            ],
            "type": "heatmapgl"
           }
          ],
          "histogram": [
           {
            "marker": {
             "pattern": {
              "fillmode": "overlay",
              "size": 10,
              "solidity": 0.2
             }
            },
            "type": "histogram"
           }
          ],
          "histogram2d": [
           {
            "colorbar": {
             "outlinewidth": 0,
             "ticks": ""
            },
            "colorscale": [
             [
              0,
              "#0d0887"
             ],
             [
              0.1111111111111111,
              "#46039f"
             ],
             [
              0.2222222222222222,
              "#7201a8"
             ],
             [
              0.3333333333333333,
              "#9c179e"
             ],
             [
              0.4444444444444444,
              "#bd3786"
             ],
             [
              0.5555555555555556,
              "#d8576b"
             ],
             [
              0.6666666666666666,
              "#ed7953"
             ],
             [
              0.7777777777777778,
              "#fb9f3a"
             ],
             [
              0.8888888888888888,
              "#fdca26"
             ],
             [
              1,
              "#f0f921"
             ]
            ],
            "type": "histogram2d"
           }
          ],
          "histogram2dcontour": [
           {
            "colorbar": {
             "outlinewidth": 0,
             "ticks": ""
            },
            "colorscale": [
             [
              0,
              "#0d0887"
             ],
             [
              0.1111111111111111,
              "#46039f"
             ],
             [
              0.2222222222222222,
              "#7201a8"
             ],
             [
              0.3333333333333333,
              "#9c179e"
             ],
             [
              0.4444444444444444,
              "#bd3786"
             ],
             [
              0.5555555555555556,
              "#d8576b"
             ],
             [
              0.6666666666666666,
              "#ed7953"
             ],
             [
              0.7777777777777778,
              "#fb9f3a"
             ],
             [
              0.8888888888888888,
              "#fdca26"
             ],
             [
              1,
              "#f0f921"
             ]
            ],
            "type": "histogram2dcontour"
           }
          ],
          "mesh3d": [
           {
            "colorbar": {
             "outlinewidth": 0,
             "ticks": ""
            },
            "type": "mesh3d"
           }
          ],
          "parcoords": [
           {
            "line": {
             "colorbar": {
              "outlinewidth": 0,
              "ticks": ""
             }
            },
            "type": "parcoords"
           }
          ],
          "pie": [
           {
            "automargin": true,
            "type": "pie"
           }
          ],
          "scatter": [
           {
            "fillpattern": {
             "fillmode": "overlay",
             "size": 10,
             "solidity": 0.2
            },
            "type": "scatter"
           }
          ],
          "scatter3d": [
           {
            "line": {
             "colorbar": {
              "outlinewidth": 0,
              "ticks": ""
             }
            },
            "marker": {
             "colorbar": {
              "outlinewidth": 0,
              "ticks": ""
             }
            },
            "type": "scatter3d"
           }
          ],
          "scattercarpet": [
           {
            "marker": {
             "colorbar": {
              "outlinewidth": 0,
              "ticks": ""
             }
            },
            "type": "scattercarpet"
           }
          ],
          "scattergeo": [
           {
            "marker": {
             "colorbar": {
              "outlinewidth": 0,
              "ticks": ""
             }
            },
            "type": "scattergeo"
           }
          ],
          "scattergl": [
           {
            "marker": {
             "colorbar": {
              "outlinewidth": 0,
              "ticks": ""
             }
            },
            "type": "scattergl"
           }
          ],
          "scattermapbox": [
           {
            "marker": {
             "colorbar": {
              "outlinewidth": 0,
              "ticks": ""
             }
            },
            "type": "scattermapbox"
           }
          ],
          "scatterpolar": [
           {
            "marker": {
             "colorbar": {
              "outlinewidth": 0,
              "ticks": ""
             }
            },
            "type": "scatterpolar"
           }
          ],
          "scatterpolargl": [
           {
            "marker": {
             "colorbar": {
              "outlinewidth": 0,
              "ticks": ""
             }
            },
            "type": "scatterpolargl"
           }
          ],
          "scatterternary": [
           {
            "marker": {
             "colorbar": {
              "outlinewidth": 0,
              "ticks": ""
             }
            },
            "type": "scatterternary"
           }
          ],
          "surface": [
           {
            "colorbar": {
             "outlinewidth": 0,
             "ticks": ""
            },
            "colorscale": [
             [
              0,
              "#0d0887"
             ],
             [
              0.1111111111111111,
              "#46039f"
             ],
             [
              0.2222222222222222,
              "#7201a8"
             ],
             [
              0.3333333333333333,
              "#9c179e"
             ],
             [
              0.4444444444444444,
              "#bd3786"
             ],
             [
              0.5555555555555556,
              "#d8576b"
             ],
             [
              0.6666666666666666,
              "#ed7953"
             ],
             [
              0.7777777777777778,
              "#fb9f3a"
             ],
             [
              0.8888888888888888,
              "#fdca26"
             ],
             [
              1,
              "#f0f921"
             ]
            ],
            "type": "surface"
           }
          ],
          "table": [
           {
            "cells": {
             "fill": {
              "color": "#EBF0F8"
             },
             "line": {
              "color": "white"
             }
            },
            "header": {
             "fill": {
              "color": "#C8D4E3"
             },
             "line": {
              "color": "white"
             }
            },
            "type": "table"
           }
          ]
         },
         "layout": {
          "annotationdefaults": {
           "arrowcolor": "#2a3f5f",
           "arrowhead": 0,
           "arrowwidth": 1
          },
          "autotypenumbers": "strict",
          "coloraxis": {
           "colorbar": {
            "outlinewidth": 0,
            "ticks": ""
           }
          },
          "colorscale": {
           "diverging": [
            [
             0,
             "#8e0152"
            ],
            [
             0.1,
             "#c51b7d"
            ],
            [
             0.2,
             "#de77ae"
            ],
            [
             0.3,
             "#f1b6da"
            ],
            [
             0.4,
             "#fde0ef"
            ],
            [
             0.5,
             "#f7f7f7"
            ],
            [
             0.6,
             "#e6f5d0"
            ],
            [
             0.7,
             "#b8e186"
            ],
            [
             0.8,
             "#7fbc41"
            ],
            [
             0.9,
             "#4d9221"
            ],
            [
             1,
             "#276419"
            ]
           ],
           "sequential": [
            [
             0,
             "#0d0887"
            ],
            [
             0.1111111111111111,
             "#46039f"
            ],
            [
             0.2222222222222222,
             "#7201a8"
            ],
            [
             0.3333333333333333,
             "#9c179e"
            ],
            [
             0.4444444444444444,
             "#bd3786"
            ],
            [
             0.5555555555555556,
             "#d8576b"
            ],
            [
             0.6666666666666666,
             "#ed7953"
            ],
            [
             0.7777777777777778,
             "#fb9f3a"
            ],
            [
             0.8888888888888888,
             "#fdca26"
            ],
            [
             1,
             "#f0f921"
            ]
           ],
           "sequentialminus": [
            [
             0,
             "#0d0887"
            ],
            [
             0.1111111111111111,
             "#46039f"
            ],
            [
             0.2222222222222222,
             "#7201a8"
            ],
            [
             0.3333333333333333,
             "#9c179e"
            ],
            [
             0.4444444444444444,
             "#bd3786"
            ],
            [
             0.5555555555555556,
             "#d8576b"
            ],
            [
             0.6666666666666666,
             "#ed7953"
            ],
            [
             0.7777777777777778,
             "#fb9f3a"
            ],
            [
             0.8888888888888888,
             "#fdca26"
            ],
            [
             1,
             "#f0f921"
            ]
           ]
          },
          "colorway": [
           "#636efa",
           "#EF553B",
           "#00cc96",
           "#ab63fa",
           "#FFA15A",
           "#19d3f3",
           "#FF6692",
           "#B6E880",
           "#FF97FF",
           "#FECB52"
          ],
          "font": {
           "color": "#2a3f5f"
          },
          "geo": {
           "bgcolor": "white",
           "lakecolor": "white",
           "landcolor": "#E5ECF6",
           "showlakes": true,
           "showland": true,
           "subunitcolor": "white"
          },
          "hoverlabel": {
           "align": "left"
          },
          "hovermode": "closest",
          "mapbox": {
           "style": "light"
          },
          "paper_bgcolor": "white",
          "plot_bgcolor": "#E5ECF6",
          "polar": {
           "angularaxis": {
            "gridcolor": "white",
            "linecolor": "white",
            "ticks": ""
           },
           "bgcolor": "#E5ECF6",
           "radialaxis": {
            "gridcolor": "white",
            "linecolor": "white",
            "ticks": ""
           }
          },
          "scene": {
           "xaxis": {
            "backgroundcolor": "#E5ECF6",
            "gridcolor": "white",
            "gridwidth": 2,
            "linecolor": "white",
            "showbackground": true,
            "ticks": "",
            "zerolinecolor": "white"
           },
           "yaxis": {
            "backgroundcolor": "#E5ECF6",
            "gridcolor": "white",
            "gridwidth": 2,
            "linecolor": "white",
            "showbackground": true,
            "ticks": "",
            "zerolinecolor": "white"
           },
           "zaxis": {
            "backgroundcolor": "#E5ECF6",
            "gridcolor": "white",
            "gridwidth": 2,
            "linecolor": "white",
            "showbackground": true,
            "ticks": "",
            "zerolinecolor": "white"
           }
          },
          "shapedefaults": {
           "line": {
            "color": "#2a3f5f"
           }
          },
          "ternary": {
           "aaxis": {
            "gridcolor": "white",
            "linecolor": "white",
            "ticks": ""
           },
           "baxis": {
            "gridcolor": "white",
            "linecolor": "white",
            "ticks": ""
           },
           "bgcolor": "#E5ECF6",
           "caxis": {
            "gridcolor": "white",
            "linecolor": "white",
            "ticks": ""
           }
          },
          "title": {
           "x": 0.05
          },
          "xaxis": {
           "automargin": true,
           "gridcolor": "white",
           "linecolor": "white",
           "ticks": "",
           "title": {
            "standoff": 15
           },
           "zerolinecolor": "white",
           "zerolinewidth": 2
          },
          "yaxis": {
           "automargin": true,
           "gridcolor": "white",
           "linecolor": "white",
           "ticks": "",
           "title": {
            "standoff": 15
           },
           "zerolinecolor": "white",
           "zerolinewidth": 2
          }
         }
        },
        "title": {
         "text": "<b>World Map of Kiva Activity</b><br>(total investment sum per country in USD)"
        }
       }
      },
      "text/html": [
       "<div>                            <div id=\"6e81caba-2aea-4b8f-b945-1cfef4c04c0b\" class=\"plotly-graph-div\" style=\"height:525px; width:100%;\"></div>            <script type=\"text/javascript\">                require([\"plotly\"], function(Plotly) {                    window.PLOTLYENV=window.PLOTLYENV || {};                                    if (document.getElementById(\"6e81caba-2aea-4b8f-b945-1cfef4c04c0b\")) {                    Plotly.newPlot(                        \"6e81caba-2aea-4b8f-b945-1cfef4c04c0b\",                        [{\"coloraxis\":\"coloraxis\",\"customdata\":[[1917.0,2469575.0,1288.2498779296875],[8628.0,11186225.0,1296.502685546875],[1905.0,2653225.0,1392.76904296875],[123.0,111975.0,910.3658447265625],[497.0,516825.0,1039.8892822265625],[8732.0,18210724.0,2085.515869140625],[243.0,610850.0,2513.785888671875],[2454.0,2908850.0,1185.3504638671875],[825.0,2372400.0,2875.636474609375],[34809.0,18784824.0,539.6542358398438],[2227.0,874350.0,392.6133728027344],[133.0,372525.0,2800.93994140625],[21217.0,11968075.0,564.0795288085938],[128.0,786250.0,6142.578125],[1547.0,2010275.0,1299.4666748046875],[478.0,2007900.0,4200.62744140625],[13487.0,14568600.0,1080.19580078125],[1639.0,1084925.0,661.9432373046875],[39320.0,23059976.0,586.4693603515625],[2408.0,3368800.0,1399.0032958984375],[4295.0,4713075.0,1097.3399658203125],[7234.0,10857175.0,1500.8536376953125],[3583.0,2581225.0,720.4088745117188],[6487.0,5631350.0,868.0977172851562],[11194.0,6373500.0,569.3674926757812],[6203.0,4539025.0,731.7467651367188],[989.0,2605500.0,2634.479248046875],[182.0,691050.0,3796.97802734375],[4141.0,4401100.0,1062.8109130859375],[75112.0,31969964.0,425.6305847167969],[1398.0,1753675.0,1254.4169921875],[5773.0,6728200.0,1165.4598388671875],[1486.0,1160425.0,780.9050903320312],[8776.0,11539125.0,1314.8502197265625],[422.0,359525.0,851.9549560546875],[3600.0,1141350.0,317.0416564941406],[3818.0,1223125.0,320.3575134277344],[1290.0,1590425.0,1232.8875732421875],[6637.0,8337275.0,1256.1812744140625],[5654.0,9228700.0,1632.24267578125],[346.0,680825.0,1967.7022705078125],[960.0,1582350.0,1648.28125],[3467.0,1908300.0,550.418212890625],[1864.0,3011950.0,1615.85302734375],[717.0,307625.0,429.04461669921875],[11676.0,9793500.0,838.7718505859375],[10130.0,1904875.0,188.04293823242188],[26853.0,12465425.0,464.20977783203125],[8152.0,12017025.0,1474.119873046875],[191.0,265175.0,1388.350830078125],[11841.0,29297650.0,2474.254638671875],[22179.0,30302100.0,1366.2518310546875],[160361.0,54438076.0,339.4720458984375],[6720.0,15473975.0,2302.6748046875],[7372.0,5613400.0,761.44873046875],[3258.0,6807575.0,2089.4951171875],[5296.0,3864400.0,729.6828002929688],[554.0,493875.0,891.4711303710938],[377.0,572250.0,1517.904541015625],[124.0,104675.0,844.1531982421875],[219.0,530475.0,2422.26025390625],[19518.0,13736925.0,703.8080444335938],[5092.0,6248600.0,1227.140625],[180.0,423350.0,2351.9443359375],[3070.0,11016925.0,3588.574951171875],[2676.0,2316900.0,865.8071899414062],[5742.0,1476250.0,257.0968322753906],[1701.0,721475.0,424.1475524902344],[20390.0,14039000.0,688.5238037109375],[963.0,1561350.0,1621.339599609375],[5928.0,22676016.0,3825.23876953125],[10841.0,13660925.0,1260.11669921875],[2308.0,1771950.0,767.7426147460938],[750.0,1119250.0,1492.3333740234375],[3978.0,3327675.0,836.5195922851562]],\"geo\":\"geo\",\"hovertemplate\":\"\\u003cb\\u003e%{hovertext}\\u003c\\u002fb\\u003e\\u003cbr\\u003e\\u003cbr\\u003eCountry=%{location}\\u003cbr\\u003eNumber of funded projects=%{customdata[0]}\\u003cbr\\u003eTotal investment sum per country in USD=%{z}\\u003cbr\\u003eMean investment sum per project in USD=%{customdata[2]}\\u003cextra\\u003e\\u003c\\u002fextra\\u003e\",\"hovertext\":[\"Albania\",\"Armenia\",\"Azerbaijan\",\"Belize\",\"Benin\",\"Bolivia\",\"Brazil\",\"Burkina Faso\",\"Burundi\",\"Cambodia\",\"Cameroon\",\"China\",\"Colombia\",\"Congo\",\"Costa Rica\",\"Dominican Republic\",\"Ecuador\",\"Egypt\",\"El Salvador\",\"Georgia\",\"Ghana\",\"Guatemala\",\"Haiti\",\"Honduras\",\"India\",\"Indonesia\",\"Iraq\",\"Israel\",\"Jordan\",\"Kenya\",\"Kosovo\",\"Kyrgyzstan\",\"Lao People's Democratic Republic\",\"Lebanon\",\"Lesotho\",\"Liberia\",\"Madagascar\",\"Malawi\",\"Mali\",\"Mexico\",\"Moldova\",\"Mongolia\",\"Mozambique\",\"Myanmar (Burma)\",\"Nepal\",\"Nicaragua\",\"Nigeria\",\"Pakistan\",\"Palestine\",\"Panama\",\"Paraguay\",\"Peru\",\"Philippines\",\"Rwanda\",\"Samoa\",\"Senegal\",\"Sierra Leone\",\"Solomon Islands\",\"South Africa\",\"South Sudan\",\"Suriname\",\"Tajikistan\",\"Tanzania\",\"Thailand\",\"The Democratic Republic of the Congo\",\"Timor-Leste\",\"Togo\",\"Turkey\",\"Uganda\",\"Ukraine\",\"United States\",\"Vietnam\",\"Yemen\",\"Zambia\",\"Zimbabwe\"],\"locationmode\":\"country names\",\"locations\":[\"Albania\",\"Armenia\",\"Azerbaijan\",\"Belize\",\"Benin\",\"Bolivia\",\"Brazil\",\"Burkina Faso\",\"Burundi\",\"Cambodia\",\"Cameroon\",\"China\",\"Colombia\",\"Congo\",\"Costa Rica\",\"Dominican Republic\",\"Ecuador\",\"Egypt\",\"El Salvador\",\"Georgia\",\"Ghana\",\"Guatemala\",\"Haiti\",\"Honduras\",\"India\",\"Indonesia\",\"Iraq\",\"Israel\",\"Jordan\",\"Kenya\",\"Kosovo\",\"Kyrgyzstan\",\"Lao People's Democratic Republic\",\"Lebanon\",\"Lesotho\",\"Liberia\",\"Madagascar\",\"Malawi\",\"Mali\",\"Mexico\",\"Moldova\",\"Mongolia\",\"Mozambique\",\"Myanmar (Burma)\",\"Nepal\",\"Nicaragua\",\"Nigeria\",\"Pakistan\",\"Palestine\",\"Panama\",\"Paraguay\",\"Peru\",\"Philippines\",\"Rwanda\",\"Samoa\",\"Senegal\",\"Sierra Leone\",\"Solomon Islands\",\"South Africa\",\"South Sudan\",\"Suriname\",\"Tajikistan\",\"Tanzania\",\"Thailand\",\"The Democratic Republic of the Congo\",\"Timor-Leste\",\"Togo\",\"Turkey\",\"Uganda\",\"Ukraine\",\"United States\",\"Vietnam\",\"Yemen\",\"Zambia\",\"Zimbabwe\"],\"name\":\"\",\"z\":[2469575.0,11186225.0,2653225.0,111975.0,516825.0,18210724.0,610850.0,2908850.0,2372400.0,18784824.0,874350.0,372525.0,11968075.0,786250.0,2010275.0,2007900.0,14568600.0,1084925.0,23059976.0,3368800.0,4713075.0,10857175.0,2581225.0,5631350.0,6373500.0,4539025.0,2605500.0,691050.0,4401100.0,31969964.0,1753675.0,6728200.0,1160425.0,11539125.0,359525.0,1141350.0,1223125.0,1590425.0,8337275.0,9228700.0,680825.0,1582350.0,1908300.0,3011950.0,307625.0,9793500.0,1904875.0,12465425.0,12017025.0,265175.0,29297650.0,30302100.0,54438076.0,15473975.0,5613400.0,6807575.0,3864400.0,493875.0,572250.0,104675.0,530475.0,13736925.0,6248600.0,423350.0,11016925.0,2316900.0,1476250.0,721475.0,14039000.0,1561350.0,22676016.0,13660925.0,1771950.0,1119250.0,3327675.0],\"type\":\"choropleth\"}],                        {\"template\":{\"data\":{\"histogram2dcontour\":[{\"type\":\"histogram2dcontour\",\"colorbar\":{\"outlinewidth\":0,\"ticks\":\"\"},\"colorscale\":[[0.0,\"#0d0887\"],[0.1111111111111111,\"#46039f\"],[0.2222222222222222,\"#7201a8\"],[0.3333333333333333,\"#9c179e\"],[0.4444444444444444,\"#bd3786\"],[0.5555555555555556,\"#d8576b\"],[0.6666666666666666,\"#ed7953\"],[0.7777777777777778,\"#fb9f3a\"],[0.8888888888888888,\"#fdca26\"],[1.0,\"#f0f921\"]]}],\"choropleth\":[{\"type\":\"choropleth\",\"colorbar\":{\"outlinewidth\":0,\"ticks\":\"\"}}],\"histogram2d\":[{\"type\":\"histogram2d\",\"colorbar\":{\"outlinewidth\":0,\"ticks\":\"\"},\"colorscale\":[[0.0,\"#0d0887\"],[0.1111111111111111,\"#46039f\"],[0.2222222222222222,\"#7201a8\"],[0.3333333333333333,\"#9c179e\"],[0.4444444444444444,\"#bd3786\"],[0.5555555555555556,\"#d8576b\"],[0.6666666666666666,\"#ed7953\"],[0.7777777777777778,\"#fb9f3a\"],[0.8888888888888888,\"#fdca26\"],[1.0,\"#f0f921\"]]}],\"heatmap\":[{\"type\":\"heatmap\",\"colorbar\":{\"outlinewidth\":0,\"ticks\":\"\"},\"colorscale\":[[0.0,\"#0d0887\"],[0.1111111111111111,\"#46039f\"],[0.2222222222222222,\"#7201a8\"],[0.3333333333333333,\"#9c179e\"],[0.4444444444444444,\"#bd3786\"],[0.5555555555555556,\"#d8576b\"],[0.6666666666666666,\"#ed7953\"],[0.7777777777777778,\"#fb9f3a\"],[0.8888888888888888,\"#fdca26\"],[1.0,\"#f0f921\"]]}],\"heatmapgl\":[{\"type\":\"heatmapgl\",\"colorbar\":{\"outlinewidth\":0,\"ticks\":\"\"},\"colorscale\":[[0.0,\"#0d0887\"],[0.1111111111111111,\"#46039f\"],[0.2222222222222222,\"#7201a8\"],[0.3333333333333333,\"#9c179e\"],[0.4444444444444444,\"#bd3786\"],[0.5555555555555556,\"#d8576b\"],[0.6666666666666666,\"#ed7953\"],[0.7777777777777778,\"#fb9f3a\"],[0.8888888888888888,\"#fdca26\"],[1.0,\"#f0f921\"]]}],\"contourcarpet\":[{\"type\":\"contourcarpet\",\"colorbar\":{\"outlinewidth\":0,\"ticks\":\"\"}}],\"contour\":[{\"type\":\"contour\",\"colorbar\":{\"outlinewidth\":0,\"ticks\":\"\"},\"colorscale\":[[0.0,\"#0d0887\"],[0.1111111111111111,\"#46039f\"],[0.2222222222222222,\"#7201a8\"],[0.3333333333333333,\"#9c179e\"],[0.4444444444444444,\"#bd3786\"],[0.5555555555555556,\"#d8576b\"],[0.6666666666666666,\"#ed7953\"],[0.7777777777777778,\"#fb9f3a\"],[0.8888888888888888,\"#fdca26\"],[1.0,\"#f0f921\"]]}],\"surface\":[{\"type\":\"surface\",\"colorbar\":{\"outlinewidth\":0,\"ticks\":\"\"},\"colorscale\":[[0.0,\"#0d0887\"],[0.1111111111111111,\"#46039f\"],[0.2222222222222222,\"#7201a8\"],[0.3333333333333333,\"#9c179e\"],[0.4444444444444444,\"#bd3786\"],[0.5555555555555556,\"#d8576b\"],[0.6666666666666666,\"#ed7953\"],[0.7777777777777778,\"#fb9f3a\"],[0.8888888888888888,\"#fdca26\"],[1.0,\"#f0f921\"]]}],\"mesh3d\":[{\"type\":\"mesh3d\",\"colorbar\":{\"outlinewidth\":0,\"ticks\":\"\"}}],\"scatter\":[{\"fillpattern\":{\"fillmode\":\"overlay\",\"size\":10,\"solidity\":0.2},\"type\":\"scatter\"}],\"parcoords\":[{\"type\":\"parcoords\",\"line\":{\"colorbar\":{\"outlinewidth\":0,\"ticks\":\"\"}}}],\"scatterpolargl\":[{\"type\":\"scatterpolargl\",\"marker\":{\"colorbar\":{\"outlinewidth\":0,\"ticks\":\"\"}}}],\"bar\":[{\"error_x\":{\"color\":\"#2a3f5f\"},\"error_y\":{\"color\":\"#2a3f5f\"},\"marker\":{\"line\":{\"color\":\"#E5ECF6\",\"width\":0.5},\"pattern\":{\"fillmode\":\"overlay\",\"size\":10,\"solidity\":0.2}},\"type\":\"bar\"}],\"scattergeo\":[{\"type\":\"scattergeo\",\"marker\":{\"colorbar\":{\"outlinewidth\":0,\"ticks\":\"\"}}}],\"scatterpolar\":[{\"type\":\"scatterpolar\",\"marker\":{\"colorbar\":{\"outlinewidth\":0,\"ticks\":\"\"}}}],\"histogram\":[{\"marker\":{\"pattern\":{\"fillmode\":\"overlay\",\"size\":10,\"solidity\":0.2}},\"type\":\"histogram\"}],\"scattergl\":[{\"type\":\"scattergl\",\"marker\":{\"colorbar\":{\"outlinewidth\":0,\"ticks\":\"\"}}}],\"scatter3d\":[{\"type\":\"scatter3d\",\"line\":{\"colorbar\":{\"outlinewidth\":0,\"ticks\":\"\"}},\"marker\":{\"colorbar\":{\"outlinewidth\":0,\"ticks\":\"\"}}}],\"scattermapbox\":[{\"type\":\"scattermapbox\",\"marker\":{\"colorbar\":{\"outlinewidth\":0,\"ticks\":\"\"}}}],\"scatterternary\":[{\"type\":\"scatterternary\",\"marker\":{\"colorbar\":{\"outlinewidth\":0,\"ticks\":\"\"}}}],\"scattercarpet\":[{\"type\":\"scattercarpet\",\"marker\":{\"colorbar\":{\"outlinewidth\":0,\"ticks\":\"\"}}}],\"carpet\":[{\"aaxis\":{\"endlinecolor\":\"#2a3f5f\",\"gridcolor\":\"white\",\"linecolor\":\"white\",\"minorgridcolor\":\"white\",\"startlinecolor\":\"#2a3f5f\"},\"baxis\":{\"endlinecolor\":\"#2a3f5f\",\"gridcolor\":\"white\",\"linecolor\":\"white\",\"minorgridcolor\":\"white\",\"startlinecolor\":\"#2a3f5f\"},\"type\":\"carpet\"}],\"table\":[{\"cells\":{\"fill\":{\"color\":\"#EBF0F8\"},\"line\":{\"color\":\"white\"}},\"header\":{\"fill\":{\"color\":\"#C8D4E3\"},\"line\":{\"color\":\"white\"}},\"type\":\"table\"}],\"barpolar\":[{\"marker\":{\"line\":{\"color\":\"#E5ECF6\",\"width\":0.5},\"pattern\":{\"fillmode\":\"overlay\",\"size\":10,\"solidity\":0.2}},\"type\":\"barpolar\"}],\"pie\":[{\"automargin\":true,\"type\":\"pie\"}]},\"layout\":{\"autotypenumbers\":\"strict\",\"colorway\":[\"#636efa\",\"#EF553B\",\"#00cc96\",\"#ab63fa\",\"#FFA15A\",\"#19d3f3\",\"#FF6692\",\"#B6E880\",\"#FF97FF\",\"#FECB52\"],\"font\":{\"color\":\"#2a3f5f\"},\"hovermode\":\"closest\",\"hoverlabel\":{\"align\":\"left\"},\"paper_bgcolor\":\"white\",\"plot_bgcolor\":\"#E5ECF6\",\"polar\":{\"bgcolor\":\"#E5ECF6\",\"angularaxis\":{\"gridcolor\":\"white\",\"linecolor\":\"white\",\"ticks\":\"\"},\"radialaxis\":{\"gridcolor\":\"white\",\"linecolor\":\"white\",\"ticks\":\"\"}},\"ternary\":{\"bgcolor\":\"#E5ECF6\",\"aaxis\":{\"gridcolor\":\"white\",\"linecolor\":\"white\",\"ticks\":\"\"},\"baxis\":{\"gridcolor\":\"white\",\"linecolor\":\"white\",\"ticks\":\"\"},\"caxis\":{\"gridcolor\":\"white\",\"linecolor\":\"white\",\"ticks\":\"\"}},\"coloraxis\":{\"colorbar\":{\"outlinewidth\":0,\"ticks\":\"\"}},\"colorscale\":{\"sequential\":[[0.0,\"#0d0887\"],[0.1111111111111111,\"#46039f\"],[0.2222222222222222,\"#7201a8\"],[0.3333333333333333,\"#9c179e\"],[0.4444444444444444,\"#bd3786\"],[0.5555555555555556,\"#d8576b\"],[0.6666666666666666,\"#ed7953\"],[0.7777777777777778,\"#fb9f3a\"],[0.8888888888888888,\"#fdca26\"],[1.0,\"#f0f921\"]],\"sequentialminus\":[[0.0,\"#0d0887\"],[0.1111111111111111,\"#46039f\"],[0.2222222222222222,\"#7201a8\"],[0.3333333333333333,\"#9c179e\"],[0.4444444444444444,\"#bd3786\"],[0.5555555555555556,\"#d8576b\"],[0.6666666666666666,\"#ed7953\"],[0.7777777777777778,\"#fb9f3a\"],[0.8888888888888888,\"#fdca26\"],[1.0,\"#f0f921\"]],\"diverging\":[[0,\"#8e0152\"],[0.1,\"#c51b7d\"],[0.2,\"#de77ae\"],[0.3,\"#f1b6da\"],[0.4,\"#fde0ef\"],[0.5,\"#f7f7f7\"],[0.6,\"#e6f5d0\"],[0.7,\"#b8e186\"],[0.8,\"#7fbc41\"],[0.9,\"#4d9221\"],[1,\"#276419\"]]},\"xaxis\":{\"gridcolor\":\"white\",\"linecolor\":\"white\",\"ticks\":\"\",\"title\":{\"standoff\":15},\"zerolinecolor\":\"white\",\"automargin\":true,\"zerolinewidth\":2},\"yaxis\":{\"gridcolor\":\"white\",\"linecolor\":\"white\",\"ticks\":\"\",\"title\":{\"standoff\":15},\"zerolinecolor\":\"white\",\"automargin\":true,\"zerolinewidth\":2},\"scene\":{\"xaxis\":{\"backgroundcolor\":\"#E5ECF6\",\"gridcolor\":\"white\",\"linecolor\":\"white\",\"showbackground\":true,\"ticks\":\"\",\"zerolinecolor\":\"white\",\"gridwidth\":2},\"yaxis\":{\"backgroundcolor\":\"#E5ECF6\",\"gridcolor\":\"white\",\"linecolor\":\"white\",\"showbackground\":true,\"ticks\":\"\",\"zerolinecolor\":\"white\",\"gridwidth\":2},\"zaxis\":{\"backgroundcolor\":\"#E5ECF6\",\"gridcolor\":\"white\",\"linecolor\":\"white\",\"showbackground\":true,\"ticks\":\"\",\"zerolinecolor\":\"white\",\"gridwidth\":2}},\"shapedefaults\":{\"line\":{\"color\":\"#2a3f5f\"}},\"annotationdefaults\":{\"arrowcolor\":\"#2a3f5f\",\"arrowhead\":0,\"arrowwidth\":1},\"geo\":{\"bgcolor\":\"white\",\"landcolor\":\"#E5ECF6\",\"subunitcolor\":\"white\",\"showland\":true,\"showlakes\":true,\"lakecolor\":\"white\"},\"title\":{\"x\":0.05},\"mapbox\":{\"style\":\"light\"}}},\"geo\":{\"domain\":{\"x\":[0.0,1.0],\"y\":[0.0,1.0]},\"projection\":{\"type\":\"natural earth\"},\"center\":{}},\"coloraxis\":{\"colorbar\":{\"title\":{\"text\":\"Total investment sum per country in USD\"}},\"colorscale\":[[0.0,\"#0d0887\"],[0.1111111111111111,\"#46039f\"],[0.2222222222222222,\"#7201a8\"],[0.3333333333333333,\"#9c179e\"],[0.4444444444444444,\"#bd3786\"],[0.5555555555555556,\"#d8576b\"],[0.6666666666666666,\"#ed7953\"],[0.7777777777777778,\"#fb9f3a\"],[0.8888888888888888,\"#fdca26\"],[1.0,\"#f0f921\"]]},\"legend\":{\"tracegroupgap\":0},\"margin\":{\"t\":60},\"title\":{\"text\":\"\\u003cb\\u003eWorld Map of Kiva Activity\\u003c\\u002fb\\u003e\\u003cbr\\u003e(total investment sum per country in USD)\"}},                        {\"responsive\": true}                    ).then(function(){\n",
       "                            \n",
       "var gd = document.getElementById('6e81caba-2aea-4b8f-b945-1cfef4c04c0b');\n",
       "var x = new MutationObserver(function (mutations, observer) {{\n",
       "        var display = window.getComputedStyle(gd).display;\n",
       "        if (!display || display === 'none') {{\n",
       "            console.log([gd, 'removed!']);\n",
       "            Plotly.purge(gd);\n",
       "            observer.disconnect();\n",
       "        }}\n",
       "}});\n",
       "\n",
       "// Listen for the removal of the full notebook cells\n",
       "var notebookContainer = gd.closest('#notebook-container');\n",
       "if (notebookContainer) {{\n",
       "    x.observe(notebookContainer, {childList: true});\n",
       "}}\n",
       "\n",
       "// Listen for the clearing of the current output cell\n",
       "var outputEl = gd.closest('.output');\n",
       "if (outputEl) {{\n",
       "    x.observe(outputEl, {childList: true});\n",
       "}}\n",
       "\n",
       "                        })                };                });            </script>        </div>"
      ]
     },
     "metadata": {},
     "output_type": "display_data"
    }
   ],
   "source": [
    "# Creating choropleth plot\n",
    "\n",
    "fig = px.choropleth(df_scatter_country, \n",
    "                     locations= 'country',\n",
    "                     locationmode= 'country names',\n",
    "                     projection= 'natural earth', \n",
    "                     color= 'funded_amount_sum', \n",
    "                     hover_name = 'country',\n",
    "                     hover_data = ['funded_amount_count', 'funded_amount_sum', 'funded_amount_mean'],\n",
    "                     labels= {'country':'Country', \n",
    "                              'funded_amount_sum':'Total investment sum per country in USD',\n",
    "                              'funded_amount_count':'Number of funded projects',\n",
    "                              'funded_amount_mean':'Mean investment sum per project in USD'})\n",
    "\n",
    "fig.update_layout(\n",
    "    title_text='<b>World Map of Kiva Activity</b><br>(total investment sum per country in USD)',\n",
    "    \n",
    ")\n",
    "\n",
    "\n",
    "fig.show()"
   ]
  },
  {
   "cell_type": "markdown",
   "id": "ef84cc89",
   "metadata": {},
   "source": [
    "This gives a good overview of all the activities that Kiva has carried out so far. It can be seen that the company has been very active on the African, Asian, North and South American continents. Centres for investments stand out in lighter colours. The Philippines, Kenya and Peru, for example, are worth mentioning here. There is little activity on the European continent. The same applies to Australia and Oceania. This gives a good overview of the dynamics in the past and the current state.\n",
    "\n",
    "However, this overview could also be used to define a desirable target state. There are many white spots that could be potential markets for business activities, if desired. For example, the centre, the north and the southwest of the African continent should be mentioned. But also Central Asia does not seem to be fully developed yet."
   ]
  },
  {
   "cell_type": "markdown",
   "id": "0558594e",
   "metadata": {},
   "source": [
    "### Scatter plot for rough country clustering"
   ]
  },
  {
   "cell_type": "code",
   "execution_count": null,
   "id": "f4d19289",
   "metadata": {
    "run_control": {
     "marked": false
    }
   },
   "outputs": [
    {
     "data": {
      "application/vnd.plotly.v1+json": {
       "config": {
        "plotlyServerURL": "https://plot.ly"
       },
       "data": [
        {
         "hovertemplate": "<b>%{hovertext}</b><br><br>Country type=Below 10 Mio USD<br>Mean size of investment in country=%{x}<br>Number of Projects=%{y}<br>Total sum of investments in country=%{marker.size}<extra></extra>",
         "hovertext": [
          "Albania",
          "Azerbaijan",
          "Belize",
          "Benin",
          "Brazil",
          "Burkina Faso",
          "Burundi",
          "Cameroon",
          "China",
          "Congo",
          "Costa Rica",
          "Dominican Republic",
          "Egypt",
          "Georgia",
          "Ghana",
          "Haiti",
          "Honduras",
          "India",
          "Indonesia",
          "Iraq",
          "Israel",
          "Jordan",
          "Kosovo",
          "Kyrgyzstan",
          "Lao People's Democratic Republic",
          "Lesotho",
          "Liberia",
          "Madagascar",
          "Malawi",
          "Mali",
          "Mexico",
          "Moldova",
          "Mongolia",
          "Mozambique",
          "Myanmar (Burma)",
          "Nepal",
          "Nicaragua",
          "Nigeria",
          "Panama",
          "Samoa",
          "Senegal",
          "Sierra Leone",
          "Solomon Islands",
          "South Africa",
          "South Sudan",
          "Suriname",
          "Tanzania",
          "Thailand",
          "Timor-Leste",
          "Togo",
          "Turkey",
          "Ukraine",
          "Yemen",
          "Zambia",
          "Zimbabwe"
         ],
         "legendgroup": "Below 10 Mio USD",
         "marker": {
          "color": "grey",
          "size": [
           2469575,
           2653225,
           111975,
           516825,
           610850,
           2908850,
           2372400,
           874350,
           372525,
           786250,
           2010275,
           2007900,
           1084925,
           3368800,
           4713075,
           2581225,
           5631350,
           6373500,
           4539025,
           2605500,
           691050,
           4401100,
           1753675,
           6728200,
           1160425,
           359525,
           1141350,
           1223125,
           1590425,
           8337275,
           9228700,
           680825,
           1582350,
           1908300,
           3011950,
           307625,
           9793500,
           1904875,
           265175,
           5613400,
           6807575,
           3864400,
           493875,
           572250,
           104675,
           530475,
           6248600,
           423350,
           2316900,
           1476250,
           721475,
           1561350,
           1771950,
           1119250,
           3327675
          ],
          "sizemode": "area",
          "sizeref": 34023.7975,
          "symbol": "circle"
         },
         "mode": "markers",
         "name": "Below 10 Mio USD",
         "orientation": "v",
         "showlegend": true,
         "type": "scatter",
         "x": [
          1288.2498779296875,
          1392.76904296875,
          910.3658447265625,
          1039.8892822265625,
          2513.785888671875,
          1185.3504638671875,
          2875.636474609375,
          392.6133728027344,
          2800.93994140625,
          6142.578125,
          1299.4666748046875,
          4200.62744140625,
          661.9432373046875,
          1399.0032958984375,
          1097.3399658203125,
          720.4088745117188,
          868.0977172851562,
          569.3674926757812,
          731.7467651367188,
          2634.479248046875,
          3796.97802734375,
          1062.8109130859375,
          1254.4169921875,
          1165.4598388671875,
          780.9050903320312,
          851.9549560546875,
          317.0416564941406,
          320.3575134277344,
          1232.8875732421875,
          1256.1812744140625,
          1632.24267578125,
          1967.7022705078125,
          1648.28125,
          550.418212890625,
          1615.85302734375,
          429.04461669921875,
          838.7718505859375,
          188.04293823242188,
          1388.350830078125,
          761.44873046875,
          2089.4951171875,
          729.6828002929688,
          891.4711303710938,
          1517.904541015625,
          844.1531982421875,
          2422.26025390625,
          1227.140625,
          2351.9443359375,
          865.8071899414062,
          257.0968322753906,
          424.1475524902344,
          1621.339599609375,
          767.7426147460938,
          1492.3333740234375,
          836.5195922851562
         ],
         "xaxis": "x",
         "y": [
          1917,
          1905,
          123,
          497,
          243,
          2454,
          825,
          2227,
          133,
          128,
          1547,
          478,
          1639,
          2408,
          4295,
          3583,
          6487,
          11194,
          6203,
          989,
          182,
          4141,
          1398,
          5773,
          1486,
          422,
          3600,
          3818,
          1290,
          6637,
          5654,
          346,
          960,
          3467,
          1864,
          717,
          11676,
          10130,
          191,
          7372,
          3258,
          5296,
          554,
          377,
          124,
          219,
          5092,
          180,
          2676,
          5742,
          1701,
          963,
          2308,
          750,
          3978
         ],
         "yaxis": "y"
        },
        {
         "hovertemplate": "<b>%{hovertext}</b><br><br>Country type=Above 10 Mio USD, High Mean<br>Mean size of investment in country=%{x}<br>Number of Projects=%{y}<br>Total sum of investments in country=%{marker.size}<extra></extra>",
         "hovertext": [
          "Armenia",
          "Bolivia",
          "Guatemala",
          "Lebanon",
          "Palestine",
          "Rwanda",
          "The Democratic Republic of the Congo",
          "United States"
         ],
         "legendgroup": "Above 10 Mio USD, High Mean",
         "marker": {
          "color": "#FFA15A",
          "size": [
           11186225,
           18210724,
           10857175,
           11539125,
           12017025,
           15473975,
           11016925,
           22676016
          ],
          "sizemode": "area",
          "sizeref": 34023.7975,
          "symbol": "circle"
         },
         "mode": "markers",
         "name": "Above 10 Mio USD, High Mean",
         "orientation": "v",
         "showlegend": true,
         "type": "scatter",
         "x": [
          1296.502685546875,
          2085.515869140625,
          1500.8536376953125,
          1314.8502197265625,
          1474.119873046875,
          2302.6748046875,
          3588.574951171875,
          3825.23876953125
         ],
         "xaxis": "x",
         "y": [
          8628,
          8732,
          7234,
          8776,
          8152,
          6720,
          3070,
          5928
         ],
         "yaxis": "y"
        },
        {
         "hovertemplate": "<b>%{hovertext}</b><br><br>Country type=Above 10 Mio USD, High Volume<br>Mean size of investment in country=%{x}<br>Number of Projects=%{y}<br>Total sum of investments in country=%{marker.size}<extra></extra>",
         "hovertext": [
          "Cambodia",
          "Colombia",
          "El Salvador",
          "Kenya",
          "Pakistan",
          "Philippines",
          "Tajikistan",
          "Uganda"
         ],
         "legendgroup": "Above 10 Mio USD, High Volume",
         "marker": {
          "color": "#19d3f3",
          "size": [
           18784824,
           11968075,
           23059976,
           31969964,
           12465425,
           54438076,
           13736925,
           14039000
          ],
          "sizemode": "area",
          "sizeref": 34023.7975,
          "symbol": "circle"
         },
         "mode": "markers",
         "name": "Above 10 Mio USD, High Volume",
         "orientation": "v",
         "showlegend": true,
         "type": "scatter",
         "x": [
          539.6542358398438,
          564.0795288085938,
          586.4693603515625,
          425.6305847167969,
          464.20977783203125,
          339.4720458984375,
          703.8080444335938,
          688.5238037109375
         ],
         "xaxis": "x",
         "y": [
          34809,
          21217,
          39320,
          75112,
          26853,
          160361,
          19518,
          20390
         ],
         "yaxis": "y"
        },
        {
         "hovertemplate": "<b>%{hovertext}</b><br><br>Country type=Above 10 Mio USD, High Volume and Mean<br>Mean size of investment in country=%{x}<br>Number of Projects=%{y}<br>Total sum of investments in country=%{marker.size}<extra></extra>",
         "hovertext": [
          "Ecuador",
          "Paraguay",
          "Peru",
          "Vietnam"
         ],
         "legendgroup": "Above 10 Mio USD, High Volume and Mean",
         "marker": {
          "color": "lightgreen",
          "size": [
           14568600,
           29297650,
           30302100,
           13660925
          ],
          "sizemode": "area",
          "sizeref": 34023.7975,
          "symbol": "circle"
         },
         "mode": "markers",
         "name": "Above 10 Mio USD, High Volume and Mean",
         "orientation": "v",
         "showlegend": true,
         "type": "scatter",
         "x": [
          1080.19580078125,
          2474.254638671875,
          1366.2518310546875,
          1260.11669921875
         ],
         "xaxis": "x",
         "y": [
          13487,
          11841,
          22179,
          10841
         ],
         "yaxis": "y"
        }
       ],
       "layout": {
        "legend": {
         "itemsizing": "constant",
         "title": {
          "text": "Country type"
         },
         "tracegroupgap": 0
        },
        "template": {
         "data": {
          "bar": [
           {
            "error_x": {
             "color": "#2a3f5f"
            },
            "error_y": {
             "color": "#2a3f5f"
            },
            "marker": {
             "line": {
              "color": "#E5ECF6",
              "width": 0.5
             },
             "pattern": {
              "fillmode": "overlay",
              "size": 10,
              "solidity": 0.2
             }
            },
            "type": "bar"
           }
          ],
          "barpolar": [
           {
            "marker": {
             "line": {
              "color": "#E5ECF6",
              "width": 0.5
             },
             "pattern": {
              "fillmode": "overlay",
              "size": 10,
              "solidity": 0.2
             }
            },
            "type": "barpolar"
           }
          ],
          "carpet": [
           {
            "aaxis": {
             "endlinecolor": "#2a3f5f",
             "gridcolor": "white",
             "linecolor": "white",
             "minorgridcolor": "white",
             "startlinecolor": "#2a3f5f"
            },
            "baxis": {
             "endlinecolor": "#2a3f5f",
             "gridcolor": "white",
             "linecolor": "white",
             "minorgridcolor": "white",
             "startlinecolor": "#2a3f5f"
            },
            "type": "carpet"
           }
          ],
          "choropleth": [
           {
            "colorbar": {
             "outlinewidth": 0,
             "ticks": ""
            },
            "type": "choropleth"
           }
          ],
          "contour": [
           {
            "colorbar": {
             "outlinewidth": 0,
             "ticks": ""
            },
            "colorscale": [
             [
              0,
              "#0d0887"
             ],
             [
              0.1111111111111111,
              "#46039f"
             ],
             [
              0.2222222222222222,
              "#7201a8"
             ],
             [
              0.3333333333333333,
              "#9c179e"
             ],
             [
              0.4444444444444444,
              "#bd3786"
             ],
             [
              0.5555555555555556,
              "#d8576b"
             ],
             [
              0.6666666666666666,
              "#ed7953"
             ],
             [
              0.7777777777777778,
              "#fb9f3a"
             ],
             [
              0.8888888888888888,
              "#fdca26"
             ],
             [
              1,
              "#f0f921"
             ]
            ],
            "type": "contour"
           }
          ],
          "contourcarpet": [
           {
            "colorbar": {
             "outlinewidth": 0,
             "ticks": ""
            },
            "type": "contourcarpet"
           }
          ],
          "heatmap": [
           {
            "colorbar": {
             "outlinewidth": 0,
             "ticks": ""
            },
            "colorscale": [
             [
              0,
              "#0d0887"
             ],
             [
              0.1111111111111111,
              "#46039f"
             ],
             [
              0.2222222222222222,
              "#7201a8"
             ],
             [
              0.3333333333333333,
              "#9c179e"
             ],
             [
              0.4444444444444444,
              "#bd3786"
             ],
             [
              0.5555555555555556,
              "#d8576b"
             ],
             [
              0.6666666666666666,
              "#ed7953"
             ],
             [
              0.7777777777777778,
              "#fb9f3a"
             ],
             [
              0.8888888888888888,
              "#fdca26"
             ],
             [
              1,
              "#f0f921"
             ]
            ],
            "type": "heatmap"
           }
          ],
          "heatmapgl": [
           {
            "colorbar": {
             "outlinewidth": 0,
             "ticks": ""
            },
            "colorscale": [
             [
              0,
              "#0d0887"
             ],
             [
              0.1111111111111111,
              "#46039f"
             ],
             [
              0.2222222222222222,
              "#7201a8"
             ],
             [
              0.3333333333333333,
              "#9c179e"
             ],
             [
              0.4444444444444444,
              "#bd3786"
             ],
             [
              0.5555555555555556,
              "#d8576b"
             ],
             [
              0.6666666666666666,
              "#ed7953"
             ],
             [
              0.7777777777777778,
              "#fb9f3a"
             ],
             [
              0.8888888888888888,
              "#fdca26"
             ],
             [
              1,
              "#f0f921"
             ]
            ],
            "type": "heatmapgl"
           }
          ],
          "histogram": [
           {
            "marker": {
             "pattern": {
              "fillmode": "overlay",
              "size": 10,
              "solidity": 0.2
             }
            },
            "type": "histogram"
           }
          ],
          "histogram2d": [
           {
            "colorbar": {
             "outlinewidth": 0,
             "ticks": ""
            },
            "colorscale": [
             [
              0,
              "#0d0887"
             ],
             [
              0.1111111111111111,
              "#46039f"
             ],
             [
              0.2222222222222222,
              "#7201a8"
             ],
             [
              0.3333333333333333,
              "#9c179e"
             ],
             [
              0.4444444444444444,
              "#bd3786"
             ],
             [
              0.5555555555555556,
              "#d8576b"
             ],
             [
              0.6666666666666666,
              "#ed7953"
             ],
             [
              0.7777777777777778,
              "#fb9f3a"
             ],
             [
              0.8888888888888888,
              "#fdca26"
             ],
             [
              1,
              "#f0f921"
             ]
            ],
            "type": "histogram2d"
           }
          ],
          "histogram2dcontour": [
           {
            "colorbar": {
             "outlinewidth": 0,
             "ticks": ""
            },
            "colorscale": [
             [
              0,
              "#0d0887"
             ],
             [
              0.1111111111111111,
              "#46039f"
             ],
             [
              0.2222222222222222,
              "#7201a8"
             ],
             [
              0.3333333333333333,
              "#9c179e"
             ],
             [
              0.4444444444444444,
              "#bd3786"
             ],
             [
              0.5555555555555556,
              "#d8576b"
             ],
             [
              0.6666666666666666,
              "#ed7953"
             ],
             [
              0.7777777777777778,
              "#fb9f3a"
             ],
             [
              0.8888888888888888,
              "#fdca26"
             ],
             [
              1,
              "#f0f921"
             ]
            ],
            "type": "histogram2dcontour"
           }
          ],
          "mesh3d": [
           {
            "colorbar": {
             "outlinewidth": 0,
             "ticks": ""
            },
            "type": "mesh3d"
           }
          ],
          "parcoords": [
           {
            "line": {
             "colorbar": {
              "outlinewidth": 0,
              "ticks": ""
             }
            },
            "type": "parcoords"
           }
          ],
          "pie": [
           {
            "automargin": true,
            "type": "pie"
           }
          ],
          "scatter": [
           {
            "fillpattern": {
             "fillmode": "overlay",
             "size": 10,
             "solidity": 0.2
            },
            "type": "scatter"
           }
          ],
          "scatter3d": [
           {
            "line": {
             "colorbar": {
              "outlinewidth": 0,
              "ticks": ""
             }
            },
            "marker": {
             "colorbar": {
              "outlinewidth": 0,
              "ticks": ""
             }
            },
            "type": "scatter3d"
           }
          ],
          "scattercarpet": [
           {
            "marker": {
             "colorbar": {
              "outlinewidth": 0,
              "ticks": ""
             }
            },
            "type": "scattercarpet"
           }
          ],
          "scattergeo": [
           {
            "marker": {
             "colorbar": {
              "outlinewidth": 0,
              "ticks": ""
             }
            },
            "type": "scattergeo"
           }
          ],
          "scattergl": [
           {
            "marker": {
             "colorbar": {
              "outlinewidth": 0,
              "ticks": ""
             }
            },
            "type": "scattergl"
           }
          ],
          "scattermapbox": [
           {
            "marker": {
             "colorbar": {
              "outlinewidth": 0,
              "ticks": ""
             }
            },
            "type": "scattermapbox"
           }
          ],
          "scatterpolar": [
           {
            "marker": {
             "colorbar": {
              "outlinewidth": 0,
              "ticks": ""
             }
            },
            "type": "scatterpolar"
           }
          ],
          "scatterpolargl": [
           {
            "marker": {
             "colorbar": {
              "outlinewidth": 0,
              "ticks": ""
             }
            },
            "type": "scatterpolargl"
           }
          ],
          "scatterternary": [
           {
            "marker": {
             "colorbar": {
              "outlinewidth": 0,
              "ticks": ""
             }
            },
            "type": "scatterternary"
           }
          ],
          "surface": [
           {
            "colorbar": {
             "outlinewidth": 0,
             "ticks": ""
            },
            "colorscale": [
             [
              0,
              "#0d0887"
             ],
             [
              0.1111111111111111,
              "#46039f"
             ],
             [
              0.2222222222222222,
              "#7201a8"
             ],
             [
              0.3333333333333333,
              "#9c179e"
             ],
             [
              0.4444444444444444,
              "#bd3786"
             ],
             [
              0.5555555555555556,
              "#d8576b"
             ],
             [
              0.6666666666666666,
              "#ed7953"
             ],
             [
              0.7777777777777778,
              "#fb9f3a"
             ],
             [
              0.8888888888888888,
              "#fdca26"
             ],
             [
              1,
              "#f0f921"
             ]
            ],
            "type": "surface"
           }
          ],
          "table": [
           {
            "cells": {
             "fill": {
              "color": "#EBF0F8"
             },
             "line": {
              "color": "white"
             }
            },
            "header": {
             "fill": {
              "color": "#C8D4E3"
             },
             "line": {
              "color": "white"
             }
            },
            "type": "table"
           }
          ]
         },
         "layout": {
          "annotationdefaults": {
           "arrowcolor": "#2a3f5f",
           "arrowhead": 0,
           "arrowwidth": 1
          },
          "autotypenumbers": "strict",
          "coloraxis": {
           "colorbar": {
            "outlinewidth": 0,
            "ticks": ""
           }
          },
          "colorscale": {
           "diverging": [
            [
             0,
             "#8e0152"
            ],
            [
             0.1,
             "#c51b7d"
            ],
            [
             0.2,
             "#de77ae"
            ],
            [
             0.3,
             "#f1b6da"
            ],
            [
             0.4,
             "#fde0ef"
            ],
            [
             0.5,
             "#f7f7f7"
            ],
            [
             0.6,
             "#e6f5d0"
            ],
            [
             0.7,
             "#b8e186"
            ],
            [
             0.8,
             "#7fbc41"
            ],
            [
             0.9,
             "#4d9221"
            ],
            [
             1,
             "#276419"
            ]
           ],
           "sequential": [
            [
             0,
             "#0d0887"
            ],
            [
             0.1111111111111111,
             "#46039f"
            ],
            [
             0.2222222222222222,
             "#7201a8"
            ],
            [
             0.3333333333333333,
             "#9c179e"
            ],
            [
             0.4444444444444444,
             "#bd3786"
            ],
            [
             0.5555555555555556,
             "#d8576b"
            ],
            [
             0.6666666666666666,
             "#ed7953"
            ],
            [
             0.7777777777777778,
             "#fb9f3a"
            ],
            [
             0.8888888888888888,
             "#fdca26"
            ],
            [
             1,
             "#f0f921"
            ]
           ],
           "sequentialminus": [
            [
             0,
             "#0d0887"
            ],
            [
             0.1111111111111111,
             "#46039f"
            ],
            [
             0.2222222222222222,
             "#7201a8"
            ],
            [
             0.3333333333333333,
             "#9c179e"
            ],
            [
             0.4444444444444444,
             "#bd3786"
            ],
            [
             0.5555555555555556,
             "#d8576b"
            ],
            [
             0.6666666666666666,
             "#ed7953"
            ],
            [
             0.7777777777777778,
             "#fb9f3a"
            ],
            [
             0.8888888888888888,
             "#fdca26"
            ],
            [
             1,
             "#f0f921"
            ]
           ]
          },
          "colorway": [
           "#636efa",
           "#EF553B",
           "#00cc96",
           "#ab63fa",
           "#FFA15A",
           "#19d3f3",
           "#FF6692",
           "#B6E880",
           "#FF97FF",
           "#FECB52"
          ],
          "font": {
           "color": "#2a3f5f"
          },
          "geo": {
           "bgcolor": "white",
           "lakecolor": "white",
           "landcolor": "#E5ECF6",
           "showlakes": true,
           "showland": true,
           "subunitcolor": "white"
          },
          "hoverlabel": {
           "align": "left"
          },
          "hovermode": "closest",
          "mapbox": {
           "style": "light"
          },
          "paper_bgcolor": "white",
          "plot_bgcolor": "#E5ECF6",
          "polar": {
           "angularaxis": {
            "gridcolor": "white",
            "linecolor": "white",
            "ticks": ""
           },
           "bgcolor": "#E5ECF6",
           "radialaxis": {
            "gridcolor": "white",
            "linecolor": "white",
            "ticks": ""
           }
          },
          "scene": {
           "xaxis": {
            "backgroundcolor": "#E5ECF6",
            "gridcolor": "white",
            "gridwidth": 2,
            "linecolor": "white",
            "showbackground": true,
            "ticks": "",
            "zerolinecolor": "white"
           },
           "yaxis": {
            "backgroundcolor": "#E5ECF6",
            "gridcolor": "white",
            "gridwidth": 2,
            "linecolor": "white",
            "showbackground": true,
            "ticks": "",
            "zerolinecolor": "white"
           },
           "zaxis": {
            "backgroundcolor": "#E5ECF6",
            "gridcolor": "white",
            "gridwidth": 2,
            "linecolor": "white",
            "showbackground": true,
            "ticks": "",
            "zerolinecolor": "white"
           }
          },
          "shapedefaults": {
           "line": {
            "color": "#2a3f5f"
           }
          },
          "ternary": {
           "aaxis": {
            "gridcolor": "white",
            "linecolor": "white",
            "ticks": ""
           },
           "baxis": {
            "gridcolor": "white",
            "linecolor": "white",
            "ticks": ""
           },
           "bgcolor": "#E5ECF6",
           "caxis": {
            "gridcolor": "white",
            "linecolor": "white",
            "ticks": ""
           }
          },
          "title": {
           "x": 0.05
          },
          "xaxis": {
           "automargin": true,
           "gridcolor": "white",
           "linecolor": "white",
           "ticks": "",
           "title": {
            "standoff": 15
           },
           "zerolinecolor": "white",
           "zerolinewidth": 2
          },
          "yaxis": {
           "automargin": true,
           "gridcolor": "white",
           "linecolor": "white",
           "ticks": "",
           "title": {
            "standoff": 15
           },
           "zerolinecolor": "white",
           "zerolinewidth": 2
          }
         }
        },
        "title": {
         "text": "<b>Overview funding per country with 100+ projects</b>"
        },
        "xaxis": {
         "anchor": "y",
         "domain": [
          0,
          1
         ],
         "title": {
          "text": "Mean size of investment in country"
         }
        },
        "yaxis": {
         "anchor": "x",
         "domain": [
          0,
          1
         ],
         "title": {
          "text": "Number of Projects"
         }
        }
       }
      },
      "text/html": [
       "<div>                            <div id=\"e0a68c4b-c259-426d-9384-bc09ae17b8fd\" class=\"plotly-graph-div\" style=\"height:525px; width:100%;\"></div>            <script type=\"text/javascript\">                require([\"plotly\"], function(Plotly) {                    window.PLOTLYENV=window.PLOTLYENV || {};                                    if (document.getElementById(\"e0a68c4b-c259-426d-9384-bc09ae17b8fd\")) {                    Plotly.newPlot(                        \"e0a68c4b-c259-426d-9384-bc09ae17b8fd\",                        [{\"hovertemplate\":\"\\u003cb\\u003e%{hovertext}\\u003c\\u002fb\\u003e\\u003cbr\\u003e\\u003cbr\\u003eCountry type=Below 10 Mio USD\\u003cbr\\u003eMean size of investment in country=%{x}\\u003cbr\\u003eNumber of Projects=%{y}\\u003cbr\\u003eTotal sum of investments in country=%{marker.size}\\u003cextra\\u003e\\u003c\\u002fextra\\u003e\",\"hovertext\":[\"Albania\",\"Azerbaijan\",\"Belize\",\"Benin\",\"Brazil\",\"Burkina Faso\",\"Burundi\",\"Cameroon\",\"China\",\"Congo\",\"Costa Rica\",\"Dominican Republic\",\"Egypt\",\"Georgia\",\"Ghana\",\"Haiti\",\"Honduras\",\"India\",\"Indonesia\",\"Iraq\",\"Israel\",\"Jordan\",\"Kosovo\",\"Kyrgyzstan\",\"Lao People's Democratic Republic\",\"Lesotho\",\"Liberia\",\"Madagascar\",\"Malawi\",\"Mali\",\"Mexico\",\"Moldova\",\"Mongolia\",\"Mozambique\",\"Myanmar (Burma)\",\"Nepal\",\"Nicaragua\",\"Nigeria\",\"Panama\",\"Samoa\",\"Senegal\",\"Sierra Leone\",\"Solomon Islands\",\"South Africa\",\"South Sudan\",\"Suriname\",\"Tanzania\",\"Thailand\",\"Timor-Leste\",\"Togo\",\"Turkey\",\"Ukraine\",\"Yemen\",\"Zambia\",\"Zimbabwe\"],\"legendgroup\":\"Below 10 Mio USD\",\"marker\":{\"color\":\"grey\",\"size\":[2469575.0,2653225.0,111975.0,516825.0,610850.0,2908850.0,2372400.0,874350.0,372525.0,786250.0,2010275.0,2007900.0,1084925.0,3368800.0,4713075.0,2581225.0,5631350.0,6373500.0,4539025.0,2605500.0,691050.0,4401100.0,1753675.0,6728200.0,1160425.0,359525.0,1141350.0,1223125.0,1590425.0,8337275.0,9228700.0,680825.0,1582350.0,1908300.0,3011950.0,307625.0,9793500.0,1904875.0,265175.0,5613400.0,6807575.0,3864400.0,493875.0,572250.0,104675.0,530475.0,6248600.0,423350.0,2316900.0,1476250.0,721475.0,1561350.0,1771950.0,1119250.0,3327675.0],\"sizemode\":\"area\",\"sizeref\":34023.7975,\"symbol\":\"circle\"},\"mode\":\"markers\",\"name\":\"Below 10 Mio USD\",\"orientation\":\"v\",\"showlegend\":true,\"x\":[1288.2498779296875,1392.76904296875,910.3658447265625,1039.8892822265625,2513.785888671875,1185.3504638671875,2875.636474609375,392.6133728027344,2800.93994140625,6142.578125,1299.4666748046875,4200.62744140625,661.9432373046875,1399.0032958984375,1097.3399658203125,720.4088745117188,868.0977172851562,569.3674926757812,731.7467651367188,2634.479248046875,3796.97802734375,1062.8109130859375,1254.4169921875,1165.4598388671875,780.9050903320312,851.9549560546875,317.0416564941406,320.3575134277344,1232.8875732421875,1256.1812744140625,1632.24267578125,1967.7022705078125,1648.28125,550.418212890625,1615.85302734375,429.04461669921875,838.7718505859375,188.04293823242188,1388.350830078125,761.44873046875,2089.4951171875,729.6828002929688,891.4711303710938,1517.904541015625,844.1531982421875,2422.26025390625,1227.140625,2351.9443359375,865.8071899414062,257.0968322753906,424.1475524902344,1621.339599609375,767.7426147460938,1492.3333740234375,836.5195922851562],\"xaxis\":\"x\",\"y\":[1917,1905,123,497,243,2454,825,2227,133,128,1547,478,1639,2408,4295,3583,6487,11194,6203,989,182,4141,1398,5773,1486,422,3600,3818,1290,6637,5654,346,960,3467,1864,717,11676,10130,191,7372,3258,5296,554,377,124,219,5092,180,2676,5742,1701,963,2308,750,3978],\"yaxis\":\"y\",\"type\":\"scatter\"},{\"hovertemplate\":\"\\u003cb\\u003e%{hovertext}\\u003c\\u002fb\\u003e\\u003cbr\\u003e\\u003cbr\\u003eCountry type=Above 10 Mio USD, High Mean\\u003cbr\\u003eMean size of investment in country=%{x}\\u003cbr\\u003eNumber of Projects=%{y}\\u003cbr\\u003eTotal sum of investments in country=%{marker.size}\\u003cextra\\u003e\\u003c\\u002fextra\\u003e\",\"hovertext\":[\"Armenia\",\"Bolivia\",\"Guatemala\",\"Lebanon\",\"Palestine\",\"Rwanda\",\"The Democratic Republic of the Congo\",\"United States\"],\"legendgroup\":\"Above 10 Mio USD, High Mean\",\"marker\":{\"color\":\"#FFA15A\",\"size\":[11186225.0,18210724.0,10857175.0,11539125.0,12017025.0,15473975.0,11016925.0,22676016.0],\"sizemode\":\"area\",\"sizeref\":34023.7975,\"symbol\":\"circle\"},\"mode\":\"markers\",\"name\":\"Above 10 Mio USD, High Mean\",\"orientation\":\"v\",\"showlegend\":true,\"x\":[1296.502685546875,2085.515869140625,1500.8536376953125,1314.8502197265625,1474.119873046875,2302.6748046875,3588.574951171875,3825.23876953125],\"xaxis\":\"x\",\"y\":[8628,8732,7234,8776,8152,6720,3070,5928],\"yaxis\":\"y\",\"type\":\"scatter\"},{\"hovertemplate\":\"\\u003cb\\u003e%{hovertext}\\u003c\\u002fb\\u003e\\u003cbr\\u003e\\u003cbr\\u003eCountry type=Above 10 Mio USD, High Volume\\u003cbr\\u003eMean size of investment in country=%{x}\\u003cbr\\u003eNumber of Projects=%{y}\\u003cbr\\u003eTotal sum of investments in country=%{marker.size}\\u003cextra\\u003e\\u003c\\u002fextra\\u003e\",\"hovertext\":[\"Cambodia\",\"Colombia\",\"El Salvador\",\"Kenya\",\"Pakistan\",\"Philippines\",\"Tajikistan\",\"Uganda\"],\"legendgroup\":\"Above 10 Mio USD, High Volume\",\"marker\":{\"color\":\"#19d3f3\",\"size\":[18784824.0,11968075.0,23059976.0,31969964.0,12465425.0,54438076.0,13736925.0,14039000.0],\"sizemode\":\"area\",\"sizeref\":34023.7975,\"symbol\":\"circle\"},\"mode\":\"markers\",\"name\":\"Above 10 Mio USD, High Volume\",\"orientation\":\"v\",\"showlegend\":true,\"x\":[539.6542358398438,564.0795288085938,586.4693603515625,425.6305847167969,464.20977783203125,339.4720458984375,703.8080444335938,688.5238037109375],\"xaxis\":\"x\",\"y\":[34809,21217,39320,75112,26853,160361,19518,20390],\"yaxis\":\"y\",\"type\":\"scatter\"},{\"hovertemplate\":\"\\u003cb\\u003e%{hovertext}\\u003c\\u002fb\\u003e\\u003cbr\\u003e\\u003cbr\\u003eCountry type=Above 10 Mio USD, High Volume and Mean\\u003cbr\\u003eMean size of investment in country=%{x}\\u003cbr\\u003eNumber of Projects=%{y}\\u003cbr\\u003eTotal sum of investments in country=%{marker.size}\\u003cextra\\u003e\\u003c\\u002fextra\\u003e\",\"hovertext\":[\"Ecuador\",\"Paraguay\",\"Peru\",\"Vietnam\"],\"legendgroup\":\"Above 10 Mio USD, High Volume and Mean\",\"marker\":{\"color\":\"lightgreen\",\"size\":[14568600.0,29297650.0,30302100.0,13660925.0],\"sizemode\":\"area\",\"sizeref\":34023.7975,\"symbol\":\"circle\"},\"mode\":\"markers\",\"name\":\"Above 10 Mio USD, High Volume and Mean\",\"orientation\":\"v\",\"showlegend\":true,\"x\":[1080.19580078125,2474.254638671875,1366.2518310546875,1260.11669921875],\"xaxis\":\"x\",\"y\":[13487,11841,22179,10841],\"yaxis\":\"y\",\"type\":\"scatter\"}],                        {\"template\":{\"data\":{\"histogram2dcontour\":[{\"type\":\"histogram2dcontour\",\"colorbar\":{\"outlinewidth\":0,\"ticks\":\"\"},\"colorscale\":[[0.0,\"#0d0887\"],[0.1111111111111111,\"#46039f\"],[0.2222222222222222,\"#7201a8\"],[0.3333333333333333,\"#9c179e\"],[0.4444444444444444,\"#bd3786\"],[0.5555555555555556,\"#d8576b\"],[0.6666666666666666,\"#ed7953\"],[0.7777777777777778,\"#fb9f3a\"],[0.8888888888888888,\"#fdca26\"],[1.0,\"#f0f921\"]]}],\"choropleth\":[{\"type\":\"choropleth\",\"colorbar\":{\"outlinewidth\":0,\"ticks\":\"\"}}],\"histogram2d\":[{\"type\":\"histogram2d\",\"colorbar\":{\"outlinewidth\":0,\"ticks\":\"\"},\"colorscale\":[[0.0,\"#0d0887\"],[0.1111111111111111,\"#46039f\"],[0.2222222222222222,\"#7201a8\"],[0.3333333333333333,\"#9c179e\"],[0.4444444444444444,\"#bd3786\"],[0.5555555555555556,\"#d8576b\"],[0.6666666666666666,\"#ed7953\"],[0.7777777777777778,\"#fb9f3a\"],[0.8888888888888888,\"#fdca26\"],[1.0,\"#f0f921\"]]}],\"heatmap\":[{\"type\":\"heatmap\",\"colorbar\":{\"outlinewidth\":0,\"ticks\":\"\"},\"colorscale\":[[0.0,\"#0d0887\"],[0.1111111111111111,\"#46039f\"],[0.2222222222222222,\"#7201a8\"],[0.3333333333333333,\"#9c179e\"],[0.4444444444444444,\"#bd3786\"],[0.5555555555555556,\"#d8576b\"],[0.6666666666666666,\"#ed7953\"],[0.7777777777777778,\"#fb9f3a\"],[0.8888888888888888,\"#fdca26\"],[1.0,\"#f0f921\"]]}],\"heatmapgl\":[{\"type\":\"heatmapgl\",\"colorbar\":{\"outlinewidth\":0,\"ticks\":\"\"},\"colorscale\":[[0.0,\"#0d0887\"],[0.1111111111111111,\"#46039f\"],[0.2222222222222222,\"#7201a8\"],[0.3333333333333333,\"#9c179e\"],[0.4444444444444444,\"#bd3786\"],[0.5555555555555556,\"#d8576b\"],[0.6666666666666666,\"#ed7953\"],[0.7777777777777778,\"#fb9f3a\"],[0.8888888888888888,\"#fdca26\"],[1.0,\"#f0f921\"]]}],\"contourcarpet\":[{\"type\":\"contourcarpet\",\"colorbar\":{\"outlinewidth\":0,\"ticks\":\"\"}}],\"contour\":[{\"type\":\"contour\",\"colorbar\":{\"outlinewidth\":0,\"ticks\":\"\"},\"colorscale\":[[0.0,\"#0d0887\"],[0.1111111111111111,\"#46039f\"],[0.2222222222222222,\"#7201a8\"],[0.3333333333333333,\"#9c179e\"],[0.4444444444444444,\"#bd3786\"],[0.5555555555555556,\"#d8576b\"],[0.6666666666666666,\"#ed7953\"],[0.7777777777777778,\"#fb9f3a\"],[0.8888888888888888,\"#fdca26\"],[1.0,\"#f0f921\"]]}],\"surface\":[{\"type\":\"surface\",\"colorbar\":{\"outlinewidth\":0,\"ticks\":\"\"},\"colorscale\":[[0.0,\"#0d0887\"],[0.1111111111111111,\"#46039f\"],[0.2222222222222222,\"#7201a8\"],[0.3333333333333333,\"#9c179e\"],[0.4444444444444444,\"#bd3786\"],[0.5555555555555556,\"#d8576b\"],[0.6666666666666666,\"#ed7953\"],[0.7777777777777778,\"#fb9f3a\"],[0.8888888888888888,\"#fdca26\"],[1.0,\"#f0f921\"]]}],\"mesh3d\":[{\"type\":\"mesh3d\",\"colorbar\":{\"outlinewidth\":0,\"ticks\":\"\"}}],\"scatter\":[{\"fillpattern\":{\"fillmode\":\"overlay\",\"size\":10,\"solidity\":0.2},\"type\":\"scatter\"}],\"parcoords\":[{\"type\":\"parcoords\",\"line\":{\"colorbar\":{\"outlinewidth\":0,\"ticks\":\"\"}}}],\"scatterpolargl\":[{\"type\":\"scatterpolargl\",\"marker\":{\"colorbar\":{\"outlinewidth\":0,\"ticks\":\"\"}}}],\"bar\":[{\"error_x\":{\"color\":\"#2a3f5f\"},\"error_y\":{\"color\":\"#2a3f5f\"},\"marker\":{\"line\":{\"color\":\"#E5ECF6\",\"width\":0.5},\"pattern\":{\"fillmode\":\"overlay\",\"size\":10,\"solidity\":0.2}},\"type\":\"bar\"}],\"scattergeo\":[{\"type\":\"scattergeo\",\"marker\":{\"colorbar\":{\"outlinewidth\":0,\"ticks\":\"\"}}}],\"scatterpolar\":[{\"type\":\"scatterpolar\",\"marker\":{\"colorbar\":{\"outlinewidth\":0,\"ticks\":\"\"}}}],\"histogram\":[{\"marker\":{\"pattern\":{\"fillmode\":\"overlay\",\"size\":10,\"solidity\":0.2}},\"type\":\"histogram\"}],\"scattergl\":[{\"type\":\"scattergl\",\"marker\":{\"colorbar\":{\"outlinewidth\":0,\"ticks\":\"\"}}}],\"scatter3d\":[{\"type\":\"scatter3d\",\"line\":{\"colorbar\":{\"outlinewidth\":0,\"ticks\":\"\"}},\"marker\":{\"colorbar\":{\"outlinewidth\":0,\"ticks\":\"\"}}}],\"scattermapbox\":[{\"type\":\"scattermapbox\",\"marker\":{\"colorbar\":{\"outlinewidth\":0,\"ticks\":\"\"}}}],\"scatterternary\":[{\"type\":\"scatterternary\",\"marker\":{\"colorbar\":{\"outlinewidth\":0,\"ticks\":\"\"}}}],\"scattercarpet\":[{\"type\":\"scattercarpet\",\"marker\":{\"colorbar\":{\"outlinewidth\":0,\"ticks\":\"\"}}}],\"carpet\":[{\"aaxis\":{\"endlinecolor\":\"#2a3f5f\",\"gridcolor\":\"white\",\"linecolor\":\"white\",\"minorgridcolor\":\"white\",\"startlinecolor\":\"#2a3f5f\"},\"baxis\":{\"endlinecolor\":\"#2a3f5f\",\"gridcolor\":\"white\",\"linecolor\":\"white\",\"minorgridcolor\":\"white\",\"startlinecolor\":\"#2a3f5f\"},\"type\":\"carpet\"}],\"table\":[{\"cells\":{\"fill\":{\"color\":\"#EBF0F8\"},\"line\":{\"color\":\"white\"}},\"header\":{\"fill\":{\"color\":\"#C8D4E3\"},\"line\":{\"color\":\"white\"}},\"type\":\"table\"}],\"barpolar\":[{\"marker\":{\"line\":{\"color\":\"#E5ECF6\",\"width\":0.5},\"pattern\":{\"fillmode\":\"overlay\",\"size\":10,\"solidity\":0.2}},\"type\":\"barpolar\"}],\"pie\":[{\"automargin\":true,\"type\":\"pie\"}]},\"layout\":{\"autotypenumbers\":\"strict\",\"colorway\":[\"#636efa\",\"#EF553B\",\"#00cc96\",\"#ab63fa\",\"#FFA15A\",\"#19d3f3\",\"#FF6692\",\"#B6E880\",\"#FF97FF\",\"#FECB52\"],\"font\":{\"color\":\"#2a3f5f\"},\"hovermode\":\"closest\",\"hoverlabel\":{\"align\":\"left\"},\"paper_bgcolor\":\"white\",\"plot_bgcolor\":\"#E5ECF6\",\"polar\":{\"bgcolor\":\"#E5ECF6\",\"angularaxis\":{\"gridcolor\":\"white\",\"linecolor\":\"white\",\"ticks\":\"\"},\"radialaxis\":{\"gridcolor\":\"white\",\"linecolor\":\"white\",\"ticks\":\"\"}},\"ternary\":{\"bgcolor\":\"#E5ECF6\",\"aaxis\":{\"gridcolor\":\"white\",\"linecolor\":\"white\",\"ticks\":\"\"},\"baxis\":{\"gridcolor\":\"white\",\"linecolor\":\"white\",\"ticks\":\"\"},\"caxis\":{\"gridcolor\":\"white\",\"linecolor\":\"white\",\"ticks\":\"\"}},\"coloraxis\":{\"colorbar\":{\"outlinewidth\":0,\"ticks\":\"\"}},\"colorscale\":{\"sequential\":[[0.0,\"#0d0887\"],[0.1111111111111111,\"#46039f\"],[0.2222222222222222,\"#7201a8\"],[0.3333333333333333,\"#9c179e\"],[0.4444444444444444,\"#bd3786\"],[0.5555555555555556,\"#d8576b\"],[0.6666666666666666,\"#ed7953\"],[0.7777777777777778,\"#fb9f3a\"],[0.8888888888888888,\"#fdca26\"],[1.0,\"#f0f921\"]],\"sequentialminus\":[[0.0,\"#0d0887\"],[0.1111111111111111,\"#46039f\"],[0.2222222222222222,\"#7201a8\"],[0.3333333333333333,\"#9c179e\"],[0.4444444444444444,\"#bd3786\"],[0.5555555555555556,\"#d8576b\"],[0.6666666666666666,\"#ed7953\"],[0.7777777777777778,\"#fb9f3a\"],[0.8888888888888888,\"#fdca26\"],[1.0,\"#f0f921\"]],\"diverging\":[[0,\"#8e0152\"],[0.1,\"#c51b7d\"],[0.2,\"#de77ae\"],[0.3,\"#f1b6da\"],[0.4,\"#fde0ef\"],[0.5,\"#f7f7f7\"],[0.6,\"#e6f5d0\"],[0.7,\"#b8e186\"],[0.8,\"#7fbc41\"],[0.9,\"#4d9221\"],[1,\"#276419\"]]},\"xaxis\":{\"gridcolor\":\"white\",\"linecolor\":\"white\",\"ticks\":\"\",\"title\":{\"standoff\":15},\"zerolinecolor\":\"white\",\"automargin\":true,\"zerolinewidth\":2},\"yaxis\":{\"gridcolor\":\"white\",\"linecolor\":\"white\",\"ticks\":\"\",\"title\":{\"standoff\":15},\"zerolinecolor\":\"white\",\"automargin\":true,\"zerolinewidth\":2},\"scene\":{\"xaxis\":{\"backgroundcolor\":\"#E5ECF6\",\"gridcolor\":\"white\",\"linecolor\":\"white\",\"showbackground\":true,\"ticks\":\"\",\"zerolinecolor\":\"white\",\"gridwidth\":2},\"yaxis\":{\"backgroundcolor\":\"#E5ECF6\",\"gridcolor\":\"white\",\"linecolor\":\"white\",\"showbackground\":true,\"ticks\":\"\",\"zerolinecolor\":\"white\",\"gridwidth\":2},\"zaxis\":{\"backgroundcolor\":\"#E5ECF6\",\"gridcolor\":\"white\",\"linecolor\":\"white\",\"showbackground\":true,\"ticks\":\"\",\"zerolinecolor\":\"white\",\"gridwidth\":2}},\"shapedefaults\":{\"line\":{\"color\":\"#2a3f5f\"}},\"annotationdefaults\":{\"arrowcolor\":\"#2a3f5f\",\"arrowhead\":0,\"arrowwidth\":1},\"geo\":{\"bgcolor\":\"white\",\"landcolor\":\"#E5ECF6\",\"subunitcolor\":\"white\",\"showland\":true,\"showlakes\":true,\"lakecolor\":\"white\"},\"title\":{\"x\":0.05},\"mapbox\":{\"style\":\"light\"}}},\"xaxis\":{\"anchor\":\"y\",\"domain\":[0.0,1.0],\"title\":{\"text\":\"Mean size of investment in country\"}},\"yaxis\":{\"anchor\":\"x\",\"domain\":[0.0,1.0],\"title\":{\"text\":\"Number of Projects\"}},\"legend\":{\"title\":{\"text\":\"Country type\"},\"tracegroupgap\":0,\"itemsizing\":\"constant\"},\"title\":{\"text\":\"\\u003cb\\u003eOverview funding per country with 100+ projects\\u003c\\u002fb\\u003e\"}},                        {\"responsive\": true}                    ).then(function(){\n",
       "                            \n",
       "var gd = document.getElementById('e0a68c4b-c259-426d-9384-bc09ae17b8fd');\n",
       "var x = new MutationObserver(function (mutations, observer) {{\n",
       "        var display = window.getComputedStyle(gd).display;\n",
       "        if (!display || display === 'none') {{\n",
       "            console.log([gd, 'removed!']);\n",
       "            Plotly.purge(gd);\n",
       "            observer.disconnect();\n",
       "        }}\n",
       "}});\n",
       "\n",
       "// Listen for the removal of the full notebook cells\n",
       "var notebookContainer = gd.closest('#notebook-container');\n",
       "if (notebookContainer) {{\n",
       "    x.observe(notebookContainer, {childList: true});\n",
       "}}\n",
       "\n",
       "// Listen for the clearing of the current output cell\n",
       "var outputEl = gd.closest('.output');\n",
       "if (outputEl) {{\n",
       "    x.observe(outputEl, {childList: true});\n",
       "}}\n",
       "\n",
       "                        })                };                });            </script>        </div>"
      ]
     },
     "metadata": {},
     "output_type": "display_data"
    }
   ],
   "source": [
    "#  Create scatter plot\n",
    "\n",
    "fig = px.scatter(df_scatter_country, \n",
    "                     x= 'funded_amount_mean',\n",
    "                     y = 'funded_amount_count', \n",
    "                     title = '<b>Overview funding per country with 100+ projects</b>',\n",
    "                     color= 'country_type',\n",
    "                     color_discrete_map= {'Below 10 Mio USD' : 'grey', 'Above 10 Mio USD, High Volume1':'lightblue', 'Above 10 Mio USD, High Mean2':'darkorange', 'Above 10 Mio USD, High Volume and Mean':'lightgreen'},\n",
    "                     labels={'country_type': 'Country type','funded_amount_count':\"Number of Projects\", \"funded_amount_sum\":\"Total sum of investments in country\", 'funded_amount_mean': 'Mean size of investment in country', 'continent':'Continent'},\n",
    "                     size = 'funded_amount_sum',\n",
    "                     size_max= 40,\n",
    "                     hover_name = 'country',\n",
    "                     )\n",
    "fig.show()"
   ]
  },
  {
   "cell_type": "markdown",
   "id": "efc31a9f",
   "metadata": {},
   "source": [
    "In terms of the business model, it is advantageous for Kiva if both the number of projects in a country increases and the average investment amounts increase. A movement of countries in a positive direction on the axes corresponds to advantages for the business and is also reflected in the total amounts that are implemented via loans in a country. Here in the graphic the size of the plotted points is also shown.\n",
    "\n",
    "It is noticeable that there are some countries on the left that have achieved a large volume of credit issued to date through the sheer number of projects. These include Kenya, Uganda, El Salvador, the Philippines and Cambodia. Colored here in light blue. These are all countries where at least USD 10 million has flowed and where over 10,000 projects have been implemented.\n",
    "\n",
    "Another group of countries can be seen at the bottom towards the right. These are nations that attract larger investment offerings, but do not necessarily achieve their volume through a mass of projects. These include countries such as the Democratic Republic of Congo, Rwanda, Senegal, but also the USA. These countries generate huge revenues from the large average investments they receive. Colored here in orange. These are all countries where at least 10 million USD flowed and in which an average of over 1000 USD per project was implemented.\n",
    "\n",
    "It would be desirable to combine both dynamics. South American countries in particular seem to be able to achieve this in the beginning. Ecuador, Paraguay and also Peru are in a quadrant in this graphic where not many other nations are represented. Projects there seem to generate interest in investing in large numbers but also with larger sums. Of the other continents, only Vietnam joins them. These four countries are the only ones that have so far managed to grant over 10,000 loans and receive an average amount of over 1,000 USD for the projects.\n",
    "\n",
    "All nations colored gray do not meet the requirement of USD 10 million in sales."
   ]
  },
  {
   "cell_type": "code",
   "execution_count": null,
   "id": "bb87367f",
   "metadata": {},
   "outputs": [
    {
     "data": {
      "text/html": [
       "<div>\n",
       "<style scoped>\n",
       "    .dataframe tbody tr th:only-of-type {\n",
       "        vertical-align: middle;\n",
       "    }\n",
       "\n",
       "    .dataframe tbody tr th {\n",
       "        vertical-align: top;\n",
       "    }\n",
       "\n",
       "    .dataframe thead th {\n",
       "        text-align: right;\n",
       "    }\n",
       "</style>\n",
       "<table border=\"1\" class=\"dataframe\">\n",
       "  <thead>\n",
       "    <tr style=\"text-align: right;\">\n",
       "      <th></th>\n",
       "      <th>country</th>\n",
       "      <th>country_code</th>\n",
       "      <th>funded_amount_count</th>\n",
       "      <th>funded_amount_sum</th>\n",
       "      <th>funded_amount_mean</th>\n",
       "      <th>continent</th>\n",
       "      <th>country_type</th>\n",
       "    </tr>\n",
       "  </thead>\n",
       "  <tbody>\n",
       "    <tr>\n",
       "      <th>2</th>\n",
       "      <td>Armenia</td>\n",
       "      <td>AM</td>\n",
       "      <td>8628</td>\n",
       "      <td>11186225.0</td>\n",
       "      <td>1296.502686</td>\n",
       "      <td>Asia</td>\n",
       "      <td>Above 10 Mio USD, High Mean</td>\n",
       "    </tr>\n",
       "    <tr>\n",
       "      <th>7</th>\n",
       "      <td>Bolivia</td>\n",
       "      <td>BO</td>\n",
       "      <td>8732</td>\n",
       "      <td>18210724.0</td>\n",
       "      <td>2085.515869</td>\n",
       "      <td>South America</td>\n",
       "      <td>Above 10 Mio USD, High Mean</td>\n",
       "    </tr>\n",
       "    <tr>\n",
       "      <th>11</th>\n",
       "      <td>Cambodia</td>\n",
       "      <td>KH</td>\n",
       "      <td>34809</td>\n",
       "      <td>18784824.0</td>\n",
       "      <td>539.654236</td>\n",
       "      <td>Asia</td>\n",
       "      <td>Above 10 Mio USD, High Volume</td>\n",
       "    </tr>\n",
       "    <tr>\n",
       "      <th>15</th>\n",
       "      <td>Colombia</td>\n",
       "      <td>CO</td>\n",
       "      <td>21217</td>\n",
       "      <td>11968075.0</td>\n",
       "      <td>564.079529</td>\n",
       "      <td>South America</td>\n",
       "      <td>Above 10 Mio USD, High Volume</td>\n",
       "    </tr>\n",
       "    <tr>\n",
       "      <th>20</th>\n",
       "      <td>Ecuador</td>\n",
       "      <td>EC</td>\n",
       "      <td>13487</td>\n",
       "      <td>14568600.0</td>\n",
       "      <td>1080.195801</td>\n",
       "      <td>South America</td>\n",
       "      <td>Above 10 Mio USD, High Volume and Mean</td>\n",
       "    </tr>\n",
       "    <tr>\n",
       "      <th>22</th>\n",
       "      <td>El Salvador</td>\n",
       "      <td>SV</td>\n",
       "      <td>39320</td>\n",
       "      <td>23059976.0</td>\n",
       "      <td>586.469360</td>\n",
       "      <td>North America</td>\n",
       "      <td>Above 10 Mio USD, High Volume</td>\n",
       "    </tr>\n",
       "    <tr>\n",
       "      <th>26</th>\n",
       "      <td>Guatemala</td>\n",
       "      <td>GT</td>\n",
       "      <td>7234</td>\n",
       "      <td>10857175.0</td>\n",
       "      <td>1500.853638</td>\n",
       "      <td>North America</td>\n",
       "      <td>Above 10 Mio USD, High Mean</td>\n",
       "    </tr>\n",
       "    <tr>\n",
       "      <th>34</th>\n",
       "      <td>Kenya</td>\n",
       "      <td>KE</td>\n",
       "      <td>75112</td>\n",
       "      <td>31969964.0</td>\n",
       "      <td>425.630585</td>\n",
       "      <td>Africa</td>\n",
       "      <td>Above 10 Mio USD, High Volume</td>\n",
       "    </tr>\n",
       "    <tr>\n",
       "      <th>38</th>\n",
       "      <td>Lebanon</td>\n",
       "      <td>LB</td>\n",
       "      <td>8776</td>\n",
       "      <td>11539125.0</td>\n",
       "      <td>1314.850220</td>\n",
       "      <td>Asia</td>\n",
       "      <td>Above 10 Mio USD, High Mean</td>\n",
       "    </tr>\n",
       "    <tr>\n",
       "      <th>54</th>\n",
       "      <td>Pakistan</td>\n",
       "      <td>PK</td>\n",
       "      <td>26853</td>\n",
       "      <td>12465425.0</td>\n",
       "      <td>464.209778</td>\n",
       "      <td>Asia</td>\n",
       "      <td>Above 10 Mio USD, High Volume</td>\n",
       "    </tr>\n",
       "    <tr>\n",
       "      <th>55</th>\n",
       "      <td>Palestine</td>\n",
       "      <td>PS</td>\n",
       "      <td>8152</td>\n",
       "      <td>12017025.0</td>\n",
       "      <td>1474.119873</td>\n",
       "      <td>Asia</td>\n",
       "      <td>Above 10 Mio USD, High Mean</td>\n",
       "    </tr>\n",
       "    <tr>\n",
       "      <th>57</th>\n",
       "      <td>Paraguay</td>\n",
       "      <td>PY</td>\n",
       "      <td>11841</td>\n",
       "      <td>29297650.0</td>\n",
       "      <td>2474.254639</td>\n",
       "      <td>South America</td>\n",
       "      <td>Above 10 Mio USD, High Volume and Mean</td>\n",
       "    </tr>\n",
       "    <tr>\n",
       "      <th>58</th>\n",
       "      <td>Peru</td>\n",
       "      <td>PE</td>\n",
       "      <td>22179</td>\n",
       "      <td>30302100.0</td>\n",
       "      <td>1366.251831</td>\n",
       "      <td>South America</td>\n",
       "      <td>Above 10 Mio USD, High Volume and Mean</td>\n",
       "    </tr>\n",
       "    <tr>\n",
       "      <th>59</th>\n",
       "      <td>Philippines</td>\n",
       "      <td>PH</td>\n",
       "      <td>160361</td>\n",
       "      <td>54438076.0</td>\n",
       "      <td>339.472046</td>\n",
       "      <td>Asia</td>\n",
       "      <td>Above 10 Mio USD, High Volume</td>\n",
       "    </tr>\n",
       "    <tr>\n",
       "      <th>61</th>\n",
       "      <td>Rwanda</td>\n",
       "      <td>RW</td>\n",
       "      <td>6720</td>\n",
       "      <td>15473975.0</td>\n",
       "      <td>2302.674805</td>\n",
       "      <td>Africa</td>\n",
       "      <td>Above 10 Mio USD, High Mean</td>\n",
       "    </tr>\n",
       "    <tr>\n",
       "      <th>71</th>\n",
       "      <td>Tajikistan</td>\n",
       "      <td>TJ</td>\n",
       "      <td>19518</td>\n",
       "      <td>13736925.0</td>\n",
       "      <td>703.808044</td>\n",
       "      <td>Asia</td>\n",
       "      <td>Above 10 Mio USD, High Volume</td>\n",
       "    </tr>\n",
       "    <tr>\n",
       "      <th>74</th>\n",
       "      <td>The Democratic Republic of the Congo</td>\n",
       "      <td>CD</td>\n",
       "      <td>3070</td>\n",
       "      <td>11016925.0</td>\n",
       "      <td>3588.574951</td>\n",
       "      <td>Africa</td>\n",
       "      <td>Above 10 Mio USD, High Mean</td>\n",
       "    </tr>\n",
       "    <tr>\n",
       "      <th>78</th>\n",
       "      <td>Uganda</td>\n",
       "      <td>UG</td>\n",
       "      <td>20390</td>\n",
       "      <td>14039000.0</td>\n",
       "      <td>688.523804</td>\n",
       "      <td>Africa</td>\n",
       "      <td>Above 10 Mio USD, High Volume</td>\n",
       "    </tr>\n",
       "    <tr>\n",
       "      <th>80</th>\n",
       "      <td>United States</td>\n",
       "      <td>US</td>\n",
       "      <td>5928</td>\n",
       "      <td>22676016.0</td>\n",
       "      <td>3825.238770</td>\n",
       "      <td>North America</td>\n",
       "      <td>Above 10 Mio USD, High Mean</td>\n",
       "    </tr>\n",
       "    <tr>\n",
       "      <th>82</th>\n",
       "      <td>Vietnam</td>\n",
       "      <td>VN</td>\n",
       "      <td>10841</td>\n",
       "      <td>13660925.0</td>\n",
       "      <td>1260.116699</td>\n",
       "      <td>Asia</td>\n",
       "      <td>Above 10 Mio USD, High Volume and Mean</td>\n",
       "    </tr>\n",
       "  </tbody>\n",
       "</table>\n",
       "</div>"
      ],
      "text/plain": [
       "                                 country country_code  funded_amount_count   \n",
       "2                                Armenia           AM                 8628  \\\n",
       "7                                Bolivia           BO                 8732   \n",
       "11                              Cambodia           KH                34809   \n",
       "15                              Colombia           CO                21217   \n",
       "20                               Ecuador           EC                13487   \n",
       "22                           El Salvador           SV                39320   \n",
       "26                             Guatemala           GT                 7234   \n",
       "34                                 Kenya           KE                75112   \n",
       "38                               Lebanon           LB                 8776   \n",
       "54                              Pakistan           PK                26853   \n",
       "55                             Palestine           PS                 8152   \n",
       "57                              Paraguay           PY                11841   \n",
       "58                                  Peru           PE                22179   \n",
       "59                           Philippines           PH               160361   \n",
       "61                                Rwanda           RW                 6720   \n",
       "71                            Tajikistan           TJ                19518   \n",
       "74  The Democratic Republic of the Congo           CD                 3070   \n",
       "78                                Uganda           UG                20390   \n",
       "80                         United States           US                 5928   \n",
       "82                               Vietnam           VN                10841   \n",
       "\n",
       "    funded_amount_sum  funded_amount_mean      continent   \n",
       "2          11186225.0         1296.502686           Asia  \\\n",
       "7          18210724.0         2085.515869  South America   \n",
       "11         18784824.0          539.654236           Asia   \n",
       "15         11968075.0          564.079529  South America   \n",
       "20         14568600.0         1080.195801  South America   \n",
       "22         23059976.0          586.469360  North America   \n",
       "26         10857175.0         1500.853638  North America   \n",
       "34         31969964.0          425.630585         Africa   \n",
       "38         11539125.0         1314.850220           Asia   \n",
       "54         12465425.0          464.209778           Asia   \n",
       "55         12017025.0         1474.119873           Asia   \n",
       "57         29297650.0         2474.254639  South America   \n",
       "58         30302100.0         1366.251831  South America   \n",
       "59         54438076.0          339.472046           Asia   \n",
       "61         15473975.0         2302.674805         Africa   \n",
       "71         13736925.0          703.808044           Asia   \n",
       "74         11016925.0         3588.574951         Africa   \n",
       "78         14039000.0          688.523804         Africa   \n",
       "80         22676016.0         3825.238770  North America   \n",
       "82         13660925.0         1260.116699           Asia   \n",
       "\n",
       "                              country_type  \n",
       "2              Above 10 Mio USD, High Mean  \n",
       "7              Above 10 Mio USD, High Mean  \n",
       "11           Above 10 Mio USD, High Volume  \n",
       "15           Above 10 Mio USD, High Volume  \n",
       "20  Above 10 Mio USD, High Volume and Mean  \n",
       "22           Above 10 Mio USD, High Volume  \n",
       "26             Above 10 Mio USD, High Mean  \n",
       "34           Above 10 Mio USD, High Volume  \n",
       "38             Above 10 Mio USD, High Mean  \n",
       "54           Above 10 Mio USD, High Volume  \n",
       "55             Above 10 Mio USD, High Mean  \n",
       "57  Above 10 Mio USD, High Volume and Mean  \n",
       "58  Above 10 Mio USD, High Volume and Mean  \n",
       "59           Above 10 Mio USD, High Volume  \n",
       "61             Above 10 Mio USD, High Mean  \n",
       "71           Above 10 Mio USD, High Volume  \n",
       "74             Above 10 Mio USD, High Mean  \n",
       "78           Above 10 Mio USD, High Volume  \n",
       "80             Above 10 Mio USD, High Mean  \n",
       "82  Above 10 Mio USD, High Volume and Mean  "
      ]
     },
     "execution_count": 54,
     "metadata": {},
     "output_type": "execute_result"
    }
   ],
   "source": [
    "#Check for all nations over 10 million USD\n",
    "df_scatter_country.loc[((df_scatter_country.loc[:,'funded_amount_sum'] > 10000000))]"
   ]
  },
  {
   "cell_type": "code",
   "execution_count": null,
   "id": "dce6fb65",
   "metadata": {},
   "outputs": [
    {
     "data": {
      "text/html": [
       "<div>\n",
       "<style scoped>\n",
       "    .dataframe tbody tr th:only-of-type {\n",
       "        vertical-align: middle;\n",
       "    }\n",
       "\n",
       "    .dataframe tbody tr th {\n",
       "        vertical-align: top;\n",
       "    }\n",
       "\n",
       "    .dataframe thead th {\n",
       "        text-align: right;\n",
       "    }\n",
       "</style>\n",
       "<table border=\"1\" class=\"dataframe\">\n",
       "  <thead>\n",
       "    <tr style=\"text-align: right;\">\n",
       "      <th></th>\n",
       "      <th>country</th>\n",
       "      <th>country_code</th>\n",
       "      <th>funded_amount_count</th>\n",
       "      <th>funded_amount_sum</th>\n",
       "      <th>funded_amount_mean</th>\n",
       "      <th>continent</th>\n",
       "      <th>country_type</th>\n",
       "    </tr>\n",
       "  </thead>\n",
       "  <tbody>\n",
       "    <tr>\n",
       "      <th>20</th>\n",
       "      <td>Ecuador</td>\n",
       "      <td>EC</td>\n",
       "      <td>13487</td>\n",
       "      <td>14568600.0</td>\n",
       "      <td>1080.195801</td>\n",
       "      <td>South America</td>\n",
       "      <td>Above 10 Mio USD, High Volume and Mean</td>\n",
       "    </tr>\n",
       "    <tr>\n",
       "      <th>57</th>\n",
       "      <td>Paraguay</td>\n",
       "      <td>PY</td>\n",
       "      <td>11841</td>\n",
       "      <td>29297650.0</td>\n",
       "      <td>2474.254639</td>\n",
       "      <td>South America</td>\n",
       "      <td>Above 10 Mio USD, High Volume and Mean</td>\n",
       "    </tr>\n",
       "    <tr>\n",
       "      <th>58</th>\n",
       "      <td>Peru</td>\n",
       "      <td>PE</td>\n",
       "      <td>22179</td>\n",
       "      <td>30302100.0</td>\n",
       "      <td>1366.251831</td>\n",
       "      <td>South America</td>\n",
       "      <td>Above 10 Mio USD, High Volume and Mean</td>\n",
       "    </tr>\n",
       "    <tr>\n",
       "      <th>82</th>\n",
       "      <td>Vietnam</td>\n",
       "      <td>VN</td>\n",
       "      <td>10841</td>\n",
       "      <td>13660925.0</td>\n",
       "      <td>1260.116699</td>\n",
       "      <td>Asia</td>\n",
       "      <td>Above 10 Mio USD, High Volume and Mean</td>\n",
       "    </tr>\n",
       "  </tbody>\n",
       "</table>\n",
       "</div>"
      ],
      "text/plain": [
       "     country country_code  funded_amount_count  funded_amount_sum   \n",
       "20   Ecuador           EC                13487         14568600.0  \\\n",
       "57  Paraguay           PY                11841         29297650.0   \n",
       "58      Peru           PE                22179         30302100.0   \n",
       "82   Vietnam           VN                10841         13660925.0   \n",
       "\n",
       "    funded_amount_mean      continent                            country_type  \n",
       "20         1080.195801  South America  Above 10 Mio USD, High Volume and Mean  \n",
       "57         2474.254639  South America  Above 10 Mio USD, High Volume and Mean  \n",
       "58         1366.251831  South America  Above 10 Mio USD, High Volume and Mean  \n",
       "82         1260.116699           Asia  Above 10 Mio USD, High Volume and Mean  "
      ]
     },
     "execution_count": 55,
     "metadata": {},
     "output_type": "execute_result"
    }
   ],
   "source": [
    "#Check for > 10 million USD, > 1000 USD per project and > 10000 projects\n",
    "df_scatter_country.loc[((df_scatter_country.loc[:,'funded_amount_mean'] > 1000) & (df_scatter_country.loc[:,'funded_amount_count'] > 10000))]"
   ]
  },
  {
   "cell_type": "markdown",
   "id": "20fc3e4f",
   "metadata": {},
   "source": [
    "### Barcharts for profile comparison among countries"
   ]
  },
  {
   "cell_type": "code",
   "execution_count": null,
   "id": "6d82c01f",
   "metadata": {},
   "outputs": [
    {
     "data": {
      "text/html": [
       "<div>\n",
       "<style scoped>\n",
       "    .dataframe tbody tr th:only-of-type {\n",
       "        vertical-align: middle;\n",
       "    }\n",
       "\n",
       "    .dataframe tbody tr th {\n",
       "        vertical-align: top;\n",
       "    }\n",
       "\n",
       "    .dataframe thead th {\n",
       "        text-align: right;\n",
       "    }\n",
       "</style>\n",
       "<table border=\"1\" class=\"dataframe\">\n",
       "  <thead>\n",
       "    <tr style=\"text-align: right;\">\n",
       "      <th></th>\n",
       "      <th>funded_amount</th>\n",
       "      <th>loan_amount</th>\n",
       "      <th>activity</th>\n",
       "      <th>sector</th>\n",
       "      <th>country_code</th>\n",
       "      <th>country</th>\n",
       "      <th>currency</th>\n",
       "      <th>term_in_months</th>\n",
       "      <th>lender_count</th>\n",
       "      <th>borrower_genders</th>\n",
       "      <th>...</th>\n",
       "      <th>gender_of_borrowers</th>\n",
       "      <th>continent</th>\n",
       "      <th>percentage_of_credit_goal_funded</th>\n",
       "      <th>mean_investment_given_per_lender</th>\n",
       "      <th>mean_investment_received_per_borrower</th>\n",
       "      <th>mean_credit_goal_per_borrower</th>\n",
       "      <th>mean_total_credit_rates_per_month</th>\n",
       "      <th>mean_total_credit_rates_per_month_per_person</th>\n",
       "      <th>group_size</th>\n",
       "      <th>country_type</th>\n",
       "    </tr>\n",
       "  </thead>\n",
       "  <tbody>\n",
       "    <tr>\n",
       "      <th>0</th>\n",
       "      <td>300.0</td>\n",
       "      <td>300.0</td>\n",
       "      <td>Fruits &amp; Vegetables</td>\n",
       "      <td>Food</td>\n",
       "      <td>PK</td>\n",
       "      <td>Pakistan</td>\n",
       "      <td>PKR</td>\n",
       "      <td>12</td>\n",
       "      <td>12</td>\n",
       "      <td>female</td>\n",
       "      <td>...</td>\n",
       "      <td>female</td>\n",
       "      <td>Asia</td>\n",
       "      <td>100.0</td>\n",
       "      <td>25.00000</td>\n",
       "      <td>300.0</td>\n",
       "      <td>300.0</td>\n",
       "      <td>25.000000</td>\n",
       "      <td>25.000000</td>\n",
       "      <td>individual person</td>\n",
       "      <td>Regular</td>\n",
       "    </tr>\n",
       "    <tr>\n",
       "      <th>1</th>\n",
       "      <td>575.0</td>\n",
       "      <td>575.0</td>\n",
       "      <td>Rickshaw</td>\n",
       "      <td>Transportation</td>\n",
       "      <td>PK</td>\n",
       "      <td>Pakistan</td>\n",
       "      <td>PKR</td>\n",
       "      <td>11</td>\n",
       "      <td>14</td>\n",
       "      <td>female, female</td>\n",
       "      <td>...</td>\n",
       "      <td>female</td>\n",
       "      <td>Asia</td>\n",
       "      <td>100.0</td>\n",
       "      <td>41.07143</td>\n",
       "      <td>287.5</td>\n",
       "      <td>287.5</td>\n",
       "      <td>52.272728</td>\n",
       "      <td>26.136364</td>\n",
       "      <td>small group (2-5)</td>\n",
       "      <td>Regular</td>\n",
       "    </tr>\n",
       "    <tr>\n",
       "      <th>2</th>\n",
       "      <td>150.0</td>\n",
       "      <td>150.0</td>\n",
       "      <td>Transportation</td>\n",
       "      <td>Transportation</td>\n",
       "      <td>IN</td>\n",
       "      <td>India</td>\n",
       "      <td>INR</td>\n",
       "      <td>43</td>\n",
       "      <td>6</td>\n",
       "      <td>female</td>\n",
       "      <td>...</td>\n",
       "      <td>female</td>\n",
       "      <td>Asia</td>\n",
       "      <td>100.0</td>\n",
       "      <td>25.00000</td>\n",
       "      <td>150.0</td>\n",
       "      <td>150.0</td>\n",
       "      <td>3.488372</td>\n",
       "      <td>3.488372</td>\n",
       "      <td>individual person</td>\n",
       "      <td>Regular</td>\n",
       "    </tr>\n",
       "    <tr>\n",
       "      <th>3</th>\n",
       "      <td>200.0</td>\n",
       "      <td>200.0</td>\n",
       "      <td>Embroidery</td>\n",
       "      <td>Arts</td>\n",
       "      <td>PK</td>\n",
       "      <td>Pakistan</td>\n",
       "      <td>PKR</td>\n",
       "      <td>11</td>\n",
       "      <td>8</td>\n",
       "      <td>female</td>\n",
       "      <td>...</td>\n",
       "      <td>female</td>\n",
       "      <td>Asia</td>\n",
       "      <td>100.0</td>\n",
       "      <td>25.00000</td>\n",
       "      <td>200.0</td>\n",
       "      <td>200.0</td>\n",
       "      <td>18.181818</td>\n",
       "      <td>18.181818</td>\n",
       "      <td>individual person</td>\n",
       "      <td>Regular</td>\n",
       "    </tr>\n",
       "    <tr>\n",
       "      <th>4</th>\n",
       "      <td>400.0</td>\n",
       "      <td>400.0</td>\n",
       "      <td>Milk Sales</td>\n",
       "      <td>Food</td>\n",
       "      <td>PK</td>\n",
       "      <td>Pakistan</td>\n",
       "      <td>PKR</td>\n",
       "      <td>14</td>\n",
       "      <td>16</td>\n",
       "      <td>female</td>\n",
       "      <td>...</td>\n",
       "      <td>female</td>\n",
       "      <td>Asia</td>\n",
       "      <td>100.0</td>\n",
       "      <td>25.00000</td>\n",
       "      <td>400.0</td>\n",
       "      <td>400.0</td>\n",
       "      <td>28.571428</td>\n",
       "      <td>28.571428</td>\n",
       "      <td>individual person</td>\n",
       "      <td>Regular</td>\n",
       "    </tr>\n",
       "    <tr>\n",
       "      <th>...</th>\n",
       "      <td>...</td>\n",
       "      <td>...</td>\n",
       "      <td>...</td>\n",
       "      <td>...</td>\n",
       "      <td>...</td>\n",
       "      <td>...</td>\n",
       "      <td>...</td>\n",
       "      <td>...</td>\n",
       "      <td>...</td>\n",
       "      <td>...</td>\n",
       "      <td>...</td>\n",
       "      <td>...</td>\n",
       "      <td>...</td>\n",
       "      <td>...</td>\n",
       "      <td>...</td>\n",
       "      <td>...</td>\n",
       "      <td>...</td>\n",
       "      <td>...</td>\n",
       "      <td>...</td>\n",
       "      <td>...</td>\n",
       "      <td>...</td>\n",
       "    </tr>\n",
       "    <tr>\n",
       "      <th>671199</th>\n",
       "      <td>0.0</td>\n",
       "      <td>25.0</td>\n",
       "      <td>Livestock</td>\n",
       "      <td>Agriculture</td>\n",
       "      <td>PY</td>\n",
       "      <td>Paraguay</td>\n",
       "      <td>USD</td>\n",
       "      <td>13</td>\n",
       "      <td>0</td>\n",
       "      <td>female</td>\n",
       "      <td>...</td>\n",
       "      <td>female</td>\n",
       "      <td>South America</td>\n",
       "      <td>0.0</td>\n",
       "      <td>0.00000</td>\n",
       "      <td>0.0</td>\n",
       "      <td>25.0</td>\n",
       "      <td>0.000000</td>\n",
       "      <td>0.000000</td>\n",
       "      <td>individual person</td>\n",
       "      <td>Above 10 Mio USD, High Volume and Mean</td>\n",
       "    </tr>\n",
       "    <tr>\n",
       "      <th>671200</th>\n",
       "      <td>0.0</td>\n",
       "      <td>25.0</td>\n",
       "      <td>Livestock</td>\n",
       "      <td>Agriculture</td>\n",
       "      <td>PY</td>\n",
       "      <td>Paraguay</td>\n",
       "      <td>USD</td>\n",
       "      <td>13</td>\n",
       "      <td>0</td>\n",
       "      <td>female</td>\n",
       "      <td>...</td>\n",
       "      <td>female</td>\n",
       "      <td>South America</td>\n",
       "      <td>0.0</td>\n",
       "      <td>0.00000</td>\n",
       "      <td>0.0</td>\n",
       "      <td>25.0</td>\n",
       "      <td>0.000000</td>\n",
       "      <td>0.000000</td>\n",
       "      <td>individual person</td>\n",
       "      <td>Above 10 Mio USD, High Volume and Mean</td>\n",
       "    </tr>\n",
       "    <tr>\n",
       "      <th>671201</th>\n",
       "      <td>25.0</td>\n",
       "      <td>25.0</td>\n",
       "      <td>Livestock</td>\n",
       "      <td>Agriculture</td>\n",
       "      <td>KE</td>\n",
       "      <td>Kenya</td>\n",
       "      <td>KES</td>\n",
       "      <td>13</td>\n",
       "      <td>1</td>\n",
       "      <td>female</td>\n",
       "      <td>...</td>\n",
       "      <td>female</td>\n",
       "      <td>Africa</td>\n",
       "      <td>100.0</td>\n",
       "      <td>25.00000</td>\n",
       "      <td>25.0</td>\n",
       "      <td>25.0</td>\n",
       "      <td>1.923077</td>\n",
       "      <td>1.923077</td>\n",
       "      <td>individual person</td>\n",
       "      <td>Regular</td>\n",
       "    </tr>\n",
       "    <tr>\n",
       "      <th>671203</th>\n",
       "      <td>0.0</td>\n",
       "      <td>25.0</td>\n",
       "      <td>Livestock</td>\n",
       "      <td>Agriculture</td>\n",
       "      <td>KE</td>\n",
       "      <td>Kenya</td>\n",
       "      <td>KES</td>\n",
       "      <td>13</td>\n",
       "      <td>0</td>\n",
       "      <td>female</td>\n",
       "      <td>...</td>\n",
       "      <td>female</td>\n",
       "      <td>Africa</td>\n",
       "      <td>0.0</td>\n",
       "      <td>0.00000</td>\n",
       "      <td>0.0</td>\n",
       "      <td>25.0</td>\n",
       "      <td>0.000000</td>\n",
       "      <td>0.000000</td>\n",
       "      <td>individual person</td>\n",
       "      <td>Regular</td>\n",
       "    </tr>\n",
       "    <tr>\n",
       "      <th>671204</th>\n",
       "      <td>0.0</td>\n",
       "      <td>25.0</td>\n",
       "      <td>Livestock</td>\n",
       "      <td>Agriculture</td>\n",
       "      <td>KE</td>\n",
       "      <td>Kenya</td>\n",
       "      <td>KES</td>\n",
       "      <td>13</td>\n",
       "      <td>0</td>\n",
       "      <td>female</td>\n",
       "      <td>...</td>\n",
       "      <td>female</td>\n",
       "      <td>Africa</td>\n",
       "      <td>0.0</td>\n",
       "      <td>0.00000</td>\n",
       "      <td>0.0</td>\n",
       "      <td>25.0</td>\n",
       "      <td>0.000000</td>\n",
       "      <td>0.000000</td>\n",
       "      <td>individual person</td>\n",
       "      <td>Regular</td>\n",
       "    </tr>\n",
       "  </tbody>\n",
       "</table>\n",
       "<p>666972 rows × 22 columns</p>\n",
       "</div>"
      ],
      "text/plain": [
       "        funded_amount  loan_amount             activity          sector   \n",
       "0               300.0        300.0  Fruits & Vegetables            Food  \\\n",
       "1               575.0        575.0             Rickshaw  Transportation   \n",
       "2               150.0        150.0       Transportation  Transportation   \n",
       "3               200.0        200.0           Embroidery            Arts   \n",
       "4               400.0        400.0           Milk Sales            Food   \n",
       "...               ...          ...                  ...             ...   \n",
       "671199            0.0         25.0            Livestock     Agriculture   \n",
       "671200            0.0         25.0            Livestock     Agriculture   \n",
       "671201           25.0         25.0            Livestock     Agriculture   \n",
       "671203            0.0         25.0            Livestock     Agriculture   \n",
       "671204            0.0         25.0            Livestock     Agriculture   \n",
       "\n",
       "       country_code   country currency  term_in_months  lender_count   \n",
       "0                PK  Pakistan      PKR              12            12  \\\n",
       "1                PK  Pakistan      PKR              11            14   \n",
       "2                IN     India      INR              43             6   \n",
       "3                PK  Pakistan      PKR              11             8   \n",
       "4                PK  Pakistan      PKR              14            16   \n",
       "...             ...       ...      ...             ...           ...   \n",
       "671199           PY  Paraguay      USD              13             0   \n",
       "671200           PY  Paraguay      USD              13             0   \n",
       "671201           KE     Kenya      KES              13             1   \n",
       "671203           KE     Kenya      KES              13             0   \n",
       "671204           KE     Kenya      KES              13             0   \n",
       "\n",
       "       borrower_genders  ... gender_of_borrowers      continent   \n",
       "0                female  ...              female           Asia  \\\n",
       "1        female, female  ...              female           Asia   \n",
       "2                female  ...              female           Asia   \n",
       "3                female  ...              female           Asia   \n",
       "4                female  ...              female           Asia   \n",
       "...                 ...  ...                 ...            ...   \n",
       "671199           female  ...              female  South America   \n",
       "671200           female  ...              female  South America   \n",
       "671201           female  ...              female         Africa   \n",
       "671203           female  ...              female         Africa   \n",
       "671204           female  ...              female         Africa   \n",
       "\n",
       "       percentage_of_credit_goal_funded mean_investment_given_per_lender   \n",
       "0                                 100.0                         25.00000  \\\n",
       "1                                 100.0                         41.07143   \n",
       "2                                 100.0                         25.00000   \n",
       "3                                 100.0                         25.00000   \n",
       "4                                 100.0                         25.00000   \n",
       "...                                 ...                              ...   \n",
       "671199                              0.0                          0.00000   \n",
       "671200                              0.0                          0.00000   \n",
       "671201                            100.0                         25.00000   \n",
       "671203                              0.0                          0.00000   \n",
       "671204                              0.0                          0.00000   \n",
       "\n",
       "        mean_investment_received_per_borrower  mean_credit_goal_per_borrower   \n",
       "0                                       300.0                          300.0  \\\n",
       "1                                       287.5                          287.5   \n",
       "2                                       150.0                          150.0   \n",
       "3                                       200.0                          200.0   \n",
       "4                                       400.0                          400.0   \n",
       "...                                       ...                            ...   \n",
       "671199                                    0.0                           25.0   \n",
       "671200                                    0.0                           25.0   \n",
       "671201                                   25.0                           25.0   \n",
       "671203                                    0.0                           25.0   \n",
       "671204                                    0.0                           25.0   \n",
       "\n",
       "        mean_total_credit_rates_per_month   \n",
       "0                               25.000000  \\\n",
       "1                               52.272728   \n",
       "2                                3.488372   \n",
       "3                               18.181818   \n",
       "4                               28.571428   \n",
       "...                                   ...   \n",
       "671199                           0.000000   \n",
       "671200                           0.000000   \n",
       "671201                           1.923077   \n",
       "671203                           0.000000   \n",
       "671204                           0.000000   \n",
       "\n",
       "        mean_total_credit_rates_per_month_per_person         group_size   \n",
       "0                                          25.000000  individual person  \\\n",
       "1                                          26.136364  small group (2-5)   \n",
       "2                                           3.488372  individual person   \n",
       "3                                          18.181818  individual person   \n",
       "4                                          28.571428  individual person   \n",
       "...                                              ...                ...   \n",
       "671199                                      0.000000  individual person   \n",
       "671200                                      0.000000  individual person   \n",
       "671201                                      1.923077  individual person   \n",
       "671203                                      0.000000  individual person   \n",
       "671204                                      0.000000  individual person   \n",
       "\n",
       "                                  country_type  \n",
       "0                                      Regular  \n",
       "1                                      Regular  \n",
       "2                                      Regular  \n",
       "3                                      Regular  \n",
       "4                                      Regular  \n",
       "...                                        ...  \n",
       "671199  Above 10 Mio USD, High Volume and Mean  \n",
       "671200  Above 10 Mio USD, High Volume and Mean  \n",
       "671201                                 Regular  \n",
       "671203                                 Regular  \n",
       "671204                                 Regular  \n",
       "\n",
       "[666972 rows x 22 columns]"
      ]
     },
     "execution_count": 56,
     "metadata": {},
     "output_type": "execute_result"
    }
   ],
   "source": [
    "#Transferring the country type to be further investigated into the main data set\n",
    "df_kiva_reduced['country_type'] = 'Regular'\n",
    "df_kiva_reduced.loc[((df_kiva_reduced.loc[:,'country'] == 'Vietnam') | (df_kiva_reduced.loc[:,'country'] == 'Ecuador') | (df_kiva_reduced.loc[:,'country'] == 'Peru') | (df_kiva_reduced.loc[:,'country'] == 'Paraguay'), 'country_type')] = 'Above 10 Mio USD, High Volume and Mean'\n",
    "df_kiva_reduced"
   ]
  },
  {
   "cell_type": "markdown",
   "id": "d4bc300e",
   "metadata": {},
   "source": [
    "To consider business expansion, it might be worth taking a closer look at these four nations."
   ]
  },
  {
   "cell_type": "code",
   "execution_count": null,
   "id": "b28e92ee",
   "metadata": {
    "run_control": {
     "marked": false
    }
   },
   "outputs": [],
   "source": [
    "#Creating group by\n",
    "df_bar_country_type = df_kiva_reduced.groupby(['country_type', 'sector' ], as_index= False).agg(funded_amount_count = ('funded_amount', 'count'),\n",
    "                                                                                                funded_amount_sum = ('funded_amount', 'sum'),\n",
    "                                                                                                funded_amount_mean = ('funded_amount', 'mean'))\n",
    "\n",
    "\n",
    "# Adding percentages for better comparision\n",
    "df_bar_country_type['percentage_of_projects_by_country_type'] = 0\n",
    "df_bar_country_type.loc[((df_bar_country_type.loc[:,'country_type'] == 'Above 10 Mio USD, High Volume and Mean'),'percentage_of_projects_by_country_type')] = df_bar_country_type['funded_amount_count'] / 58348 *100\n",
    "df_bar_country_type.loc[((df_bar_country_type.loc[:,'country_type'] == 'Regular'),'percentage_of_projects_by_country_type')] = df_bar_country_type['funded_amount_count'] / 608624 *100\n",
    "\n",
    "df_bar_country_type['percentage_of_total_sums_by_country_type'] = 0\n",
    "df_bar_country_type.loc[((df_bar_country_type.loc[:,'country_type'] == 'Above 10 Mio USD, High Volume and Mean'),'percentage_of_total_sums_by_country_type')] = df_bar_country_type['funded_amount_sum'] / 87829274 *100\n",
    "df_bar_country_type.loc[((df_bar_country_type.loc[:,'country_type'] == 'Regular'),'percentage_of_total_sums_by_country_type')] = df_bar_country_type['funded_amount_sum'] / 435831667 *100\n"
   ]
  },
  {
   "cell_type": "code",
   "execution_count": null,
   "id": "07d1ecc3",
   "metadata": {},
   "outputs": [
    {
     "data": {
      "application/vnd.plotly.v1+json": {
       "config": {
        "plotlyServerURL": "https://plot.ly"
       },
       "data": [
        {
         "alignmentgroup": "True",
         "hovertemplate": "<b>%{hovertext}</b><br><br>Country Type=Above 10 Mio USD, High Volume and Mean<br>Sector=%{x}<br>Percentage of projects by sector=%{y}<extra></extra>",
         "hovertext": [
          "Above 10 Mio USD, High Volume and Mean",
          "Above 10 Mio USD, High Volume and Mean",
          "Above 10 Mio USD, High Volume and Mean",
          "Above 10 Mio USD, High Volume and Mean",
          "Above 10 Mio USD, High Volume and Mean",
          "Above 10 Mio USD, High Volume and Mean",
          "Above 10 Mio USD, High Volume and Mean",
          "Above 10 Mio USD, High Volume and Mean",
          "Above 10 Mio USD, High Volume and Mean",
          "Above 10 Mio USD, High Volume and Mean",
          "Above 10 Mio USD, High Volume and Mean",
          "Above 10 Mio USD, High Volume and Mean",
          "Above 10 Mio USD, High Volume and Mean",
          "Above 10 Mio USD, High Volume and Mean",
          "Above 10 Mio USD, High Volume and Mean"
         ],
         "legendgroup": "Above 10 Mio USD, High Volume and Mean",
         "marker": {
          "color": "#636efa",
          "pattern": {
           "shape": ""
          }
         },
         "name": "Above 10 Mio USD, High Volume and Mean",
         "offsetgroup": "Above 10 Mio USD, High Volume and Mean",
         "orientation": "v",
         "showlegend": true,
         "textposition": "auto",
         "type": "bar",
         "x": [
          "Agriculture",
          "Arts",
          "Clothing",
          "Construction",
          "Education",
          "Entertainment",
          "Food",
          "Health",
          "Housing",
          "Manufacturing",
          "Personal Use",
          "Retail",
          "Services",
          "Transportation",
          "Wholesale"
         ],
         "xaxis": "x",
         "y": [
          25.608418454788513,
          1.8526770412010694,
          6.2829917049427575,
          1.299101940083636,
          10.908685816137657,
          0.09083430451772126,
          19.84129704531432,
          0.8432165626928086,
          7.371289504353191,
          0.9117707547816548,
          1.8629601700143963,
          14.907109069719612,
          6.031055049016247,
          2.130321519160897,
          0.0582710632755193
         ],
         "yaxis": "y"
        },
        {
         "alignmentgroup": "True",
         "hovertemplate": "<b>%{hovertext}</b><br><br>Country Type=Regular<br>Sector=%{x}<br>Percentage of projects by sector=%{y}<extra></extra>",
         "hovertext": [
          "Regular",
          "Regular",
          "Regular",
          "Regular",
          "Regular",
          "Regular",
          "Regular",
          "Regular",
          "Regular",
          "Regular",
          "Regular",
          "Regular",
          "Regular",
          "Regular",
          "Regular"
         ],
         "legendgroup": "Regular",
         "marker": {
          "color": "#EF553B",
          "pattern": {
           "shape": ""
          }
         },
         "name": "Regular",
         "offsetgroup": "Regular",
         "orientation": "v",
         "showlegend": true,
         "textposition": "auto",
         "type": "bar",
         "x": [
          "Agriculture",
          "Arts",
          "Clothing",
          "Construction",
          "Education",
          "Entertainment",
          "Food",
          "Health",
          "Housing",
          "Manufacturing",
          "Personal Use",
          "Retail",
          "Services",
          "Transportation",
          "Wholesale"
         ],
         "xaxis": "x",
         "y": [
          26.991870185861877,
          1.793061068902968,
          4.733957254396803,
          0.8931622808170562,
          4.020873314230132,
          0.126021977444202,
          20.401594416256998,
          1.426167880333342,
          4.809208969741581,
          0.9243802413312652,
          5.776801440626725,
          18.90493966718368,
          6.7655892636504635,
          2.3351034464628406,
          0.09726859276006204
         ],
         "yaxis": "y"
        }
       ],
       "layout": {
        "annotations": [
         {
          "arrowhead": 1,
          "bgcolor": "white",
          "bordercolor": "black",
          "showarrow": true,
          "text": "6% point gap in education",
          "x": 4,
          "y": 11
         },
         {
          "arrowhead": 1,
          "bgcolor": "white",
          "bordercolor": "black",
          "showarrow": true,
          "text": "2.5% point gap in housing",
          "x": 8,
          "y": 7.5
         },
         {
          "arrowhead": 1,
          "bgcolor": "white",
          "bordercolor": "black",
          "showarrow": true,
          "text": "4% point gap in retail",
          "x": 11,
          "y": 19
         }
        ],
        "barmode": "group",
        "legend": {
         "title": {
          "text": "Country Type"
         },
         "tracegroupgap": 0
        },
        "template": {
         "data": {
          "bar": [
           {
            "error_x": {
             "color": "#2a3f5f"
            },
            "error_y": {
             "color": "#2a3f5f"
            },
            "marker": {
             "line": {
              "color": "#E5ECF6",
              "width": 0.5
             },
             "pattern": {
              "fillmode": "overlay",
              "size": 10,
              "solidity": 0.2
             }
            },
            "type": "bar"
           }
          ],
          "barpolar": [
           {
            "marker": {
             "line": {
              "color": "#E5ECF6",
              "width": 0.5
             },
             "pattern": {
              "fillmode": "overlay",
              "size": 10,
              "solidity": 0.2
             }
            },
            "type": "barpolar"
           }
          ],
          "carpet": [
           {
            "aaxis": {
             "endlinecolor": "#2a3f5f",
             "gridcolor": "white",
             "linecolor": "white",
             "minorgridcolor": "white",
             "startlinecolor": "#2a3f5f"
            },
            "baxis": {
             "endlinecolor": "#2a3f5f",
             "gridcolor": "white",
             "linecolor": "white",
             "minorgridcolor": "white",
             "startlinecolor": "#2a3f5f"
            },
            "type": "carpet"
           }
          ],
          "choropleth": [
           {
            "colorbar": {
             "outlinewidth": 0,
             "ticks": ""
            },
            "type": "choropleth"
           }
          ],
          "contour": [
           {
            "colorbar": {
             "outlinewidth": 0,
             "ticks": ""
            },
            "colorscale": [
             [
              0,
              "#0d0887"
             ],
             [
              0.1111111111111111,
              "#46039f"
             ],
             [
              0.2222222222222222,
              "#7201a8"
             ],
             [
              0.3333333333333333,
              "#9c179e"
             ],
             [
              0.4444444444444444,
              "#bd3786"
             ],
             [
              0.5555555555555556,
              "#d8576b"
             ],
             [
              0.6666666666666666,
              "#ed7953"
             ],
             [
              0.7777777777777778,
              "#fb9f3a"
             ],
             [
              0.8888888888888888,
              "#fdca26"
             ],
             [
              1,
              "#f0f921"
             ]
            ],
            "type": "contour"
           }
          ],
          "contourcarpet": [
           {
            "colorbar": {
             "outlinewidth": 0,
             "ticks": ""
            },
            "type": "contourcarpet"
           }
          ],
          "heatmap": [
           {
            "colorbar": {
             "outlinewidth": 0,
             "ticks": ""
            },
            "colorscale": [
             [
              0,
              "#0d0887"
             ],
             [
              0.1111111111111111,
              "#46039f"
             ],
             [
              0.2222222222222222,
              "#7201a8"
             ],
             [
              0.3333333333333333,
              "#9c179e"
             ],
             [
              0.4444444444444444,
              "#bd3786"
             ],
             [
              0.5555555555555556,
              "#d8576b"
             ],
             [
              0.6666666666666666,
              "#ed7953"
             ],
             [
              0.7777777777777778,
              "#fb9f3a"
             ],
             [
              0.8888888888888888,
              "#fdca26"
             ],
             [
              1,
              "#f0f921"
             ]
            ],
            "type": "heatmap"
           }
          ],
          "heatmapgl": [
           {
            "colorbar": {
             "outlinewidth": 0,
             "ticks": ""
            },
            "colorscale": [
             [
              0,
              "#0d0887"
             ],
             [
              0.1111111111111111,
              "#46039f"
             ],
             [
              0.2222222222222222,
              "#7201a8"
             ],
             [
              0.3333333333333333,
              "#9c179e"
             ],
             [
              0.4444444444444444,
              "#bd3786"
             ],
             [
              0.5555555555555556,
              "#d8576b"
             ],
             [
              0.6666666666666666,
              "#ed7953"
             ],
             [
              0.7777777777777778,
              "#fb9f3a"
             ],
             [
              0.8888888888888888,
              "#fdca26"
             ],
             [
              1,
              "#f0f921"
             ]
            ],
            "type": "heatmapgl"
           }
          ],
          "histogram": [
           {
            "marker": {
             "pattern": {
              "fillmode": "overlay",
              "size": 10,
              "solidity": 0.2
             }
            },
            "type": "histogram"
           }
          ],
          "histogram2d": [
           {
            "colorbar": {
             "outlinewidth": 0,
             "ticks": ""
            },
            "colorscale": [
             [
              0,
              "#0d0887"
             ],
             [
              0.1111111111111111,
              "#46039f"
             ],
             [
              0.2222222222222222,
              "#7201a8"
             ],
             [
              0.3333333333333333,
              "#9c179e"
             ],
             [
              0.4444444444444444,
              "#bd3786"
             ],
             [
              0.5555555555555556,
              "#d8576b"
             ],
             [
              0.6666666666666666,
              "#ed7953"
             ],
             [
              0.7777777777777778,
              "#fb9f3a"
             ],
             [
              0.8888888888888888,
              "#fdca26"
             ],
             [
              1,
              "#f0f921"
             ]
            ],
            "type": "histogram2d"
           }
          ],
          "histogram2dcontour": [
           {
            "colorbar": {
             "outlinewidth": 0,
             "ticks": ""
            },
            "colorscale": [
             [
              0,
              "#0d0887"
             ],
             [
              0.1111111111111111,
              "#46039f"
             ],
             [
              0.2222222222222222,
              "#7201a8"
             ],
             [
              0.3333333333333333,
              "#9c179e"
             ],
             [
              0.4444444444444444,
              "#bd3786"
             ],
             [
              0.5555555555555556,
              "#d8576b"
             ],
             [
              0.6666666666666666,
              "#ed7953"
             ],
             [
              0.7777777777777778,
              "#fb9f3a"
             ],
             [
              0.8888888888888888,
              "#fdca26"
             ],
             [
              1,
              "#f0f921"
             ]
            ],
            "type": "histogram2dcontour"
           }
          ],
          "mesh3d": [
           {
            "colorbar": {
             "outlinewidth": 0,
             "ticks": ""
            },
            "type": "mesh3d"
           }
          ],
          "parcoords": [
           {
            "line": {
             "colorbar": {
              "outlinewidth": 0,
              "ticks": ""
             }
            },
            "type": "parcoords"
           }
          ],
          "pie": [
           {
            "automargin": true,
            "type": "pie"
           }
          ],
          "scatter": [
           {
            "fillpattern": {
             "fillmode": "overlay",
             "size": 10,
             "solidity": 0.2
            },
            "type": "scatter"
           }
          ],
          "scatter3d": [
           {
            "line": {
             "colorbar": {
              "outlinewidth": 0,
              "ticks": ""
             }
            },
            "marker": {
             "colorbar": {
              "outlinewidth": 0,
              "ticks": ""
             }
            },
            "type": "scatter3d"
           }
          ],
          "scattercarpet": [
           {
            "marker": {
             "colorbar": {
              "outlinewidth": 0,
              "ticks": ""
             }
            },
            "type": "scattercarpet"
           }
          ],
          "scattergeo": [
           {
            "marker": {
             "colorbar": {
              "outlinewidth": 0,
              "ticks": ""
             }
            },
            "type": "scattergeo"
           }
          ],
          "scattergl": [
           {
            "marker": {
             "colorbar": {
              "outlinewidth": 0,
              "ticks": ""
             }
            },
            "type": "scattergl"
           }
          ],
          "scattermapbox": [
           {
            "marker": {
             "colorbar": {
              "outlinewidth": 0,
              "ticks": ""
             }
            },
            "type": "scattermapbox"
           }
          ],
          "scatterpolar": [
           {
            "marker": {
             "colorbar": {
              "outlinewidth": 0,
              "ticks": ""
             }
            },
            "type": "scatterpolar"
           }
          ],
          "scatterpolargl": [
           {
            "marker": {
             "colorbar": {
              "outlinewidth": 0,
              "ticks": ""
             }
            },
            "type": "scatterpolargl"
           }
          ],
          "scatterternary": [
           {
            "marker": {
             "colorbar": {
              "outlinewidth": 0,
              "ticks": ""
             }
            },
            "type": "scatterternary"
           }
          ],
          "surface": [
           {
            "colorbar": {
             "outlinewidth": 0,
             "ticks": ""
            },
            "colorscale": [
             [
              0,
              "#0d0887"
             ],
             [
              0.1111111111111111,
              "#46039f"
             ],
             [
              0.2222222222222222,
              "#7201a8"
             ],
             [
              0.3333333333333333,
              "#9c179e"
             ],
             [
              0.4444444444444444,
              "#bd3786"
             ],
             [
              0.5555555555555556,
              "#d8576b"
             ],
             [
              0.6666666666666666,
              "#ed7953"
             ],
             [
              0.7777777777777778,
              "#fb9f3a"
             ],
             [
              0.8888888888888888,
              "#fdca26"
             ],
             [
              1,
              "#f0f921"
             ]
            ],
            "type": "surface"
           }
          ],
          "table": [
           {
            "cells": {
             "fill": {
              "color": "#EBF0F8"
             },
             "line": {
              "color": "white"
             }
            },
            "header": {
             "fill": {
              "color": "#C8D4E3"
             },
             "line": {
              "color": "white"
             }
            },
            "type": "table"
           }
          ]
         },
         "layout": {
          "annotationdefaults": {
           "arrowcolor": "#2a3f5f",
           "arrowhead": 0,
           "arrowwidth": 1
          },
          "autotypenumbers": "strict",
          "coloraxis": {
           "colorbar": {
            "outlinewidth": 0,
            "ticks": ""
           }
          },
          "colorscale": {
           "diverging": [
            [
             0,
             "#8e0152"
            ],
            [
             0.1,
             "#c51b7d"
            ],
            [
             0.2,
             "#de77ae"
            ],
            [
             0.3,
             "#f1b6da"
            ],
            [
             0.4,
             "#fde0ef"
            ],
            [
             0.5,
             "#f7f7f7"
            ],
            [
             0.6,
             "#e6f5d0"
            ],
            [
             0.7,
             "#b8e186"
            ],
            [
             0.8,
             "#7fbc41"
            ],
            [
             0.9,
             "#4d9221"
            ],
            [
             1,
             "#276419"
            ]
           ],
           "sequential": [
            [
             0,
             "#0d0887"
            ],
            [
             0.1111111111111111,
             "#46039f"
            ],
            [
             0.2222222222222222,
             "#7201a8"
            ],
            [
             0.3333333333333333,
             "#9c179e"
            ],
            [
             0.4444444444444444,
             "#bd3786"
            ],
            [
             0.5555555555555556,
             "#d8576b"
            ],
            [
             0.6666666666666666,
             "#ed7953"
            ],
            [
             0.7777777777777778,
             "#fb9f3a"
            ],
            [
             0.8888888888888888,
             "#fdca26"
            ],
            [
             1,
             "#f0f921"
            ]
           ],
           "sequentialminus": [
            [
             0,
             "#0d0887"
            ],
            [
             0.1111111111111111,
             "#46039f"
            ],
            [
             0.2222222222222222,
             "#7201a8"
            ],
            [
             0.3333333333333333,
             "#9c179e"
            ],
            [
             0.4444444444444444,
             "#bd3786"
            ],
            [
             0.5555555555555556,
             "#d8576b"
            ],
            [
             0.6666666666666666,
             "#ed7953"
            ],
            [
             0.7777777777777778,
             "#fb9f3a"
            ],
            [
             0.8888888888888888,
             "#fdca26"
            ],
            [
             1,
             "#f0f921"
            ]
           ]
          },
          "colorway": [
           "#636efa",
           "#EF553B",
           "#00cc96",
           "#ab63fa",
           "#FFA15A",
           "#19d3f3",
           "#FF6692",
           "#B6E880",
           "#FF97FF",
           "#FECB52"
          ],
          "font": {
           "color": "#2a3f5f"
          },
          "geo": {
           "bgcolor": "white",
           "lakecolor": "white",
           "landcolor": "#E5ECF6",
           "showlakes": true,
           "showland": true,
           "subunitcolor": "white"
          },
          "hoverlabel": {
           "align": "left"
          },
          "hovermode": "closest",
          "mapbox": {
           "style": "light"
          },
          "paper_bgcolor": "white",
          "plot_bgcolor": "#E5ECF6",
          "polar": {
           "angularaxis": {
            "gridcolor": "white",
            "linecolor": "white",
            "ticks": ""
           },
           "bgcolor": "#E5ECF6",
           "radialaxis": {
            "gridcolor": "white",
            "linecolor": "white",
            "ticks": ""
           }
          },
          "scene": {
           "xaxis": {
            "backgroundcolor": "#E5ECF6",
            "gridcolor": "white",
            "gridwidth": 2,
            "linecolor": "white",
            "showbackground": true,
            "ticks": "",
            "zerolinecolor": "white"
           },
           "yaxis": {
            "backgroundcolor": "#E5ECF6",
            "gridcolor": "white",
            "gridwidth": 2,
            "linecolor": "white",
            "showbackground": true,
            "ticks": "",
            "zerolinecolor": "white"
           },
           "zaxis": {
            "backgroundcolor": "#E5ECF6",
            "gridcolor": "white",
            "gridwidth": 2,
            "linecolor": "white",
            "showbackground": true,
            "ticks": "",
            "zerolinecolor": "white"
           }
          },
          "shapedefaults": {
           "line": {
            "color": "#2a3f5f"
           }
          },
          "ternary": {
           "aaxis": {
            "gridcolor": "white",
            "linecolor": "white",
            "ticks": ""
           },
           "baxis": {
            "gridcolor": "white",
            "linecolor": "white",
            "ticks": ""
           },
           "bgcolor": "#E5ECF6",
           "caxis": {
            "gridcolor": "white",
            "linecolor": "white",
            "ticks": ""
           }
          },
          "title": {
           "x": 0.05
          },
          "xaxis": {
           "automargin": true,
           "gridcolor": "white",
           "linecolor": "white",
           "ticks": "",
           "title": {
            "standoff": 15
           },
           "zerolinecolor": "white",
           "zerolinewidth": 2
          },
          "yaxis": {
           "automargin": true,
           "gridcolor": "white",
           "linecolor": "white",
           "ticks": "",
           "title": {
            "standoff": 15
           },
           "zerolinecolor": "white",
           "zerolinewidth": 2
          }
         }
        },
        "title": {
         "text": "<b>Percentage of total projects by sector</b>"
        },
        "xaxis": {
         "anchor": "y",
         "domain": [
          0,
          1
         ],
         "title": {
          "text": "Sector"
         }
        },
        "yaxis": {
         "anchor": "x",
         "domain": [
          0,
          1
         ],
         "title": {
          "text": "Percentage of projects by sector"
         }
        }
       }
      },
      "text/html": [
       "<div>                            <div id=\"7a30e0cb-8d8e-4aea-8bdc-91802318f0f6\" class=\"plotly-graph-div\" style=\"height:525px; width:100%;\"></div>            <script type=\"text/javascript\">                require([\"plotly\"], function(Plotly) {                    window.PLOTLYENV=window.PLOTLYENV || {};                                    if (document.getElementById(\"7a30e0cb-8d8e-4aea-8bdc-91802318f0f6\")) {                    Plotly.newPlot(                        \"7a30e0cb-8d8e-4aea-8bdc-91802318f0f6\",                        [{\"alignmentgroup\":\"True\",\"hovertemplate\":\"\\u003cb\\u003e%{hovertext}\\u003c\\u002fb\\u003e\\u003cbr\\u003e\\u003cbr\\u003eCountry Type=Above 10 Mio USD, High Volume and Mean\\u003cbr\\u003eSector=%{x}\\u003cbr\\u003ePercentage of projects by sector=%{y}\\u003cextra\\u003e\\u003c\\u002fextra\\u003e\",\"hovertext\":[\"Above 10 Mio USD, High Volume and Mean\",\"Above 10 Mio USD, High Volume and Mean\",\"Above 10 Mio USD, High Volume and Mean\",\"Above 10 Mio USD, High Volume and Mean\",\"Above 10 Mio USD, High Volume and Mean\",\"Above 10 Mio USD, High Volume and Mean\",\"Above 10 Mio USD, High Volume and Mean\",\"Above 10 Mio USD, High Volume and Mean\",\"Above 10 Mio USD, High Volume and Mean\",\"Above 10 Mio USD, High Volume and Mean\",\"Above 10 Mio USD, High Volume and Mean\",\"Above 10 Mio USD, High Volume and Mean\",\"Above 10 Mio USD, High Volume and Mean\",\"Above 10 Mio USD, High Volume and Mean\",\"Above 10 Mio USD, High Volume and Mean\"],\"legendgroup\":\"Above 10 Mio USD, High Volume and Mean\",\"marker\":{\"color\":\"#636efa\",\"pattern\":{\"shape\":\"\"}},\"name\":\"Above 10 Mio USD, High Volume and Mean\",\"offsetgroup\":\"Above 10 Mio USD, High Volume and Mean\",\"orientation\":\"v\",\"showlegend\":true,\"textposition\":\"auto\",\"x\":[\"Agriculture\",\"Arts\",\"Clothing\",\"Construction\",\"Education\",\"Entertainment\",\"Food\",\"Health\",\"Housing\",\"Manufacturing\",\"Personal Use\",\"Retail\",\"Services\",\"Transportation\",\"Wholesale\"],\"xaxis\":\"x\",\"y\":[25.608418454788513,1.8526770412010694,6.2829917049427575,1.299101940083636,10.908685816137657,0.09083430451772126,19.84129704531432,0.8432165626928086,7.371289504353191,0.9117707547816548,1.8629601700143963,14.907109069719612,6.031055049016247,2.130321519160897,0.0582710632755193],\"yaxis\":\"y\",\"type\":\"bar\"},{\"alignmentgroup\":\"True\",\"hovertemplate\":\"\\u003cb\\u003e%{hovertext}\\u003c\\u002fb\\u003e\\u003cbr\\u003e\\u003cbr\\u003eCountry Type=Regular\\u003cbr\\u003eSector=%{x}\\u003cbr\\u003ePercentage of projects by sector=%{y}\\u003cextra\\u003e\\u003c\\u002fextra\\u003e\",\"hovertext\":[\"Regular\",\"Regular\",\"Regular\",\"Regular\",\"Regular\",\"Regular\",\"Regular\",\"Regular\",\"Regular\",\"Regular\",\"Regular\",\"Regular\",\"Regular\",\"Regular\",\"Regular\"],\"legendgroup\":\"Regular\",\"marker\":{\"color\":\"#EF553B\",\"pattern\":{\"shape\":\"\"}},\"name\":\"Regular\",\"offsetgroup\":\"Regular\",\"orientation\":\"v\",\"showlegend\":true,\"textposition\":\"auto\",\"x\":[\"Agriculture\",\"Arts\",\"Clothing\",\"Construction\",\"Education\",\"Entertainment\",\"Food\",\"Health\",\"Housing\",\"Manufacturing\",\"Personal Use\",\"Retail\",\"Services\",\"Transportation\",\"Wholesale\"],\"xaxis\":\"x\",\"y\":[26.991870185861877,1.793061068902968,4.733957254396803,0.8931622808170562,4.020873314230132,0.126021977444202,20.401594416256998,1.426167880333342,4.809208969741581,0.9243802413312652,5.776801440626725,18.90493966718368,6.7655892636504635,2.3351034464628406,0.09726859276006204],\"yaxis\":\"y\",\"type\":\"bar\"}],                        {\"template\":{\"data\":{\"histogram2dcontour\":[{\"type\":\"histogram2dcontour\",\"colorbar\":{\"outlinewidth\":0,\"ticks\":\"\"},\"colorscale\":[[0.0,\"#0d0887\"],[0.1111111111111111,\"#46039f\"],[0.2222222222222222,\"#7201a8\"],[0.3333333333333333,\"#9c179e\"],[0.4444444444444444,\"#bd3786\"],[0.5555555555555556,\"#d8576b\"],[0.6666666666666666,\"#ed7953\"],[0.7777777777777778,\"#fb9f3a\"],[0.8888888888888888,\"#fdca26\"],[1.0,\"#f0f921\"]]}],\"choropleth\":[{\"type\":\"choropleth\",\"colorbar\":{\"outlinewidth\":0,\"ticks\":\"\"}}],\"histogram2d\":[{\"type\":\"histogram2d\",\"colorbar\":{\"outlinewidth\":0,\"ticks\":\"\"},\"colorscale\":[[0.0,\"#0d0887\"],[0.1111111111111111,\"#46039f\"],[0.2222222222222222,\"#7201a8\"],[0.3333333333333333,\"#9c179e\"],[0.4444444444444444,\"#bd3786\"],[0.5555555555555556,\"#d8576b\"],[0.6666666666666666,\"#ed7953\"],[0.7777777777777778,\"#fb9f3a\"],[0.8888888888888888,\"#fdca26\"],[1.0,\"#f0f921\"]]}],\"heatmap\":[{\"type\":\"heatmap\",\"colorbar\":{\"outlinewidth\":0,\"ticks\":\"\"},\"colorscale\":[[0.0,\"#0d0887\"],[0.1111111111111111,\"#46039f\"],[0.2222222222222222,\"#7201a8\"],[0.3333333333333333,\"#9c179e\"],[0.4444444444444444,\"#bd3786\"],[0.5555555555555556,\"#d8576b\"],[0.6666666666666666,\"#ed7953\"],[0.7777777777777778,\"#fb9f3a\"],[0.8888888888888888,\"#fdca26\"],[1.0,\"#f0f921\"]]}],\"heatmapgl\":[{\"type\":\"heatmapgl\",\"colorbar\":{\"outlinewidth\":0,\"ticks\":\"\"},\"colorscale\":[[0.0,\"#0d0887\"],[0.1111111111111111,\"#46039f\"],[0.2222222222222222,\"#7201a8\"],[0.3333333333333333,\"#9c179e\"],[0.4444444444444444,\"#bd3786\"],[0.5555555555555556,\"#d8576b\"],[0.6666666666666666,\"#ed7953\"],[0.7777777777777778,\"#fb9f3a\"],[0.8888888888888888,\"#fdca26\"],[1.0,\"#f0f921\"]]}],\"contourcarpet\":[{\"type\":\"contourcarpet\",\"colorbar\":{\"outlinewidth\":0,\"ticks\":\"\"}}],\"contour\":[{\"type\":\"contour\",\"colorbar\":{\"outlinewidth\":0,\"ticks\":\"\"},\"colorscale\":[[0.0,\"#0d0887\"],[0.1111111111111111,\"#46039f\"],[0.2222222222222222,\"#7201a8\"],[0.3333333333333333,\"#9c179e\"],[0.4444444444444444,\"#bd3786\"],[0.5555555555555556,\"#d8576b\"],[0.6666666666666666,\"#ed7953\"],[0.7777777777777778,\"#fb9f3a\"],[0.8888888888888888,\"#fdca26\"],[1.0,\"#f0f921\"]]}],\"surface\":[{\"type\":\"surface\",\"colorbar\":{\"outlinewidth\":0,\"ticks\":\"\"},\"colorscale\":[[0.0,\"#0d0887\"],[0.1111111111111111,\"#46039f\"],[0.2222222222222222,\"#7201a8\"],[0.3333333333333333,\"#9c179e\"],[0.4444444444444444,\"#bd3786\"],[0.5555555555555556,\"#d8576b\"],[0.6666666666666666,\"#ed7953\"],[0.7777777777777778,\"#fb9f3a\"],[0.8888888888888888,\"#fdca26\"],[1.0,\"#f0f921\"]]}],\"mesh3d\":[{\"type\":\"mesh3d\",\"colorbar\":{\"outlinewidth\":0,\"ticks\":\"\"}}],\"scatter\":[{\"fillpattern\":{\"fillmode\":\"overlay\",\"size\":10,\"solidity\":0.2},\"type\":\"scatter\"}],\"parcoords\":[{\"type\":\"parcoords\",\"line\":{\"colorbar\":{\"outlinewidth\":0,\"ticks\":\"\"}}}],\"scatterpolargl\":[{\"type\":\"scatterpolargl\",\"marker\":{\"colorbar\":{\"outlinewidth\":0,\"ticks\":\"\"}}}],\"bar\":[{\"error_x\":{\"color\":\"#2a3f5f\"},\"error_y\":{\"color\":\"#2a3f5f\"},\"marker\":{\"line\":{\"color\":\"#E5ECF6\",\"width\":0.5},\"pattern\":{\"fillmode\":\"overlay\",\"size\":10,\"solidity\":0.2}},\"type\":\"bar\"}],\"scattergeo\":[{\"type\":\"scattergeo\",\"marker\":{\"colorbar\":{\"outlinewidth\":0,\"ticks\":\"\"}}}],\"scatterpolar\":[{\"type\":\"scatterpolar\",\"marker\":{\"colorbar\":{\"outlinewidth\":0,\"ticks\":\"\"}}}],\"histogram\":[{\"marker\":{\"pattern\":{\"fillmode\":\"overlay\",\"size\":10,\"solidity\":0.2}},\"type\":\"histogram\"}],\"scattergl\":[{\"type\":\"scattergl\",\"marker\":{\"colorbar\":{\"outlinewidth\":0,\"ticks\":\"\"}}}],\"scatter3d\":[{\"type\":\"scatter3d\",\"line\":{\"colorbar\":{\"outlinewidth\":0,\"ticks\":\"\"}},\"marker\":{\"colorbar\":{\"outlinewidth\":0,\"ticks\":\"\"}}}],\"scattermapbox\":[{\"type\":\"scattermapbox\",\"marker\":{\"colorbar\":{\"outlinewidth\":0,\"ticks\":\"\"}}}],\"scatterternary\":[{\"type\":\"scatterternary\",\"marker\":{\"colorbar\":{\"outlinewidth\":0,\"ticks\":\"\"}}}],\"scattercarpet\":[{\"type\":\"scattercarpet\",\"marker\":{\"colorbar\":{\"outlinewidth\":0,\"ticks\":\"\"}}}],\"carpet\":[{\"aaxis\":{\"endlinecolor\":\"#2a3f5f\",\"gridcolor\":\"white\",\"linecolor\":\"white\",\"minorgridcolor\":\"white\",\"startlinecolor\":\"#2a3f5f\"},\"baxis\":{\"endlinecolor\":\"#2a3f5f\",\"gridcolor\":\"white\",\"linecolor\":\"white\",\"minorgridcolor\":\"white\",\"startlinecolor\":\"#2a3f5f\"},\"type\":\"carpet\"}],\"table\":[{\"cells\":{\"fill\":{\"color\":\"#EBF0F8\"},\"line\":{\"color\":\"white\"}},\"header\":{\"fill\":{\"color\":\"#C8D4E3\"},\"line\":{\"color\":\"white\"}},\"type\":\"table\"}],\"barpolar\":[{\"marker\":{\"line\":{\"color\":\"#E5ECF6\",\"width\":0.5},\"pattern\":{\"fillmode\":\"overlay\",\"size\":10,\"solidity\":0.2}},\"type\":\"barpolar\"}],\"pie\":[{\"automargin\":true,\"type\":\"pie\"}]},\"layout\":{\"autotypenumbers\":\"strict\",\"colorway\":[\"#636efa\",\"#EF553B\",\"#00cc96\",\"#ab63fa\",\"#FFA15A\",\"#19d3f3\",\"#FF6692\",\"#B6E880\",\"#FF97FF\",\"#FECB52\"],\"font\":{\"color\":\"#2a3f5f\"},\"hovermode\":\"closest\",\"hoverlabel\":{\"align\":\"left\"},\"paper_bgcolor\":\"white\",\"plot_bgcolor\":\"#E5ECF6\",\"polar\":{\"bgcolor\":\"#E5ECF6\",\"angularaxis\":{\"gridcolor\":\"white\",\"linecolor\":\"white\",\"ticks\":\"\"},\"radialaxis\":{\"gridcolor\":\"white\",\"linecolor\":\"white\",\"ticks\":\"\"}},\"ternary\":{\"bgcolor\":\"#E5ECF6\",\"aaxis\":{\"gridcolor\":\"white\",\"linecolor\":\"white\",\"ticks\":\"\"},\"baxis\":{\"gridcolor\":\"white\",\"linecolor\":\"white\",\"ticks\":\"\"},\"caxis\":{\"gridcolor\":\"white\",\"linecolor\":\"white\",\"ticks\":\"\"}},\"coloraxis\":{\"colorbar\":{\"outlinewidth\":0,\"ticks\":\"\"}},\"colorscale\":{\"sequential\":[[0.0,\"#0d0887\"],[0.1111111111111111,\"#46039f\"],[0.2222222222222222,\"#7201a8\"],[0.3333333333333333,\"#9c179e\"],[0.4444444444444444,\"#bd3786\"],[0.5555555555555556,\"#d8576b\"],[0.6666666666666666,\"#ed7953\"],[0.7777777777777778,\"#fb9f3a\"],[0.8888888888888888,\"#fdca26\"],[1.0,\"#f0f921\"]],\"sequentialminus\":[[0.0,\"#0d0887\"],[0.1111111111111111,\"#46039f\"],[0.2222222222222222,\"#7201a8\"],[0.3333333333333333,\"#9c179e\"],[0.4444444444444444,\"#bd3786\"],[0.5555555555555556,\"#d8576b\"],[0.6666666666666666,\"#ed7953\"],[0.7777777777777778,\"#fb9f3a\"],[0.8888888888888888,\"#fdca26\"],[1.0,\"#f0f921\"]],\"diverging\":[[0,\"#8e0152\"],[0.1,\"#c51b7d\"],[0.2,\"#de77ae\"],[0.3,\"#f1b6da\"],[0.4,\"#fde0ef\"],[0.5,\"#f7f7f7\"],[0.6,\"#e6f5d0\"],[0.7,\"#b8e186\"],[0.8,\"#7fbc41\"],[0.9,\"#4d9221\"],[1,\"#276419\"]]},\"xaxis\":{\"gridcolor\":\"white\",\"linecolor\":\"white\",\"ticks\":\"\",\"title\":{\"standoff\":15},\"zerolinecolor\":\"white\",\"automargin\":true,\"zerolinewidth\":2},\"yaxis\":{\"gridcolor\":\"white\",\"linecolor\":\"white\",\"ticks\":\"\",\"title\":{\"standoff\":15},\"zerolinecolor\":\"white\",\"automargin\":true,\"zerolinewidth\":2},\"scene\":{\"xaxis\":{\"backgroundcolor\":\"#E5ECF6\",\"gridcolor\":\"white\",\"linecolor\":\"white\",\"showbackground\":true,\"ticks\":\"\",\"zerolinecolor\":\"white\",\"gridwidth\":2},\"yaxis\":{\"backgroundcolor\":\"#E5ECF6\",\"gridcolor\":\"white\",\"linecolor\":\"white\",\"showbackground\":true,\"ticks\":\"\",\"zerolinecolor\":\"white\",\"gridwidth\":2},\"zaxis\":{\"backgroundcolor\":\"#E5ECF6\",\"gridcolor\":\"white\",\"linecolor\":\"white\",\"showbackground\":true,\"ticks\":\"\",\"zerolinecolor\":\"white\",\"gridwidth\":2}},\"shapedefaults\":{\"line\":{\"color\":\"#2a3f5f\"}},\"annotationdefaults\":{\"arrowcolor\":\"#2a3f5f\",\"arrowhead\":0,\"arrowwidth\":1},\"geo\":{\"bgcolor\":\"white\",\"landcolor\":\"#E5ECF6\",\"subunitcolor\":\"white\",\"showland\":true,\"showlakes\":true,\"lakecolor\":\"white\"},\"title\":{\"x\":0.05},\"mapbox\":{\"style\":\"light\"}}},\"xaxis\":{\"anchor\":\"y\",\"domain\":[0.0,1.0],\"title\":{\"text\":\"Sector\"}},\"yaxis\":{\"anchor\":\"x\",\"domain\":[0.0,1.0],\"title\":{\"text\":\"Percentage of projects by sector\"}},\"legend\":{\"title\":{\"text\":\"Country Type\"},\"tracegroupgap\":0},\"title\":{\"text\":\"\\u003cb\\u003ePercentage of total projects by sector\\u003c\\u002fb\\u003e\"},\"barmode\":\"group\",\"annotations\":[{\"arrowhead\":1,\"bgcolor\":\"white\",\"bordercolor\":\"black\",\"showarrow\":true,\"text\":\"6% point gap in education\",\"x\":4,\"y\":11},{\"arrowhead\":1,\"bgcolor\":\"white\",\"bordercolor\":\"black\",\"showarrow\":true,\"text\":\"2.5% point gap in housing\",\"x\":8,\"y\":7.5},{\"arrowhead\":1,\"bgcolor\":\"white\",\"bordercolor\":\"black\",\"showarrow\":true,\"text\":\"4% point gap in retail\",\"x\":11,\"y\":19}]},                        {\"responsive\": true}                    ).then(function(){\n",
       "                            \n",
       "var gd = document.getElementById('7a30e0cb-8d8e-4aea-8bdc-91802318f0f6');\n",
       "var x = new MutationObserver(function (mutations, observer) {{\n",
       "        var display = window.getComputedStyle(gd).display;\n",
       "        if (!display || display === 'none') {{\n",
       "            console.log([gd, 'removed!']);\n",
       "            Plotly.purge(gd);\n",
       "            observer.disconnect();\n",
       "        }}\n",
       "}});\n",
       "\n",
       "// Listen for the removal of the full notebook cells\n",
       "var notebookContainer = gd.closest('#notebook-container');\n",
       "if (notebookContainer) {{\n",
       "    x.observe(notebookContainer, {childList: true});\n",
       "}}\n",
       "\n",
       "// Listen for the clearing of the current output cell\n",
       "var outputEl = gd.closest('.output');\n",
       "if (outputEl) {{\n",
       "    x.observe(outputEl, {childList: true});\n",
       "}}\n",
       "\n",
       "                        })                };                });            </script>        </div>"
      ]
     },
     "metadata": {},
     "output_type": "display_data"
    }
   ],
   "source": [
    "# Creating bar plot\n",
    "\n",
    "fig = px.bar(df_bar_country_type, \n",
    "             x=\"sector\", \n",
    "             y=\"percentage_of_projects_by_country_type\",\n",
    "             color='country_type',\n",
    "             barmode='group', \n",
    "             title= '<b>Percentage of total projects by sector</b>',\n",
    "             labels={'sector':'Sector', 'country_type':'Country Type', \"percentage_of_projects_by_country_type\" : 'Percentage of projects by sector'},\n",
    "             hover_name= 'country_type')\n",
    "\n",
    "fig.add_annotation(x=4, y=11,\n",
    "            text=\"6% point gap in education\",\n",
    "            showarrow=True,\n",
    "            arrowhead=1,\n",
    "            bordercolor='black',\n",
    "            bgcolor='white')\n",
    "\n",
    "fig.add_annotation(x=8, y=7.5,\n",
    "            text=\"2.5% point gap in housing\",\n",
    "            showarrow=True,\n",
    "            arrowhead=1,\n",
    "                  bordercolor='black',\n",
    "            bgcolor='white')\n",
    "\n",
    "fig.add_annotation(x=11, y=19,\n",
    "            text=\"4% point gap in retail\",\n",
    "            showarrow=True,\n",
    "            arrowhead=1,\n",
    "                  bordercolor='black',\n",
    "            bgcolor='white')\n",
    "\n",
    "\n",
    "fig.show()"
   ]
  },
  {
   "cell_type": "markdown",
   "id": "aa17eb84",
   "metadata": {},
   "source": [
    "Looking at the graphic, the percentage shares of projects appear to be distributed very similarly across the individual sectors. Major differences in the sheer number of projects and their distribution can only be seen in three places. Our 'successful' countries have many more projects to report in the areas of education and housing. But they offer fewer retail projects.\n",
    "\n",
    "At this point it might be worth looking at whether more educational projects and clothing loans could lead to higher sales in other countries.\n",
    "\n",
    "In order to make more precise statements, it is not enough to just look at the number of projects and their distribution. The distribution of investments received is also interesting:"
   ]
  },
  {
   "cell_type": "code",
   "execution_count": null,
   "id": "c85ba535",
   "metadata": {},
   "outputs": [
    {
     "data": {
      "application/vnd.plotly.v1+json": {
       "config": {
        "plotlyServerURL": "https://plot.ly"
       },
       "data": [
        {
         "alignmentgroup": "True",
         "hovertemplate": "Country Type=Above 10 Mio USD, High Volume and Mean<br>Sector=%{x}<br>Percentage of total sum by sector=%{y}<extra></extra>",
         "legendgroup": "Above 10 Mio USD, High Volume and Mean",
         "marker": {
          "color": "#636efa",
          "pattern": {
           "shape": ""
          }
         },
         "name": "Above 10 Mio USD, High Volume and Mean",
         "offsetgroup": "Above 10 Mio USD, High Volume and Mean",
         "orientation": "v",
         "showlegend": true,
         "textposition": "auto",
         "type": "bar",
         "x": [
          "Agriculture",
          "Arts",
          "Clothing",
          "Construction",
          "Education",
          "Entertainment",
          "Food",
          "Health",
          "Housing",
          "Manufacturing",
          "Personal Use",
          "Retail",
          "Services",
          "Transportation",
          "Wholesale"
         ],
         "xaxis": "x",
         "y": [
          21.231246884723195,
          2.2648769702912497,
          8.424013615323748,
          1.0933996790181824,
          6.285489733183949,
          0.06430088446364705,
          26.2490203437182,
          1.0815015959257501,
          3.75151114194568,
          0.7672555735801709,
          1.0392036258890174,
          18.33261197172141,
          7.98842422402353,
          1.3445118537584633,
          0.08263190243380585
         ],
         "yaxis": "y"
        },
        {
         "alignmentgroup": "True",
         "hovertemplate": "Country Type=Regular<br>Sector=%{x}<br>Percentage of total sum by sector=%{y}<extra></extra>",
         "legendgroup": "Regular",
         "marker": {
          "color": "#EF553B",
          "pattern": {
           "shape": ""
          }
         },
         "name": "Regular",
         "offsetgroup": "Regular",
         "orientation": "v",
         "showlegend": true,
         "textposition": "auto",
         "type": "bar",
         "x": [
          "Agriculture",
          "Arts",
          "Clothing",
          "Construction",
          "Education",
          "Entertainment",
          "Food",
          "Health",
          "Housing",
          "Manufacturing",
          "Personal Use",
          "Retail",
          "Services",
          "Transportation",
          "Wholesale"
         ],
         "xaxis": "x",
         "y": [
          26.247293315655284,
          2.2321301402818903,
          6.226204301946696,
          1.1963965436224255,
          5.586203537614902,
          0.21663639232529655,
          20.911062435488425,
          1.8745482759975767,
          4.120518392712387,
          1.061109219491387,
          3.032030712903659,
          17.00242492934778,
          8.127349773324296,
          1.974435464782324,
          0.19165656450567187
         ],
         "yaxis": "y"
        }
       ],
       "layout": {
        "annotations": [
         {
          "arrowhead": 1,
          "bgcolor": "white",
          "bordercolor": "black",
          "showarrow": true,
          "text": "5% point in Agriculture",
          "x": 0,
          "y": 26
         },
         {
          "arrowhead": 1,
          "bgcolor": "white",
          "bordercolor": "black",
          "showarrow": true,
          "text": "2% point gap in clothing",
          "x": 2,
          "y": 8.5
         },
         {
          "arrowhead": 1,
          "bgcolor": "white",
          "bordercolor": "black",
          "showarrow": true,
          "text": "5% point gap in food",
          "x": 6,
          "y": 26.5
         },
         {
          "arrowhead": 1,
          "bgcolor": "white",
          "bordercolor": "black",
          "showarrow": true,
          "text": "2% point gap in personal use",
          "x": 10,
          "y": 3.5
         }
        ],
        "barmode": "group",
        "legend": {
         "title": {
          "text": "Country Type"
         },
         "tracegroupgap": 0
        },
        "template": {
         "data": {
          "bar": [
           {
            "error_x": {
             "color": "#2a3f5f"
            },
            "error_y": {
             "color": "#2a3f5f"
            },
            "marker": {
             "line": {
              "color": "#E5ECF6",
              "width": 0.5
             },
             "pattern": {
              "fillmode": "overlay",
              "size": 10,
              "solidity": 0.2
             }
            },
            "type": "bar"
           }
          ],
          "barpolar": [
           {
            "marker": {
             "line": {
              "color": "#E5ECF6",
              "width": 0.5
             },
             "pattern": {
              "fillmode": "overlay",
              "size": 10,
              "solidity": 0.2
             }
            },
            "type": "barpolar"
           }
          ],
          "carpet": [
           {
            "aaxis": {
             "endlinecolor": "#2a3f5f",
             "gridcolor": "white",
             "linecolor": "white",
             "minorgridcolor": "white",
             "startlinecolor": "#2a3f5f"
            },
            "baxis": {
             "endlinecolor": "#2a3f5f",
             "gridcolor": "white",
             "linecolor": "white",
             "minorgridcolor": "white",
             "startlinecolor": "#2a3f5f"
            },
            "type": "carpet"
           }
          ],
          "choropleth": [
           {
            "colorbar": {
             "outlinewidth": 0,
             "ticks": ""
            },
            "type": "choropleth"
           }
          ],
          "contour": [
           {
            "colorbar": {
             "outlinewidth": 0,
             "ticks": ""
            },
            "colorscale": [
             [
              0,
              "#0d0887"
             ],
             [
              0.1111111111111111,
              "#46039f"
             ],
             [
              0.2222222222222222,
              "#7201a8"
             ],
             [
              0.3333333333333333,
              "#9c179e"
             ],
             [
              0.4444444444444444,
              "#bd3786"
             ],
             [
              0.5555555555555556,
              "#d8576b"
             ],
             [
              0.6666666666666666,
              "#ed7953"
             ],
             [
              0.7777777777777778,
              "#fb9f3a"
             ],
             [
              0.8888888888888888,
              "#fdca26"
             ],
             [
              1,
              "#f0f921"
             ]
            ],
            "type": "contour"
           }
          ],
          "contourcarpet": [
           {
            "colorbar": {
             "outlinewidth": 0,
             "ticks": ""
            },
            "type": "contourcarpet"
           }
          ],
          "heatmap": [
           {
            "colorbar": {
             "outlinewidth": 0,
             "ticks": ""
            },
            "colorscale": [
             [
              0,
              "#0d0887"
             ],
             [
              0.1111111111111111,
              "#46039f"
             ],
             [
              0.2222222222222222,
              "#7201a8"
             ],
             [
              0.3333333333333333,
              "#9c179e"
             ],
             [
              0.4444444444444444,
              "#bd3786"
             ],
             [
              0.5555555555555556,
              "#d8576b"
             ],
             [
              0.6666666666666666,
              "#ed7953"
             ],
             [
              0.7777777777777778,
              "#fb9f3a"
             ],
             [
              0.8888888888888888,
              "#fdca26"
             ],
             [
              1,
              "#f0f921"
             ]
            ],
            "type": "heatmap"
           }
          ],
          "heatmapgl": [
           {
            "colorbar": {
             "outlinewidth": 0,
             "ticks": ""
            },
            "colorscale": [
             [
              0,
              "#0d0887"
             ],
             [
              0.1111111111111111,
              "#46039f"
             ],
             [
              0.2222222222222222,
              "#7201a8"
             ],
             [
              0.3333333333333333,
              "#9c179e"
             ],
             [
              0.4444444444444444,
              "#bd3786"
             ],
             [
              0.5555555555555556,
              "#d8576b"
             ],
             [
              0.6666666666666666,
              "#ed7953"
             ],
             [
              0.7777777777777778,
              "#fb9f3a"
             ],
             [
              0.8888888888888888,
              "#fdca26"
             ],
             [
              1,
              "#f0f921"
             ]
            ],
            "type": "heatmapgl"
           }
          ],
          "histogram": [
           {
            "marker": {
             "pattern": {
              "fillmode": "overlay",
              "size": 10,
              "solidity": 0.2
             }
            },
            "type": "histogram"
           }
          ],
          "histogram2d": [
           {
            "colorbar": {
             "outlinewidth": 0,
             "ticks": ""
            },
            "colorscale": [
             [
              0,
              "#0d0887"
             ],
             [
              0.1111111111111111,
              "#46039f"
             ],
             [
              0.2222222222222222,
              "#7201a8"
             ],
             [
              0.3333333333333333,
              "#9c179e"
             ],
             [
              0.4444444444444444,
              "#bd3786"
             ],
             [
              0.5555555555555556,
              "#d8576b"
             ],
             [
              0.6666666666666666,
              "#ed7953"
             ],
             [
              0.7777777777777778,
              "#fb9f3a"
             ],
             [
              0.8888888888888888,
              "#fdca26"
             ],
             [
              1,
              "#f0f921"
             ]
            ],
            "type": "histogram2d"
           }
          ],
          "histogram2dcontour": [
           {
            "colorbar": {
             "outlinewidth": 0,
             "ticks": ""
            },
            "colorscale": [
             [
              0,
              "#0d0887"
             ],
             [
              0.1111111111111111,
              "#46039f"
             ],
             [
              0.2222222222222222,
              "#7201a8"
             ],
             [
              0.3333333333333333,
              "#9c179e"
             ],
             [
              0.4444444444444444,
              "#bd3786"
             ],
             [
              0.5555555555555556,
              "#d8576b"
             ],
             [
              0.6666666666666666,
              "#ed7953"
             ],
             [
              0.7777777777777778,
              "#fb9f3a"
             ],
             [
              0.8888888888888888,
              "#fdca26"
             ],
             [
              1,
              "#f0f921"
             ]
            ],
            "type": "histogram2dcontour"
           }
          ],
          "mesh3d": [
           {
            "colorbar": {
             "outlinewidth": 0,
             "ticks": ""
            },
            "type": "mesh3d"
           }
          ],
          "parcoords": [
           {
            "line": {
             "colorbar": {
              "outlinewidth": 0,
              "ticks": ""
             }
            },
            "type": "parcoords"
           }
          ],
          "pie": [
           {
            "automargin": true,
            "type": "pie"
           }
          ],
          "scatter": [
           {
            "fillpattern": {
             "fillmode": "overlay",
             "size": 10,
             "solidity": 0.2
            },
            "type": "scatter"
           }
          ],
          "scatter3d": [
           {
            "line": {
             "colorbar": {
              "outlinewidth": 0,
              "ticks": ""
             }
            },
            "marker": {
             "colorbar": {
              "outlinewidth": 0,
              "ticks": ""
             }
            },
            "type": "scatter3d"
           }
          ],
          "scattercarpet": [
           {
            "marker": {
             "colorbar": {
              "outlinewidth": 0,
              "ticks": ""
             }
            },
            "type": "scattercarpet"
           }
          ],
          "scattergeo": [
           {
            "marker": {
             "colorbar": {
              "outlinewidth": 0,
              "ticks": ""
             }
            },
            "type": "scattergeo"
           }
          ],
          "scattergl": [
           {
            "marker": {
             "colorbar": {
              "outlinewidth": 0,
              "ticks": ""
             }
            },
            "type": "scattergl"
           }
          ],
          "scattermapbox": [
           {
            "marker": {
             "colorbar": {
              "outlinewidth": 0,
              "ticks": ""
             }
            },
            "type": "scattermapbox"
           }
          ],
          "scatterpolar": [
           {
            "marker": {
             "colorbar": {
              "outlinewidth": 0,
              "ticks": ""
             }
            },
            "type": "scatterpolar"
           }
          ],
          "scatterpolargl": [
           {
            "marker": {
             "colorbar": {
              "outlinewidth": 0,
              "ticks": ""
             }
            },
            "type": "scatterpolargl"
           }
          ],
          "scatterternary": [
           {
            "marker": {
             "colorbar": {
              "outlinewidth": 0,
              "ticks": ""
             }
            },
            "type": "scatterternary"
           }
          ],
          "surface": [
           {
            "colorbar": {
             "outlinewidth": 0,
             "ticks": ""
            },
            "colorscale": [
             [
              0,
              "#0d0887"
             ],
             [
              0.1111111111111111,
              "#46039f"
             ],
             [
              0.2222222222222222,
              "#7201a8"
             ],
             [
              0.3333333333333333,
              "#9c179e"
             ],
             [
              0.4444444444444444,
              "#bd3786"
             ],
             [
              0.5555555555555556,
              "#d8576b"
             ],
             [
              0.6666666666666666,
              "#ed7953"
             ],
             [
              0.7777777777777778,
              "#fb9f3a"
             ],
             [
              0.8888888888888888,
              "#fdca26"
             ],
             [
              1,
              "#f0f921"
             ]
            ],
            "type": "surface"
           }
          ],
          "table": [
           {
            "cells": {
             "fill": {
              "color": "#EBF0F8"
             },
             "line": {
              "color": "white"
             }
            },
            "header": {
             "fill": {
              "color": "#C8D4E3"
             },
             "line": {
              "color": "white"
             }
            },
            "type": "table"
           }
          ]
         },
         "layout": {
          "annotationdefaults": {
           "arrowcolor": "#2a3f5f",
           "arrowhead": 0,
           "arrowwidth": 1
          },
          "autotypenumbers": "strict",
          "coloraxis": {
           "colorbar": {
            "outlinewidth": 0,
            "ticks": ""
           }
          },
          "colorscale": {
           "diverging": [
            [
             0,
             "#8e0152"
            ],
            [
             0.1,
             "#c51b7d"
            ],
            [
             0.2,
             "#de77ae"
            ],
            [
             0.3,
             "#f1b6da"
            ],
            [
             0.4,
             "#fde0ef"
            ],
            [
             0.5,
             "#f7f7f7"
            ],
            [
             0.6,
             "#e6f5d0"
            ],
            [
             0.7,
             "#b8e186"
            ],
            [
             0.8,
             "#7fbc41"
            ],
            [
             0.9,
             "#4d9221"
            ],
            [
             1,
             "#276419"
            ]
           ],
           "sequential": [
            [
             0,
             "#0d0887"
            ],
            [
             0.1111111111111111,
             "#46039f"
            ],
            [
             0.2222222222222222,
             "#7201a8"
            ],
            [
             0.3333333333333333,
             "#9c179e"
            ],
            [
             0.4444444444444444,
             "#bd3786"
            ],
            [
             0.5555555555555556,
             "#d8576b"
            ],
            [
             0.6666666666666666,
             "#ed7953"
            ],
            [
             0.7777777777777778,
             "#fb9f3a"
            ],
            [
             0.8888888888888888,
             "#fdca26"
            ],
            [
             1,
             "#f0f921"
            ]
           ],
           "sequentialminus": [
            [
             0,
             "#0d0887"
            ],
            [
             0.1111111111111111,
             "#46039f"
            ],
            [
             0.2222222222222222,
             "#7201a8"
            ],
            [
             0.3333333333333333,
             "#9c179e"
            ],
            [
             0.4444444444444444,
             "#bd3786"
            ],
            [
             0.5555555555555556,
             "#d8576b"
            ],
            [
             0.6666666666666666,
             "#ed7953"
            ],
            [
             0.7777777777777778,
             "#fb9f3a"
            ],
            [
             0.8888888888888888,
             "#fdca26"
            ],
            [
             1,
             "#f0f921"
            ]
           ]
          },
          "colorway": [
           "#636efa",
           "#EF553B",
           "#00cc96",
           "#ab63fa",
           "#FFA15A",
           "#19d3f3",
           "#FF6692",
           "#B6E880",
           "#FF97FF",
           "#FECB52"
          ],
          "font": {
           "color": "#2a3f5f"
          },
          "geo": {
           "bgcolor": "white",
           "lakecolor": "white",
           "landcolor": "#E5ECF6",
           "showlakes": true,
           "showland": true,
           "subunitcolor": "white"
          },
          "hoverlabel": {
           "align": "left"
          },
          "hovermode": "closest",
          "mapbox": {
           "style": "light"
          },
          "paper_bgcolor": "white",
          "plot_bgcolor": "#E5ECF6",
          "polar": {
           "angularaxis": {
            "gridcolor": "white",
            "linecolor": "white",
            "ticks": ""
           },
           "bgcolor": "#E5ECF6",
           "radialaxis": {
            "gridcolor": "white",
            "linecolor": "white",
            "ticks": ""
           }
          },
          "scene": {
           "xaxis": {
            "backgroundcolor": "#E5ECF6",
            "gridcolor": "white",
            "gridwidth": 2,
            "linecolor": "white",
            "showbackground": true,
            "ticks": "",
            "zerolinecolor": "white"
           },
           "yaxis": {
            "backgroundcolor": "#E5ECF6",
            "gridcolor": "white",
            "gridwidth": 2,
            "linecolor": "white",
            "showbackground": true,
            "ticks": "",
            "zerolinecolor": "white"
           },
           "zaxis": {
            "backgroundcolor": "#E5ECF6",
            "gridcolor": "white",
            "gridwidth": 2,
            "linecolor": "white",
            "showbackground": true,
            "ticks": "",
            "zerolinecolor": "white"
           }
          },
          "shapedefaults": {
           "line": {
            "color": "#2a3f5f"
           }
          },
          "ternary": {
           "aaxis": {
            "gridcolor": "white",
            "linecolor": "white",
            "ticks": ""
           },
           "baxis": {
            "gridcolor": "white",
            "linecolor": "white",
            "ticks": ""
           },
           "bgcolor": "#E5ECF6",
           "caxis": {
            "gridcolor": "white",
            "linecolor": "white",
            "ticks": ""
           }
          },
          "title": {
           "x": 0.05
          },
          "xaxis": {
           "automargin": true,
           "gridcolor": "white",
           "linecolor": "white",
           "ticks": "",
           "title": {
            "standoff": 15
           },
           "zerolinecolor": "white",
           "zerolinewidth": 2
          },
          "yaxis": {
           "automargin": true,
           "gridcolor": "white",
           "linecolor": "white",
           "ticks": "",
           "title": {
            "standoff": 15
           },
           "zerolinecolor": "white",
           "zerolinewidth": 2
          }
         }
        },
        "title": {
         "text": "<b>Percentage of total sum by sector</b>"
        },
        "xaxis": {
         "anchor": "y",
         "domain": [
          0,
          1
         ],
         "title": {
          "text": "Sector"
         }
        },
        "yaxis": {
         "anchor": "x",
         "domain": [
          0,
          1
         ],
         "title": {
          "text": "Percentage of total sum by sector"
         }
        }
       }
      },
      "text/html": [
       "<div>                            <div id=\"fa3f8253-d06a-4978-b1e6-7c83f5ef18c8\" class=\"plotly-graph-div\" style=\"height:525px; width:100%;\"></div>            <script type=\"text/javascript\">                require([\"plotly\"], function(Plotly) {                    window.PLOTLYENV=window.PLOTLYENV || {};                                    if (document.getElementById(\"fa3f8253-d06a-4978-b1e6-7c83f5ef18c8\")) {                    Plotly.newPlot(                        \"fa3f8253-d06a-4978-b1e6-7c83f5ef18c8\",                        [{\"alignmentgroup\":\"True\",\"hovertemplate\":\"Country Type=Above 10 Mio USD, High Volume and Mean\\u003cbr\\u003eSector=%{x}\\u003cbr\\u003ePercentage of total sum by sector=%{y}\\u003cextra\\u003e\\u003c\\u002fextra\\u003e\",\"legendgroup\":\"Above 10 Mio USD, High Volume and Mean\",\"marker\":{\"color\":\"#636efa\",\"pattern\":{\"shape\":\"\"}},\"name\":\"Above 10 Mio USD, High Volume and Mean\",\"offsetgroup\":\"Above 10 Mio USD, High Volume and Mean\",\"orientation\":\"v\",\"showlegend\":true,\"textposition\":\"auto\",\"x\":[\"Agriculture\",\"Arts\",\"Clothing\",\"Construction\",\"Education\",\"Entertainment\",\"Food\",\"Health\",\"Housing\",\"Manufacturing\",\"Personal Use\",\"Retail\",\"Services\",\"Transportation\",\"Wholesale\"],\"xaxis\":\"x\",\"y\":[21.231246884723195,2.2648769702912497,8.424013615323748,1.0933996790181824,6.285489733183949,0.06430088446364705,26.2490203437182,1.0815015959257501,3.75151114194568,0.7672555735801709,1.0392036258890174,18.33261197172141,7.98842422402353,1.3445118537584633,0.08263190243380585],\"yaxis\":\"y\",\"type\":\"bar\"},{\"alignmentgroup\":\"True\",\"hovertemplate\":\"Country Type=Regular\\u003cbr\\u003eSector=%{x}\\u003cbr\\u003ePercentage of total sum by sector=%{y}\\u003cextra\\u003e\\u003c\\u002fextra\\u003e\",\"legendgroup\":\"Regular\",\"marker\":{\"color\":\"#EF553B\",\"pattern\":{\"shape\":\"\"}},\"name\":\"Regular\",\"offsetgroup\":\"Regular\",\"orientation\":\"v\",\"showlegend\":true,\"textposition\":\"auto\",\"x\":[\"Agriculture\",\"Arts\",\"Clothing\",\"Construction\",\"Education\",\"Entertainment\",\"Food\",\"Health\",\"Housing\",\"Manufacturing\",\"Personal Use\",\"Retail\",\"Services\",\"Transportation\",\"Wholesale\"],\"xaxis\":\"x\",\"y\":[26.247293315655284,2.2321301402818903,6.226204301946696,1.1963965436224255,5.586203537614902,0.21663639232529655,20.911062435488425,1.8745482759975767,4.120518392712387,1.061109219491387,3.032030712903659,17.00242492934778,8.127349773324296,1.974435464782324,0.19165656450567187],\"yaxis\":\"y\",\"type\":\"bar\"}],                        {\"template\":{\"data\":{\"histogram2dcontour\":[{\"type\":\"histogram2dcontour\",\"colorbar\":{\"outlinewidth\":0,\"ticks\":\"\"},\"colorscale\":[[0.0,\"#0d0887\"],[0.1111111111111111,\"#46039f\"],[0.2222222222222222,\"#7201a8\"],[0.3333333333333333,\"#9c179e\"],[0.4444444444444444,\"#bd3786\"],[0.5555555555555556,\"#d8576b\"],[0.6666666666666666,\"#ed7953\"],[0.7777777777777778,\"#fb9f3a\"],[0.8888888888888888,\"#fdca26\"],[1.0,\"#f0f921\"]]}],\"choropleth\":[{\"type\":\"choropleth\",\"colorbar\":{\"outlinewidth\":0,\"ticks\":\"\"}}],\"histogram2d\":[{\"type\":\"histogram2d\",\"colorbar\":{\"outlinewidth\":0,\"ticks\":\"\"},\"colorscale\":[[0.0,\"#0d0887\"],[0.1111111111111111,\"#46039f\"],[0.2222222222222222,\"#7201a8\"],[0.3333333333333333,\"#9c179e\"],[0.4444444444444444,\"#bd3786\"],[0.5555555555555556,\"#d8576b\"],[0.6666666666666666,\"#ed7953\"],[0.7777777777777778,\"#fb9f3a\"],[0.8888888888888888,\"#fdca26\"],[1.0,\"#f0f921\"]]}],\"heatmap\":[{\"type\":\"heatmap\",\"colorbar\":{\"outlinewidth\":0,\"ticks\":\"\"},\"colorscale\":[[0.0,\"#0d0887\"],[0.1111111111111111,\"#46039f\"],[0.2222222222222222,\"#7201a8\"],[0.3333333333333333,\"#9c179e\"],[0.4444444444444444,\"#bd3786\"],[0.5555555555555556,\"#d8576b\"],[0.6666666666666666,\"#ed7953\"],[0.7777777777777778,\"#fb9f3a\"],[0.8888888888888888,\"#fdca26\"],[1.0,\"#f0f921\"]]}],\"heatmapgl\":[{\"type\":\"heatmapgl\",\"colorbar\":{\"outlinewidth\":0,\"ticks\":\"\"},\"colorscale\":[[0.0,\"#0d0887\"],[0.1111111111111111,\"#46039f\"],[0.2222222222222222,\"#7201a8\"],[0.3333333333333333,\"#9c179e\"],[0.4444444444444444,\"#bd3786\"],[0.5555555555555556,\"#d8576b\"],[0.6666666666666666,\"#ed7953\"],[0.7777777777777778,\"#fb9f3a\"],[0.8888888888888888,\"#fdca26\"],[1.0,\"#f0f921\"]]}],\"contourcarpet\":[{\"type\":\"contourcarpet\",\"colorbar\":{\"outlinewidth\":0,\"ticks\":\"\"}}],\"contour\":[{\"type\":\"contour\",\"colorbar\":{\"outlinewidth\":0,\"ticks\":\"\"},\"colorscale\":[[0.0,\"#0d0887\"],[0.1111111111111111,\"#46039f\"],[0.2222222222222222,\"#7201a8\"],[0.3333333333333333,\"#9c179e\"],[0.4444444444444444,\"#bd3786\"],[0.5555555555555556,\"#d8576b\"],[0.6666666666666666,\"#ed7953\"],[0.7777777777777778,\"#fb9f3a\"],[0.8888888888888888,\"#fdca26\"],[1.0,\"#f0f921\"]]}],\"surface\":[{\"type\":\"surface\",\"colorbar\":{\"outlinewidth\":0,\"ticks\":\"\"},\"colorscale\":[[0.0,\"#0d0887\"],[0.1111111111111111,\"#46039f\"],[0.2222222222222222,\"#7201a8\"],[0.3333333333333333,\"#9c179e\"],[0.4444444444444444,\"#bd3786\"],[0.5555555555555556,\"#d8576b\"],[0.6666666666666666,\"#ed7953\"],[0.7777777777777778,\"#fb9f3a\"],[0.8888888888888888,\"#fdca26\"],[1.0,\"#f0f921\"]]}],\"mesh3d\":[{\"type\":\"mesh3d\",\"colorbar\":{\"outlinewidth\":0,\"ticks\":\"\"}}],\"scatter\":[{\"fillpattern\":{\"fillmode\":\"overlay\",\"size\":10,\"solidity\":0.2},\"type\":\"scatter\"}],\"parcoords\":[{\"type\":\"parcoords\",\"line\":{\"colorbar\":{\"outlinewidth\":0,\"ticks\":\"\"}}}],\"scatterpolargl\":[{\"type\":\"scatterpolargl\",\"marker\":{\"colorbar\":{\"outlinewidth\":0,\"ticks\":\"\"}}}],\"bar\":[{\"error_x\":{\"color\":\"#2a3f5f\"},\"error_y\":{\"color\":\"#2a3f5f\"},\"marker\":{\"line\":{\"color\":\"#E5ECF6\",\"width\":0.5},\"pattern\":{\"fillmode\":\"overlay\",\"size\":10,\"solidity\":0.2}},\"type\":\"bar\"}],\"scattergeo\":[{\"type\":\"scattergeo\",\"marker\":{\"colorbar\":{\"outlinewidth\":0,\"ticks\":\"\"}}}],\"scatterpolar\":[{\"type\":\"scatterpolar\",\"marker\":{\"colorbar\":{\"outlinewidth\":0,\"ticks\":\"\"}}}],\"histogram\":[{\"marker\":{\"pattern\":{\"fillmode\":\"overlay\",\"size\":10,\"solidity\":0.2}},\"type\":\"histogram\"}],\"scattergl\":[{\"type\":\"scattergl\",\"marker\":{\"colorbar\":{\"outlinewidth\":0,\"ticks\":\"\"}}}],\"scatter3d\":[{\"type\":\"scatter3d\",\"line\":{\"colorbar\":{\"outlinewidth\":0,\"ticks\":\"\"}},\"marker\":{\"colorbar\":{\"outlinewidth\":0,\"ticks\":\"\"}}}],\"scattermapbox\":[{\"type\":\"scattermapbox\",\"marker\":{\"colorbar\":{\"outlinewidth\":0,\"ticks\":\"\"}}}],\"scatterternary\":[{\"type\":\"scatterternary\",\"marker\":{\"colorbar\":{\"outlinewidth\":0,\"ticks\":\"\"}}}],\"scattercarpet\":[{\"type\":\"scattercarpet\",\"marker\":{\"colorbar\":{\"outlinewidth\":0,\"ticks\":\"\"}}}],\"carpet\":[{\"aaxis\":{\"endlinecolor\":\"#2a3f5f\",\"gridcolor\":\"white\",\"linecolor\":\"white\",\"minorgridcolor\":\"white\",\"startlinecolor\":\"#2a3f5f\"},\"baxis\":{\"endlinecolor\":\"#2a3f5f\",\"gridcolor\":\"white\",\"linecolor\":\"white\",\"minorgridcolor\":\"white\",\"startlinecolor\":\"#2a3f5f\"},\"type\":\"carpet\"}],\"table\":[{\"cells\":{\"fill\":{\"color\":\"#EBF0F8\"},\"line\":{\"color\":\"white\"}},\"header\":{\"fill\":{\"color\":\"#C8D4E3\"},\"line\":{\"color\":\"white\"}},\"type\":\"table\"}],\"barpolar\":[{\"marker\":{\"line\":{\"color\":\"#E5ECF6\",\"width\":0.5},\"pattern\":{\"fillmode\":\"overlay\",\"size\":10,\"solidity\":0.2}},\"type\":\"barpolar\"}],\"pie\":[{\"automargin\":true,\"type\":\"pie\"}]},\"layout\":{\"autotypenumbers\":\"strict\",\"colorway\":[\"#636efa\",\"#EF553B\",\"#00cc96\",\"#ab63fa\",\"#FFA15A\",\"#19d3f3\",\"#FF6692\",\"#B6E880\",\"#FF97FF\",\"#FECB52\"],\"font\":{\"color\":\"#2a3f5f\"},\"hovermode\":\"closest\",\"hoverlabel\":{\"align\":\"left\"},\"paper_bgcolor\":\"white\",\"plot_bgcolor\":\"#E5ECF6\",\"polar\":{\"bgcolor\":\"#E5ECF6\",\"angularaxis\":{\"gridcolor\":\"white\",\"linecolor\":\"white\",\"ticks\":\"\"},\"radialaxis\":{\"gridcolor\":\"white\",\"linecolor\":\"white\",\"ticks\":\"\"}},\"ternary\":{\"bgcolor\":\"#E5ECF6\",\"aaxis\":{\"gridcolor\":\"white\",\"linecolor\":\"white\",\"ticks\":\"\"},\"baxis\":{\"gridcolor\":\"white\",\"linecolor\":\"white\",\"ticks\":\"\"},\"caxis\":{\"gridcolor\":\"white\",\"linecolor\":\"white\",\"ticks\":\"\"}},\"coloraxis\":{\"colorbar\":{\"outlinewidth\":0,\"ticks\":\"\"}},\"colorscale\":{\"sequential\":[[0.0,\"#0d0887\"],[0.1111111111111111,\"#46039f\"],[0.2222222222222222,\"#7201a8\"],[0.3333333333333333,\"#9c179e\"],[0.4444444444444444,\"#bd3786\"],[0.5555555555555556,\"#d8576b\"],[0.6666666666666666,\"#ed7953\"],[0.7777777777777778,\"#fb9f3a\"],[0.8888888888888888,\"#fdca26\"],[1.0,\"#f0f921\"]],\"sequentialminus\":[[0.0,\"#0d0887\"],[0.1111111111111111,\"#46039f\"],[0.2222222222222222,\"#7201a8\"],[0.3333333333333333,\"#9c179e\"],[0.4444444444444444,\"#bd3786\"],[0.5555555555555556,\"#d8576b\"],[0.6666666666666666,\"#ed7953\"],[0.7777777777777778,\"#fb9f3a\"],[0.8888888888888888,\"#fdca26\"],[1.0,\"#f0f921\"]],\"diverging\":[[0,\"#8e0152\"],[0.1,\"#c51b7d\"],[0.2,\"#de77ae\"],[0.3,\"#f1b6da\"],[0.4,\"#fde0ef\"],[0.5,\"#f7f7f7\"],[0.6,\"#e6f5d0\"],[0.7,\"#b8e186\"],[0.8,\"#7fbc41\"],[0.9,\"#4d9221\"],[1,\"#276419\"]]},\"xaxis\":{\"gridcolor\":\"white\",\"linecolor\":\"white\",\"ticks\":\"\",\"title\":{\"standoff\":15},\"zerolinecolor\":\"white\",\"automargin\":true,\"zerolinewidth\":2},\"yaxis\":{\"gridcolor\":\"white\",\"linecolor\":\"white\",\"ticks\":\"\",\"title\":{\"standoff\":15},\"zerolinecolor\":\"white\",\"automargin\":true,\"zerolinewidth\":2},\"scene\":{\"xaxis\":{\"backgroundcolor\":\"#E5ECF6\",\"gridcolor\":\"white\",\"linecolor\":\"white\",\"showbackground\":true,\"ticks\":\"\",\"zerolinecolor\":\"white\",\"gridwidth\":2},\"yaxis\":{\"backgroundcolor\":\"#E5ECF6\",\"gridcolor\":\"white\",\"linecolor\":\"white\",\"showbackground\":true,\"ticks\":\"\",\"zerolinecolor\":\"white\",\"gridwidth\":2},\"zaxis\":{\"backgroundcolor\":\"#E5ECF6\",\"gridcolor\":\"white\",\"linecolor\":\"white\",\"showbackground\":true,\"ticks\":\"\",\"zerolinecolor\":\"white\",\"gridwidth\":2}},\"shapedefaults\":{\"line\":{\"color\":\"#2a3f5f\"}},\"annotationdefaults\":{\"arrowcolor\":\"#2a3f5f\",\"arrowhead\":0,\"arrowwidth\":1},\"geo\":{\"bgcolor\":\"white\",\"landcolor\":\"#E5ECF6\",\"subunitcolor\":\"white\",\"showland\":true,\"showlakes\":true,\"lakecolor\":\"white\"},\"title\":{\"x\":0.05},\"mapbox\":{\"style\":\"light\"}}},\"xaxis\":{\"anchor\":\"y\",\"domain\":[0.0,1.0],\"title\":{\"text\":\"Sector\"}},\"yaxis\":{\"anchor\":\"x\",\"domain\":[0.0,1.0],\"title\":{\"text\":\"Percentage of total sum by sector\"}},\"legend\":{\"title\":{\"text\":\"Country Type\"},\"tracegroupgap\":0},\"title\":{\"text\":\"\\u003cb\\u003ePercentage of total sum by sector\\u003c\\u002fb\\u003e\"},\"barmode\":\"group\",\"annotations\":[{\"arrowhead\":1,\"bgcolor\":\"white\",\"bordercolor\":\"black\",\"showarrow\":true,\"text\":\"5% point in Agriculture\",\"x\":0,\"y\":26},{\"arrowhead\":1,\"bgcolor\":\"white\",\"bordercolor\":\"black\",\"showarrow\":true,\"text\":\"2% point gap in clothing\",\"x\":2,\"y\":8.5},{\"arrowhead\":1,\"bgcolor\":\"white\",\"bordercolor\":\"black\",\"showarrow\":true,\"text\":\"5% point gap in food\",\"x\":6,\"y\":26.5},{\"arrowhead\":1,\"bgcolor\":\"white\",\"bordercolor\":\"black\",\"showarrow\":true,\"text\":\"2% point gap in personal use\",\"x\":10,\"y\":3.5}]},                        {\"responsive\": true}                    ).then(function(){\n",
       "                            \n",
       "var gd = document.getElementById('fa3f8253-d06a-4978-b1e6-7c83f5ef18c8');\n",
       "var x = new MutationObserver(function (mutations, observer) {{\n",
       "        var display = window.getComputedStyle(gd).display;\n",
       "        if (!display || display === 'none') {{\n",
       "            console.log([gd, 'removed!']);\n",
       "            Plotly.purge(gd);\n",
       "            observer.disconnect();\n",
       "        }}\n",
       "}});\n",
       "\n",
       "// Listen for the removal of the full notebook cells\n",
       "var notebookContainer = gd.closest('#notebook-container');\n",
       "if (notebookContainer) {{\n",
       "    x.observe(notebookContainer, {childList: true});\n",
       "}}\n",
       "\n",
       "// Listen for the clearing of the current output cell\n",
       "var outputEl = gd.closest('.output');\n",
       "if (outputEl) {{\n",
       "    x.observe(outputEl, {childList: true});\n",
       "}}\n",
       "\n",
       "                        })                };                });            </script>        </div>"
      ]
     },
     "metadata": {},
     "output_type": "display_data"
    }
   ],
   "source": [
    "#Creating bar plot\n",
    "\n",
    "fig = px.bar(df_bar_country_type, x=\"sector\", y=\"percentage_of_total_sums_by_country_type\",\n",
    "             color='country_type', barmode='group', title= '<b>Percentage of total sum by sector</b>',\n",
    "            labels={'sector':'Sector', 'country_type':'Country Type', \"percentage_of_total_sums_by_country_type\" : 'Percentage of total sum by sector'},\n",
    "           hover_data= ['percentage_of_total_sums_by_country_type'])\n",
    "\n",
    "fig.add_annotation(x=0, y=26,\n",
    "            text=\"5% point in Agriculture\",\n",
    "            showarrow=True,\n",
    "            arrowhead=1,\n",
    "            bordercolor='black',\n",
    "            bgcolor='white')\n",
    "\n",
    "fig.add_annotation(x=2, y=8.5,\n",
    "            text=\"2% point gap in clothing\",\n",
    "            showarrow=True,\n",
    "            arrowhead=1,\n",
    "                  bordercolor='black',\n",
    "            bgcolor='white')\n",
    "\n",
    "fig.add_annotation(x=6, y=26.5,\n",
    "            text=\"5% point gap in food\",\n",
    "            showarrow=True,\n",
    "            arrowhead=1,\n",
    "                  bordercolor='black',\n",
    "            bgcolor='white')\n",
    "\n",
    "fig.add_annotation(x=10, y=3.5,\n",
    "            text=\"2% point gap in personal use\",\n",
    "            showarrow=True,\n",
    "            arrowhead=1,\n",
    "                  bordercolor='black',\n",
    "            bgcolor='white')\n",
    "\n",
    "fig.show()"
   ]
  },
  {
   "cell_type": "markdown",
   "id": "32c18d70",
   "metadata": {},
   "source": [
    "Investments received across the individual sectors are not distributed completely differently. For example, wholesale, arts or entertainment were not money-making sectors for countries in either category. Larger differences (difference of 2 percentage points or more) can be found in four places. The 'regular' countries take much more of their investment into agriculture. And they also record more in personal use. Conversely, clothing and food projects generate higher investment volumes for countries that were previously identified as best practice markets based on purely economic criteria."
   ]
  },
  {
   "cell_type": "markdown",
   "id": "cfb87026",
   "metadata": {},
   "source": [
    "**Summary**\n",
    "\n",
    "The analysis can finally be summarized in these summary points:\n",
    "\n",
    "- The world map has shown that there are still many expansion markets in which Kiva could become active in order to develop new regions.\n",
    "- The scatterplot showed that historically a few strong markets have supported the company's overall business. Having these clearly identified and maintained could prove to be a good strategy when it comes to further expanding what has already been developed.\n",
    "- The many regions that have not yet been used so much can learn from the cases that are going well. The Grouped Bar Charts began to identify characteristics that indicate how the larger markets differ from the less successful ones. Closing the gap shown could also mean business success because, in the sense of the scatterplot, markets can hopefully be pushed in a positive direction in terms of investment volume or number of projects."
   ]
  }
 ],
 "metadata": {
  "kernelspec": {
   "display_name": "Python 3 (ipykernel)",
   "language": "python",
   "name": "python3"
  },
  "language_info": {
   "codemirror_mode": {
    "name": "ipython",
    "version": 3
   },
   "file_extension": ".py",
   "mimetype": "text/x-python",
   "name": "python",
   "nbconvert_exporter": "python",
   "pygments_lexer": "ipython3",
   "version": "3.11.3"
  },
  "toc": {
   "base_numbering": 1,
   "nav_menu": {},
   "number_sections": true,
   "sideBar": true,
   "skip_h1_title": false,
   "title_cell": "Table of Contents",
   "title_sidebar": "Contents",
   "toc_cell": false,
   "toc_position": {
    "height": "calc(100% - 180px)",
    "left": "10px",
    "top": "150px",
    "width": "289.766px"
   },
   "toc_section_display": true,
   "toc_window_display": false
  },
  "varInspector": {
   "cols": {
    "lenName": 16,
    "lenType": 16,
    "lenVar": 40
   },
   "kernels_config": {
    "python": {
     "delete_cmd_postfix": "",
     "delete_cmd_prefix": "del ",
     "library": "var_list.py",
     "varRefreshCmd": "print(var_dic_list())"
    },
    "r": {
     "delete_cmd_postfix": ") ",
     "delete_cmd_prefix": "rm(",
     "library": "var_list.r",
     "varRefreshCmd": "cat(var_dic_list()) "
    }
   },
   "types_to_exclude": [
    "module",
    "function",
    "builtin_function_or_method",
    "instance",
    "_Feature"
   ],
   "window_display": false
  }
 },
 "nbformat": 4,
 "nbformat_minor": 5
}
